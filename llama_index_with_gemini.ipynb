{
  "cells": [
    {
      "cell_type": "code",
      "execution_count": 1,
      "metadata": {},
      "outputs": [],
      "source": [
        "import os\n",
        "from dotenv import load_dotenv"
      ]
    },
    {
      "cell_type": "code",
      "execution_count": 2,
      "metadata": {},
      "outputs": [
        {
          "data": {
            "text/plain": [
              "True"
            ]
          },
          "execution_count": 2,
          "metadata": {},
          "output_type": "execute_result"
        }
      ],
      "source": [
        "load_dotenv()"
      ]
    },
    {
      "cell_type": "code",
      "execution_count": 3,
      "metadata": {
        "colab": {
          "base_uri": "https://localhost:8080/"
        },
        "id": "o1VdStOvpUvx",
        "outputId": "9428e5e5-5afb-4acf-933e-ceffeab41b8e"
      },
      "outputs": [
        {
          "data": {
            "text/plain": [
              "594"
            ]
          },
          "execution_count": 3,
          "metadata": {},
          "output_type": "execute_result"
        }
      ],
      "source": [
        "from llama_index.core import SimpleDirectoryReader, VectorStoreIndex\n",
        "\n",
        "documents = SimpleDirectoryReader('/home/dai/33/rag_demo/demo2/data/clean_text',\n",
        "                                  recursive=True).load_data()\n",
        "\n",
        "len(documents)"
      ]
    },
    {
      "cell_type": "code",
      "execution_count": 8,
      "metadata": {
        "id": "aaWg4ga_u9bS"
      },
      "outputs": [
        {
          "data": {
            "application/vnd.jupyter.widget-view+json": {
              "model_id": "012bea6305de4d38acaa05bdeb0fb42f",
              "version_major": 2,
              "version_minor": 0
            },
            "text/plain": [
              "Parsing nodes:   0%|          | 0/594 [00:00<?, ?it/s]"
            ]
          },
          "metadata": {},
          "output_type": "display_data"
        },
        {
          "data": {
            "application/vnd.jupyter.widget-view+json": {
              "model_id": "b4805999d2b2430f80c404281ba3ad5c",
              "version_major": 2,
              "version_minor": 0
            },
            "text/plain": [
              "Generating embeddings:   0%|          | 0/1415 [00:00<?, ?it/s]"
            ]
          },
          "metadata": {},
          "output_type": "display_data"
        }
      ],
      "source": [
        "from llama_index.embeddings.gemini import GeminiEmbedding\n",
        "from llama_index.core import Settings\n",
        "\n",
        "Settings.embed_model = GeminiEmbedding(model_name='models/embedding-001')\n",
        "\n",
        "index = VectorStoreIndex.from_documents(documents, embed_model=Settings.embed_model, show_progress=True)"
      ]
    },
    {
      "cell_type": "code",
      "execution_count": 13,
      "metadata": {
        "id": "wZh5PnWewN0Y"
      },
      "outputs": [],
      "source": [
        "from llama_index.llms.gemini import Gemini\n",
        "\n",
        "Settings.llm = Gemini(model_name='models/gemini-pro',\n",
        "                      temperature=0.7)\n",
        "\n",
        "query_engine = index.as_query_engine(llm=Settings.llm)"
      ]
    },
    {
      "cell_type": "code",
      "execution_count": 35,
      "metadata": {
        "colab": {
          "base_uri": "https://localhost:8080/",
          "height": 34
        },
        "id": "1e95uexP0nUH",
        "outputId": "c534de1e-67bb-49e3-e885-0e2257eb0f66"
      },
      "outputs": [
        {
          "name": "stdout",
          "output_type": "stream",
          "text": [
            "- Increase in the rate of blood circulation.\n",
            "- Widening of channel openings.\n",
            "- Effect on Meda Dhaatu and Maamsa Dhaatu.\n"
          ]
        }
      ],
      "source": [
        "response = query_engine.query(\"What are the reasons of sweating?\")\n",
        "print(response)"
      ]
    },
    {
      "cell_type": "code",
      "execution_count": 36,
      "metadata": {},
      "outputs": [
        {
          "data": {
            "text/plain": [
              "0.6361245266582009"
            ]
          },
          "execution_count": 36,
          "metadata": {},
          "output_type": "execute_result"
        }
      ],
      "source": [
        "response.source_nodes[0].get_score()"
      ]
    },
    {
      "cell_type": "code",
      "execution_count": 37,
      "metadata": {},
      "outputs": [
        {
          "name": "stdout",
          "output_type": "stream",
          "text": [
            "Chikitsaa Prakaara: Anagni Sveda Aahava\n",
            "\n",
            "\n",
            "\n",
            "\n",
            "\n",
            "Chikitsaa Prakaara: Anagni Sveda  Aahava\n",
            "\n",
            "Prakaara\n",
            "Paribhaashaa:\n",
            "It is a\n",
            "type of Anagni Svedana.\n",
            "Aahava means wrestling.\n",
            "\n",
            "Chikitsaa Karma:\n",
            "Wrestling\n",
            "is a physical exercise. Physical exercise results in Vaata aggravation. Especially Vyaana\n",
            "Vaayu gets aggravated. This results in the increase in the rate of Rasa Vikshepan`a\n",
            "(blood circulation). This leads to Srotomukha\n",
            "Vikasana (widening of channel openings) leading to sweating. \n",
            "Exercise also affects Meda Dhaatu\n",
            "and Maamsa Dhaatu leading to\n",
            "sweating.\n",
            "----------------------------------------------------------------------------------------------------\n",
            "Chikitsaa Prakaara: Anagni Sveda – Aahava\n",
            "\n",
            "\n",
            "\n",
            "Chikitsaa Prakaara: Anagni Sveda – Aahava\n",
            "\n",
            "Prakaara\n",
            "Paribhaashaa:\n",
            "It is a\n",
            "type of Anagni Svedana.\n",
            "Aahava means wrestling.\n",
            "\n",
            "Chikitsaa Karma:\n",
            "Wrestling\n",
            "is a physical exercise. Physical exercise results in Vaata aggravation. Especially Vyaana\n",
            "Vaayu gets aggravated. This results in the increase in the rate of Rasa Vikshepan`a\n",
            "(blood circulation). This leads to Srotomukha\n",
            "Vikasana (widening of channel openings) leading to sweating. \n",
            "Exercise also affects Meda Dhaatu\n",
            "and Maamsa Dhaatu leading to\n",
            "sweating.\n",
            "----------------------------------------------------------------------------------------------------\n"
          ]
        }
      ],
      "source": [
        "for node in response.source_nodes:\n",
        "    print(node.text)\n",
        "    print(\"-\"*100)"
      ]
    },
    {
      "cell_type": "code",
      "execution_count": null,
      "metadata": {},
      "outputs": [],
      "source": []
    }
  ],
  "metadata": {
    "accelerator": "GPU",
    "colab": {
      "gpuType": "T4",
      "provenance": []
    },
    "kernelspec": {
      "display_name": "Python 3",
      "name": "python3"
    },
    "language_info": {
      "codemirror_mode": {
        "name": "ipython",
        "version": 3
      },
      "file_extension": ".py",
      "mimetype": "text/x-python",
      "name": "python",
      "nbconvert_exporter": "python",
      "pygments_lexer": "ipython3",
      "version": "3.11.7"
    }
  },
  "nbformat": 4,
  "nbformat_minor": 0
}
