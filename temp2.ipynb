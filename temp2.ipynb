{
 "cells": [
  {
   "cell_type": "code",
   "execution_count": 2,
   "metadata": {},
   "outputs": [
    {
     "name": "stderr",
     "output_type": "stream",
     "text": [
      "Loading files: 100%|██████████| 594/594 [00:00<00:00, 6166.51file/s]\n"
     ]
    }
   ],
   "source": [
    "from llama_index.core import VectorStoreIndex, SimpleDirectoryReader\n",
    "from llama_index.core.node_parser import SemanticSplitterNodeParser\n",
    "from llama_index.embeddings.gemini import GeminiEmbedding\n",
    "from llama_index.llms.gemini import Gemini\n",
    "\n",
    "reader = SimpleDirectoryReader(input_dir=\"/home/dai/33/project/rag/data/clean_html\",\n",
    "                                  recursive=True)\n",
    "\n",
    "documents = reader.load_data(show_progress=True)"
   ]
  },
  {
   "cell_type": "code",
   "execution_count": 3,
   "metadata": {},
   "outputs": [
    {
     "data": {
      "text/plain": [
       "SemanticSplitterNodeParser(include_metadata=True, include_prev_next_rel=True, callback_manager=<llama_index.core.callbacks.base.CallbackManager object at 0x7f372b3fa5d0>, id_func=<function default_id_func at 0x7f372fa33100>, sentence_splitter=<function split_by_sentence_tokenizer.<locals>.split at 0x7f372aac6840>, embed_model=GeminiEmbedding(model_name='models/embedding-001', embed_batch_size=10, callback_manager=<llama_index.core.callbacks.base.CallbackManager object at 0x7f372b3fa990>, title=None, task_type='retrieval_document'), buffer_size=1, breakpoint_percentile_threshold=95)"
      ]
     },
     "execution_count": 3,
     "metadata": {},
     "output_type": "execute_result"
    }
   ],
   "source": [
    "embed_model = GeminiEmbedding()\n",
    "splitter = SemanticSplitterNodeParser(\n",
    "    buffer_size=1, breakpoint_percentile_threshold=95, embed_model=embed_model\n",
    ")"
   ]
  },
  {
   "cell_type": "code",
   "execution_count": 20,
   "metadata": {},
   "outputs": [
    {
     "data": {
      "application/vnd.jupyter.widget-view+json": {
       "model_id": "86c71cc0eb4840fcb3ed2ff02ed07713",
       "version_major": 2,
       "version_minor": 0
      },
      "text/plain": [
       "Parsing documents into nodes:   0%|          | 0/594 [00:00<?, ?it/s]"
      ]
     },
     "metadata": {},
     "output_type": "display_data"
    },
    {
     "data": {
      "text/plain": [
       "924"
      ]
     },
     "execution_count": 20,
     "metadata": {},
     "output_type": "execute_result"
    }
   ],
   "source": [
    "from llama_index.core.node_parser import HierarchicalNodeParser\n",
    "\n",
    "node_parser = HierarchicalNodeParser.from_defaults(\n",
    "    chunk_sizes=[2048]\n",
    ")\n",
    "\n",
    "nodes = node_parser.get_nodes_from_documents(documents, show_progress=True)\n",
    "nodes = [node for node in nodes if len(node.get_content()) > 0]\n",
    "len(nodes)"
   ]
  },
  {
   "cell_type": "code",
   "execution_count": 21,
   "metadata": {},
   "outputs": [
    {
     "data": {
      "text/plain": [
       "0"
      ]
     },
     "execution_count": 21,
     "metadata": {},
     "output_type": "execute_result"
    }
   ],
   "source": [
    "greater_size_docs = []\n",
    "for i in range(len(nodes)):\n",
    "    size = len(nodes[i].text)\n",
    "    if size > 10000:\n",
    "        greater_size_docs.append(nodes[i].metadata['file_name'])\n",
    "\n",
    "len(greater_size_docs)"
   ]
  },
  {
   "cell_type": "code",
   "execution_count": 17,
   "metadata": {},
   "outputs": [
    {
     "name": "stdout",
     "output_type": "stream",
     "text": [
      "<html>\n",
      "<head>\n",
      "<title>Acknowledgement</title>\n",
      "</head>\n",
      "<body>\n",
      "<div>\n",
      "</div>\n",
      "<div>\n",
      "<p> </p>\n",
      "<p>The project is funded by Ministry of Communications &amp; Information\n",
      "Technology.</p>\n",
      "<p>Following Institutions and Ayurveda Experts have contributed to AyuSoft\n",
      "in their </p>\n",
      "<p>capacities as advisors, authors, owners of photographs and clips,\n",
      "testers etc.</p>\n",
      "<text>Institutes,\"Ayurved  Research Centre K.E.M. Hospital, Mumbai.\"\n",
      "Institutes,\"B.S.D.T.  College of Ayurved, Wagholi Pune.\"\n",
      "Institutes,\"College of  Ayurved Bharati Vidyapeeth Deemed University (B.V.D.U), Pune.\"\n",
      "Institutes,\"Centre for  Rheumatic Diseases Pune (CRD), Pune.\"\n",
      "Institutes,Dept. of  Ayurved Sassoon General Hospital Pune.\n",
      "Institutes,\"Ayurved  Dept. Dinanath Mangeshkar Hospital,Pune.\"\n",
      "Institutes,\"Foundation  for Revitalisation of Local Health Traditions (FRLHT), Bangalore.\"\n",
      "Institutes,\"Sanjeevan  Hospital, Pune.\"\n",
      "Institutes,\"Sumatibhai  Shaha Ayurved College, Hadapsar, Pune.\"\n",
      "Institutes,\"Swami Prakashanand Ayurveda Research Centre  (SPARC), Mumbai.\"\n",
      "Institutes,\"Seth  Tarachand Ramnath Hospital, Pune.\"\n",
      "Institutes,\"T.N.Medical  College and Nair Hospital, Mumbai.\"\n",
      "Institutes,\"Tilak  Ayurveda Mahavidyalaya, Pune.\"\n",
      "</text>\n",
      "<text width=\"579\">Physicians/Researchers,Dr. Baghel M.S.,\"Director, International Centre for Ayurvedic studies, Jamnagar.\"\n",
      "Physicians/Researchers,Dr. Badave Jyoti,\"Ayurved Physician, Pune.\"\n",
      "Physicians/Researchers,Dr. Bakre A. V.,\"Ex Professor R.A.Potdar Ayurved Medical  College, Mumbai.\"\n",
      "Physicians/Researchers,Dr. Barve Anand,\"Hon. Physician, Seth. Tarachand Ramnath Hospital,  Pune.\"\n",
      "Physicians/Researchers,Dr. Barve Neelmani,\"Ayurveda Physician, Pune.\"\n",
      "Physicians/Researchers,Dr. Bavdekar S.D.,\"Head Ayurved Dept, Jnanaprabhodhini, Pune.\"\n",
      "Physicians/Researchers,Dr. Bhalerao Supriya,\"Research Associate, Nair Hospital, Department of Clinical  Pharmacology, Mumbai.\"\n",
      "Physicians/Researchers,Dr. Chatopadhyay  Abheechal,\"Lecturer, Ayurveda College, Kolkata.\"\n",
      "Physicians/Researchers,Dr Chavan Santosh,\"Ayurveda Physician, Pune.\"\n",
      "Physicians/Researchers,Dr. Chitre Rajashree,\"Lecturer - Ayurved College Wagholi, Pune.\"\n",
      "Physicians/Researchers,Dr. Chopra Arvind,\"Director CRD, Pune.\"\n",
      "Physicians/Researchers,Dr. Chunekar K.C.,\"Ex Head Dept. of Dravyaguna Vidnyan,  Banaras Hindu University, Varanasi.\"\n",
      "Physicians/Researchers,Dr. Darshanashankar,Director FRLHT Bangalore.\n",
      "Physicians/Researchers,Dr. Deopujari Jayant,\"Physician and Researcher, Nagpur.\"\n",
      "Physicians/Researchers,Dr. Deshpande Manasi,\"Department of Dravyagunavidyana, B.V.D.U. College of Ayurved, Pune.\"\n",
      "Physicians/Researchers,Mrs.Deshpande Suvarna,\"Sanskrit Expert, Pune.\"\n",
      "Physicians/Researchers,Dr.  Deokule S. S.,\"Reader Dept of Botany, University of Pune.\"\n",
      "Physicians/Researchers,Dr. Dhumal Pramod,\"Ayurveda Physician, Pune.\"\n",
      "Physicians/Researchers,Dr. Doiphode V. V.,\"Dean &amp; H.O.D,  Ayurved Faculty, University of Pune, Pune.\"\n",
      "Physicians/Researchers,Dr. Dole V. A.,\"H.O.D. Rasashastra, Tilak Ayurved Mahavidyalaya, Pune.\"\n",
      "Physicians/Researchers,Dr. Dudhagaonkar Anjali,\"Family Physician, Pune\"\n",
      "Physicians/Researchers,Dr. Erande Mukund,\"Principal and H.O.D. Department of Sharir Rachana, Sumatibhai Shaha  Ayurved College, Hadapsar, Pune.\"\n",
      "Physicians/Researchers,Dr. Gadgil Dilip,\"Ayurveda Physician, Pune.\"\n",
      "Physicians/Researchers,Dr. Gadgil Swati,\"Ayurveda Physician, Pune.\"\n",
      "Physicians/Researchers,Dr. Galgali Shreerang,\"Ayurveda Physician, Pune.\"\n",
      "Physicians/Researchers,Dr. Gangadharan G. G.,\"Joint Director, FRLHT Bangalore.\"\n",
      "Physicians/Researchers,Dr. Gangurde Jayant,\"Ayurveda Physician, Nashik.\"\n",
      "Physicians/Researchers,Dr. Ghatnekar Vishvas,\"Ayurveda Physician, Pune.\"\n",
      "Physicians/Researchers,Dr. Gaud  Banwarilal,\"Director, National Institute of Ayurveda, Jaipur.\"\n",
      "Physicians/Researchers,Dr. Ghodke Amit,\"Ayurveda Physician, Pune.\"\n",
      "Physicians/Researchers,Dr. Gogte R. B.,\"Ex - Professor and H.O.D. Shalya, Tilak Ayurved Mahavidyalaya and  Hospital, Pune.\"\n",
      "Physicians/Researchers,Dr. Gokakar Gurunath,\"Ayurveda Physician, Kolhapur.\"\n",
      "Physicians/Researchers,Dr. Gokhale Maya,\"Lecturer - Ayurved College, Akurdi (Pune), Ayurved Consultant, Pune.\"\n",
      "Physicians/Researchers,Dr. Gokhale Vivek,\"Lecturer - Bharati Vidyapeth College of Ayurved, Pune.\"\n",
      "Physicians/Researchers,Dr. Hirwani Raj,\"Director URDIP, Pune.\"\n",
      "Physicians/Researchers,Dr. Huparikar Rajendra,\"Hon. Physician, Seth. Tarachand Ramnath Hospital,  Pune.\"\n",
      "Physicians/Researchers,Dr. Jamadagni Shruti,\"Ayurveda Physician, Pune.\"\n",
      "Physicians/Researchers,Dr.Jinde Abhijit,\"Ayurveda Physician, Pune.\"\n",
      "Physicians/Researchers,Dr. Joglekar Vishnu,\"Assistant Professor, Tilak Ayurved  Mahavidyalaya, Pune.\"\n",
      "Physicians/Researchers,Dr.Joshi V.K.,\"Head, Dept of Dravyaguna Vidnyan, Banaras Hindu University Varanasi.\"\n",
      "Physicians/Researchers,Dr. Joshi Y.G.,\"Ayurveda Physician, Pune.\"\n",
      "Physicians/Researchers,Dr. Kale Yogesh,\"Ayurveda Physician, Pune.\"\n",
      "Physicians/Researchers,Dr. Kale Mohan,Statistician Pune.\n",
      "Physicians/Researchers,Dr. Kanade Vivek,\"Ayurveda Physician, Pune.\"\n",
      "Physicians/Researchers,Dr. Kelkar Madhav,\"Ayurveda Physician, Pune.\"\n",
      "Physicians/Researchers,Dr. Kinjwdekar S.P.,\"Ex. Professor Sion Ayurveda College, Mumbai.\"\n",
      "Physicians/Researchers,Dr.Kothvale Prakash,\"Gynaecologist, Pune.\"\n",
      "Physicians/Researchers,Dr. Kondhare Dhanashree,\"Ayurveda Physician, Pune.\"\n",
      "Physicians/Researchers,Dr. Kulkarni Pramod,\"Visiting Lecturer – Tilak Ayurved  Mahavidhyalaya, Pune.\"\n",
      "Physicians/Researchers,Dr. Kulkarni Vijay,\"Ayurveda Physician, Nasik.\"\n",
      "Physicians/Researchers,Dr. Kulkarni Vinay,\"Dermatologist ,Pune\"\n",
      "Physicians/Researchers,Dr. Kulkarni Yogini,\"Ayurveda Physician, Pune.\"\n",
      "Physicians/Researchers,Dr. Lavekar G.S.,\"Director C.C.R.A.S., New Delhi.\"\n",
      "Physicians/Researchers,Dr. Mahajan S.D.,\"Taxonomist , Pune.\"\n",
      "Physicians/Researchers,Dr. Mehata Vaibhav,\"Ayurveda Physician, Pune.\"\n",
      "Physicians/Researchers,Dr. Meshram Akash,\"Ayurveda Physician, Pune.\"\n",
      "Physicians/Researchers,Dr. Mhetre Rishikesh,\"Ayurveda Physician, Pune.\"\n",
      "Physicians/Researchers,Dr. Mrs. Nagral K.,\"Ayurveda Physician, Mumbai.\"\n",
      "Physicians/Researchers,Dr.Muralidhararn,Principal Shri Jayendra Saraswati Ayurveda College.\n",
      "Physicians/Researchers,Dr. Nagral S. I.,\"Ex. Professor Sion Ayurveda College, Mumbai.\"\n",
      "Physicians/Researchers,Dr. Naidu,\"M.D. Scholar ,Pune\"\n",
      "Physicians/Researchers,Dr. Nanal Ashutosh,\"Ayurveda Physician, Pune.\"\n",
      "Physicians/Researchers,Dr. Nanal Ramesh,\"Editor, Madhujeevan, Mumbai.\"\n",
      "Physicians/Researchers,Dr. Nanal Vilas,Sr. Scientist AyuSoft.\n",
      "Physicians/Researchers,Dr.\n",
      "6467\n"
     ]
    }
   ],
   "source": [
    "print(nodes[0].text)\n",
    "print(len(nodes[0].text))"
   ]
  },
  {
   "cell_type": "code",
   "execution_count": 18,
   "metadata": {},
   "outputs": [
    {
     "name": "stdout",
     "output_type": "stream",
     "text": [
      "Scientist AyuSoft.\n",
      "Physicians/Researchers,Dr. Nesari Manoj,Sr. Scientist AyuSoft.\n",
      "Physicians/Researchers,Dr. Nesari Tanuja,\"Assistant Professor, Tilak Ayurved Mahavidyalaya, Pune.\"\n",
      "Physicians/Researchers,Dr. Nevpurkar Santosh,\"Ayurveda Physician, Aurangabad.\"\n",
      "Physicians/Researchers,DR Nimbalkar Ranjeet,\"Ayurveda Physician, Pune.\"\n",
      "Physicians/Researchers,Dr. Nishtheshvar K.,Asst. Professor - Vijayawada.\n",
      "Physicians/Researchers,Dr. Paranjape Durga,Ex.Professor – Tilak Ayurved Mahavidyalaya.\n",
      "Physicians/Researchers,Smt. Page Ushahprabha,\"Nature Photography Expert, Pune.\"\n",
      "Physicians/Researchers,Mr. Page Navendu,\"Field Botanist, Deharadun.\"\n",
      "Physicians/Researchers,Dr. Patankar Ashutosh,\"Ayurveda Physician, Pune.\"\n",
      "Physicians/Researchers,Dr. Patil Jayashree,\"Ayurveda Physician, Pune.\"\n",
      "Physicians/Researchers,Dr. Pendse Narendra,\"Ayurveda Physician, Pune.\"\n",
      "Physicians/Researchers,Dr. Prabhune Yogesh,\"Ayurveda Physician, Pune.\"\n",
      "Physicians/Researchers,Dr. Prasad V.V.,\"Director Rashtiya Ayurveda Vidyapeeth, New Delhi.\"\n",
      "Physicians/Researchers,Dr. Puranik D P,\"Principal, Tilak Ayurved Mahavidyalaya, Pune.\"\n",
      "Physicians/Researchers,Dr. Ranganekar Rishikesh,\"Ayurveda Physician, Pune.\"\n",
      "Physicians/Researchers,Dr. Rahalkar Jyoti,\"Ayurveda Physician, Pune\"\n",
      "Physicians/Researchers,Dr. Raut Ashwin,\"Asst Director, SPARC, Mumbai.\"\n",
      "Physicians/Researchers,Dr. Sathaye B. V.,Sr. Scientist AyuSoft.\n",
      "Physicians/Researchers,Dr. Sathye S. M.,\"Retd. Dean, R.A.Podar Ayurved Medical College, Mumbai.\"\n",
      "Physicians/Researchers,Dr. Savarikar S.S.,\"Vice Chancellor Gujarat Ayurveda University, Jamnagar.\"\n",
      "Physicians/Researchers,Dr.Sharma Maheshchandra,\"Head, Dept. of Dravyaguna Vigyan, National Institute of Ayurveda,  Jaipur.\"\n",
      "Physicians/Researchers,Dr. Singh H. B.,\n",
      "Physicians/Researchers,Dr. Singh R. H.,\"Vice Chancellor, Rajasthan Ayurveda University, Jodhpur.\"\n",
      "Physicians/Researchers,Dr. Suru Prashant,\"Ayurveda Physician, Pune.\"\n",
      "Physicians/Researchers,Dr. Suryavanshi. Santosh,\"Ayurveda Physician, Pune.\"\n",
      "Physicians/Researchers,Dr. Tiwari Premvatee,\"Ex H.O.D. Stree Roga Prasuti Tantra, BHU, Varanasi.\"\n",
      "Physicians/Researchers,Dr. Tripathi S.N.,\n",
      "Physicians/Researchers,Dr. Tripathi Y.B.,\"Department of Medicinal Chemistry and Kaya Chikitsa, Institue of  Medical Sciences, Banaras Hindu University, Varanasi – 221005, India.\"\n",
      "Physicians/Researchers,Dr. Unnikrishnan,\"Vice Principal &amp; Professor and Head, Dept. of Agadatantra,  Vaidyaratnam P.S.Varier Ayurveda College, Kottakkal.\"\n",
      "Physicians/Researchers,Dr. Upadhyaya B.N.,\n",
      "Physicians/Researchers,Dr.Upasani V.V.,\"Director, University  Department Of Interpathy Research and Technology, M.U.H.S. Nashik.\"\n",
      "Physicians/Researchers,Dr. Vaidya Ashok,\"Director, SPARC, Mumbai.\"\n",
      "Physicians/Researchers,Dr. Venugopal,\"Scientist, FRLHT, Bangalore.\"\n",
      "Physicians/Researchers,Dr. Welankar Shubhada,\"Ayurveda Physician, Pune.\"\n",
      "Physicians/Researchers,Dr. Wele Asmita,\"Department of Rasashastra and Bhaishajya Kalpana, B.V.D.U College of  Ayurved, Pune.\"\n",
      "Physicians/Researchers,Dr. Yadaiyah Polepally,\"I/C Prof.&amp; HOD Post  Graduate Department of Kayachikitsa, R.T. Ayurvedic College  Akola, MAHARASTRA-444005.\"\n",
      "Physicians/Researchers,Dr. Yadaiyah Polepally,\"I/C Prof.&amp; HOD Post  Graduate Department of Kayachikitsa, R.T. Ayurvedic College  Akola, MAHARASTRA-444005.\"\n",
      "</text>\n",
      "</div>\n",
      "</body>\n",
      "</html>\n",
      "3323\n"
     ]
    }
   ],
   "source": [
    "print(nodes[1].text)\n",
    "print(len(nodes[1].text))"
   ]
  },
  {
   "cell_type": "code",
   "execution_count": 19,
   "metadata": {},
   "outputs": [
    {
     "name": "stdout",
     "output_type": "stream",
     "text": [
      "<html xmlns:st1=\"urn:schemas-microsoft-com:office:smarttags\">\n",
      "<head>\n",
      "<title>AayurVidnyaana</title>\n",
      "<o:smarttagtype name=\"City\" namespaceuri=\"urn:schemas-microsoft-com:office:smarttags\"></o:smarttagtype><o:smarttagtype name=\"place\" namespaceuri=\"urn:schemas-microsoft-com:office:smarttags\"></o:smarttagtype>\n",
      "</head>\n",
      "<body>\n",
      "<div>\n",
      "<h4>AayurVidnyaana Kosha </h4>\n",
      "<p>AayurVidnyaana Kosha is encyclopedia of Ayurveda.</p>\n",
      "<p>The AayurVidnyaana\n",
      "Kosha window is divided into two frames. The left frame has three tabs,\n",
      "Contents, Search and New Window. Right frame is for viewing the document.</p>\n",
      "<p>About AayurVidnyaana Kosha</p>\n",
      "<p>AyuSoft encyclopedia elaborates scientific basis,\n",
      "theory and strength of Ayurveda in a dynamic form. </p>\n",
      "<p>Key topic of different subjects highlighted with\n",
      "their clinical applications. </p>\n",
      "<p>This includes information regarding Ayurvedic\n",
      "concepts, current status of Ayurveda and related research articles. </p>\n",
      "<p>The Encyclopedia of AyuSoft includes articles from\n",
      "eminent people related with the field of Ayurveda. </p>\n",
      "<p>The Articles are focused and classified according\n",
      "to the respective subjects to cover all the branches of Ayurveda. </p>\n",
      "<p>AyuSoft Encyclopedia provides elaboration of\n",
      "various topics required for decision support. </p>\n",
      "<p>These are made available in form of guidelines for\n",
      "patient assessment, Panchakarma And allied Karma, pathogenesis\n",
      "and theory of disease. </p>\n",
      "<p>The\n",
      "AyuSoft Ayurvedic data is captured\n",
      "from the texts which are Charaka\n",
      "Samhitaa, Sus`hruta Samhitaa, Asht`aanga Hridaya and Maadhava Nidaana. These texts are the prime and authentic texts for\n",
      "the uniform and genuine information. </p>\n",
      "<p>The\n",
      "history of the texts is captured and explained under the title of Introduction\n",
      "to Samhitaa </p>\n",
      "<p>The\n",
      "Encyclopedia explains the basic principles of Ayurvedic science, which supports the knowledge for the root of\n",
      "diagnosis, structure and functional concepts behind the theory of ancient\n",
      "fundamental principles. </p>\n",
      "<p>AyuSoft\n",
      "Encyclopedia has authentic collection of photographs, clips of Panchakarma and allied therapies (Chikitsaa Karma) / examination and\n",
      "treatments, audio files of oblations and guidelines wherever and whenever\n",
      "required. </p>\n",
      "<p>Encyclopedia\n",
      "of AyuSoft is also aware of the ever-growing research in the field of Ayurveda, thus, to keep the user updated\n",
      "with today’s world AyuSoft provides some of the important links of registered\n",
      "sites and associations of Ayurveda. </p>\n",
      "<h1>Contents</h1>\n",
      "<p>Selecting\n",
      "this option will help in navigating through AayurVidnyaana Kosha\n",
      "contents. </p>\n",
      "<p>Click\n",
      "on the book to view its content and on clicking the page; detailed contents of\n",
      "the particular topic will be displayed. If selected topic is a video clip, it\n",
      "will be opened using windows media player, click on Play button to watch the\n",
      "clip. Click New Window option to view the selected topic in maximized screen. </p>\n",
      "<p>If\n",
      "it is a multimedia gallery, all the pictures under the selected topic will be\n",
      "loaded in right frame. Click on the link below the picture, to view the\n",
      "magnified picture and its details if any.</p>\n",
      "<p>Ayurveda Samhitaa:\n",
      "- This part contains digitalized copy of Charaka\n",
      "Samhitaa, Sus`hruta Samhitaa\n",
      "&amp; Asht`aanga Hridaya. </p>\n",
      "<p>Articles: - This part contains articles\n",
      "highlighting various aspects of Ayurveda.\n",
      "</p>\n",
      "<p>Multimedia gallery: - It comprises of photographs of\n",
      "Herbs, Instruments, and Diseases etc. </p>\n",
      "<p>Chikitsaa Karma clips: - It comprises video clips of Chikitsaa Karma like Vamana, Raktamokshan`a etc. with narration. </p>\n",
      "<h1>Search</h1>\n",
      "<p>Facility\n",
      "to search in Ayurveda Samhitaa, Multimedia gallery, AyuSoft\n",
      "database, Chikitsaa Karma &amp; Articles is provided.</p>\n",
      "<p>Selecting\n",
      "this option makes possible for you to limit search to the specific category of\n",
      "the current topicin two languages either English or Sanskrit.</p>\n",
      "<p>To\n",
      "change the scope of search for English language, select one of thefilters\n",
      "from the following list.</p>\n",
      "<p>Encyclopedia</p>\n",
      "<p>Procedures</p>\n",
      "<p>Multimedia</p>\n",
      "<ul type=\"disc\">\n",
      "<li>Type the word in the Search\n",
      "     textbox or you can use a keyboard for typing in the Search textbox\n",
      "     (depending upon the selected language), which will appear on click of Sanskrit\n",
      "     button placed on left side of main frame if the focus is on the same\n",
      "     textbox and Caps Lock of your keyboard is on. To begin search click on GO\n",
      "     button or press Enter. </li>\n",
      "<li>To enable full text search,\n",
      "     check the checkbox beside the Search Textbox.</li>\n",
      "<li>Related links where the word\n",
      "     entered is present will be displayed in left frame, click on the required\n",
      "     link to view the related article in right frame with the highlighted word\n",
      "     entered for searching.</li>\n",
      "</ul>\n",
      "<p>e.g. </p>\n",
      "<p>If\n",
      "you select word Chhardi (in English)\n",
      "in Articles then it will show where that word appeared in Articles. </p>\n",
      "<p>If\n",
      "you select word Vamana (in English)\n",
      "in Chikitsaa Karma then it will show video clip of Vamana Chikitsaa Karma. </p>\n",
      "<p>If\n",
      "you select word Vamana (in English)\n",
      "in AyuSoft database then it will show all treatment related information of Vamana from AyuSoft database. </p>\n",
      "<p>If\n",
      "you select word Chhardi (in Sanskrit) in Ayurveda Samhitaa then it\n",
      "will show where that word appeared in Ayurveda\n",
      "Samhitaa. </p>\n",
      "<p>If\n",
      "you select word S`hataavaree (in\n",
      "English) in Multimedia Gallery then it will show image of S`hataavaree. </p>\n",
      "<p>Ayurveda Samhitaa </p>\n",
      "<p>Charaka Samhitaa,\n",
      "Sus`hruta Samhitaa and Asht`aanga Hridaya\n",
      "are available in digitalized form.</p>\n",
      "<p>Digitalized\n",
      "Texts have the facility for instant reference and search for particular word or\n",
      "character from Charaka Samhitaa,\n",
      "Sus`hruta Samhitaa and Asht`aanga\n",
      "Hridaya. </p>\n",
      "<p>Structure of Ayurveda Samhitaa : -</p>\n",
      "<p>Name of Samhitaa : Sthaana of Samhitaa :\n",
      "Name of Adhyaaya</p>\n",
      "<p>Charaka\n",
      "Samhitaa­­à Chikitsaa Sthaana à\n",
      "03. Jvara Chikitsaa à Sootra.</p>\n",
      "<p>The digitalized texts include only Sootra</p>\n",
      "<p>.</p>\n",
      "<p>Each Samhitaa is\n",
      "entitled with index and the name of the chapter in Content section.</p>\n",
      "<p>Each Sthaana (section) has\n",
      "been separated for easy search.</p>\n",
      "<p>Each chapter is a sub-section of Sthaana where Sthaana is\n",
      "a subsection of the Samhitaa.\n",
      "Therefore to Search for the reference of C.Chi.3/37. The user should first\n",
      "click on Charaka Samhitaa then on Chikitsaa Sthaana then on Jvara Chikitsaa (3<sup>rd</sup> chapter)\n",
      "and then look for the Sootra 37 in\n",
      "the Samhitaa getting displayed at the\n",
      "right side.</p>\n",
      "<text>S.N,Samhitaa,Edition,Publication,Title and Edited by\n",
      "1,Charaka,Fifth  Edition - 2001,\"Chaukhambaa  Sanskrit Samsthaana, Varanasi\",Charaka  Samhitaa - Vaidya. Jadhavji Trikamji Acharya\n",
      "2,Sus`hruta,Seventh  Edition - 2002,\"Chaukhambaa  Orientaliya, Varanasi\",Sus`hruta Samhitaa – Vaidya. Jadhavji Trikamji  Acharya and Narayan Ram Acharya.\n",
      "3,Asht`aanga Hridaya,Ninth  Edition- 2002,\"Chaukhambaa  Orientaliya, Varanasi\",Asht`aanga Hridaya – Bhishagacharya Harishashtri  Paradkar Vaidya.\n",
      "</text>\n",
      "<p>Using this application user can do fast compilation.\n",
      "E.g. If user search for word </p>\n",
      "<p>Then\n",
      "it will display: </p>\n",
      "<p>Name of Samhitaa : Sthaana of Samhitaa :\n",
      "Name of Adhyaaya : Highlighted word</p>\n",
      "<p>Articles\n",
      "</p>\n",
      "<p>In\n",
      "AyuSoft database, interactive data is captured.\n",
      "7206\n"
     ]
    }
   ],
   "source": [
    "print(nodes[2].text)\n",
    "print(len(nodes[2].text))"
   ]
  },
  {
   "cell_type": "code",
   "execution_count": 14,
   "metadata": {},
   "outputs": [
    {
     "name": "stdout",
     "output_type": "stream",
     "text": [
      "Barve Neelmani,\"Ayurveda Physician, Pune.\"\n",
      "Physicians/Researchers,Dr. Bavdekar S.D.,\"Head Ayurved Dept, Jnanaprabhodhini, Pune.\"\n",
      "Physicians/Researchers,Dr. Bhalerao Supriya,\"Research Associate, Nair Hospital, Department of Clinical  Pharmacology, Mumbai.\"\n",
      "Physicians/Researchers,Dr. Chatopadhyay  Abheechal,\"Lecturer, Ayurveda College, Kolkata.\"\n",
      "Physicians/Researchers,Dr Chavan Santosh,\"Ayurveda Physician, Pune.\"\n",
      "Physicians/Researchers,Dr. Chitre Rajashree,\"Lecturer - Ayurved College Wagholi, Pune.\"\n",
      "Physicians/Researchers,Dr. Chopra Arvind,\"Director CRD, Pune.\"\n",
      "Physicians/Researchers,Dr. Chunekar K.C.,\"Ex Head Dept. of Dravyaguna Vidnyan,  Banaras Hindu University, Varanasi.\"\n",
      "Physicians/Researchers,Dr. Darshanashankar,Director FRLHT Bangalore.\n",
      "Physicians/Researchers,Dr. Deopujari Jayant,\"Physician and Researcher, Nagpur.\"\n",
      "Physicians/Researchers,Dr. Deshpande Manasi,\"Department of Dravyagunavidyana, B.V.D.U. College of Ayurved, Pune.\"\n",
      "Physicians/Researchers,Mrs.Deshpande Suvarna,\"Sanskrit Expert, Pune.\"\n",
      "Physicians/Researchers,Dr.  Deokule S. S.,\"Reader Dept of Botany, University of Pune.\"\n",
      "Physicians/Researchers,Dr. Dhumal Pramod,\"Ayurveda Physician, Pune.\"\n",
      "Physicians/Researchers,Dr. Doiphode V. V.,\"Dean &amp; H.O.D,  Ayurved Faculty, University of Pune, Pune.\"\n",
      "Physicians/Researchers,Dr. Dole V. A.,\"H.O.D. Rasashastra, Tilak Ayurved Mahavidyalaya, Pune.\"\n",
      "Physicians/Researchers,Dr. Dudhagaonkar Anjali,\"Family Physician, Pune\"\n",
      "Physicians/Researchers,Dr. Erande Mukund,\"Principal and H.O.D.\n",
      "1507\n"
     ]
    }
   ],
   "source": [
    "print(nodes[3].text)\n",
    "print(len(nodes[3].text))"
   ]
  },
  {
   "cell_type": "code",
   "execution_count": 15,
   "metadata": {},
   "outputs": [
    {
     "name": "stdout",
     "output_type": "stream",
     "text": [
      "Erande Mukund,\"Principal and H.O.D. Department of Sharir Rachana, Sumatibhai Shaha  Ayurved College, Hadapsar, Pune.\"\n",
      "Physicians/Researchers,Dr. Gadgil Dilip,\"Ayurveda Physician, Pune.\"\n",
      "Physicians/Researchers,Dr. Gadgil Swati,\"Ayurveda Physician, Pune.\"\n",
      "Physicians/Researchers,Dr. Galgali Shreerang,\"Ayurveda Physician, Pune.\"\n",
      "Physicians/Researchers,Dr. Gangadharan G. G.,\"Joint Director, FRLHT Bangalore.\"\n",
      "Physicians/Researchers,Dr. Gangurde Jayant,\"Ayurveda Physician, Nashik.\"\n",
      "Physicians/Researchers,Dr. Ghatnekar Vishvas,\"Ayurveda Physician, Pune.\"\n",
      "Physicians/Researchers,Dr. Gaud  Banwarilal,\"Director, National Institute of Ayurveda, Jaipur.\"\n",
      "Physicians/Researchers,Dr. Ghodke Amit,\"Ayurveda Physician, Pune.\"\n",
      "Physicians/Researchers,Dr. Gogte R. B.,\"Ex - Professor and H.O.D. Shalya, Tilak Ayurved Mahavidyalaya and  Hospital, Pune.\"\n",
      "Physicians/Researchers,Dr. Gokakar Gurunath,\"Ayurveda Physician, Kolhapur.\"\n",
      "Physicians/Researchers,Dr. Gokhale Maya,\"Lecturer - Ayurved College, Akurdi (Pune), Ayurved Consultant, Pune.\"\n",
      "Physicians/Researchers,Dr. Gokhale Vivek,\"Lecturer - Bharati Vidyapeth College of Ayurved, Pune.\"\n",
      "Physicians/Researchers,Dr. Hirwani Raj,\"Director URDIP, Pune.\"\n",
      "Physicians/Researchers,Dr. Huparikar Rajendra,\"Hon. Physician, Seth. Tarachand Ramnath Hospital,  Pune.\"\n",
      "Physicians/Researchers,Dr. Jamadagni Shruti,\"Ayurveda Physician, Pune.\"\n",
      "Physicians/Researchers,Dr.Jinde Abhijit,\"Ayurveda Physician, Pune.\"\n",
      "Physicians/Researchers,Dr.\n",
      "1459\n"
     ]
    }
   ],
   "source": [
    "print(nodes[4].text)\n",
    "print(len(nodes[4].text))"
   ]
  }
 ],
 "metadata": {
  "kernelspec": {
   "display_name": "rag3",
   "language": "python",
   "name": "python3"
  },
  "language_info": {
   "codemirror_mode": {
    "name": "ipython",
    "version": 3
   },
   "file_extension": ".py",
   "mimetype": "text/x-python",
   "name": "python",
   "nbconvert_exporter": "python",
   "pygments_lexer": "ipython3",
   "version": "3.11.7"
  }
 },
 "nbformat": 4,
 "nbformat_minor": 2
}
