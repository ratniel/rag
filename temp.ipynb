{
 "cells": [
  {
   "cell_type": "code",
   "execution_count": 62,
   "metadata": {},
   "outputs": [
    {
     "name": "stderr",
     "output_type": "stream",
     "text": [
      "Loading files:   0%|          | 0/594 [00:00<?, ?file/s]"
     ]
    },
    {
     "name": "stderr",
     "output_type": "stream",
     "text": [
      "Loading files: 100%|██████████| 594/594 [00:00<00:00, 6487.64file/s]\n"
     ]
    },
    {
     "data": {
      "application/vnd.jupyter.widget-view+json": {
       "model_id": "69f6581c74254c65abbd40c85fabec10",
       "version_major": 2,
       "version_minor": 0
      },
      "text/plain": [
       "Parsing nodes:   0%|          | 0/594 [00:00<?, ?it/s]"
      ]
     },
     "metadata": {},
     "output_type": "display_data"
    }
   ],
   "source": [
    "from llama_index.core import VectorStoreIndex, SimpleDirectoryReader\n",
    "from llama_index.core.node_parser import HTMLNodeParser\n",
    "from llama_index.embeddings.gemini import GeminiEmbedding\n",
    "from llama_index.llms.gemini import Gemini\n",
    "\n",
    "reader = SimpleDirectoryReader(input_dir=\"/home/dai/33/project/rag/data/clean_html\",\n",
    "                                  recursive=True)\n",
    "\n",
    "documents = reader.load_data(show_progress=True)\n",
    "node_parser = HTMLNodeParser(tags = [\"p\", \"h1\", \"h2\", \"h3\", \"h4\", \"h5\", \"h6\", \"li\", \"b\", \"i\", \"u\", \"section\", \"text\", \"title\"])\n",
    "nodes = node_parser.get_nodes_from_documents(documents, show_progress=True)\n",
    "nodes = [node for node in nodes if len(node.get_content()) > 0]\n",
    "for node in nodes:\n",
    "    #remove all the \\n and \\t\n",
    "    node.text = node.text.replace(\"\\n\", \" \").replace(\"\\t\", \" \")"
   ]
  },
  {
   "cell_type": "code",
   "execution_count": 63,
   "metadata": {},
   "outputs": [
    {
     "data": {
      "text/plain": [
       "1480"
      ]
     },
     "execution_count": 63,
     "metadata": {},
     "output_type": "execute_result"
    }
   ],
   "source": [
    "from llama_index.core.node_parser import SentenceSplitter\n",
    "\n",
    "splitter = SentenceSplitter(\n",
    "    chunk_size=1024,\n",
    "    chunk_overlap=0,\n",
    ")\n",
    "nodes = splitter.get_nodes_from_documents(documents)\n",
    "len(nodes)"
   ]
  },
  {
   "cell_type": "code",
   "execution_count": 70,
   "metadata": {},
   "outputs": [
    {
     "data": {
      "text/plain": [
       "'<html>\\n<head>\\n<title>Acknowledgement</title>\\n</head>\\n<body>\\n<div>\\n</div>\\n<div>\\n<p> </p>\\n<p>The project is funded by Ministry of Communications &amp; Information\\nTechnology.</p>\\n<p>Following Institutions and Ayurveda Experts have contributed to AyuSoft\\nin their </p>\\n<p>capacities as advisors, authors, owners of photographs and clips,\\ntesters etc.</p>\\n<text>Institutes,\"Ayurved  Research Centre K.E.M. Hospital, Mumbai.\"\\nInstitutes,\"B.S.D.T.  College of Ayurved, Wagholi Pune.\"\\nInstitutes,\"College of  Ayurved Bharati Vidyapeeth Deemed University (B.V.D.U), Pune.\"\\nInstitutes,\"Centre for  Rheumatic Diseases Pune (CRD), Pune.\"\\nInstitutes,Dept. of  Ayurved Sassoon General Hospital Pune.\\nInstitutes,\"Ayurved  Dept. Dinanath Mangeshkar Hospital,Pune.\"\\nInstitutes,\"Foundation  for Revitalisation of Local Health Traditions (FRLHT), Bangalore.\"\\nInstitutes,\"Sanjeevan  Hospital, Pune.\"\\nInstitutes,\"Sumatibhai  Shaha Ayurved College, Hadapsar, Pune.\"\\nInstitutes,\"Swami Prakashanand Ayurveda Research Centre  (SPARC), Mumbai.\"\\nInstitutes,\"Seth  Tarachand Ramnath Hospital, Pune.\"\\nInstitutes,\"T.N.Medical  College and Nair Hospital, Mumbai.\"\\nInstitutes,\"Tilak  Ayurveda Mahavidyalaya, Pune.\"\\n</text>\\n<text width=\"579\">Physicians/Researchers,Dr. Baghel M.S.,\"Director, International Centre for Ayurvedic studies, Jamnagar.\"\\nPhysicians/Researchers,Dr. Badave Jyoti,\"Ayurved Physician, Pune.\"\\nPhysicians/Researchers,Dr. Bakre A. V.,\"Ex Professor R.A.Potdar Ayurved Medical  College, Mumbai.\"\\nPhysicians/Researchers,Dr. Barve Anand,\"Hon. Physician, Seth. Tarachand Ramnath Hospital,  Pune.\"\\nPhysicians/Researchers,Dr. Barve Neelmani,\"Ayurveda Physician, Pune.\"\\nPhysicians/Researchers,Dr. Bavdekar S.D.,\"Head Ayurved Dept, Jnanaprabhodhini, Pune.\"\\nPhysicians/Researchers,Dr. Bhalerao Supriya,\"Research Associate, Nair Hospital, Department of Clinical  Pharmacology, Mumbai.\"\\nPhysicians/Researchers,Dr. Chatopadhyay  Abheechal,\"Lecturer, Ayurveda College, Kolkata.\"\\nPhysicians/Researchers,Dr Chavan Santosh,\"Ayurveda Physician, Pune.\"\\nPhysicians/Researchers,Dr. Chitre Rajashree,\"Lecturer - Ayurved College Wagholi, Pune.\"\\nPhysicians/Researchers,Dr. Chopra Arvind,\"Director CRD, Pune.\"\\nPhysicians/Researchers,Dr. Chunekar K.C.,\"Ex Head Dept. of Dravyaguna Vidnyan,  Banaras Hindu University, Varanasi.\"\\nPhysicians/Researchers,Dr. Darshanashankar,Director FRLHT Bangalore.\\nPhysicians/Researchers,Dr. Deopujari Jayant,\"Physician and Researcher, Nagpur.\"\\nPhysicians/Researchers,Dr. Deshpande Manasi,\"Department of Dravyagunavidyana, B.V.D.U. College of Ayurved, Pune.\"\\nPhysicians/Researchers,Mrs.Deshpande Suvarna,\"Sanskrit Expert, Pune.\"\\nPhysicians/Researchers,Dr.  Deokule S. S.,\"Reader Dept of Botany, University of Pune.\"\\nPhysicians/Researchers,Dr. Dhumal Pramod,\"Ayurveda Physician, Pune.\"\\nPhysicians/Researchers,Dr. Doiphode V. V.,\"Dean &amp; H.O.D,  Ayurved Faculty, University of Pune, Pune.\"\\nPhysicians/Researchers,Dr. Dole V. A.,\"H.O.D. Rasashastra, Tilak Ayurved Mahavidyalaya, Pune.\"\\nPhysicians/Researchers,Dr. Dudhagaonkar Anjali,\"Family Physician, Pune\"\\nPhysicians/Researchers,Dr. Erande Mukund,\"Principal and H.O.D. Department of Sharir Rachana, Sumatibhai Shaha  Ayurved College, Hadapsar, Pune.\"\\nPhysicians/Researchers,Dr. Gadgil Dilip,\"Ayurveda Physician, Pune.\"'"
      ]
     },
     "execution_count": 70,
     "metadata": {},
     "output_type": "execute_result"
    }
   ],
   "source": [
    "nodes[0].text"
   ]
  },
  {
   "cell_type": "code",
   "execution_count": 71,
   "metadata": {},
   "outputs": [
    {
     "data": {
      "text/plain": [
       "303"
      ]
     },
     "execution_count": 71,
     "metadata": {},
     "output_type": "execute_result"
    }
   ],
   "source": [
    "len(nodes[0].text.split())"
   ]
  },
  {
   "cell_type": "code",
   "execution_count": 67,
   "metadata": {},
   "outputs": [
    {
     "name": "stdout",
     "output_type": "stream",
     "text": [
      "<html>\n",
      "<head>\n",
      "<title>Acknowledgement</title>\n",
      "</head>\n",
      "<body>\n",
      "<div>\n",
      "</div>\n",
      "<div>\n",
      "<p> </p>\n",
      "<p>The project is funded by Ministry of Communications &amp; Information\n",
      "Technology.</p>\n",
      "<p>Following Institutions and Ayurveda Experts have contributed to AyuSoft\n",
      "in their </p>\n",
      "<p>capacities as advisors, authors, owners of photographs and clips,\n",
      "testers etc.</p>\n",
      "<text>Institutes,\"Ayurved  Research Centre K.E.M. Hospital, Mumbai.\"\n",
      "Institutes,\"B.S.D.T.  College of Ayurved, Wagholi Pune.\"\n",
      "Institutes,\"College of  Ayurved Bharati Vidyapeeth Deemed University (B.V.D.U), Pune.\"\n",
      "Institutes,\"Centre for  Rheumatic Diseases Pune (CRD), Pune.\"\n",
      "Institutes,Dept. of  Ayurved Sassoon General Hospital Pune.\n",
      "Institutes,\"Ayurved  Dept. Dinanath Mangeshkar Hospital,Pune.\"\n",
      "Institutes,\"Foundation  for Revitalisation of Local Health Traditions (FRLHT), Bangalore.\"\n",
      "Institutes,\"Sanjeevan  Hospital, Pune.\"\n",
      "Institutes,\"Sumatibhai  Shaha Ayurved College, Hadapsar, Pune.\"\n",
      "Institutes,\"Swami Prakashanand Ayurveda Research Centre  (SPARC), Mumbai.\"\n",
      "Institutes,\"Seth  Tarachand Ramnath Hospital, Pune.\"\n",
      "Institutes,\"T.N.Medical  College and Nair Hospital, Mumbai.\"\n",
      "Institutes,\"Tilak  Ayurveda Mahavidyalaya, Pune.\"\n",
      "</text>\n",
      "<text width=\"579\">Physicians/Researchers,Dr. Baghel M.S.,\"Director, International Centre for Ayurvedic studies, Jamnagar.\"\n",
      "Physicians/Researchers,Dr. Badave Jyoti,\"Ayurved Physician, Pune.\"\n",
      "Physicians/Researchers,Dr. Bakre A. V.,\"Ex Professor R.A.Potdar Ayurved Medical  College, Mumbai.\"\n",
      "Physicians/Researchers,Dr. Barve Anand,\"Hon. Physician, Seth. Tarachand Ramnath Hospital,  Pune.\"\n",
      "Physicians/Researchers,Dr. Barve Neelmani,\"Ayurveda Physician, Pune.\"\n",
      "Physicians/Researchers,Dr. Bavdekar S.D.,\"Head Ayurved Dept, Jnanaprabhodhini, Pune.\"\n",
      "Physicians/Researchers,Dr. Bhalerao Supriya,\"Research Associate, Nair Hospital, Department of Clinical  Pharmacology, Mumbai.\"\n",
      "Physicians/Researchers,Dr. Chatopadhyay  Abheechal,\"Lecturer, Ayurveda College, Kolkata.\"\n",
      "Physicians/Researchers,Dr Chavan Santosh,\"Ayurveda Physician, Pune.\"\n",
      "Physicians/Researchers,Dr. Chitre Rajashree,\"Lecturer - Ayurved College Wagholi, Pune.\"\n",
      "Physicians/Researchers,Dr. Chopra Arvind,\"Director CRD, Pune.\"\n",
      "Physicians/Researchers,Dr. Chunekar K.C.,\"Ex Head Dept. of Dravyaguna Vidnyan,  Banaras Hindu University, Varanasi.\"\n",
      "Physicians/Researchers,Dr. Darshanashankar,Director FRLHT Bangalore.\n",
      "Physicians/Researchers,Dr. Deopujari Jayant,\"Physician and Researcher, Nagpur.\"\n",
      "Physicians/Researchers,Dr. Deshpande Manasi,\"Department of Dravyagunavidyana, B.V.D.U. College of Ayurved, Pune.\"\n",
      "Physicians/Researchers,Mrs.Deshpande Suvarna,\"Sanskrit Expert, Pune.\"\n",
      "Physicians/Researchers,Dr.  Deokule S. S.,\"Reader Dept of Botany, University of Pune.\"\n",
      "Physicians/Researchers,Dr. Dhumal Pramod,\"Ayurveda Physician, Pune.\"\n",
      "Physicians/Researchers,Dr. Doiphode V. V.,\"Dean &amp; H.O.D,  Ayurved Faculty, University of Pune, Pune.\"\n",
      "Physicians/Researchers,Dr. Dole V. A.,\"H.O.D. Rasashastra, Tilak Ayurved Mahavidyalaya, Pune.\"\n",
      "Physicians/Researchers,Dr. Dudhagaonkar Anjali,\"Family Physician, Pune\"\n",
      "Physicians/Researchers,Dr. Erande Mukund,\"Principal and H.O.D. Department of Sharir Rachana, Sumatibhai Shaha  Ayurved College, Hadapsar, Pune.\"\n",
      "Physicians/Researchers,Dr. Gadgil Dilip,\"Ayurveda Physician, Pune.\"\n",
      "3263\n",
      "273\n"
     ]
    }
   ],
   "source": [
    "print(nodes[0].text)\n",
    "print(len(nodes[0].text))\n",
    "print(len(nodes[0].text.split(\" \")))"
   ]
  },
  {
   "cell_type": "code",
   "execution_count": 65,
   "metadata": {},
   "outputs": [
    {
     "name": "stdout",
     "output_type": "stream",
     "text": [
      "Physicians/Researchers,Dr. Gadgil Swati,\"Ayurveda Physician, Pune.\"\n",
      "Physicians/Researchers,Dr. Galgali Shreerang,\"Ayurveda Physician, Pune.\"\n",
      "Physicians/Researchers,Dr. Gangadharan G. G.,\"Joint Director, FRLHT Bangalore.\"\n",
      "Physicians/Researchers,Dr. Gangurde Jayant,\"Ayurveda Physician, Nashik.\"\n",
      "Physicians/Researchers,Dr. Ghatnekar Vishvas,\"Ayurveda Physician, Pune.\"\n",
      "Physicians/Researchers,Dr. Gaud  Banwarilal,\"Director, National Institute of Ayurveda, Jaipur.\"\n",
      "Physicians/Researchers,Dr. Ghodke Amit,\"Ayurveda Physician, Pune.\"\n",
      "Physicians/Researchers,Dr. Gogte R. B.,\"Ex - Professor and H.O.D. Shalya, Tilak Ayurved Mahavidyalaya and  Hospital, Pune.\"\n",
      "Physicians/Researchers,Dr. Gokakar Gurunath,\"Ayurveda Physician, Kolhapur.\"\n",
      "Physicians/Researchers,Dr. Gokhale Maya,\"Lecturer - Ayurved College, Akurdi (Pune), Ayurved Consultant, Pune.\"\n",
      "Physicians/Researchers,Dr. Gokhale Vivek,\"Lecturer - Bharati Vidyapeth College of Ayurved, Pune.\"\n",
      "Physicians/Researchers,Dr. Hirwani Raj,\"Director URDIP, Pune.\"\n",
      "Physicians/Researchers,Dr. Huparikar Rajendra,\"Hon. Physician, Seth. Tarachand Ramnath Hospital,  Pune.\"\n",
      "Physicians/Researchers,Dr. Jamadagni Shruti,\"Ayurveda Physician, Pune.\"\n",
      "Physicians/Researchers,Dr.Jinde Abhijit,\"Ayurveda Physician, Pune.\"\n",
      "Physicians/Researchers,Dr. Joglekar Vishnu,\"Assistant Professor, Tilak Ayurved  Mahavidyalaya, Pune.\"\n",
      "Physicians/Researchers,Dr.Joshi V.K.,\"Head, Dept of Dravyaguna Vidnyan, Banaras Hindu University Varanasi.\"\n",
      "Physicians/Researchers,Dr. Joshi Y.G.,\"Ayurveda Physician, Pune.\"\n",
      "Physicians/Researchers,Dr. Kale Yogesh,\"Ayurveda Physician, Pune.\"\n",
      "Physicians/Researchers,Dr. Kale Mohan,Statistician Pune.\n",
      "Physicians/Researchers,Dr. Kanade Vivek,\"Ayurveda Physician, Pune.\"\n",
      "Physicians/Researchers,Dr. Kelkar Madhav,\"Ayurveda Physician, Pune.\"\n",
      "Physicians/Researchers,Dr. Kinjwdekar S.P.,\"Ex. Professor Sion Ayurveda College, Mumbai.\"\n",
      "Physicians/Researchers,Dr.Kothvale Prakash,\"Gynaecologist, Pune.\"\n",
      "Physicians/Researchers,Dr. Kondhare Dhanashree,\"Ayurveda Physician, Pune.\"\n",
      "Physicians/Researchers,Dr. Kulkarni Pramod,\"Visiting Lecturer – Tilak Ayurved  Mahavidhyalaya, Pune.\"\n",
      "Physicians/Researchers,Dr. Kulkarni Vijay,\"Ayurveda Physician, Nasik.\"\n",
      "Physicians/Researchers,Dr. Kulkarni Vinay,\"Dermatologist ,Pune\"\n",
      "Physicians/Researchers,Dr. Kulkarni Yogini,\"Ayurveda Physician, Pune.\"\n",
      "Physicians/Researchers,Dr. Lavekar G.S.,\"Director C.C.R.A.S., New Delhi.\"\n",
      "Physicians/Researchers,Dr. Mahajan S.D.,\"Taxonomist , Pune.\"\n",
      "Physicians/Researchers,Dr. Mehata Vaibhav,\"Ayurveda Physician, Pune.\"\n",
      "Physicians/Researchers,Dr. Meshram Akash,\"Ayurveda Physician, Pune.\"\n",
      "Physicians/Researchers,Dr. Mhetre Rishikesh,\"Ayurveda Physician, Pune.\"\n",
      "Physicians/Researchers,Dr. Mrs. Nagral K.,\"Ayurveda Physician, Mumbai.\"\n",
      "Physicians/Researchers,Dr.Muralidhararn,Principal Shri Jayendra Saraswati Ayurveda College.\n",
      "Physicians/Researchers,Dr. Nagral S. I.,\"Ex. Professor Sion Ayurveda College, Mumbai.\"\n",
      "Physicians/Researchers,Dr. Naidu,\"M.D. Scholar ,Pune\"\n",
      "Physicians/Researchers,Dr. Nanal Ashutosh,\"Ayurveda Physician, Pune.\"\n",
      "Physicians/Researchers,Dr. Nanal Ramesh,\"Editor, Madhujeevan, Mumbai.\"\n"
     ]
    }
   ],
   "source": [
    "print(nodes[1].text)"
   ]
  },
  {
   "cell_type": "code",
   "execution_count": 37,
   "metadata": {},
   "outputs": [
    {
     "data": {
      "text/plain": [
       "0"
      ]
     },
     "execution_count": 37,
     "metadata": {},
     "output_type": "execute_result"
    }
   ],
   "source": [
    "greater_size_docs = []\n",
    "for i in range(len(nodes)):\n",
    "    size = len(nodes[i].text)\n",
    "    if size > 10000:\n",
    "        greater_size_docs.append(nodes[i].metadata['file_name'])\n",
    "\n",
    "len(greater_size_docs)"
   ]
  },
  {
   "cell_type": "code",
   "execution_count": 32,
   "metadata": {},
   "outputs": [
    {
     "data": {
      "application/vnd.jupyter.widget-view+json": {
       "model_id": "c90f7889a91641719717d68d24b3e03c",
       "version_major": 2,
       "version_minor": 0
      },
      "text/plain": [
       "Generating embeddings:   0%|          | 0/1860 [00:00<?, ?it/s]"
      ]
     },
     "metadata": {},
     "output_type": "display_data"
    }
   ],
   "source": [
    "from llama_index.embeddings.gemini import GeminiEmbedding\n",
    "from llama_index.core import Settings\n",
    "\n",
    "Settings.embed_model = GeminiEmbedding(model_name='models/embedding-001')\n",
    "\n",
    "index = VectorStoreIndex(nodes=nodes, embed_model=Settings.embed_model, show_progress=True)"
   ]
  },
  {
   "cell_type": "code",
   "execution_count": null,
   "metadata": {},
   "outputs": [],
   "source": []
  }
 ],
 "metadata": {
  "kernelspec": {
   "display_name": "rag3",
   "language": "python",
   "name": "python3"
  },
  "language_info": {
   "codemirror_mode": {
    "name": "ipython",
    "version": 3
   },
   "file_extension": ".py",
   "mimetype": "text/x-python",
   "name": "python",
   "nbconvert_exporter": "python",
   "pygments_lexer": "ipython3",
   "version": "3.11.7"
  }
 },
 "nbformat": 4,
 "nbformat_minor": 2
}
