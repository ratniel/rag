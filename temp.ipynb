{
 "cells": [
  {
   "cell_type": "code",
   "execution_count": 1,
   "metadata": {},
   "outputs": [],
   "source": [
    "from llama_index.core import VectorStoreIndex, SimpleDirectoryReader, get_response_synthesizer\n",
    "from llama_index.core.node_parser import HTMLNodeParser\n",
    "from llama_index.core.node_parser import SentenceSplitter\n",
    "from llama_index.embeddings.gemini import GeminiEmbedding\n",
    "from llama_index.llms.gemini import Gemini\n",
    "from llama_index.core import Settings\n",
    "from llama_index.core import StorageContext, load_index_from_storage\n",
    "from llama_index.core.retrievers import VectorIndexRetriever\n",
    "from llama_index.core.query_engine import RetrieverQueryEngine\n",
    "from llama_index.core.postprocessor import SimilarityPostprocessor\n",
    "\n",
    "Settings.embed_model = GeminiEmbedding(model_name='models/embedding-001')\n",
    "Settings.llm = Gemini(model_name='models/gemini-pro', temperature=0.7)"
   ]
  },
  {
   "cell_type": "code",
   "execution_count": 2,
   "metadata": {},
   "outputs": [
    {
     "name": "stderr",
     "output_type": "stream",
     "text": [
      "Loading files: 100%|██████████| 594/594 [00:00<00:00, 5187.80file/s]\n"
     ]
    },
    {
     "data": {
      "application/vnd.jupyter.widget-view+json": {
       "model_id": "bd4c64ba8942439ba3b5d92468d02500",
       "version_major": 2,
       "version_minor": 0
      },
      "text/plain": [
       "Parsing nodes:   0%|          | 0/594 [00:00<?, ?it/s]"
      ]
     },
     "metadata": {},
     "output_type": "display_data"
    }
   ],
   "source": [
    "reader = SimpleDirectoryReader(input_dir=\"/home/dai/33/project/rag/data/clean_html\",\n",
    "                                  recursive=True)\n",
    "\n",
    "documents = reader.load_data(show_progress=True)\n",
    "node_parser = HTMLNodeParser(tags = [\"p\",\"li\", \"b\", \"i\", \"u\", \"section\", \"text\"])\n",
    "nodes = node_parser.get_nodes_from_documents(documents, show_progress=True)\n",
    "nodes = [node for node in nodes if len(node.get_content()) > 0]\n",
    "for node in nodes:\n",
    "    #remove all the \\n and \\t\n",
    "    node.text = node.text.replace(\"\\n\", \" \").replace(\"\\t\", \" \")"
   ]
  },
  {
   "cell_type": "code",
   "execution_count": 3,
   "metadata": {},
   "outputs": [
    {
     "data": {
      "text/plain": [
       "3713"
      ]
     },
     "execution_count": 3,
     "metadata": {},
     "output_type": "execute_result"
    }
   ],
   "source": [
    "splitter = SentenceSplitter(\n",
    "    chunk_size=1024,\n",
    "    chunk_overlap=0,\n",
    ")\n",
    "nodes = splitter.get_nodes_from_documents(nodes)\n",
    "len(nodes)"
   ]
  },
  {
   "cell_type": "code",
   "execution_count": 4,
   "metadata": {},
   "outputs": [
    {
     "data": {
      "text/plain": [
       "0"
      ]
     },
     "execution_count": 4,
     "metadata": {},
     "output_type": "execute_result"
    }
   ],
   "source": [
    "greater_size_docs = []\n",
    "for i in range(len(nodes)):\n",
    "    size = len(nodes[i].text)\n",
    "    if size > 10000:\n",
    "        greater_size_docs.append(nodes[i].metadata['file_name'])\n",
    "\n",
    "len(greater_size_docs)"
   ]
  },
  {
   "cell_type": "code",
   "execution_count": 5,
   "metadata": {},
   "outputs": [
    {
     "data": {
      "application/vnd.jupyter.widget-view+json": {
       "model_id": "fca17f3991a94aef8fba92a6bc627160",
       "version_major": 2,
       "version_minor": 0
      },
      "text/plain": [
       "Generating embeddings:   0%|          | 0/2048 [00:00<?, ?it/s]"
      ]
     },
     "metadata": {},
     "output_type": "display_data"
    },
    {
     "data": {
      "application/vnd.jupyter.widget-view+json": {
       "model_id": "874e5ab25fb24829988a246e1e68c82a",
       "version_major": 2,
       "version_minor": 0
      },
      "text/plain": [
       "Generating embeddings:   0%|          | 0/1665 [00:00<?, ?it/s]"
      ]
     },
     "metadata": {},
     "output_type": "display_data"
    }
   ],
   "source": [
    "# Create Index and store the index\n",
    "index = VectorStoreIndex(nodes=nodes, embed_model=Settings.embed_model, show_progress=True)\n",
    "index.storage_context.persist(persist_dir='indexes')"
   ]
  },
  {
   "cell_type": "code",
   "execution_count": 6,
   "metadata": {},
   "outputs": [],
   "source": [
    "# # rebuild storage context\n",
    "# storage_context = StorageContext.from_defaults(persist_dir=\"/home/dai/33/project/rag/indexes\")\n",
    "\n",
    "# # load index\n",
    "# index = load_index_from_storage(storage_context)"
   ]
  },
  {
   "cell_type": "code",
   "execution_count": 7,
   "metadata": {},
   "outputs": [],
   "source": [
    "# configure retriever\n",
    "retriever = VectorIndexRetriever(\n",
    "    index=index,\n",
    "    similarity_top_k=10,\n",
    ")\n",
    "\n",
    "# configure response synthesizer\n",
    "response_synthesizer = get_response_synthesizer()\n",
    "\n",
    "# assemble query engine\n",
    "query_engine = RetrieverQueryEngine(\n",
    "    retriever=retriever,\n",
    "    response_synthesizer=response_synthesizer,\n",
    "    node_postprocessors=[SimilarityPostprocessor(similarity_cutoff=0.3)]\n",
    ")"
   ]
  },
  {
   "cell_type": "code",
   "execution_count": 6,
   "metadata": {},
   "outputs": [],
   "source": [
    "query_engine = index.as_query_engine(llm=Settings.llm)"
   ]
  },
  {
   "cell_type": "code",
   "execution_count": 7,
   "metadata": {},
   "outputs": [
    {
     "name": "stdout",
     "output_type": "stream",
     "text": [
      "The provided context does not contain any information about the lifespan of an individual or the stages it is divided into, so I cannot answer this question from the provided context.\n"
     ]
    }
   ],
   "source": [
    "response = query_engine.query(\"Lifepan of individual is divided in how many stages?\")\n",
    "print(response)"
   ]
  },
  {
   "cell_type": "code",
   "execution_count": 8,
   "metadata": {},
   "outputs": [
    {
     "name": "stdout",
     "output_type": "stream",
     "text": [
      "0.7069733386678532\n",
      "According to Charaka:\n",
      "{'tag': 'u', 'file_path': '/home/dai/33/project/rag/data/clean_html/Articles/S`halya_S`haalaakya/Gandamaalaa_Nidaana.htm', 'file_name': 'Gandamaalaa_Nidaana.htm', 'file_type': 'text/html', 'file_size': 2505, 'creation_date': '2024-02-14', 'last_modified_date': '2024-02-14', 'last_accessed_date': '2024-02-14'}\n",
      "----------------------------------------------------------------------------------------------------\n",
      "0.7060845148798267\n",
      "S.Ni.1/52-58\n",
      "{'tag': 'p', 'file_path': '/home/dai/33/project/rag/data/clean_html/Articles/Nidaana/Vaatavyaadhi.htm', 'file_name': 'Vaatavyaadhi.htm', 'file_type': 'text/html', 'file_size': 40453, 'creation_date': '2024-02-14', 'last_modified_date': '2024-02-14', 'last_accessed_date': '2024-02-14'}\n",
      "----------------------------------------------------------------------------------------------------\n"
     ]
    }
   ],
   "source": [
    "for node in response.source_nodes:\n",
    "    print(node.score)\n",
    "    print(node.text)\n",
    "    print(node.metadata)\n",
    "    print(\"-\"*100)"
   ]
  },
  {
   "cell_type": "code",
   "execution_count": null,
   "metadata": {},
   "outputs": [],
   "source": []
  }
 ],
 "metadata": {
  "kernelspec": {
   "display_name": "rag3",
   "language": "python",
   "name": "python3"
  },
  "language_info": {
   "codemirror_mode": {
    "name": "ipython",
    "version": 3
   },
   "file_extension": ".py",
   "mimetype": "text/x-python",
   "name": "python",
   "nbconvert_exporter": "python",
   "pygments_lexer": "ipython3",
   "version": "3.11.7"
  }
 },
 "nbformat": 4,
 "nbformat_minor": 2
}
