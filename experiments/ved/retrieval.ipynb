{
 "cells": [
  {
   "cell_type": "code",
   "execution_count": 1,
   "metadata": {},
   "outputs": [],
   "source": [
    "from src.indexing_utils import extract_htmltag_nodes, create_docstore\n",
    "from llama_index.core.schema import MetadataMode"
   ]
  },
  {
   "cell_type": "code",
   "execution_count": 3,
   "metadata": {},
   "outputs": [
    {
     "name": "stderr",
     "output_type": "stream",
     "text": [
      "Loading files:   0%|          | 0/594 [00:00<?, ?file/s]"
     ]
    },
    {
     "name": "stderr",
     "output_type": "stream",
     "text": [
      "Loading files: 100%|██████████| 594/594 [00:00<00:00, 2329.16file/s]\n"
     ]
    },
    {
     "data": {
      "application/vnd.jupyter.widget-view+json": {
       "model_id": "b62c179d1b5d4cd195b5997b2a0703e5",
       "version_major": 2,
       "version_minor": 0
      },
      "text/plain": [
       "Parsing nodes:   0%|          | 0/594 [00:00<?, ?it/s]"
      ]
     },
     "metadata": {},
     "output_type": "display_data"
    }
   ],
   "source": [
    "article_nodes = extract_htmltag_nodes(\"../../data/clean_html\")\n",
    "article_store = create_docstore(article_nodes, '/home/dai/35/rag/storage/docstore', 'articles_store')"
   ]
  },
  {
   "cell_type": "code",
   "execution_count": 4,
   "metadata": {},
   "outputs": [
    {
     "name": "stdout",
     "output_type": "stream",
     "text": [
      "08f6cc6e-da26-457a-9c4a-b62e4fb5bdcc\n",
      "508b8ed9-0957-4a10-b950-a7d76ccfd307\n",
      "343dba49-f838-42b3-807e-e309974acca3\n",
      "549e92a8-c05a-48c2-b858-77c8bebf8deb\n",
      "89d4ee17-7688-4ded-bc64-8b21dacf5a65\n",
      "dceb226a-18de-4c91-8795-9367336f558b\n",
      "37d412d9-374f-47d3-a205-85e049697994\n",
      "804f418e-33bf-41e5-a57e-d4ef328d3c5c\n",
      "76151e14-166c-48f1-9e43-864ec8ab98a8\n",
      "85bf58e1-8778-4a23-a6e2-5c0dbfa0b5d9\n",
      "67dc2349-8c58-4d4e-83d2-436bfaee0d32\n",
      "958c21f4-260a-43ee-9b2e-b6a95d5e65f0\n",
      "8e1e0d64-1f8d-4903-85e3-cd5254b18eef\n",
      "a9941d97-43e9-4664-8d8a-80c0355b3e37\n",
      "fa8afaf8-632f-4310-a496-4ced4fe92c2b\n",
      "4149339e-806c-4479-846d-6ef949592fed\n",
      "2ec4625f-b6e1-4549-8953-fb3ed2855e26\n",
      "25609405-a6f9-4161-8686-ab758c14e6f2\n",
      "50ef8199-49d3-4b1f-a1ea-25f82e21fbb5\n",
      "2f7d0edb-4506-4695-875a-68c064799c3c\n",
      "347415cb-9dd4-4335-939b-26e4d41bf7c7\n",
      "c69369ec-b4ac-43b4-ad3a-22792d0d76ae\n",
      "1b868762-4334-4aab-8706-3bfdfce59822\n",
      "26c4f5d8-5fef-4294-9a0f-2237ea892068\n",
      "57cbcbdf-32ae-41a9-aa8f-57ca33e0abe1\n",
      "50d8ae12-2cc5-4978-9200-ca2e11ee00da\n",
      "71f9850a-486f-4af9-a852-173de35f16ed\n",
      "6571ab57-d250-4305-882a-a225ff469f04\n",
      "f8b64385-d710-428d-b622-33c176a3fbb9\n",
      "e6271439-2080-429f-a072-893a0c1dce67\n",
      "30\n"
     ]
    }
   ],
   "source": [
    "count = 0\n",
    "for article in article_nodes:\n",
    "    if len(article.get_content(MetadataMode.EMBED))>10000:\n",
    "        count += 1\n",
    "        print(article.id_)\n",
    "print(count)"
   ]
  },
  {
   "cell_type": "code",
   "execution_count": 18,
   "metadata": {},
   "outputs": [],
   "source": [
    "text = article_store.get_document(\"1b868762-4334-4aab-8706-3bfdfce59822\").get_content(MetadataMode.EMBED)"
   ]
  },
  {
   "cell_type": "code",
   "execution_count": 19,
   "metadata": {},
   "outputs": [
    {
     "data": {
      "text/plain": [
       "'tag: p\\nfile_path: ../../data/clean_html/Articles/Siddhaanta/Navadravya_Siddhaanta.htm\\n\\nAyuSoft Team To come into existence western sciences state raw material is required. Oriental sciences however, make a more comprehensive approach that considers non-material components too, along with material ones. Since the number of such essentially required is nine, the term Navadravya meaning the obligatory nine came into existence. It will be scientifically safe to continue the term Dravya here as any attempt to equate it to 1. Element 2. Substances 3. Matter 4. Molecule etc is not suitable to the technical meaning that each term possesses. (In the prevalently understood meaning.) The nine Dravya_s are essential contributors together for each and every living or the nonliving cognizable thing. Without the contribution of all the nine, nothing can be cognized. They are by their technical names; Aakaas`ha, Vaayu, Tejas, Jala, Prithvi, Kaala, Dik, Aatman, and Manas. These are the causes together Kaaran`a, devoid of contribution from them all evolvement is impossible. Related Sootra C.Su.1/48 For the existence of living and non-living, the requirement is provided by contribution from the pool of five mega entities, the knower, the initiation/intention to produce by the mind of someone Manas, a specific stipulated period Kaala and the distinct location Dik. Description: The prevalent contention that to produce anything, only raw material is required is not sufficiently comprehensive. Thus software has come in to existence, is a fact; the apparent diskette or CD is made up of plastic. But in the past the technical efforts by capable technocrats were still done; it was intellectually conceived in the mind of a living being. He with his intention to produce a device by the information technology technique, could go ahead. Had this contribution of a living designers intention to evolve, been absent, the mere pre-existence of a diskette was not at any stage likely to be the software by itself. The idea and raw materials availability alone, cannot, by themselves, result in the device. A suitable location and stipulated periods contribution is absolutely obligatory. Understanding by the oriental method, covers all the components that are genuinely required for the existence of everything. Here the contribution by the five mega entities; in the way of availment of room, action of mobilizing forces for touch, apparent complexion by heat contact, interlinking of particles by/for earlier fluid character, and shape/form by decrease in fluid dominance in that order, is understood. That respectively happens by contribution from Aakaas`ha, Vaayu, Tejas, Jala, Prithvi, the five-mega entities. The statement that nine contribute for evolvement of everything is factual for all. Individual Causative Entities: Aakaas`ha: Aakaas`ha provides room for all to appear, to modify or ultimately to terminate. Because of the relative rare arrangement of Aakaas`ha in between all substances, each one can be distinctly seen / cognized. If this rare arrangement is not there, nothing could have been differentiated distinct from one another. No resistance to enter in or exit out is the specific character of global Aakaas`ha. You may prepare certain walls as boundaries and label that one as the Aakaas`ha of the pot etc. It hides/ covers nothing, and therefore is of Satva dominance. Restricted to ear, the total architecture of components show that hollowness and thinness is given a freehand in the ear. The middle ear is connected to global Aakaas`ha by the Eustachian tube. Whenever rareness is added to any dense arrangement, a specific sound is produced. Restricted to the body, all hollow structures in the body, which provide the entry, process or exit of many substances; are dominated by Aakaas`ha. The lungs, GIT, skull, heart and circulatory tubular complex, all are the main examples. One can extend this, up to the most minute lumen in the cell. Vaayu: The global Vaayu is spread all over and can be known by movement and touch of other things. Vaayu itself is not visible. But trees, clouds etc moved by Vaayu make its existence known.The touch of Vaayu is vibrant; Vaayu is responsible for the intake and exit of substances from the body. Vaayu dominant components of the body are the impulse producers. The hollowness of Aakaas`ha facilitates the impulsive functions of Vaayu. Impulse alone, with no availability of looseness/hollowness, cannot be effective for actual propagations/changes in positions. The skin is relatively dry, spread all over entity. By movement in object of touch, or the skin, the sensation of touch is understood. Tejas: The global Tejas is uninterruptedly functioning by producing heat and causing conversion all the while. The touch of Tejas is hot. It is dominant by its shining colors. Both the eyes have the specific shining material that is the microform of universal Tejas. The bodily Tejas is seen in digestive capacity, seen at skin, and the food tract Jala: Globally Jala appears in a variety. Thus snow, mist, dew and rainwater are responsible for many inter linking. It has a cool touch. The Jala dominant organ in the body is the tongue. The tongue is a special sense organ encircled by secreting glands. All the watery substances in the body are accompanied by the fluid quality of Jala. Without it they cannot circulate. The water around tongue is responsible for taste. The body harbors a variety of fluids in channels, cells, reservoirs etc. the serum, fat, urine, sweat, internal digestive secretions, saliva, are some of the forms of bodily Jala. Prithvi is the entity, full of variety of shapes and hardness patterns. It has a variety of touches and smell. The nose is a relatively stout sense organ located in bony surrounding and having thick secretions compared to all other sense organs. The hard lasting, rigid, shaped components like bones, cartilages, hair, teeth, stools; nails etc are dominated by Prithvi in the body. The natural scheduled, withering away of each and everything, even though provided with nutritive raw material; has motivated the scientists to consider Kaala as the essential contributor. The sun repeats the rhythm of appearance and disappearance very regularly. The rising and setting of the sun everyday gives the cause of existence and maintenance of all living beings. Kaala is an absolute entity even though labels like Monday, March, summer, Chaitra, Ramjaana Uttaraayan`a etc. are given to it, as per convention. By itself it does not expect anything else for its proclamation. The concept of Kaala, as an entity has been accepted because, even with the availability of raw material, and working force; the evolvement actually takes place only after contribution of an essential stipulated period. For the evolvement of so many natural crops the contribution by time is specific and distinct. Even a continued supply of nourishing components, does not assure growth, if the stipulated period is over. For existence or extinction the contribution of time is obligatory, and cannot be disposed off. This entity is nameable; though non-dimensional. Oriental scientists have considered even the non-dimensional contributors, in the comprehensive method of all causative factors, in evolvements. The rhythmic special movement of the sun is responsible for building or depleting of tissues ultimately. Thus Kaala causes generation, regeneration and degeneration by adding, avoiding, separating many factors from each other. The knowledge of anything cannot be sufficient unless its location, in relation to some known point, is described. The entity Dik is direction. The Dik is always essentially told / declared, in relation to one, which is known or established earlier. The description of something needs details about, the things location in relation to a persons location. When the user of this device, looks towards the screen, he can cognize the letters. If this action/instruction to locate ones vision on screen is not there the advantage of existing letters cannot be there. Everythings description is complete, only when information of, above, below, on the right, on the left, to the back or on the front, is added. Devoid of it actual localization is not possible. Dis`haa is more popular than the word Dik alone. It is essentially relative to some one else and is never absolute. East, West, North, South, are relative expressions. Nowhere is there absolute character by examination of which the nomenclature of north-east etc. can be noted. The other attributes of Dis`haa are similar to that of Kaala. The body from childhood to old age undergoes many changes. The expression of pain or pleasure remains the same and it is the only property of knower inside Aatman meaning that one who is continuously on the move. The body is composed of a combination of distinct architecture of different organs etc. and an awareness system independent of material components. By deploying the sense organs the knower inside and outside the body, the Aatman, protects the body, by modifying the choices of environmental entities. The two types of Aatman are Jeevaatmaa limited to a being under observation and Paramaatmaa present in all beings. The number of beings and their characteristics are same. The Knowers association with body can be noted by examination of certain signs on the body when illness approaches, it modifies, the desires or disgusts, and there are efforts to bring into action the transient modifications till the illness prevails. It is common to all. The Paramaatmaa is only one, common and similar to all animals. Manas: Manas are the non-material component of the body like Aatman. The location of Manas is in the heart and head i.e. the central area between two eyebrows. Thus Manas`s activities or modifications can be known by examination of heart. The tools of Manas are the five sense organs. When Manas works without using the tools of sense organs, in that case it reviews the past, compares the present and estimates the future situation. By using its specific capacity to objectify, even without actual material and only by intellect it enjoys drama, poetry etc. the working of Manas is to decide what is beneficial to be followed and what is detrimental for that juncture, to be avoided, after a comprehensive consideration of all. Here Manas need no objects to be perceived by the sense organs. From contact Manas becomes happy or sorrowful. It is the main function of Manas. Since it is responsible for the feeling of pain and pleasure, and their outward expression, the essential components of Manas are Satva, rajas and Tamas. They are very subtle and one dominates in the total body, are the result from it makes the character of a person. From the elaborations and examples given above, one can understand that contribution from all nine is obligatory for the existence / awareness of everything. To really plan for making anything, one should not only take into account the raw materials, but he should have all 9`s availability before his mind. The innumerable cognized entities are from the contribution of the causative nine; the original contributing global entities are not fully comprehended by the capacities of the sense organs. The contributed, however, is cognizable. From Kaaran`a_s non-decipherable due to mega or extremely microforms, the materials around, record able is available for utilization in management of health and disease. The effect contributed from causes, is manageable for a number of purposes; but the causes in total are never manageable by human efforts. Kaarya is manageable but never the Kaaran`a_s.'"
      ]
     },
     "execution_count": 19,
     "metadata": {},
     "output_type": "execute_result"
    }
   ],
   "source": [
    "text"
   ]
  },
  {
   "cell_type": "code",
   "execution_count": 20,
   "metadata": {},
   "outputs": [],
   "source": [
    "from llama_index.core.node_parser import SentenceSplitter\n",
    "sentence_splitter = SentenceSplitter(chunk_size=2048, chunk_overlap=200)\n",
    "split_text = sentence_splitter.split_text(text)"
   ]
  },
  {
   "cell_type": "code",
   "execution_count": 22,
   "metadata": {},
   "outputs": [
    {
     "name": "stdout",
     "output_type": "stream",
     "text": [
      "tag: p\n",
      "file_path: ../../data/clean_html/Articles/Siddhaanta/Navadravya_Siddhaanta.htm\n",
      "\n",
      "AyuSoft Team To come into existence western sciences state raw material is required. Oriental sciences however, make a more comprehensive approach that considers non-material components too, along with material ones. Since the number of such essentially required is nine, the term Navadravya meaning the obligatory nine came into existence. It will be scientifically safe to continue the term Dravya here as any attempt to equate it to 1. Element 2. Substances 3. Matter 4. Molecule etc is not suitable to the technical meaning that each term possesses. (In the prevalently understood meaning.) The nine Dravya_s are essential contributors together for each and every living or the nonliving cognizable thing. Without the contribution of all the nine, nothing can be cognized. They are by their technical names; Aakaas`ha, Vaayu, Tejas, Jala, Prithvi, Kaala, Dik, Aatman, and Manas. These are the causes together Kaaran`a, devoid of contribution from them all evolvement is impossible. Related Sootra C.Su.1/48 For the existence of living and non-living, the requirement is provided by contribution from the pool of five mega entities, the knower, the initiation/intention to produce by the mind of someone Manas, a specific stipulated period Kaala and the distinct location Dik. Description: The prevalent contention that to produce anything, only raw material is required is not sufficiently comprehensive. Thus software has come in to existence, is a fact; the apparent diskette or CD is made up of plastic. But in the past the technical efforts by capable technocrats were still done; it was intellectually conceived in the mind of a living being. He with his intention to produce a device by the information technology technique, could go ahead. Had this contribution of a living designers intention to evolve, been absent, the mere pre-existence of a diskette was not at any stage likely to be the software by itself. The idea and raw materials availability alone, cannot, by themselves, result in the device. A suitable location and stipulated periods contribution is absolutely obligatory. Understanding by the oriental method, covers all the components that are genuinely required for the existence of everything. Here the contribution by the five mega entities; in the way of availment of room, action of mobilizing forces for touch, apparent complexion by heat contact, interlinking of particles by/for earlier fluid character, and shape/form by decrease in fluid dominance in that order, is understood. That respectively happens by contribution from Aakaas`ha, Vaayu, Tejas, Jala, Prithvi, the five-mega entities. The statement that nine contribute for evolvement of everything is factual for all. Individual Causative Entities: Aakaas`ha: Aakaas`ha provides room for all to appear, to modify or ultimately to terminate. Because of the relative rare arrangement of Aakaas`ha in between all substances, each one can be distinctly seen / cognized. If this rare arrangement is not there, nothing could have been differentiated distinct from one another. No resistance to enter in or exit out is the specific character of global Aakaas`ha. You may prepare certain walls as boundaries and label that one as the Aakaas`ha of the pot etc. It hides/ covers nothing, and therefore is of Satva dominance. Restricted to ear, the total architecture of components show that hollowness and thinness is given a freehand in the ear. The middle ear is connected to global Aakaas`ha by the Eustachian tube. Whenever rareness is added to any dense arrangement, a specific sound is produced. Restricted to the body, all hollow structures in the body, which provide the entry, process or exit of many substances; are dominated by Aakaas`ha. The lungs, GIT, skull, heart and circulatory tubular complex, all are the main examples. One can extend this, up to the most minute lumen in the cell. Vaayu: The global Vaayu is spread all over and can be known by movement and touch of other things. Vaayu itself is not visible. But trees, clouds etc moved by Vaayu make its existence known.The touch of Vaayu is vibrant; Vaayu is responsible for the intake and exit of substances from the body. Vaayu dominant components of the body are the impulse producers. The hollowness of Aakaas`ha facilitates the impulsive functions of Vaayu. Impulse alone, with no availability of looseness/hollowness, cannot be effective for actual propagations/changes in positions. The skin is relatively dry, spread all over entity. By movement in object of touch, or the skin, the sensation of touch is understood. Tejas: The global Tejas is uninterruptedly functioning by producing heat and causing conversion all the while. The touch of Tejas is hot. It is dominant by its shining colors. Both the eyes have the specific shining material that is the microform of universal Tejas. The bodily Tejas is seen in digestive capacity, seen at skin, and the food tract Jala: Globally Jala appears in a variety. Thus snow, mist, dew and rainwater are responsible for many inter linking. It has a cool touch. The Jala dominant organ in the body is the tongue. The tongue is a special sense organ encircled by secreting glands. All the watery substances in the body are accompanied by the fluid quality of Jala. Without it they cannot circulate. The water around tongue is responsible for taste. The body harbors a variety of fluids in channels, cells, reservoirs etc. the serum, fat, urine, sweat, internal digestive secretions, saliva, are some of the forms of bodily Jala. Prithvi is the entity, full of variety of shapes and hardness patterns. It has a variety of touches and smell. The nose is a relatively stout sense organ located in bony surrounding and having thick secretions compared to all other sense organs. The hard lasting, rigid, shaped components like bones, cartilages, hair, teeth, stools; nails etc are dominated by Prithvi in the body. The natural scheduled, withering away of each and everything, even though provided with nutritive raw material; has motivated the scientists to consider Kaala as the essential contributor. The sun repeats the rhythm of appearance and disappearance very regularly. The rising and setting of the sun everyday gives the cause of existence and maintenance of all living beings. Kaala is an absolute entity even though labels like Monday, March, summer, Chaitra, Ramjaana Uttaraayan`a etc. are given to it, as per convention. By itself it does not expect anything else for its proclamation. The concept of Kaala, as an entity has been accepted because, even with the availability of raw material, and working force; the evolvement actually takes place only after contribution of an essential stipulated period. For the evolvement of so many natural crops the contribution by time is specific and distinct. Even a continued supply of nourishing components, does not assure growth, if the stipulated period is over. For existence or extinction the contribution of time is obligatory, and cannot be disposed off. This entity is nameable; though non-dimensional. Oriental scientists have considered even the non-dimensional contributors, in the comprehensive method of all causative factors, in evolvements. The rhythmic special movement of the sun is responsible for building or depleting of tissues ultimately. Thus Kaala causes generation, regeneration and degeneration by adding, avoiding, separating many factors from each other. The knowledge of anything cannot be sufficient unless its location, in relation to some known point, is described. The entity Dik is direction. The Dik is always essentially told / declared, in relation to one, which is known or established earlier. The description of something needs details about, the things location in relation to a persons location. When the user of this device, looks towards the screen, he can cognize the letters. If this action/instruction to locate ones vision on screen is not there the advantage of existing letters cannot be there. Everythings description is complete, only when information of, above, below, on the right, on the left, to the back or on the front, is added. Devoid of it actual localization is not possible. Dis`haa is more popular than the word Dik alone. It is essentially relative to some one else and is never absolute. East, West, North, South, are relative expressions. Nowhere is there absolute character by examination of which the nomenclature of north-east etc. can be noted. The other attributes of Dis`haa are similar to that of Kaala. The body from childhood to old age undergoes many changes. The expression of pain or pleasure remains the same and it is the only property of knower inside Aatman meaning that one who is continuously on the move. The body is composed of a combination of distinct architecture of different organs etc. and an awareness system independent of material components.\n",
      "\n",
      "Devoid of it actual localization is not possible. Dis`haa is more popular than the word Dik alone. It is essentially relative to some one else and is never absolute. East, West, North, South, are relative expressions. Nowhere is there absolute character by examination of which the nomenclature of north-east etc. can be noted. The other attributes of Dis`haa are similar to that of Kaala. The body from childhood to old age undergoes many changes. The expression of pain or pleasure remains the same and it is the only property of knower inside Aatman meaning that one who is continuously on the move. The body is composed of a combination of distinct architecture of different organs etc. and an awareness system independent of material components. By deploying the sense organs the knower inside and outside the body, the Aatman, protects the body, by modifying the choices of environmental entities. The two types of Aatman are Jeevaatmaa limited to a being under observation and Paramaatmaa present in all beings. The number of beings and their characteristics are same. The Knowers association with body can be noted by examination of certain signs on the body when illness approaches, it modifies, the desires or disgusts, and there are efforts to bring into action the transient modifications till the illness prevails. It is common to all. The Paramaatmaa is only one, common and similar to all animals. Manas: Manas are the non-material component of the body like Aatman. The location of Manas is in the heart and head i.e. the central area between two eyebrows. Thus Manas`s activities or modifications can be known by examination of heart. The tools of Manas are the five sense organs. When Manas works without using the tools of sense organs, in that case it reviews the past, compares the present and estimates the future situation. By using its specific capacity to objectify, even without actual material and only by intellect it enjoys drama, poetry etc. the working of Manas is to decide what is beneficial to be followed and what is detrimental for that juncture, to be avoided, after a comprehensive consideration of all. Here Manas need no objects to be perceived by the sense organs. From contact Manas becomes happy or sorrowful. It is the main function of Manas. Since it is responsible for the feeling of pain and pleasure, and their outward expression, the essential components of Manas are Satva, rajas and Tamas. They are very subtle and one dominates in the total body, are the result from it makes the character of a person. From the elaborations and examples given above, one can understand that contribution from all nine is obligatory for the existence / awareness of everything. To really plan for making anything, one should not only take into account the raw materials, but he should have all 9`s availability before his mind. The innumerable cognized entities are from the contribution of the causative nine; the original contributing global entities are not fully comprehended by the capacities of the sense organs. The contributed, however, is cognizable. From Kaaran`a_s non-decipherable due to mega or extremely microforms, the materials around, record able is available for utilization in management of health and disease. The effect contributed from causes, is manageable for a number of purposes; but the causes in total are never manageable by human efforts. Kaarya is manageable but never the Kaaran`a_s.\n",
      "\n"
     ]
    }
   ],
   "source": [
    "for text_ in split_text:\n",
    "    print(text_)\n",
    "    print()"
   ]
  },
  {
   "cell_type": "code",
   "execution_count": 29,
   "metadata": {},
   "outputs": [],
   "source": [
    "doc = article_store.get_document(\"1b868762-4334-4aab-8706-3bfdfce59822\")"
   ]
  },
  {
   "cell_type": "code",
   "execution_count": 30,
   "metadata": {},
   "outputs": [
    {
     "data": {
      "text/plain": [
       "'AyuSoft Team To come into existence western sciences state raw material is required. Oriental sciences however, make a more comprehensive approach that considers non-material components too, along with material ones. Since the number of such essentially required is nine, the term Navadravya meaning the obligatory nine came into existence. It will be scientifically safe to continue the term Dravya here as any attempt to equate it to 1. Element 2. Substances 3. Matter 4. Molecule etc is not suitable to the technical meaning that each term possesses. (In the prevalently understood meaning.) The nine Dravya_s are essential contributors together for each and every living or the nonliving cognizable thing. Without the contribution of all the nine, nothing can be cognized. They are by their technical names; Aakaas`ha, Vaayu, Tejas, Jala, Prithvi, Kaala, Dik, Aatman, and Manas. These are the causes together Kaaran`a, devoid of contribution from them all evolvement is impossible. Related Sootra C.Su.1/48 For the existence of living and non-living, the requirement is provided by contribution from the pool of five mega entities, the knower, the initiation/intention to produce by the mind of someone Manas, a specific stipulated period Kaala and the distinct location Dik. Description: The prevalent contention that to produce anything, only raw material is required is not sufficiently comprehensive. Thus software has come in to existence, is a fact; the apparent diskette or CD is made up of plastic. But in the past the technical efforts by capable technocrats were still done; it was intellectually conceived in the mind of a living being. He with his intention to produce a device by the information technology technique, could go ahead. Had this contribution of a living designers intention to evolve, been absent, the mere pre-existence of a diskette was not at any stage likely to be the software by itself. The idea and raw materials availability alone, cannot, by themselves, result in the device. A suitable location and stipulated periods contribution is absolutely obligatory. Understanding by the oriental method, covers all the components that are genuinely required for the existence of everything. Here the contribution by the five mega entities; in the way of availment of room, action of mobilizing forces for touch, apparent complexion by heat contact, interlinking of particles by/for earlier fluid character, and shape/form by decrease in fluid dominance in that order, is understood. That respectively happens by contribution from Aakaas`ha, Vaayu, Tejas, Jala, Prithvi, the five-mega entities. The statement that nine contribute for evolvement of everything is factual for all. Individual Causative Entities: Aakaas`ha: Aakaas`ha provides room for all to appear, to modify or ultimately to terminate. Because of the relative rare arrangement of Aakaas`ha in between all substances, each one can be distinctly seen / cognized. If this rare arrangement is not there, nothing could have been differentiated distinct from one another. No resistance to enter in or exit out is the specific character of global Aakaas`ha. You may prepare certain walls as boundaries and label that one as the Aakaas`ha of the pot etc. It hides/ covers nothing, and therefore is of Satva dominance. Restricted to ear, the total architecture of components show that hollowness and thinness is given a freehand in the ear. The middle ear is connected to global Aakaas`ha by the Eustachian tube. Whenever rareness is added to any dense arrangement, a specific sound is produced. Restricted to the body, all hollow structures in the body, which provide the entry, process or exit of many substances; are dominated by Aakaas`ha. The lungs, GIT, skull, heart and circulatory tubular complex, all are the main examples. One can extend this, up to the most minute lumen in the cell. Vaayu: The global Vaayu is spread all over and can be known by movement and touch of other things. Vaayu itself is not visible. But trees, clouds etc moved by Vaayu make its existence known.The touch of Vaayu is vibrant; Vaayu is responsible for the intake and exit of substances from the body. Vaayu dominant components of the body are the impulse producers. The hollowness of Aakaas`ha facilitates the impulsive functions of Vaayu. Impulse alone, with no availability of looseness/hollowness, cannot be effective for actual propagations/changes in positions. The skin is relatively dry, spread all over entity. By movement in object of touch, or the skin, the sensation of touch is understood. Tejas: The global Tejas is uninterruptedly functioning by producing heat and causing conversion all the while. The touch of Tejas is hot. It is dominant by its shining colors. Both the eyes have the specific shining material that is the microform of universal Tejas. The bodily Tejas is seen in digestive capacity, seen at skin, and the food tract Jala: Globally Jala appears in a variety. Thus snow, mist, dew and rainwater are responsible for many inter linking. It has a cool touch. The Jala dominant organ in the body is the tongue. The tongue is a special sense organ encircled by secreting glands. All the watery substances in the body are accompanied by the fluid quality of Jala. Without it they cannot circulate. The water around tongue is responsible for taste. The body harbors a variety of fluids in channels, cells, reservoirs etc. the serum, fat, urine, sweat, internal digestive secretions, saliva, are some of the forms of bodily Jala. Prithvi is the entity, full of variety of shapes and hardness patterns. It has a variety of touches and smell. The nose is a relatively stout sense organ located in bony surrounding and having thick secretions compared to all other sense organs. The hard lasting, rigid, shaped components like bones, cartilages, hair, teeth, stools; nails etc are dominated by Prithvi in the body. The natural scheduled, withering away of each and everything, even though provided with nutritive raw material; has motivated the scientists to consider Kaala as the essential contributor. The sun repeats the rhythm of appearance and disappearance very regularly. The rising and setting of the sun everyday gives the cause of existence and maintenance of all living beings. Kaala is an absolute entity even though labels like Monday, March, summer, Chaitra, Ramjaana Uttaraayan`a etc. are given to it, as per convention. By itself it does not expect anything else for its proclamation. The concept of Kaala, as an entity has been accepted because, even with the availability of raw material, and working force; the evolvement actually takes place only after contribution of an essential stipulated period. For the evolvement of so many natural crops the contribution by time is specific and distinct. Even a continued supply of nourishing components, does not assure growth, if the stipulated period is over. For existence or extinction the contribution of time is obligatory, and cannot be disposed off. This entity is nameable; though non-dimensional. Oriental scientists have considered even the non-dimensional contributors, in the comprehensive method of all causative factors, in evolvements. The rhythmic special movement of the sun is responsible for building or depleting of tissues ultimately. Thus Kaala causes generation, regeneration and degeneration by adding, avoiding, separating many factors from each other. The knowledge of anything cannot be sufficient unless its location, in relation to some known point, is described. The entity Dik is direction. The Dik is always essentially told / declared, in relation to one, which is known or established earlier. The description of something needs details about, the things location in relation to a persons location. When the user of this device, looks towards the screen, he can cognize the letters. If this action/instruction to locate ones vision on screen is not there the advantage of existing letters cannot be there. Everythings description is complete, only when information of, above, below, on the right, on the left, to the back or on the front, is added. Devoid of it actual localization is not possible. Dis`haa is more popular than the word Dik alone. It is essentially relative to some one else and is never absolute. East, West, North, South, are relative expressions. Nowhere is there absolute character by examination of which the nomenclature of north-east etc. can be noted. The other attributes of Dis`haa are similar to that of Kaala. The body from childhood to old age undergoes many changes. The expression of pain or pleasure remains the same and it is the only property of knower inside Aatman meaning that one who is continuously on the move. The body is composed of a combination of distinct architecture of different organs etc. and an awareness system independent of material components. By deploying the sense organs the knower inside and outside the body, the Aatman, protects the body, by modifying the choices of environmental entities. The two types of Aatman are Jeevaatmaa limited to a being under observation and Paramaatmaa present in all beings. The number of beings and their characteristics are same. The Knowers association with body can be noted by examination of certain signs on the body when illness approaches, it modifies, the desires or disgusts, and there are efforts to bring into action the transient modifications till the illness prevails. It is common to all. The Paramaatmaa is only one, common and similar to all animals. Manas: Manas are the non-material component of the body like Aatman. The location of Manas is in the heart and head i.e. the central area between two eyebrows. Thus Manas`s activities or modifications can be known by examination of heart. The tools of Manas are the five sense organs. When Manas works without using the tools of sense organs, in that case it reviews the past, compares the present and estimates the future situation. By using its specific capacity to objectify, even without actual material and only by intellect it enjoys drama, poetry etc. the working of Manas is to decide what is beneficial to be followed and what is detrimental for that juncture, to be avoided, after a comprehensive consideration of all. Here Manas need no objects to be perceived by the sense organs. From contact Manas becomes happy or sorrowful. It is the main function of Manas. Since it is responsible for the feeling of pain and pleasure, and their outward expression, the essential components of Manas are Satva, rajas and Tamas. They are very subtle and one dominates in the total body, are the result from it makes the character of a person. From the elaborations and examples given above, one can understand that contribution from all nine is obligatory for the existence / awareness of everything. To really plan for making anything, one should not only take into account the raw materials, but he should have all 9`s availability before his mind. The innumerable cognized entities are from the contribution of the causative nine; the original contributing global entities are not fully comprehended by the capacities of the sense organs. The contributed, however, is cognizable. From Kaaran`a_s non-decipherable due to mega or extremely microforms, the materials around, record able is available for utilization in management of health and disease. The effect contributed from causes, is manageable for a number of purposes; but the causes in total are never manageable by human efforts. Kaarya is manageable but never the Kaaran`a_s.'"
      ]
     },
     "execution_count": 30,
     "metadata": {},
     "output_type": "execute_result"
    }
   ],
   "source": [
    "doc.get_content(MetadataMode.EMBED)"
   ]
  },
  {
   "cell_type": "code",
   "execution_count": 28,
   "metadata": {},
   "outputs": [
    {
     "data": {
      "text/plain": [
       "dict_keys(['tag', 'file_path', 'file_name', 'file_type', 'file_size', 'creation_date', 'last_modified_date', 'last_accessed_date'])"
      ]
     },
     "execution_count": 28,
     "metadata": {},
     "output_type": "execute_result"
    }
   ],
   "source": [
    "doc.metadata.keys()"
   ]
  },
  {
   "cell_type": "code",
   "execution_count": null,
   "metadata": {},
   "outputs": [],
   "source": []
  }
 ],
 "metadata": {
  "kernelspec": {
   "display_name": "rag",
   "language": "python",
   "name": "python3"
  },
  "language_info": {
   "codemirror_mode": {
    "name": "ipython",
    "version": 3
   },
   "file_extension": ".py",
   "mimetype": "text/x-python",
   "name": "python",
   "nbconvert_exporter": "python",
   "pygments_lexer": "ipython3",
   "version": "3.11.7"
  }
 },
 "nbformat": 4,
 "nbformat_minor": 2
}
