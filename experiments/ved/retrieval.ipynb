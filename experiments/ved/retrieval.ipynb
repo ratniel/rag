{
 "cells": [
  {
   "cell_type": "code",
   "execution_count": 1,
   "metadata": {},
   "outputs": [],
   "source": [
    "from src.indexing_utils import extract_htmltag_nodes, create_docstore\n",
    "from llama_index.core.schema import MetadataMode"
   ]
  },
  {
   "cell_type": "code",
   "execution_count": 2,
   "metadata": {},
   "outputs": [
    {
     "name": "stderr",
     "output_type": "stream",
     "text": [
      "Loading files:   0%|          | 0/428 [00:00<?, ?file/s]"
     ]
    },
    {
     "name": "stderr",
     "output_type": "stream",
     "text": [
      "Loading files: 100%|██████████| 428/428 [00:00<00:00, 4149.78file/s]\n"
     ]
    },
    {
     "data": {
      "application/vnd.jupyter.widget-view+json": {
       "model_id": "176f1f47a73e4c4a98a0d4dfb9efbde6",
       "version_major": 2,
       "version_minor": 0
      },
      "text/plain": [
       "Parsing nodes:   0%|          | 0/428 [00:00<?, ?it/s]"
      ]
     },
     "metadata": {},
     "output_type": "display_data"
    }
   ],
   "source": [
    "article_nodes = extract_htmltag_nodes(\"../data/clean_html/Articles\")\n",
    "article_store = create_docstore(article_nodes, '/home/dai/35/rag/storage/docstore', 'articles_store')"
   ]
  },
  {
   "cell_type": "code",
   "execution_count": 5,
   "metadata": {},
   "outputs": [
    {
     "name": "stdout",
     "output_type": "stream",
     "text": [
      "4e7583a1-ad67-456e-93c7-5ca980d9ee93\n",
      "8ec912ca-d90a-4b2d-bb71-d6e834b0958b\n",
      "1b2e2dca-878c-4ca7-ab98-647106819a02\n",
      "54cfca72-9c5e-4b30-a404-86884e7104d2\n",
      "acf3893b-91c9-4198-b3d6-48a56b523615\n",
      "918921a4-1d06-4c8e-a6f4-f1026981fb9a\n",
      "436f1130-c2e0-45ac-914c-f645e2010689\n",
      "d14316d1-a1ff-43f9-98c0-d26b7f7fbc68\n",
      "e0153a16-ae62-4549-b752-c15904ff74e6\n",
      "505f7bf7-02db-4fb2-93be-acd3518ced6a\n",
      "6479cb40-56d6-4ebf-82f5-7f3bfce3f73c\n",
      "5077cde1-af53-4d56-934f-b7c8ebaa350c\n",
      "d609a74f-b9e7-4592-97eb-e275c3aec4dc\n",
      "9df189f9-d39c-4add-98b9-52293179bf9f\n",
      "a321dd89-2f26-4275-aec2-ac6a708660b9\n",
      "e3bf2e9c-29bb-4adc-904f-9cf8caa347d0\n",
      "2a890775-72b8-4f02-9ee5-014fba73acd2\n",
      "73286365-b229-4f71-8f5a-6697ccf6b6e3\n",
      "4ee62415-2531-4c30-830c-d4ae6f8353ff\n",
      "a249a33d-0557-4699-b391-908064c85752\n",
      "ee8471fa-a65c-4413-bada-24fa99d69b6d\n",
      "6aac8300-481d-4bfb-8f6c-f34c0a954fe3\n",
      "53d6419c-0a21-4d7a-9630-141eaac04321\n",
      "23\n"
     ]
    }
   ],
   "source": [
    "count = 0\n",
    "for article in article_nodes:\n",
    "    if len(article.get_content(MetadataMode.EMBED))>10000:\n",
    "        count += 1\n",
    "        print(article.id_)\n",
    "print(count)"
   ]
  },
  {
   "cell_type": "code",
   "execution_count": 16,
   "metadata": {},
   "outputs": [],
   "source": [
    "text = article_store.get_document(\"436f1130-c2e0-45ac-914c-f645e2010689\").get_content(MetadataMode.EMBED)"
   ]
  },
  {
   "cell_type": "code",
   "execution_count": 26,
   "metadata": {},
   "outputs": [],
   "source": [
    "from llama_index.core.node_parser import SentenceSplitter\n",
    "sentence_splitter = SentenceSplitter(chunk_size=1024, chunk_overlap=200)\n",
    "split_text = sentence_splitter.split_text(text)"
   ]
  },
  {
   "cell_type": "code",
   "execution_count": 27,
   "metadata": {},
   "outputs": [
    {
     "name": "stdout",
     "output_type": "stream",
     "text": [
      "4028\n",
      "3277\n",
      "3443\n",
      "3862\n",
      "4200\n",
      "928\n"
     ]
    }
   ],
   "source": [
    "for text_ in split_text:\n",
    "    print(len(text_))"
   ]
  },
  {
   "cell_type": "code",
   "execution_count": null,
   "metadata": {},
   "outputs": [],
   "source": []
  }
 ],
 "metadata": {
  "kernelspec": {
   "display_name": "rag",
   "language": "python",
   "name": "python3"
  },
  "language_info": {
   "codemirror_mode": {
    "name": "ipython",
    "version": 3
   },
   "file_extension": ".py",
   "mimetype": "text/x-python",
   "name": "python",
   "nbconvert_exporter": "python",
   "pygments_lexer": "ipython3",
   "version": "3.11.7"
  }
 },
 "nbformat": 4,
 "nbformat_minor": 2
}
