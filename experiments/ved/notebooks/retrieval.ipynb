{
 "cells": [
  {
   "cell_type": "code",
   "execution_count": 11,
   "metadata": {},
   "outputs": [],
   "source": [
    "from src.indexing_utils import load_docs, create_docstore\n",
    "from ved_src import retreival_utils\n",
    "import os"
   ]
  },
  {
   "cell_type": "code",
   "execution_count": 61,
   "metadata": {},
   "outputs": [],
   "source": [
    "nodes = load_docs('../../../storage/docstore/swapped_summary_nodes', return_docstore=False)"
   ]
  },
  {
   "cell_type": "code",
   "execution_count": 6,
   "metadata": {},
   "outputs": [],
   "source": [
    "for node in nodes:\n",
    "    node.excluded_embed_metadata_keys.extend(['summary', 'is_summary_swapped'])"
   ]
  },
  {
   "cell_type": "code",
   "execution_count": null,
   "metadata": {},
   "outputs": [],
   "source": []
  },
  {
   "cell_type": "code",
   "execution_count": 12,
   "metadata": {},
   "outputs": [
    {
     "data": {
      "text/plain": [
       "<llama_index.core.storage.docstore.simple_docstore.SimpleDocumentStore at 0x7f25a8caf6d0>"
      ]
     },
     "execution_count": 12,
     "metadata": {},
     "output_type": "execute_result"
    }
   ],
   "source": [
    "create_docstore(nodes=nodes, save_dir='../../../storage/docstore', store_name='swapped_summary_nodes')"
   ]
  },
  {
   "cell_type": "code",
   "execution_count": 42,
   "metadata": {},
   "outputs": [],
   "source": [
    "from llama_index.core import SimpleDirectoryReader, VectorStoreIndex, StorageContext, load_index_from_storage\n",
    "from llama_index.embeddings.gemini import GeminiEmbedding\n",
    "from llama_index.llms.gemini import Gemini\n",
    "from llama_index.core import Settings\n",
    "\n",
    "Settings.embed_model = GeminiEmbedding(model_name='models/embedding-001')\n",
    "Settings.llm = Gemini(model_name='models/gemini-pro', temperature=0.5)"
   ]
  },
  {
   "cell_type": "code",
   "execution_count": 16,
   "metadata": {},
   "outputs": [
    {
     "data": {
      "application/vnd.jupyter.widget-view+json": {
       "model_id": "c0cf69412383474fad7759f4f1df7fd0",
       "version_major": 2,
       "version_minor": 0
      },
      "text/plain": [
       "Generating embeddings:   0%|          | 0/427 [00:00<?, ?it/s]"
      ]
     },
     "metadata": {},
     "output_type": "display_data"
    }
   ],
   "source": [
    "# load the documents and create the index\n",
    "index = VectorStoreIndex(nodes=nodes, embed_model=Settings.embed_model, show_progress=True)\n",
    "\n",
    "# store it for later\n",
    "index.storage_context.persist(persist_dir='../../../storage/vectorstore/summary_embeddings_vectorstore')"
   ]
  },
  {
   "cell_type": "code",
   "execution_count": 29,
   "metadata": {},
   "outputs": [],
   "source": [
    "store = load_docs('../../../storage/docstore/swapped_summary_nodes', return_docstore=True)"
   ]
  },
  {
   "cell_type": "code",
   "execution_count": 67,
   "metadata": {},
   "outputs": [],
   "source": [
    "query_engine = index.as_query_engine(llm=Settings.llm, similarity_top_k=3)"
   ]
  },
  {
   "cell_type": "code",
   "execution_count": 64,
   "metadata": {},
   "outputs": [
    {
     "data": {
      "text/plain": [
       "llama_index.core.query_engine.retriever_query_engine.RetrieverQueryEngine"
      ]
     },
     "execution_count": 64,
     "metadata": {},
     "output_type": "execute_result"
    }
   ],
   "source": [
    "type(query_engine)"
   ]
  },
  {
   "cell_type": "code",
   "execution_count": 68,
   "metadata": {},
   "outputs": [],
   "source": [
    "response = query_engine.query(\"How does ayurveda deal with illnesses like HIV AIDS\")"
   ]
  },
  {
   "cell_type": "code",
   "execution_count": 69,
   "metadata": {},
   "outputs": [
    {
     "name": "stdout",
     "output_type": "stream",
     "text": [
      "Final Response: According to Ayurveda, HIV/AIDS is a condition called\n",
      "\"Dhaatugata Jvara,\" which is characterized by a weakened immune\n",
      "system. Ayurveda recommends a tissue-building approach (Santarpan`a\n",
      "Chikitsaa) to restore the immune system and prevent opportunistic\n",
      "infections. Herbs like Ashwagandha, Amla, and Guduchi are used in this\n",
      "therapy. S`hodhana therapy (purification) is advised only for\n",
      "asymptomatic patients and should be combined with Santarpan`a\n",
      "Chikitsaa. The choice of herbs depends on the affected body system\n",
      "(Srotas).\n",
      "______________________________________________________________________\n",
      "Source Node 1/3\n",
      "Node ID: f0153eec-5bad-435c-be45-fcd89561dc29\n",
      "Similarity: 0.7794220610267687\n",
      "Text: Ayurvedic medicine, a traditional Indian system of medicine,\n",
      "emphasizes the balance of three doshas: Vata, Pitta, and Kapha. These\n",
      "doshas are believed to govern various functions in the body, and\n",
      "imbalances can lead to disease. Ayurveda also places great importance\n",
      "on diet and lifestyle, with specific recommendations for different\n",
      "body types and...\n",
      "______________________________________________________________________\n",
      "Source Node 2/3\n",
      "Node ID: 1e87b306-4eef-42ab-8af1-e911a95d9214\n",
      "Similarity: 0.7732406571991036\n",
      "Text: **Summary of Ayurveda and HIV/AIDS**  Ayurveda, an ancient\n",
      "Indian medical system, recognizes symptoms of HIV/AIDS, despite not\n",
      "explicitly naming the disease. These include fever, weight loss,\n",
      "diarrhea, wasting, herpes, lymphadenopathy, oral candidiasis, aphthous\n",
      "ulcers, Bell's palsy, and tubercular ascites.  Ayurveda attributes\n",
      "HIV/AIDS to immun...\n",
      "______________________________________________________________________\n",
      "Source Node 3/3\n",
      "Node ID: 39313c24-f140-4c41-b66c-a7674c316359\n",
      "Similarity: 0.7621332467406998\n",
      "Text: I am sorry, but the context you provided does not contain any\n",
      "information about Ayurveda medicine. Therefore, I am unable to\n",
      "summarize the information provided in the reference passage.\n"
     ]
    }
   ],
   "source": [
    "from llama_index.legacy.response.pprint_utils import pprint_response\n",
    "pprint_response(response,show_source=True)"
   ]
  },
  {
   "cell_type": "code",
   "execution_count": 66,
   "metadata": {},
   "outputs": [
    {
     "data": {
      "text/plain": [
       "'tag: p\\nfile_path: /home/dai/rag/data/clean_html/Articles/Stree_Roga_Prasuti_Tantra_Baala_Roga/Somaroga_Nidaana.htm\\nsummary: Reference: M Ni. Paris`hisht`a Nirukti: Sandhaaran`aat S`hareerasya Taa Aapah Soma Samdnyitaah | Tatah Somakshayaat Streen`aam Somaroga Iti Smritah || M Ni. Paris`hisht`a As body is sustained due to body fluids, it is called as Soma. This Soma in females gets depleted through the urinary tract; therefore this disease is called as Somaroga. Hetu: Sampraapti: Symptoms :\\nis_summary_swapped: True\\n\\nAyurvedic medicine, a traditional Indian system of medicine, emphasizes the balance of three doshas: Vata, Pitta, and Kapha. These doshas are believed to govern various functions in the body, and imbalances can lead to disease. Ayurveda also places great importance on diet and lifestyle, with specific recommendations for different body types and conditions.'"
      ]
     },
     "execution_count": 66,
     "metadata": {},
     "output_type": "execute_result"
    }
   ],
   "source": [
    "store.get_document('f0153eec-5bad-435c-be45-fcd89561dc29').get_content(MetadataMode.LLM)"
   ]
  },
  {
   "cell_type": "markdown",
   "metadata": {},
   "source": [
    "----"
   ]
  },
  {
   "cell_type": "code",
   "execution_count": null,
   "metadata": {},
   "outputs": [],
   "source": [
    "Hi, how can I help you?\n",
    "\n",
    "how can i include some metadata to pass to the llm while using query engine from vectorstore\n",
    "\n",
    "To include metadata while using the query engine from VectorStore, you can use the MetadataFilters and ExactMatchFilter classes from the llama_index.vector_stores.types module.\n",
    "\n",
    "Here is an example of how you can do this:\n",
    "\n",
    "from llama_index.vector_stores.types import ExactMatchFilter, MetadataFilters\n",
    "\n",
    "query_engine = index.as_query_engine(\n",
    "    similarity_top_k=3,\n",
    "    vector_store_query_mode=\"default\",\n",
    "    filters=MetadataFilters(\n",
    "        filters=[\n",
    "            ExactMatchFilter(key=\"name\", value=\"paul graham\"),\n",
    "        ]\n",
    "    ),\n",
    "    alpha=None,\n",
    "    doc_ids=None,\n",
    ")\n",
    "response = query_engine.query(\"what did the author do growing up?\")\n",
    "In this example, the ExactMatchFilter is used to filter the documents based on the metadata key \"name\" and value \"paul graham\". The MetadataFilters class is used to pass these filters to the query engine.\n",
    "\n",
    "You can customize the key and value in ExactMatchFilter to match the metadata you want to filter on.\n",
    "\n",
    "Was this response helpful?\n",
    "\n",
    "Yes\n",
    "No\n",
    "Verified Sources:\n",
    "\n",
    "1. Vector Store Guide - Indexing\n",
    "2. Tencent Vector DBIndex Demo - Vecto...\n",
    "3. Chroma Auto Retriever - Vector Stor...\n",
    "4. Metadata Extraction SEC - Metadata ...\n",
    "so what i want to do is while querying i want to pass metadata['summary'] to llm for generation\n",
    "\n",
    "To pass the summary metadata to the LLM for generation while querying, you can use the prompt_template field in the LLM predictor. The prompt_template field allows you to specify a template for the prompt that is sent to the LLM for generation. You can include the summary metadata in this template.\n",
    "\n",
    "Here is an example of how you can do this:\n",
    "\n",
    "from llama_index.llm_predictor.base import BaseLLMPredictor\n",
    "\n",
    "class MyLLMPredictor(BaseLLMPredictor):\n",
    "    prompt_template = 'Here is the summary of the section:\\n{summary}\\n\\nGenerate a response based on this summary.'\n",
    "\n",
    "    def generate_prompt(self, node, query):\n",
    "        summary = node.metadata.get('summary', '')\n",
    "        return self.prompt_template.format(summary=summary)\n",
    "In this example, a new LLM predictor class MyLLMPredictor is created. The prompt_template field is set to a template that includes a placeholder for the summary metadata. The generate_prompt method is overridden to get the summary metadata from the node and format the prompt_template with this summary.\n",
    "\n",
    "You can then use this LLM predictor when creating your query engine:\n",
    "\n",
    "query_engine = index.as_query_engine(llm_predictor=MyLLMPredictor())\n",
    "This will pass the summary metadata to the LLM for generation when querying.\n",
    "\n",
    "Was this response helpful?"
   ]
  }
 ],
 "metadata": {
  "kernelspec": {
   "display_name": "rag",
   "language": "python",
   "name": "python3"
  },
  "language_info": {
   "codemirror_mode": {
    "name": "ipython",
    "version": 3
   },
   "file_extension": ".py",
   "mimetype": "text/x-python",
   "name": "python",
   "nbconvert_exporter": "python",
   "pygments_lexer": "ipython3",
   "version": "3.11.7"
  }
 },
 "nbformat": 4,
 "nbformat_minor": 2
}
