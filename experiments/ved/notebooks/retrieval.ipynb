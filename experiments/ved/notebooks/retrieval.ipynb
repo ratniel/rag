{
 "cells": [
  {
   "cell_type": "code",
   "execution_count": 11,
   "metadata": {},
   "outputs": [],
   "source": [
    "from src.indexing_utils import load_docs, create_docstore\n",
    "from ved_src import retreival_utils\n",
    "import os"
   ]
  },
  {
   "cell_type": "code",
   "execution_count": 2,
   "metadata": {},
   "outputs": [],
   "source": [
    "nodes = load_docs('../../../storage/docstore/swapped_summary_nodes', return_docstore=False)"
   ]
  },
  {
   "cell_type": "code",
   "execution_count": 6,
   "metadata": {},
   "outputs": [],
   "source": [
    "for node in nodes:\n",
    "    node.excluded_embed_metadata_keys.extend(['summary', 'is_summary_swapped'])"
   ]
  },
  {
   "cell_type": "code",
   "execution_count": 12,
   "metadata": {},
   "outputs": [
    {
     "data": {
      "text/plain": [
       "<llama_index.core.storage.docstore.simple_docstore.SimpleDocumentStore at 0x7f25a8caf6d0>"
      ]
     },
     "execution_count": 12,
     "metadata": {},
     "output_type": "execute_result"
    }
   ],
   "source": [
    "create_docstore(nodes=nodes, save_dir='../../../storage/docstore', store_name='swapped_summary_nodes')"
   ]
  },
  {
   "cell_type": "code",
   "execution_count": 42,
   "metadata": {},
   "outputs": [],
   "source": [
    "from llama_index.core import SimpleDirectoryReader, VectorStoreIndex, StorageContext, load_index_from_storage\n",
    "from llama_index.embeddings.gemini import GeminiEmbedding\n",
    "from llama_index.llms.gemini import Gemini\n",
    "from llama_index.core import Settings\n",
    "\n",
    "Settings.embed_model = GeminiEmbedding(model_name='models/embedding-001')\n",
    "Settings.llm = Gemini(model_name='models/gemini-pro', temperature=0.5)"
   ]
  },
  {
   "cell_type": "code",
   "execution_count": 16,
   "metadata": {},
   "outputs": [
    {
     "data": {
      "application/vnd.jupyter.widget-view+json": {
       "model_id": "c0cf69412383474fad7759f4f1df7fd0",
       "version_major": 2,
       "version_minor": 0
      },
      "text/plain": [
       "Generating embeddings:   0%|          | 0/427 [00:00<?, ?it/s]"
      ]
     },
     "metadata": {},
     "output_type": "display_data"
    }
   ],
   "source": [
    "# load the documents and create the index\n",
    "index = VectorStoreIndex(nodes=nodes, embed_model=Settings.embed_model, show_progress=True)\n",
    "\n",
    "# store it for later\n",
    "index.storage_context.persist(persist_dir='../../../storage/vectorstore/summary_embeddings_vectorstore')"
   ]
  },
  {
   "cell_type": "code",
   "execution_count": 29,
   "metadata": {},
   "outputs": [],
   "source": [
    "store = load_docs('../../../storage/docstore/swapped_summary_nodes', return_docstore=True)"
   ]
  },
  {
   "cell_type": "code",
   "execution_count": 43,
   "metadata": {},
   "outputs": [],
   "source": [
    "query_engine = index.as_query_engine(llm=Settings.llm)"
   ]
  },
  {
   "cell_type": "code",
   "execution_count": 56,
   "metadata": {},
   "outputs": [],
   "source": [
    "response = query_engine.query(\"How does ayurveda deal with illnesses like HIV AIDS\")"
   ]
  },
  {
   "cell_type": "code",
   "execution_count": 57,
   "metadata": {},
   "outputs": [
    {
     "name": "stdout",
     "output_type": "stream",
     "text": [
      "Final Response: Ayurveda attributes HIV/AIDS to immunodeficiency and\n",
      "classifies it as \"Dhaatugata Jvara,\" a condition where the immune\n",
      "system is weakened. For asymptomatic HIV/AIDS patients, Ayurveda\n",
      "recommends a tissue-building approach (Santarpan`a Chikitsaa) to\n",
      "restore the immune system and prevent opportunistic infections. Herbs\n",
      "like Ashwagandha, Amla, and Guduchi are used in this therapy.\n",
      "S`hodhana therapy (purification) is advised only for asymptomatic\n",
      "patients and should be combined with Santarpan`a Chikitsaa. The choice\n",
      "of herbs depends on the affected body system (Srotas).\n",
      "______________________________________________________________________\n",
      "Source Node 1/2\n",
      "Node ID: f0153eec-5bad-435c-be45-fcd89561dc29\n",
      "Similarity: 0.7794220610267687\n",
      "Text: Ayurvedic medicine, a traditional Indian system of medicine,\n",
      "emphasizes the balance of three doshas: Vata, Pitta, and Kapha. These\n",
      "doshas are believed to govern various functions in the body, and\n",
      "imbalances can lead to disease. Ayurveda also places great importance\n",
      "on diet and lifestyle, with specific recommendations for different\n",
      "body types and...\n",
      "______________________________________________________________________\n",
      "Source Node 2/2\n",
      "Node ID: 1e87b306-4eef-42ab-8af1-e911a95d9214\n",
      "Similarity: 0.7732406571991036\n",
      "Text: **Summary of Ayurveda and HIV/AIDS**  Ayurveda, an ancient\n",
      "Indian medical system, recognizes symptoms of HIV/AIDS, despite not\n",
      "explicitly naming the disease. These include fever, weight loss,\n",
      "diarrhea, wasting, herpes, lymphadenopathy, oral candidiasis, aphthous\n",
      "ulcers, Bell's palsy, and tubercular ascites.  Ayurveda attributes\n",
      "HIV/AIDS to immun...\n"
     ]
    }
   ],
   "source": [
    "from llama_index.legacy.response.pprint_utils import pprint_response\n",
    "pprint_response(response,show_source=True)"
   ]
  },
  {
   "cell_type": "code",
   "execution_count": 49,
   "metadata": {},
   "outputs": [
    {
     "data": {
      "text/plain": [
       "'Other Description:'"
      ]
     },
     "execution_count": 49,
     "metadata": {},
     "output_type": "execute_result"
    }
   ],
   "source": [
    "store.get_document(\"0723fed9-b35c-4696-8cb1-387e39aa5c4d\").metadata['summary']"
   ]
  },
  {
   "cell_type": "code",
   "execution_count": null,
   "metadata": {},
   "outputs": [],
   "source": []
  }
 ],
 "metadata": {
  "kernelspec": {
   "display_name": "rag",
   "language": "python",
   "name": "python3"
  },
  "language_info": {
   "codemirror_mode": {
    "name": "ipython",
    "version": 3
   },
   "file_extension": ".py",
   "mimetype": "text/x-python",
   "name": "python",
   "nbconvert_exporter": "python",
   "pygments_lexer": "ipython3",
   "version": "3.11.7"
  }
 },
 "nbformat": 4,
 "nbformat_minor": 2
}
