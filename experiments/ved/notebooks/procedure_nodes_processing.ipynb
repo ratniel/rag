{
 "cells": [
  {
   "cell_type": "code",
   "execution_count": 1,
   "metadata": {},
   "outputs": [],
   "source": [
    "from ved_src.node_processing_utils import delete_short_nodes, embed_nodes, combine_summary_text\n",
    "from src.indexing_utils import load_docs"
   ]
  },
  {
   "cell_type": "code",
   "execution_count": 2,
   "metadata": {},
   "outputs": [],
   "source": [
    "nodes = load_docs(\"./rag/storage/docstore/therapeutic_nodes\", return_docstore=False)"
   ]
  },
  {
   "cell_type": "code",
   "execution_count": 3,
   "metadata": {},
   "outputs": [
    {
     "data": {
      "text/plain": [
       "160"
      ]
     },
     "execution_count": 3,
     "metadata": {},
     "output_type": "execute_result"
    }
   ],
   "source": [
    "len(nodes)"
   ]
  },
  {
   "cell_type": "code",
   "execution_count": 4,
   "metadata": {},
   "outputs": [],
   "source": [
    "nodes = delete_short_nodes(nodes, 200)"
   ]
  },
  {
   "cell_type": "code",
   "execution_count": 5,
   "metadata": {},
   "outputs": [
    {
     "name": "stderr",
     "output_type": "stream",
     "text": [
      "Processing nodes: 100%|██████████| 150/150 [01:19<00:00,  1.88node/s]\n"
     ]
    }
   ],
   "source": [
    "nodes = embed_nodes(nodes)"
   ]
  },
  {
   "cell_type": "code",
   "execution_count": 6,
   "metadata": {},
   "outputs": [],
   "source": [
    "nodes = combine_summary_text(nodes)"
   ]
  },
  {
   "cell_type": "code",
   "execution_count": 27,
   "metadata": {},
   "outputs": [],
   "source": [
    "import pandas as pd\n",
    "\n",
    "# Assuming 'nodes' is your list of nodes\n",
    "data = [{'id': node.id_, 'text': node.text, 'summary': node.metadata['summary'], 'embedding':node.embedding} for node in nodes]\n",
    "\n",
    "df = pd.DataFrame(data)"
   ]
  },
  {
   "cell_type": "code",
   "execution_count": 29,
   "metadata": {},
   "outputs": [
    {
     "data": {
      "text/html": [
       "<div>\n",
       "<style scoped>\n",
       "    .dataframe tbody tr th:only-of-type {\n",
       "        vertical-align: middle;\n",
       "    }\n",
       "\n",
       "    .dataframe tbody tr th {\n",
       "        vertical-align: top;\n",
       "    }\n",
       "\n",
       "    .dataframe thead th {\n",
       "        text-align: right;\n",
       "    }\n",
       "</style>\n",
       "<table border=\"1\" class=\"dataframe\">\n",
       "  <thead>\n",
       "    <tr style=\"text-align: right;\">\n",
       "      <th></th>\n",
       "      <th>id</th>\n",
       "      <th>text</th>\n",
       "      <th>summary</th>\n",
       "      <th>embedding</th>\n",
       "    </tr>\n",
       "  </thead>\n",
       "  <tbody>\n",
       "    <tr>\n",
       "      <th>0</th>\n",
       "      <td>97003050-7cb3-4614-bf20-1d8c0dc69fa2</td>\n",
       "      <td>I'm sorry, but the reference passage you have ...</td>\n",
       "      <td>I'm sorry, but the reference passage you have ...</td>\n",
       "      <td>[0.022839189, -0.017929155, -0.05298865, -0.00...</td>\n",
       "    </tr>\n",
       "    <tr>\n",
       "      <th>1</th>\n",
       "      <td>bcb0f62e-e2a5-46b2-8699-683391f9f709</td>\n",
       "      <td>**Ayurveda medicine** is a traditional Indian ...</td>\n",
       "      <td>**Ayurveda medicine** is a traditional Indian ...</td>\n",
       "      <td>[0.007367134, -0.018150771, -0.021382514, 0.01...</td>\n",
       "    </tr>\n",
       "    <tr>\n",
       "      <th>2</th>\n",
       "      <td>f9463fe0-c1d5-42c4-a342-e901a296feb3</td>\n",
       "      <td>**Summary of Ayurveda Medicine**\\n\\nAyurveda m...</td>\n",
       "      <td>**Summary of Ayurveda Medicine**\\n\\nAyurveda m...</td>\n",
       "      <td>[0.033863675, 0.025304515, -0.01753975, 0.0210...</td>\n",
       "    </tr>\n",
       "    <tr>\n",
       "      <th>3</th>\n",
       "      <td>f425e9fa-83ce-44f8-8afc-ca7b4db6cd97</td>\n",
       "      <td>The reference passage provides an extensive li...</td>\n",
       "      <td>The reference passage provides an extensive li...</td>\n",
       "      <td>[0.028022183, -0.02111323, -0.031237414, -0.00...</td>\n",
       "    </tr>\n",
       "    <tr>\n",
       "      <th>4</th>\n",
       "      <td>47da55a0-0fd2-4983-9d4b-403bb8ad3c64</td>\n",
       "      <td>I am sorry, but the content you provided is no...</td>\n",
       "      <td>I am sorry, but the content you provided is no...</td>\n",
       "      <td>[0.019292064, -0.02074291, -0.044638064, -0.01...</td>\n",
       "    </tr>\n",
       "    <tr>\n",
       "      <th>...</th>\n",
       "      <td>...</td>\n",
       "      <td>...</td>\n",
       "      <td>...</td>\n",
       "      <td>...</td>\n",
       "    </tr>\n",
       "    <tr>\n",
       "      <th>95</th>\n",
       "      <td>04a4a1e7-db6b-4c09-91fb-fcc4d2e8e3cf</td>\n",
       "      <td>**Summary of the provided reference passage:**...</td>\n",
       "      <td>**Summary of the provided reference passage:**...</td>\n",
       "      <td>[0.04782844, -0.0035306124, 0.010508543, 0.013...</td>\n",
       "    </tr>\n",
       "    <tr>\n",
       "      <th>96</th>\n",
       "      <td>15cee1e4-1b8f-4474-9cce-35abef25a557</td>\n",
       "      <td>**Shasht`ika S`haalee Pin`d`a Sveda** is an Ay...</td>\n",
       "      <td>**Shasht`ika S`haalee Pin`d`a Sveda** is an Ay...</td>\n",
       "      <td>[0.008867683, -0.014854116, -0.07216561, 0.009...</td>\n",
       "    </tr>\n",
       "    <tr>\n",
       "      <th>97</th>\n",
       "      <td>48b514f4-89e9-453f-a32d-e902088c07c2</td>\n",
       "      <td>Pizinchila is an Ayurvedic external injury tre...</td>\n",
       "      <td>Pizinchila is an Ayurvedic external injury tre...</td>\n",
       "      <td>[0.028909918, 0.0004300321, -0.0032522113, 0.0...</td>\n",
       "    </tr>\n",
       "    <tr>\n",
       "      <th>98</th>\n",
       "      <td>5f7701ad-1d59-4dfa-8f47-a9357f0032cb</td>\n",
       "      <td>Prakaara Paribhaashaa is a type of smoking tha...</td>\n",
       "      <td>Prakaara Paribhaashaa is a type of smoking tha...</td>\n",
       "      <td>[0.04164107, -0.02848208, -0.039376162, 0.0161...</td>\n",
       "    </tr>\n",
       "    <tr>\n",
       "      <th>99</th>\n",
       "      <td>01ebc607-e601-402a-bdc8-3b3c53f33c10</td>\n",
       "      <td>Ayurveda, an ancient Indian medical system, em...</td>\n",
       "      <td>Ayurveda, an ancient Indian medical system, em...</td>\n",
       "      <td>[0.034538306, -0.011686063, -0.055170145, 0.00...</td>\n",
       "    </tr>\n",
       "  </tbody>\n",
       "</table>\n",
       "<p>100 rows × 4 columns</p>\n",
       "</div>"
      ],
      "text/plain": [
       "                                      id  \\\n",
       "0   97003050-7cb3-4614-bf20-1d8c0dc69fa2   \n",
       "1   bcb0f62e-e2a5-46b2-8699-683391f9f709   \n",
       "2   f9463fe0-c1d5-42c4-a342-e901a296feb3   \n",
       "3   f425e9fa-83ce-44f8-8afc-ca7b4db6cd97   \n",
       "4   47da55a0-0fd2-4983-9d4b-403bb8ad3c64   \n",
       "..                                   ...   \n",
       "95  04a4a1e7-db6b-4c09-91fb-fcc4d2e8e3cf   \n",
       "96  15cee1e4-1b8f-4474-9cce-35abef25a557   \n",
       "97  48b514f4-89e9-453f-a32d-e902088c07c2   \n",
       "98  5f7701ad-1d59-4dfa-8f47-a9357f0032cb   \n",
       "99  01ebc607-e601-402a-bdc8-3b3c53f33c10   \n",
       "\n",
       "                                                 text  \\\n",
       "0   I'm sorry, but the reference passage you have ...   \n",
       "1   **Ayurveda medicine** is a traditional Indian ...   \n",
       "2   **Summary of Ayurveda Medicine**\\n\\nAyurveda m...   \n",
       "3   The reference passage provides an extensive li...   \n",
       "4   I am sorry, but the content you provided is no...   \n",
       "..                                                ...   \n",
       "95  **Summary of the provided reference passage:**...   \n",
       "96  **Shasht`ika S`haalee Pin`d`a Sveda** is an Ay...   \n",
       "97  Pizinchila is an Ayurvedic external injury tre...   \n",
       "98  Prakaara Paribhaashaa is a type of smoking tha...   \n",
       "99  Ayurveda, an ancient Indian medical system, em...   \n",
       "\n",
       "                                              summary  \\\n",
       "0   I'm sorry, but the reference passage you have ...   \n",
       "1   **Ayurveda medicine** is a traditional Indian ...   \n",
       "2   **Summary of Ayurveda Medicine**\\n\\nAyurveda m...   \n",
       "3   The reference passage provides an extensive li...   \n",
       "4   I am sorry, but the content you provided is no...   \n",
       "..                                                ...   \n",
       "95  **Summary of the provided reference passage:**...   \n",
       "96  **Shasht`ika S`haalee Pin`d`a Sveda** is an Ay...   \n",
       "97  Pizinchila is an Ayurvedic external injury tre...   \n",
       "98  Prakaara Paribhaashaa is a type of smoking tha...   \n",
       "99  Ayurveda, an ancient Indian medical system, em...   \n",
       "\n",
       "                                            embedding  \n",
       "0   [0.022839189, -0.017929155, -0.05298865, -0.00...  \n",
       "1   [0.007367134, -0.018150771, -0.021382514, 0.01...  \n",
       "2   [0.033863675, 0.025304515, -0.01753975, 0.0210...  \n",
       "3   [0.028022183, -0.02111323, -0.031237414, -0.00...  \n",
       "4   [0.019292064, -0.02074291, -0.044638064, -0.01...  \n",
       "..                                                ...  \n",
       "95  [0.04782844, -0.0035306124, 0.010508543, 0.013...  \n",
       "96  [0.008867683, -0.014854116, -0.07216561, 0.009...  \n",
       "97  [0.028909918, 0.0004300321, -0.0032522113, 0.0...  \n",
       "98  [0.04164107, -0.02848208, -0.039376162, 0.0161...  \n",
       "99  [0.034538306, -0.011686063, -0.055170145, 0.00...  \n",
       "\n",
       "[100 rows x 4 columns]"
      ]
     },
     "execution_count": 29,
     "metadata": {},
     "output_type": "execute_result"
    }
   ],
   "source": [
    "df.head(100)"
   ]
  },
  {
   "cell_type": "code",
   "execution_count": 8,
   "metadata": {},
   "outputs": [],
   "source": [
    "from llama_index.core import SimpleDirectoryReader, VectorStoreIndex, StorageContext, load_index_from_storage\n",
    "from llama_index.embeddings.gemini import GeminiEmbedding\n",
    "from llama_index.llms.gemini import Gemini\n",
    "from llama_index.core import Settings\n",
    "\n",
    "Settings.embed_model = GeminiEmbedding(model_name='models/embedding-001')\n",
    "Settings.llm = Gemini(model_name='models/gemini-pro', temperature=0.5)"
   ]
  },
  {
   "cell_type": "code",
   "execution_count": 9,
   "metadata": {},
   "outputs": [],
   "source": [
    "index = VectorStoreIndex(nodes, embed_model=None)"
   ]
  },
  {
   "cell_type": "code",
   "execution_count": 10,
   "metadata": {},
   "outputs": [],
   "source": [
    "query_engine = index.as_query_engine(llm = Settings.llm, similarity_top_k=4)"
   ]
  },
  {
   "cell_type": "code",
   "execution_count": 25,
   "metadata": {},
   "outputs": [],
   "source": [
    "response = query_engine.query(\"How to do perform process of nasya in ayurveda?\")"
   ]
  },
  {
   "cell_type": "code",
   "execution_count": 26,
   "metadata": {},
   "outputs": [
    {
     "name": "stdout",
     "output_type": "stream",
     "text": [
      "Final Response: Nasya is an Ayurvedic treatment that involves\n",
      "administering medicine through the nose to expel doshas (toxins) from\n",
      "the body. The medicine should be finely powdered and administered in\n",
      "one of three ways:  1. Using a Naad`ee Yantra to deliver the medicine\n",
      "directly into the nose. 2. Creating a medicinal smoke by burning the\n",
      "medicine and inhaling the smoke through a Dhooman (a type of pipe). 3.\n",
      "Directly inhaling the smoke from burning the medicine oil.\n",
      "______________________________________________________________________\n",
      "Source Node 1/4\n",
      "Node ID: db19587a-5548-49b8-bbeb-2408d9c1e93c\n",
      "Similarity: 0.7693744673191607\n",
      "Text: I apologize, but the provided text does not contain a\n",
      "comprehensive summary of Ayurveda medicine or the concepts mentioned\n",
      "in your query. Therefore, I cannot extract the requested information\n",
      "from the given context. Chakrapaan`ee. The medicine and measures used\n",
      "to resuscitate the patient from the shock due to poison is termed as\n",
      "Mrita Sanjeevana...\n",
      "______________________________________________________________________\n",
      "Source Node 2/4\n",
      "Node ID: 4febe59e-a714-4eed-b4b7-e6628cf0969e\n",
      "Similarity: 0.768464079989321\n",
      "Text: Nasya is an Ayurvedic treatment that involves administering\n",
      "medicine through the nose to expel doshas (toxins) from the body. The\n",
      "timing of Nasya treatment depends on the dosha being targeted: Kaphaja\n",
      "Vikaara (excess Kapha) should be treated in the morning, Pittaja\n",
      "Vikaara (excess Pitta) in the afternoon, and Vaataja Vikaara (excess\n",
      "Vata) in the...\n",
      "______________________________________________________________________\n",
      "Source Node 3/4\n",
      "Node ID: d7065478-5e9b-4520-8a15-73a58103850f\n",
      "Similarity: 0.7608783837347365\n",
      "Text: I'm sorry, but the reference passage you provided does not\n",
      "contain a comprehensive summary of Ayurveda medicine. Therefore, I\n",
      "cannot provide a summary as requested. ¾ınüªÉÉ´É®hÉ¨ÉÂ\n",
      "¾ınüªÉ®IÉÉEú®¨ÉÂ +Éè¹ÉvÉ¨ÉÂ * Chakrapaan`ee The procedure in which\n",
      "effective measures [in the form of medicines] is to be taken to\n",
      "protect the heart from Vishabaadhaa...\n",
      "______________________________________________________________________\n",
      "Source Node 4/4\n",
      "Node ID: 527a00a3-677b-4ff5-9b9f-f51ba3b1782a\n",
      "Similarity: 0.7608596301955047\n",
      "Text: Nasya is a type of Ayurveda treatment that involves\n",
      "administering medicine through the nose. It is specifically used in\n",
      "Choorna (powder) form and can be administered using a Naad`ee Yantra\n",
      "(a device that helps deliver the medicine) or in smoke form. Before\n",
      "administering Nasya, the patient should be in a sitting position with\n",
      "their head tilted ba...\n"
     ]
    }
   ],
   "source": [
    "from llama_index.legacy.response.pprint_utils import pprint_response\n",
    "pprint_response(response,show_source=True)"
   ]
  }
 ],
 "metadata": {
  "kernelspec": {
   "display_name": "rag",
   "language": "python",
   "name": "python3"
  },
  "language_info": {
   "codemirror_mode": {
    "name": "ipython",
    "version": 3
   },
   "file_extension": ".py",
   "mimetype": "text/x-python",
   "name": "python",
   "nbconvert_exporter": "python",
   "pygments_lexer": "ipython3",
   "version": "3.11.7"
  }
 },
 "nbformat": 4,
 "nbformat_minor": 2
}
