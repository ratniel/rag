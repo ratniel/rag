{
 "cells": [
  {
   "cell_type": "code",
   "execution_count": 33,
   "metadata": {},
   "outputs": [],
   "source": [
    "from src.indexing_utils import extract_htmltag_nodes, create_docstore\n",
    "from llama_index.core.schema import MetadataMode"
   ]
  },
  {
   "cell_type": "code",
   "execution_count": 2,
   "metadata": {},
   "outputs": [
    {
     "name": "stderr",
     "output_type": "stream",
     "text": [
      "Loading files:   0%|          | 0/594 [00:00<?, ?file/s]"
     ]
    },
    {
     "name": "stderr",
     "output_type": "stream",
     "text": [
      "Loading files: 100%|██████████| 594/594 [00:00<00:00, 4280.71file/s]\n"
     ]
    },
    {
     "data": {
      "application/vnd.jupyter.widget-view+json": {
       "model_id": "542aa59965ad406f868d826dc35b75e7",
       "version_major": 2,
       "version_minor": 0
      },
      "text/plain": [
       "Parsing nodes:   0%|          | 0/594 [00:00<?, ?it/s]"
      ]
     },
     "metadata": {},
     "output_type": "display_data"
    }
   ],
   "source": [
    "article_nodes = extract_htmltag_nodes(\"../../data/clean_html\")\n",
    "article_store = create_docstore(article_nodes, '/home/dai/35/rag/storage/docstore', 'articles_store')"
   ]
  },
  {
   "cell_type": "code",
   "execution_count": 3,
   "metadata": {},
   "outputs": [
    {
     "name": "stdout",
     "output_type": "stream",
     "text": [
      "fc80a7b5-588f-4338-8c58-566734cf0c0f\n",
      "4e2fd862-0da9-4cb8-bc59-036176995acf\n",
      "31209d34-155d-4b30-926d-a4ae3450d074\n",
      "d9635fef-5516-45c1-90f5-a9a21151d865\n",
      "f60530b5-561e-4516-9128-4350fe71aeb7\n",
      "c4c501bb-d472-41ef-a1a2-46640e5c02a2\n",
      "e3316d3e-b6b4-4534-ad11-c3938b0dc784\n",
      "603c1bf5-062a-4ac1-8cd0-e51d58590746\n",
      "f4f258ee-a4c1-4f38-9366-2773efb8a38c\n",
      "80fe4a7a-bffb-40b7-857c-9bdcfc3f8b29\n",
      "07647e6c-95a1-47ec-bd54-0b8087cde780\n",
      "5a33d0b3-1ae8-4f45-964d-921a96c882b5\n",
      "d270b3c1-0b1c-4f1d-a386-ad2f92172dfa\n",
      "3941df94-740b-4200-8824-6e4fb15899bb\n",
      "06668fbd-bea1-483a-8f5d-8412c19bb158\n",
      "312b5449-0ca7-45ca-b8b5-c5f899964666\n",
      "23799a3a-86e9-4f77-9576-d380d6d7ebb6\n",
      "4fed02f2-52c0-4117-a723-dabf2dd71a20\n",
      "d4f59e98-be80-404e-8584-92de2c0d2905\n",
      "b706d75d-000d-411c-97d5-f437e0b58b64\n",
      "c2b8cf45-6232-4807-aedb-b00fe25fb8d7\n",
      "7b470e08-e2b5-4ca5-9693-1cf8903e9344\n",
      "dca3d243-e9ef-41e3-ae20-776b004e7585\n",
      "fbbb63e1-b962-4a99-9a55-0d9ee0c496b1\n",
      "e6da5817-28b6-42f8-a9cc-6386c7f750eb\n",
      "968d077b-1279-4a31-b8ec-dfd6585889bd\n",
      "d1e8b515-ff1c-48ac-b1df-3086246b12c1\n",
      "abbd03c0-9e99-4229-9ae7-4117a10bac3a\n",
      "eb434046-0284-43fd-83e5-a67e2a28277f\n",
      "2e406fd1-46fc-4155-9987-a70d5ecad40c\n",
      "30\n"
     ]
    }
   ],
   "source": [
    "count = 0\n",
    "for article in article_nodes:\n",
    "    if len(article.get_content(MetadataMode.EMBED))>10000:\n",
    "        count += 1\n",
    "        print(article.id_)\n",
    "print(count)"
   ]
  },
  {
   "cell_type": "code",
   "execution_count": 4,
   "metadata": {},
   "outputs": [],
   "source": [
    "text = article_store.get_document(\"c4c501bb-d472-41ef-a1a2-46640e5c02a2\").get_content(MetadataMode.EMBED)"
   ]
  },
  {
   "cell_type": "code",
   "execution_count": 5,
   "metadata": {},
   "outputs": [
    {
     "data": {
      "text/plain": [
       "'Rasaayana or Seropassage The desire to have more efficient components than ordinarily available is all but over. Every one is ready and eager to put some additional input to achieve more efficacious components. The body by receipt of average usual intakes, manufactures, with the help of usual digestive capacities, usual tissues. Constraints however, in the form of illnesses, more fitness demanding jobs, pregnancy, delivery, infant nursing, accidents (tissue loss) natural or early time ageing makes it obligatory to have more capable tissues than usual. With better capable tissue it is possible to combat disease, ageing etc. Therefore there should be, some method by which the existing tissue generation can be strengthened. Even though one has no illness, if a strengthening method is available the chances of ageing, degenerative effects could be deferred or averted. With illness the useful tissues are rendered defunct or weak and therefore it is much advantageous to have a method of tissue regeneration or simply, rejuvenation. Since the environmental intake material, after intricate process of conversions, reaches various locations in the body, through the flux of Rasadhaatu, Ayurveda has named such process therefore Rasa-ayana. Here the Ayana Sanskrit word is for passage. So, if at all, it is desired to coin a transliterated word for Rasaayana it can be appropriately called seropassage. The body is utilizing the entire channel of Rasadhaatu to achieve efficacious tissues by certain specific factors. They are: Identifying interventive material that can have potential to create more efficacious cells, organs and systems. Since the body constitution demands, choice should be made, from available interventive material; of interventive that will counter-match the constitutional Dosha dominance. It also should have facilitation by homologous environmental factors too. If, Dosha dominant illness is in the background, that also needs to be thought of in counter-matching Appropriate method for processing the chosen interventive material with minute details regarding dose, frequency environment of the patient is to be maintained for achieving the maximum efficiency. So the entire seropassage programme is based on interventive that will counter-match Dosha dominance of healthy or diseased persons, opting a chosen process. As Ayurveda is being applied for healthdisease managements, in a number of places other than its origin, it is necessary to have an idea about what makes a substance, a potential seropassage. The average crop foods have to be protected from attacks by pests and insects. But there may be certain species that naturally do not succumb to the attacks of pests and insects. The plant material, which is digestible and absorbable, will imbibe the character of being resistant to the attacks of microbes etc. So the natural plants that have the capacity to withstand adversities in the form of extreme heat, cold, damp, dryness and survive to complete their plant life functions, are also useful. Extremes of heat etc. cause whole scale diseases or debilities. The cells of the plants surviving in such environmental hostility will give the similar character to beings if appropriately digested and absorbed. Aloe Vera is one good example. The creeper Tinospora cordifolia is nourished, even though it has no contact with soil and water. Probably it has the capacity to utilize material from the air. The Tinospora cordifolia creeper is used for improvising tissues. One has to find and list similar plants available at various places in the world. Natural over-ripening, decaying, degeneration is seen in many average eatables. The period required to achieve flowering, fruition, maturity may be longer. The stems also have a long span of sustenance. All they are exhibiting the capacity of cells of the plants to last longer than others. The swintemblica fruit appears after a longer maturity period of 13 to 14 years. The fruit if not hurt, does not get putrefied but breaks in six parts and dries. Here the capability to avoid over-ripening and putrefaction is exhibited by this fruit. So the quality of lasting, can be transferred to the cells of human beings, provided absorbable bulk of such fruit is consumed. The fruits with sweet soar taste are very prone to decompose but the one of Swintemblica terminalia show a lasting capacity instead of decomposing. Such, herbal, mineral, biological materials are distinctively compared and chosen as useful interventive materials for making tissue, more efficacious. A natural leaf-crush catches fungus, and gets decomposed within a stipulated time. But if the same is crushed along-with little traces of mercury the contact makes the otherwise decomposable, lasting. So if the appropriate absorbable fraction of mercury can reach in the system, it can imbibe the quality of lasting to existing decomposable tissues. Usually solids are heavier. But mercury has got a non-touching liquid form and still it is the heaviest. Such excellence is also to be looked upon; so that it can be used for improving the lasting capacity of associated ingredients. Plants or animals, which have tissue distinction in development, are more useful than less evolved ones. The seeds represent progeny material of the plant. So plants, vegetables with flower, fruits, seeds are considered more useful. If the animal or plant has more eliminable material than absorbable, the value is less as interventive for seropassage. More excretables only increase the work of digestion, but do not increase the chance of absorption for raw material for tissues. Animals, which have a larger quantity of eliminable substances, like sheep, camel, ass, have been discarded even as adjuvant during Rasaayana. Beans, Soya has a larger bulk of eliminable than green gram. So the advocating is done accordingly. The things that are easy to digest and absorb are considered more useful. Gold keeps on its glitter even though repeatedly exposed to fire. Other metals polished and subjected to fire do not regain the glitter unless once again polished. So gold has got a specific capacity to help complexion if properly taken. So to be interventive material it has to have the capacity to overcome the wrath of threatening contacts, imbibe long lasting property, avert putrefaction, over ripening etc. It has to have some beneficial quality of excellence in comparison with others in-group. Better absorbability to contribute to the tissues and minimal waste components are also necessary to achieve efficacy. There are many such herbal, mineral, biological materials. If one carefully looks at people, they are happy and comfortable with different / distinct / contra-distinct stimuli. To a healthy person milk is a troubleshooter, whereas one is happy with many Bengal gram preparations. The host, on whom the seropassage programme is to be conducted, may be of distinction because of the dominance of Kapha-Pitta or Vaata. The interventive material and auxiliary materials therefore, should be to compensate the dominance of Dosha. It should not contribute to the dominance of Dosha to initiate new imbalance and pathology. Therefore the method of studying the host or recipients factors and characters of interventive material is of prime application. If this exercise is not properly conducted the useful interventive material may trigger disease process. So the professional should be careful to counter-match the multiple factors, before deciding the interventive to be used in a specific host. By considering the multi-factors on either, i.e. recipient hosts and that of material; chances of aggravation are minimized. At times costly interventive materials have to be discarded. So the Dosha dominance of individual, the Dosha dominance of disease pathology, the character of habitat and that of season are to be considered. The equatorial and polar climates have distinction of dominant hotness and coolness. So the interventive material should have characters to compensate the dominance arising out of the habitat. It is a factor non-monitored and therefore to be compensated by appropriate character dominance, through intervention material, and its process and proportion (dose). The season usually chosen should be promoting digestive power so that the food consumed can be better used. The capacity of the host and strength of the interventive is also to be considered. A lean weak person may not tolerate a strong interventive because of weakness of the entire recipient system. Age too has got a bearing on Dosha_s. Up to 18-20 years it is dominance of Kapha but later on it will not be so. After 55-60 dominance of Vaata is there. A substance is likely to give rise to hard stools by much absorption and may spell trouble for some simply because of the context of age. The reader may be knowing the characters of Glycerriza glabra, Vithania somnifera or Anacardum nut. None has comparable similarity to other two. But each one by itself is useful as seropassage material. Pitta dominant and similar hot side host factors will be palliated by Glyceriza glabra. Kapha dominance, cool side host factors can comfortably be taken care of by Anacardum, Vaata can be balanced by Vithania somnifera. So it is the counter matching, beneficial to curb the dominance; arising out of constitution, pathology, habitat, season etc. that helps to achieve results. The interventive materials from mineral or biological source need be considered similarly. Counter matching for Dosha and taking advantage of season facility is the key in choosing one or few of the many interventives, available. This factor when not comprehended puzzles the reader. Anything for everything and nothing is certain; is the wrong reaction; which is to be mended in time. Having considered criteria and counter matching multiplicity, the reader can proceed to an understanding of the processes. The desires to achieve, endowed, better efficient tissues, are to be achieved by processing the chosen interventive material. After the process for the benefit of better seropassage, the dose and frequency is to be decided. To achieve maximal beneficial effects Ayurveda considers not only the substance, counter matching but expects the entire environment of the patient to be conducive for tissue endowment. The interventive material is processed in such a way that the concentration of beneficial component is higher. swintemblica fruits that are cooked are rendered devoid of the hard seeds. This is done to increase the full absorption. Even the fibrous material in the pulp of fruit is separated. This is done with the intention, that useful / beneficial material should not be associated with excretable material. The components that are not likely to be absorbed after the complete work of digestion are separated earlier only. The work of digestion is not even fractionally wasted. Maximum digestible and absorbable components are brought together. To any and every seropassage interventive, few medicines that will invigorate the digestive capacity are added. Usually they are ginger and two pepper (corns). The invigoration of Agni-digestive capacity  can boost the entire initial process. The vegetable fat, oils or biological fat, clarified butter  ghee, substances that will mildly promote movement of digestive tract, and secretions in it, are appropriately added and thoroughly mixed. In average processing, care is taken for easily digestible absorbable components enrichment along with mild invigorators, secretogogue and smooth movement promoters. This ensures that after entry the interventive is properly absorbed. In special situations Ayurvedic scientists have made attempts to utilize specific capacities naturally available. Swintemblica fruits are to be cooked in the hollow of a tree Tectona glandis (teak). The stem of the tree builds itself up in decades and gets stronger and wider. If cut; it has the capacity to last un-decayed for a century. If later on converted in to furniture that furniture also lasts for further century without being attacked by decomposing microbes or pests or insects. The idea of cooking swintemblica in the hollow of such a tree is that the sap of the plant will enter in the fruits when being cooked. The cell of the plant has got a specific lasting character. But the plant component or products are not absorbable. The sap, that enters in the swintemblica fruits by cooking; will carry the quality to the consumer/customer. Such cooked fruits pulp is advised for consumption, to ones full capacity. In preparation of certain seropassage interventives, utensils for process are to be carved from the stem of trees. Such moist carved utensils are to be used for only one time process; and then discarded. Here the heat contact of the inside material, is established through the moist fresh  wood. Naturally the ingredients that leave the wood, at a particular temperature have the chance, to mix with under process interventive material. At times particular leaves are to be given to cow as feed. They are the leaves of medicinal plants. The milk of such a cow is to be utilized for providing ghee as combination material for the intervention. The process like boiling, curdling, clarifying butter is taken advantage of according to specific observations. It is an attempt to achieve distinct beneficial components by natural observations application. Especially minerals are heated and after trituration dried in a variety of herbal juices. Such repetitions are continued till the shining and hardness are modified and followed. The chances of the otherwise hard mineral, likely to be digested and possibly absorbed, are much increased by such processes. Average herbal material is used by the simple process of getting the juice also. So the interventive materials are processed with specific intention that they should reach in. Having prepared the interventive materials, they are administered in different doses and frequencies. A single specific dose with rich nourishment by auxiliary nutritive (usually ghee, sugar, milk, etc.) is administered on an empty stomach and no other intake for 30, 45 minutes is one of the simple methods. It assures digestion absorption in a better way. Having given the first dose, subsequent increase of doses, to reach a maximum; and tapering down the dose later for a similar period, is another method. It is for achieving more and more titre of seropassage intervention by progressively acclimatizing the system. With increase in dose the span of no-food or drink is proportionately increased. At times a 2- hour span is allowed for digestion absorption of interventive herbal material in a dose of 16-20 gms at a time. This method with herbals or herbo-minerals brings resistance and builds, better organs and systems. Another very special method of administration of seropassage intervention is avoiding all other stimuli to work on the individual. This is by captivating the individual restricted in specially structured residence under supervision. The individual under regimen does not reach to the outside people etc. but psychologically also thinks of improvement of the entire body all the 24 hours for a stipulated period. Every facility that is necessary for improvement is provided under professional supervision. He has to be in the environment specially created for achieving the target. Technically it is termed as Kut`ipraaves`hika method or the method of restricting any other stimuli from coming in contact with the privileged person. It may be noted that the process of seropassage; pre-requires purification by emesis purgation, intrarectals etc. to prepare the absorption passage more sensitive and ready to absorb the digested interventive Rasaayana material. Without preparation, it is aptly exemplified, that the best color material and technical expertise can show the results; on prepared surface; and not on dirty, greased rough surface. One cannot anticipate results. Rasaayana, the attempt to endow tissues, is therefore considered by Ayurveda in a most exhaustive comprehensive style.  Sr.Scientist Ayusoft'"
      ]
     },
     "execution_count": 5,
     "metadata": {},
     "output_type": "execute_result"
    }
   ],
   "source": [
    "text"
   ]
  },
  {
   "cell_type": "code",
   "execution_count": 14,
   "metadata": {},
   "outputs": [],
   "source": [
    "from llama_index.core.node_parser import SentenceSplitter\n",
    "sentence_splitter = SentenceSplitter(chunk_size=1024, chunk_overlap=200)\n",
    "split_text = sentence_splitter.split_text(text)"
   ]
  },
  {
   "cell_type": "code",
   "execution_count": 15,
   "metadata": {},
   "outputs": [
    {
     "name": "stdout",
     "output_type": "stream",
     "text": [
      "Rasaayana or Seropassage The desire to have more efficient components than ordinarily available is all but over. Every one is ready and eager to put some additional input to achieve more efficacious components. The body by receipt of average usual intakes, manufactures, with the help of usual digestive capacities, usual tissues. Constraints however, in the form of illnesses, more fitness demanding jobs, pregnancy, delivery, infant nursing, accidents (tissue loss) natural or early time ageing makes it obligatory to have more capable tissues than usual. With better capable tissue it is possible to combat disease, ageing etc. Therefore there should be, some method by which the existing tissue generation can be strengthened. Even though one has no illness, if a strengthening method is available the chances of ageing, degenerative effects could be deferred or averted. With illness the useful tissues are rendered defunct or weak and therefore it is much advantageous to have a method of tissue regeneration or simply, rejuvenation. Since the environmental intake material, after intricate process of conversions, reaches various locations in the body, through the flux of Rasadhaatu, Ayurveda has named such process therefore Rasa-ayana. Here the Ayana Sanskrit word is for passage. So, if at all, it is desired to coin a transliterated word for Rasaayana it can be appropriately called seropassage. The body is utilizing the entire channel of Rasadhaatu to achieve efficacious tissues by certain specific factors. They are: Identifying interventive material that can have potential to create more efficacious cells, organs and systems. Since the body constitution demands, choice should be made, from available interventive material; of interventive that will counter-match the constitutional Dosha dominance. It also should have facilitation by homologous environmental factors too. If, Dosha dominant illness is in the background, that also needs to be thought of in counter-matching Appropriate method for processing the chosen interventive material with minute details regarding dose, frequency environment of the patient is to be maintained for achieving the maximum efficiency. So the entire seropassage programme is based on interventive that will counter-match Dosha dominance of healthy or diseased persons, opting a chosen process. As Ayurveda is being applied for healthdisease managements, in a number of places other than its origin, it is necessary to have an idea about what makes a substance, a potential seropassage. The average crop foods have to be protected from attacks by pests and insects. But there may be certain species that naturally do not succumb to the attacks of pests and insects. The plant material, which is digestible and absorbable, will imbibe the character of being resistant to the attacks of microbes etc. So the natural plants that have the capacity to withstand adversities in the form of extreme heat, cold, damp, dryness and survive to complete their plant life functions, are also useful. Extremes of heat etc. cause whole scale diseases or debilities. The cells of the plants surviving in such environmental hostility will give the similar character to beings if appropriately digested and absorbed. Aloe Vera is one good example. The creeper Tinospora cordifolia is nourished, even though it has no contact with soil and water. Probably it has the capacity to utilize material from the air. The Tinospora cordifolia creeper is used for improvising tissues. One has to find and list similar plants available at various places in the world. Natural over-ripening, decaying, degeneration is seen in many average eatables. The period required to achieve flowering, fruition, maturity may be longer. The stems also have a long span of sustenance. All they are exhibiting the capacity of cells of the plants to last longer than others. The swintemblica fruit appears after a longer maturity period of 13 to 14 years. The fruit if not hurt, does not get putrefied but breaks in six parts and dries. Here the capability to avoid over-ripening and putrefaction is exhibited by this fruit. So the quality of lasting, can be transferred to the cells of human beings, provided absorbable bulk of such fruit is consumed. The fruits with sweet soar taste are very prone to decompose but the one of Swintemblica terminalia show a lasting capacity instead of decomposing. Such, herbal, mineral, biological materials are distinctively compared and chosen as useful interventive materials for making tissue, more efficacious. A natural leaf-crush catches fungus, and gets decomposed within a stipulated time. But if the same is crushed along-with little traces of mercury the contact makes the otherwise decomposable, lasting.\n",
      "4764\n",
      "\n",
      "The swintemblica fruit appears after a longer maturity period of 13 to 14 years. The fruit if not hurt, does not get putrefied but breaks in six parts and dries. Here the capability to avoid over-ripening and putrefaction is exhibited by this fruit. So the quality of lasting, can be transferred to the cells of human beings, provided absorbable bulk of such fruit is consumed. The fruits with sweet soar taste are very prone to decompose but the one of Swintemblica terminalia show a lasting capacity instead of decomposing. Such, herbal, mineral, biological materials are distinctively compared and chosen as useful interventive materials for making tissue, more efficacious. A natural leaf-crush catches fungus, and gets decomposed within a stipulated time. But if the same is crushed along-with little traces of mercury the contact makes the otherwise decomposable, lasting. So if the appropriate absorbable fraction of mercury can reach in the system, it can imbibe the quality of lasting to existing decomposable tissues. Usually solids are heavier. But mercury has got a non-touching liquid form and still it is the heaviest. Such excellence is also to be looked upon; so that it can be used for improving the lasting capacity of associated ingredients. Plants or animals, which have tissue distinction in development, are more useful than less evolved ones. The seeds represent progeny material of the plant. So plants, vegetables with flower, fruits, seeds are considered more useful. If the animal or plant has more eliminable material than absorbable, the value is less as interventive for seropassage. More excretables only increase the work of digestion, but do not increase the chance of absorption for raw material for tissues. Animals, which have a larger quantity of eliminable substances, like sheep, camel, ass, have been discarded even as adjuvant during Rasaayana. Beans, Soya has a larger bulk of eliminable than green gram. So the advocating is done accordingly. The things that are easy to digest and absorb are considered more useful. Gold keeps on its glitter even though repeatedly exposed to fire. Other metals polished and subjected to fire do not regain the glitter unless once again polished. So gold has got a specific capacity to help complexion if properly taken. So to be interventive material it has to have the capacity to overcome the wrath of threatening contacts, imbibe long lasting property, avert putrefaction, over ripening etc. It has to have some beneficial quality of excellence in comparison with others in-group. Better absorbability to contribute to the tissues and minimal waste components are also necessary to achieve efficacy. There are many such herbal, mineral, biological materials. If one carefully looks at people, they are happy and comfortable with different / distinct / contra-distinct stimuli. To a healthy person milk is a troubleshooter, whereas one is happy with many Bengal gram preparations. The host, on whom the seropassage programme is to be conducted, may be of distinction because of the dominance of Kapha-Pitta or Vaata. The interventive material and auxiliary materials therefore, should be to compensate the dominance of Dosha. It should not contribute to the dominance of Dosha to initiate new imbalance and pathology. Therefore the method of studying the host or recipients factors and characters of interventive material is of prime application. If this exercise is not properly conducted the useful interventive material may trigger disease process. So the professional should be careful to counter-match the multiple factors, before deciding the interventive to be used in a specific host. By considering the multi-factors on either, i.e. recipient hosts and that of material; chances of aggravation are minimized. At times costly interventive materials have to be discarded. So the Dosha dominance of individual, the Dosha dominance of disease pathology, the character of habitat and that of season are to be considered. The equatorial and polar climates have distinction of dominant hotness and coolness. So the interventive material should have characters to compensate the dominance arising out of the habitat. It is a factor non-monitored and therefore to be compensated by appropriate character dominance, through intervention material, and its process and proportion (dose). The season usually chosen should be promoting digestive power so that the food consumed can be better used. The capacity of the host and strength of the interventive is also to be considered. A lean weak person may not tolerate a strong interventive because of weakness of the entire recipient system. Age too has got a bearing on Dosha_s. Up to 18-20 years it is dominance of Kapha but later on it will not be so. After 55-60 dominance of Vaata is there.\n",
      "4820\n",
      "\n",
      "The equatorial and polar climates have distinction of dominant hotness and coolness. So the interventive material should have characters to compensate the dominance arising out of the habitat. It is a factor non-monitored and therefore to be compensated by appropriate character dominance, through intervention material, and its process and proportion (dose). The season usually chosen should be promoting digestive power so that the food consumed can be better used. The capacity of the host and strength of the interventive is also to be considered. A lean weak person may not tolerate a strong interventive because of weakness of the entire recipient system. Age too has got a bearing on Dosha_s. Up to 18-20 years it is dominance of Kapha but later on it will not be so. After 55-60 dominance of Vaata is there. A substance is likely to give rise to hard stools by much absorption and may spell trouble for some simply because of the context of age. The reader may be knowing the characters of Glycerriza glabra, Vithania somnifera or Anacardum nut. None has comparable similarity to other two. But each one by itself is useful as seropassage material. Pitta dominant and similar hot side host factors will be palliated by Glyceriza glabra. Kapha dominance, cool side host factors can comfortably be taken care of by Anacardum, Vaata can be balanced by Vithania somnifera. So it is the counter matching, beneficial to curb the dominance; arising out of constitution, pathology, habitat, season etc. that helps to achieve results. The interventive materials from mineral or biological source need be considered similarly. Counter matching for Dosha and taking advantage of season facility is the key in choosing one or few of the many interventives, available. This factor when not comprehended puzzles the reader. Anything for everything and nothing is certain; is the wrong reaction; which is to be mended in time. Having considered criteria and counter matching multiplicity, the reader can proceed to an understanding of the processes. The desires to achieve, endowed, better efficient tissues, are to be achieved by processing the chosen interventive material. After the process for the benefit of better seropassage, the dose and frequency is to be decided. To achieve maximal beneficial effects Ayurveda considers not only the substance, counter matching but expects the entire environment of the patient to be conducive for tissue endowment. The interventive material is processed in such a way that the concentration of beneficial component is higher. swintemblica fruits that are cooked are rendered devoid of the hard seeds. This is done to increase the full absorption. Even the fibrous material in the pulp of fruit is separated. This is done with the intention, that useful / beneficial material should not be associated with excretable material. The components that are not likely to be absorbed after the complete work of digestion are separated earlier only. The work of digestion is not even fractionally wasted. Maximum digestible and absorbable components are brought together. To any and every seropassage interventive, few medicines that will invigorate the digestive capacity are added. Usually they are ginger and two pepper (corns). The invigoration of Agni-digestive capacity  can boost the entire initial process. The vegetable fat, oils or biological fat, clarified butter  ghee, substances that will mildly promote movement of digestive tract, and secretions in it, are appropriately added and thoroughly mixed. In average processing, care is taken for easily digestible absorbable components enrichment along with mild invigorators, secretogogue and smooth movement promoters. This ensures that after entry the interventive is properly absorbed. In special situations Ayurvedic scientists have made attempts to utilize specific capacities naturally available. Swintemblica fruits are to be cooked in the hollow of a tree Tectona glandis (teak). The stem of the tree builds itself up in decades and gets stronger and wider. If cut; it has the capacity to last un-decayed for a century. If later on converted in to furniture that furniture also lasts for further century without being attacked by decomposing microbes or pests or insects. The idea of cooking swintemblica in the hollow of such a tree is that the sap of the plant will enter in the fruits when being cooked. The cell of the plant has got a specific lasting character. But the plant component or products are not absorbable. The sap, that enters in the swintemblica fruits by cooking; will carry the quality to the consumer/customer. Such cooked fruits pulp is advised for consumption, to ones full capacity.\n",
      "4704\n",
      "\n",
      "Swintemblica fruits are to be cooked in the hollow of a tree Tectona glandis (teak). The stem of the tree builds itself up in decades and gets stronger and wider. If cut; it has the capacity to last un-decayed for a century. If later on converted in to furniture that furniture also lasts for further century without being attacked by decomposing microbes or pests or insects. The idea of cooking swintemblica in the hollow of such a tree is that the sap of the plant will enter in the fruits when being cooked. The cell of the plant has got a specific lasting character. But the plant component or products are not absorbable. The sap, that enters in the swintemblica fruits by cooking; will carry the quality to the consumer/customer. Such cooked fruits pulp is advised for consumption, to ones full capacity. In preparation of certain seropassage interventives, utensils for process are to be carved from the stem of trees. Such moist carved utensils are to be used for only one time process; and then discarded. Here the heat contact of the inside material, is established through the moist fresh  wood. Naturally the ingredients that leave the wood, at a particular temperature have the chance, to mix with under process interventive material. At times particular leaves are to be given to cow as feed. They are the leaves of medicinal plants. The milk of such a cow is to be utilized for providing ghee as combination material for the intervention. The process like boiling, curdling, clarifying butter is taken advantage of according to specific observations. It is an attempt to achieve distinct beneficial components by natural observations application. Especially minerals are heated and after trituration dried in a variety of herbal juices. Such repetitions are continued till the shining and hardness are modified and followed. The chances of the otherwise hard mineral, likely to be digested and possibly absorbed, are much increased by such processes. Average herbal material is used by the simple process of getting the juice also. So the interventive materials are processed with specific intention that they should reach in. Having prepared the interventive materials, they are administered in different doses and frequencies. A single specific dose with rich nourishment by auxiliary nutritive (usually ghee, sugar, milk, etc.) is administered on an empty stomach and no other intake for 30, 45 minutes is one of the simple methods. It assures digestion absorption in a better way. Having given the first dose, subsequent increase of doses, to reach a maximum; and tapering down the dose later for a similar period, is another method. It is for achieving more and more titre of seropassage intervention by progressively acclimatizing the system. With increase in dose the span of no-food or drink is proportionately increased. At times a 2- hour span is allowed for digestion absorption of interventive herbal material in a dose of 16-20 gms at a time. This method with herbals or herbo-minerals brings resistance and builds, better organs and systems. Another very special method of administration of seropassage intervention is avoiding all other stimuli to work on the individual. This is by captivating the individual restricted in specially structured residence under supervision. The individual under regimen does not reach to the outside people etc. but psychologically also thinks of improvement of the entire body all the 24 hours for a stipulated period. Every facility that is necessary for improvement is provided under professional supervision. He has to be in the environment specially created for achieving the target. Technically it is termed as Kut`ipraaves`hika method or the method of restricting any other stimuli from coming in contact with the privileged person. It may be noted that the process of seropassage; pre-requires purification by emesis purgation, intrarectals etc. to prepare the absorption passage more sensitive and ready to absorb the digested interventive Rasaayana material. Without preparation, it is aptly exemplified, that the best color material and technical expertise can show the results; on prepared surface; and not on dirty, greased rough surface. One cannot anticipate results. Rasaayana, the attempt to endow tissues, is therefore considered by Ayurveda in a most exhaustive comprehensive style.  Sr.Scientist Ayusoft\n",
      "4387\n",
      "\n"
     ]
    }
   ],
   "source": [
    "for text_ in split_text:\n",
    "    print(text_)\n",
    "    print(len(text_))\n",
    "    print()"
   ]
  },
  {
   "cell_type": "code",
   "execution_count": 29,
   "metadata": {},
   "outputs": [],
   "source": [
    "doc = article_store.get_document(\"1b868762-4334-4aab-8706-3bfdfce59822\")"
   ]
  },
  {
   "cell_type": "code",
   "execution_count": 30,
   "metadata": {},
   "outputs": [
    {
     "data": {
      "text/plain": [
       "'AyuSoft Team To come into existence western sciences state raw material is required. Oriental sciences however, make a more comprehensive approach that considers non-material components too, along with material ones. Since the number of such essentially required is nine, the term Navadravya meaning the obligatory nine came into existence. It will be scientifically safe to continue the term Dravya here as any attempt to equate it to 1. Element 2. Substances 3. Matter 4. Molecule etc is not suitable to the technical meaning that each term possesses. (In the prevalently understood meaning.) The nine Dravya_s are essential contributors together for each and every living or the nonliving cognizable thing. Without the contribution of all the nine, nothing can be cognized. They are by their technical names; Aakaas`ha, Vaayu, Tejas, Jala, Prithvi, Kaala, Dik, Aatman, and Manas. These are the causes together Kaaran`a, devoid of contribution from them all evolvement is impossible. Related Sootra C.Su.1/48 For the existence of living and non-living, the requirement is provided by contribution from the pool of five mega entities, the knower, the initiation/intention to produce by the mind of someone Manas, a specific stipulated period Kaala and the distinct location Dik. Description: The prevalent contention that to produce anything, only raw material is required is not sufficiently comprehensive. Thus software has come in to existence, is a fact; the apparent diskette or CD is made up of plastic. But in the past the technical efforts by capable technocrats were still done; it was intellectually conceived in the mind of a living being. He with his intention to produce a device by the information technology technique, could go ahead. Had this contribution of a living designers intention to evolve, been absent, the mere pre-existence of a diskette was not at any stage likely to be the software by itself. The idea and raw materials availability alone, cannot, by themselves, result in the device. A suitable location and stipulated periods contribution is absolutely obligatory. Understanding by the oriental method, covers all the components that are genuinely required for the existence of everything. Here the contribution by the five mega entities; in the way of availment of room, action of mobilizing forces for touch, apparent complexion by heat contact, interlinking of particles by/for earlier fluid character, and shape/form by decrease in fluid dominance in that order, is understood. That respectively happens by contribution from Aakaas`ha, Vaayu, Tejas, Jala, Prithvi, the five-mega entities. The statement that nine contribute for evolvement of everything is factual for all. Individual Causative Entities: Aakaas`ha: Aakaas`ha provides room for all to appear, to modify or ultimately to terminate. Because of the relative rare arrangement of Aakaas`ha in between all substances, each one can be distinctly seen / cognized. If this rare arrangement is not there, nothing could have been differentiated distinct from one another. No resistance to enter in or exit out is the specific character of global Aakaas`ha. You may prepare certain walls as boundaries and label that one as the Aakaas`ha of the pot etc. It hides/ covers nothing, and therefore is of Satva dominance. Restricted to ear, the total architecture of components show that hollowness and thinness is given a freehand in the ear. The middle ear is connected to global Aakaas`ha by the Eustachian tube. Whenever rareness is added to any dense arrangement, a specific sound is produced. Restricted to the body, all hollow structures in the body, which provide the entry, process or exit of many substances; are dominated by Aakaas`ha. The lungs, GIT, skull, heart and circulatory tubular complex, all are the main examples. One can extend this, up to the most minute lumen in the cell. Vaayu: The global Vaayu is spread all over and can be known by movement and touch of other things. Vaayu itself is not visible. But trees, clouds etc moved by Vaayu make its existence known.The touch of Vaayu is vibrant; Vaayu is responsible for the intake and exit of substances from the body. Vaayu dominant components of the body are the impulse producers. The hollowness of Aakaas`ha facilitates the impulsive functions of Vaayu. Impulse alone, with no availability of looseness/hollowness, cannot be effective for actual propagations/changes in positions. The skin is relatively dry, spread all over entity. By movement in object of touch, or the skin, the sensation of touch is understood. Tejas: The global Tejas is uninterruptedly functioning by producing heat and causing conversion all the while. The touch of Tejas is hot. It is dominant by its shining colors. Both the eyes have the specific shining material that is the microform of universal Tejas. The bodily Tejas is seen in digestive capacity, seen at skin, and the food tract Jala: Globally Jala appears in a variety. Thus snow, mist, dew and rainwater are responsible for many inter linking. It has a cool touch. The Jala dominant organ in the body is the tongue. The tongue is a special sense organ encircled by secreting glands. All the watery substances in the body are accompanied by the fluid quality of Jala. Without it they cannot circulate. The water around tongue is responsible for taste. The body harbors a variety of fluids in channels, cells, reservoirs etc. the serum, fat, urine, sweat, internal digestive secretions, saliva, are some of the forms of bodily Jala. Prithvi is the entity, full of variety of shapes and hardness patterns. It has a variety of touches and smell. The nose is a relatively stout sense organ located in bony surrounding and having thick secretions compared to all other sense organs. The hard lasting, rigid, shaped components like bones, cartilages, hair, teeth, stools; nails etc are dominated by Prithvi in the body. The natural scheduled, withering away of each and everything, even though provided with nutritive raw material; has motivated the scientists to consider Kaala as the essential contributor. The sun repeats the rhythm of appearance and disappearance very regularly. The rising and setting of the sun everyday gives the cause of existence and maintenance of all living beings. Kaala is an absolute entity even though labels like Monday, March, summer, Chaitra, Ramjaana Uttaraayan`a etc. are given to it, as per convention. By itself it does not expect anything else for its proclamation. The concept of Kaala, as an entity has been accepted because, even with the availability of raw material, and working force; the evolvement actually takes place only after contribution of an essential stipulated period. For the evolvement of so many natural crops the contribution by time is specific and distinct. Even a continued supply of nourishing components, does not assure growth, if the stipulated period is over. For existence or extinction the contribution of time is obligatory, and cannot be disposed off. This entity is nameable; though non-dimensional. Oriental scientists have considered even the non-dimensional contributors, in the comprehensive method of all causative factors, in evolvements. The rhythmic special movement of the sun is responsible for building or depleting of tissues ultimately. Thus Kaala causes generation, regeneration and degeneration by adding, avoiding, separating many factors from each other. The knowledge of anything cannot be sufficient unless its location, in relation to some known point, is described. The entity Dik is direction. The Dik is always essentially told / declared, in relation to one, which is known or established earlier. The description of something needs details about, the things location in relation to a persons location. When the user of this device, looks towards the screen, he can cognize the letters. If this action/instruction to locate ones vision on screen is not there the advantage of existing letters cannot be there. Everythings description is complete, only when information of, above, below, on the right, on the left, to the back or on the front, is added. Devoid of it actual localization is not possible. Dis`haa is more popular than the word Dik alone. It is essentially relative to some one else and is never absolute. East, West, North, South, are relative expressions. Nowhere is there absolute character by examination of which the nomenclature of north-east etc. can be noted. The other attributes of Dis`haa are similar to that of Kaala. The body from childhood to old age undergoes many changes. The expression of pain or pleasure remains the same and it is the only property of knower inside Aatman meaning that one who is continuously on the move. The body is composed of a combination of distinct architecture of different organs etc. and an awareness system independent of material components. By deploying the sense organs the knower inside and outside the body, the Aatman, protects the body, by modifying the choices of environmental entities. The two types of Aatman are Jeevaatmaa limited to a being under observation and Paramaatmaa present in all beings. The number of beings and their characteristics are same. The Knowers association with body can be noted by examination of certain signs on the body when illness approaches, it modifies, the desires or disgusts, and there are efforts to bring into action the transient modifications till the illness prevails. It is common to all. The Paramaatmaa is only one, common and similar to all animals. Manas: Manas are the non-material component of the body like Aatman. The location of Manas is in the heart and head i.e. the central area between two eyebrows. Thus Manas`s activities or modifications can be known by examination of heart. The tools of Manas are the five sense organs. When Manas works without using the tools of sense organs, in that case it reviews the past, compares the present and estimates the future situation. By using its specific capacity to objectify, even without actual material and only by intellect it enjoys drama, poetry etc. the working of Manas is to decide what is beneficial to be followed and what is detrimental for that juncture, to be avoided, after a comprehensive consideration of all. Here Manas need no objects to be perceived by the sense organs. From contact Manas becomes happy or sorrowful. It is the main function of Manas. Since it is responsible for the feeling of pain and pleasure, and their outward expression, the essential components of Manas are Satva, rajas and Tamas. They are very subtle and one dominates in the total body, are the result from it makes the character of a person. From the elaborations and examples given above, one can understand that contribution from all nine is obligatory for the existence / awareness of everything. To really plan for making anything, one should not only take into account the raw materials, but he should have all 9`s availability before his mind. The innumerable cognized entities are from the contribution of the causative nine; the original contributing global entities are not fully comprehended by the capacities of the sense organs. The contributed, however, is cognizable. From Kaaran`a_s non-decipherable due to mega or extremely microforms, the materials around, record able is available for utilization in management of health and disease. The effect contributed from causes, is manageable for a number of purposes; but the causes in total are never manageable by human efforts. Kaarya is manageable but never the Kaaran`a_s.'"
      ]
     },
     "execution_count": 30,
     "metadata": {},
     "output_type": "execute_result"
    }
   ],
   "source": [
    "doc.get_content(MetadataMode.EMBED)"
   ]
  },
  {
   "cell_type": "code",
   "execution_count": 28,
   "metadata": {},
   "outputs": [
    {
     "data": {
      "text/plain": [
       "dict_keys(['tag', 'file_path', 'file_name', 'file_type', 'file_size', 'creation_date', 'last_modified_date', 'last_accessed_date'])"
      ]
     },
     "execution_count": 28,
     "metadata": {},
     "output_type": "execute_result"
    }
   ],
   "source": [
    "doc.metadata.keys()"
   ]
  },
  {
   "cell_type": "markdown",
   "metadata": {},
   "source": [
    "----"
   ]
  },
  {
   "cell_type": "code",
   "execution_count": 17,
   "metadata": {},
   "outputs": [],
   "source": [
    "from src.indexing_utils import load_docs\n",
    "docstore = load_docs(\"../../storage/new_nodes\" ,return_docstore=True)"
   ]
  },
  {
   "cell_type": "code",
   "execution_count": 26,
   "metadata": {},
   "outputs": [],
   "source": [
    "nodes = list(docstore.docs.values())"
   ]
  },
  {
   "cell_type": "code",
   "execution_count": 34,
   "metadata": {},
   "outputs": [
    {
     "name": "stdout",
     "output_type": "stream",
     "text": [
      "7d032c19-82bb-4446-86c6-cc4d0d1a42b2\n",
      "7a8ee972-b6b2-4318-b19c-1898fc1f0560\n",
      "47f908ef-7375-4851-b426-90cb7343aab1\n",
      "620db2bf-2e40-4b14-b094-0ee100bb3dd5\n",
      "d2ceeb77-cd08-4915-995c-696f294430b8\n",
      "4021b37d-b4b9-4472-8372-3052895e5998\n",
      "bd728c30-1459-4a79-982a-eff172393512\n",
      "180d7dcb-d317-4e84-a7e8-356eac486df2\n",
      "5e994dd8-2db4-43d1-a578-f077a7a409fa\n",
      "d87b8590-ad3d-4238-ae51-953984f4ef1f\n",
      "f87115bc-766f-4525-ba8b-15c4d5885d49\n",
      "9d4d8069-51ed-4b4a-afc5-c6ed21b998b8\n",
      "be82b983-0ab9-4a82-9d69-dc35d09e0ae9\n",
      "78e71049-4975-477f-a60d-dd04e11bb488\n",
      "1b03612f-2df3-4ca8-87b2-ca1cfdf17cb3\n",
      "11cf994d-d6ad-41e0-a8a1-7f9c28477196\n",
      "c9dea5e0-f047-409f-a41f-0aab3b638762\n",
      "c4d0f694-b518-420c-af32-3edc8f23b2f1\n",
      "fdfccbbb-80b5-4db0-8786-6060818bd55a\n",
      "3e01412b-447c-45ac-b672-7a48c8446d28\n",
      "4b50ac30-b27e-4675-8c55-87c0eb247b05\n",
      "4e90d5b4-b994-4255-a203-6555ca4accd7\n",
      "7f80dabb-13c0-4b05-a68b-291ec58f3f92\n",
      "eb415be0-858f-4312-adea-678f6d3fb21d\n",
      "338868cd-840a-4344-806b-d881077ab4c5\n",
      "02e8f3c7-3760-4bd3-a9f5-fc1cc2983c42\n",
      "fd8a6a3a-d70c-4571-8752-48e03b4ba84a\n",
      "29af1de9-6053-4b83-b341-7c2fc24c6818\n",
      "bc7bc496-f125-48ae-8df0-56386cc103de\n",
      "b208648c-d536-4d1e-aecc-a6a6cb5df060\n",
      "8e186a26-6543-42ce-8335-33851cd97637\n",
      "6939f69f-0d66-48ec-82e2-09b4fdc13cda\n",
      "d4fe1724-2c33-4306-9c0b-e8693d2502f0\n",
      "57ecba84-4e65-40ac-b3b8-3516636fb70f\n",
      "02f09f91-bed9-45e1-9c02-f55ab349e417\n",
      "de8d2c82-1ec8-46cf-8122-585891da8818\n",
      "dc03ad8a-a56e-4c98-bb67-d7e744b7eb81\n",
      "ef4dc4e2-3853-43ca-b91f-8fcd5929f81c\n",
      "41db677f-f045-4f9b-b6c7-fe3cc3e36c46\n",
      "25971939-458c-4182-a417-b5fa254e8d08\n",
      "351d5995-441d-4eac-a919-79a7445ed2c9\n",
      "126ac473-3f4c-471d-a04a-973d9bf7c4a1\n",
      "422664d1-d5d7-4855-babd-ffa84419582a\n",
      "14a54063-fce2-4445-9724-769faa6d2d1b\n",
      "18fb0852-1ef9-4f79-9607-0941498831b5\n",
      "02626dbf-3bd4-40c8-b518-17fec1887ecb\n",
      "a54cfa4f-9f3e-4c54-b39d-3ae87e1f297c\n",
      "ffea0cd2-b1e5-40b3-9a20-058c9f221d8c\n",
      "a755380a-c696-43ad-8739-36b16b822a90\n",
      "15c100ae-8b75-44e4-9c7a-cd6231df7c12\n",
      "36bbdc97-1900-4438-8b69-26d74ae8ecb7\n",
      "89f0309d-4bdd-4ef3-86a0-ce39af57f1ef\n",
      "913e36f2-0a7b-47a9-ad52-7a8bb3be4a10\n",
      "febd497b-94f3-4c15-80bd-ea8d6c6254dd\n",
      "494e5f67-d548-45c1-801b-0b2525b189e8\n",
      "098aed84-6a5b-4ad9-a236-3fe602948226\n",
      "ca91650e-c4a8-4007-88e2-1b9ed2d13c54\n",
      "5ba2ce85-9757-4961-807c-9152018a9327\n",
      "c74c5765-bc18-4e86-b5aa-a0c95ebea57f\n",
      "3a4c1d53-82d4-4880-a53e-f88f2c34b7ad\n",
      "1233ab8a-5919-468d-b585-1fdc5bed9662\n",
      "5387a38b-9045-4160-b3db-1e06da1463b6\n",
      "6ca4a026-3865-4a15-83c4-8d85b818a770\n",
      "1986dd76-2648-47a0-810e-8bb6d3504aaf\n",
      "a3350f4f-e304-41ca-9c5a-8df95236e71f\n",
      "cbdd9220-df07-47cd-8a6a-2ca35c64fc74\n",
      "60e4b0a9-a1f3-4dc7-b086-8247ad8e9dcb\n",
      "67\n"
     ]
    }
   ],
   "source": [
    "count = 0\n",
    "for node in nodes:\n",
    "    if len(node.get_content(MetadataMode.EMBED))>10000:\n",
    "        count += 1\n",
    "        print(node.id_)\n",
    "print(count)"
   ]
  },
  {
   "cell_type": "code",
   "execution_count": 38,
   "metadata": {},
   "outputs": [
    {
     "data": {
      "text/plain": [
       "'summary: S`heetapitta is a condition where the vitiated Vaata and Kapha Doshas cover the normal Pitta Dosha, causing blisters on the skin when exposed to cold air. The attributes of Vaata and Kapha in this condition are S`heeta (cold), and they show signs and symptoms of Pitta. Hence, it is called S`heetapitta. Precautions include avoiding bathing, sun exposure, sour and heavy foods. For treatment, Abhyanga (oil massage) with pungent oil and hot water Vamana (induced vomiting) using Pat`olaadi Kvaatha are recommended. Triphalaadi Yoga, Navakaarshika Kashaaya, and Amritaadi Kvaatha are used for pacification. Similar treatments are used for Krimi, Dadru, and Kusht`ha after S`hodhana. Spars`havaata, a specific condition of S`heetapitta, is characterized by pricking pain and loss of touch sensation. Pathya (wholesome) foods include rice, vegetables like bitter gourd and spinach, pulses like green gram and horse gram, milk, ghee, and warm water. Fruits like pomegranate and cucumber, and food items that balance Kapha and Pitta are also beneficial. Apathya (unwholesome) foods include sour and sweet tastes, heavy foods, fish, milk products, sugarcane products, and alcohol. Other unwholesome activities include enemas, bathing, sun exposure, and smoking.\\n\\nS`heetapitta Reference - B.R. 55, Y.R. Uttaraardha S`heetapittodardakot`ha Chikitsaa, N.R. S`heetapitta Introduction This is a disease in which vitiated Vaata Dosha and Kapha Dosha, cover the normal Pitta Dosha in such a way to cause blisters on the skin when the skin is exposed to cold air. The attribute of Vaata and Kapha in this pathogenesis is S`heeta and these show signs and symptoms Pitta. So, it is called as S`heetapitta. Precautions Snaana, Aatapasevana, Amla and Guru Aahaara should be avoided. (Y. R.) Saamaanya Chikitsaa  For Pathya Aahaara - Refer to Aahaara Template - Vyaadhi - S`heetapitta Udarda Chikitsaa S`hodhana Abhyanga à Kat`u Taila Seka à Ushn`odaka Vamana à Pat`olaadi Kvaatha S`hamana Triphalaadi Yoga Navakaarshika Kashaaya Amritaadi Kvaatha (Visarpa Adhikaara) Similar Chikitsaa to  Krimi, Dadru Chikitsaa and Kusht`ha after S`hodhana Spars`havaata: (B.R. 55 -39) This is the special Avasthaa of S`heetapitta manifested by typical pricking pain (like pricking by needle) and loss of touch sensation. Pathyaapathyaa Dhaanya - S`haalee S`haaka - S`higruphala, S`haalincha, Kaaravellaka, Upodikaa, Vetaagra S`himbee -Mudga, Kulattha Dugdha - Ghrita Drava - Usn`a Jala Phala -Daad`ima, Karkat`ee Kritaanna - Kaphapittahara Padaartha Other - Vamana, Virechana, Madhu, Raktamokshan`a Apathya - Rasa -Amla, madhura Gun`a/ karma -Guru Maamsa -Matsya, Aanoopa Maamsa Dugdha - Dugdha Vikaara, Kilaat`a Kritaanna -Ikshu Vikaara Other - Gud`a, Snaana, Aatapasevana, Phaan`ita Search Anveshaka Search Dravya, Kalpa, Aahaara, Vihaara, Chikitsaa Karma for Indicated In Vyaadhi S`heetapitta Chikitsaa Karma Vamana, Virechana'"
      ]
     },
     "execution_count": 38,
     "metadata": {},
     "output_type": "execute_result"
    }
   ],
   "source": [
    "nodes[69].get_content(MetadataMode.EMBED)"
   ]
  },
  {
   "cell_type": "code",
   "execution_count": 37,
   "metadata": {},
   "outputs": [
    {
     "data": {
      "text/plain": [
       "'Aama is undigested food that, when vitiated by doshas (bodily humors), becomes the root cause of many diseases. Treatment involves improving digestion (paachana), stimulating digestion (deepana), and lubrication (snehana). Sweating (svedana) helps move the aama towards the digestive tract, which is then eliminated through the appropriate route (oral, nasal, or anal) using shodhana (purification). However, shodhana should be avoided when aama is scattered throughout the body, attached to tissues, or immobile. It should also not be used when aama is spontaneously moving upwards or downwards. A balanced diet that is easily digestible and does not cause discomfort is recommended.'"
      ]
     },
     "execution_count": 37,
     "metadata": {},
     "output_type": "execute_result"
    }
   ],
   "source": [
    "nodes[0].metadata['summary']"
   ]
  },
  {
   "cell_type": "code",
   "execution_count": null,
   "metadata": {},
   "outputs": [],
   "source": []
  }
 ],
 "metadata": {
  "kernelspec": {
   "display_name": "rag",
   "language": "python",
   "name": "python3"
  },
  "language_info": {
   "codemirror_mode": {
    "name": "ipython",
    "version": 3
   },
   "file_extension": ".py",
   "mimetype": "text/x-python",
   "name": "python",
   "nbconvert_exporter": "python",
   "pygments_lexer": "ipython3",
   "version": "3.11.7"
  }
 },
 "nbformat": 4,
 "nbformat_minor": 2
}
