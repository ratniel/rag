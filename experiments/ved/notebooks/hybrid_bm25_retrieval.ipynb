{
 "cells": [
  {
   "cell_type": "code",
   "execution_count": 2,
   "metadata": {},
   "outputs": [],
   "source": [
    "from ved_src.utils import load_docs"
   ]
  },
  {
   "cell_type": "code",
   "execution_count": 3,
   "metadata": {},
   "outputs": [],
   "source": [
    "nodes = load_docs('./rag/storage/docstore/article_nodes_embedded_combined')"
   ]
  },
  {
   "cell_type": "code",
   "execution_count": 4,
   "metadata": {},
   "outputs": [],
   "source": [
    "from llama_index.retrievers.bm25 import BM25Retriever"
   ]
  },
  {
   "cell_type": "code",
   "execution_count": 5,
   "metadata": {},
   "outputs": [],
   "source": [
    "# NOTE: This is ONLY necessary in jupyter notebook.\n",
    "# Details: Jupyter runs an event-loop behind the scenes.\n",
    "#          This results in nested event-loops when we start an event-loop to make async queries.\n",
    "#          This is normally not allowed, we use nest_asyncio to allow it for convenience.\n",
    "import nest_asyncio\n",
    "\n",
    "nest_asyncio.apply()"
   ]
  },
  {
   "cell_type": "code",
   "execution_count": 6,
   "metadata": {},
   "outputs": [],
   "source": [
    "import logging\n",
    "import sys\n",
    "\n",
    "logging.basicConfig(stream=sys.stdout, level=logging.INFO)\n",
    "logging.getLogger().handlers = []\n",
    "logging.getLogger().addHandler(logging.StreamHandler(stream=sys.stdout))\n",
    "\n",
    "from llama_index.core import (\n",
    "    SimpleDirectoryReader,\n",
    "    StorageContext,\n",
    "    VectorStoreIndex,\n",
    ")\n",
    "from llama_index.retrievers.bm25 import BM25Retriever\n",
    "from llama_index.core.retrievers import VectorIndexRetriever\n",
    "from llama_index.core.node_parser import SentenceSplitter\n",
    "from llama_index.core import Settings"
   ]
  },
  {
   "cell_type": "code",
   "execution_count": 7,
   "metadata": {},
   "outputs": [],
   "source": [
    "import os\n",
    "import pickle\n",
    "import time\n",
    "from typing import List\n",
    "\n",
    "import google.generativeai as genai\n",
    "from dotenv import load_dotenv\n",
    "from google.generativeai import GenerationConfig\n",
    "from llama_index.core.schema import TextNode\n",
    "from llama_index.embeddings.gemini import GeminiEmbedding\n",
    "from llama_index.llms.gemini import Gemini\n",
    "from tqdm import tqdm\n",
    "\n",
    "from src.indexing_utils import load_docs, save_docstore\n",
    "from ved_src.utils import make_prompt\n",
    "from src.discord_utils import send_msg\n"
   ]
  },
  {
   "cell_type": "code",
   "execution_count": 8,
   "metadata": {},
   "outputs": [],
   "source": [
    "embed_model = GeminiEmbedding(\n",
    "        model_name=\"models/embedding-001\", api_key=os.environ.get(\"GOOGLE_API_KEY\"))\n",
    "\n",
    "llm = Gemini(api_key=os.environ.get(\"GOOGLE_API_KEY\"))\n",
    "\n",
    "Settings.embed_model = embed_model\n",
    "Settings.llm = llm\n"
   ]
  },
  {
   "cell_type": "code",
   "execution_count": 10,
   "metadata": {},
   "outputs": [],
   "source": [
    "# initialize storage context (by default it's in-memory)\n",
    "storage_context = StorageContext.from_defaults()\n",
    "storage_context.docstore.add_documents(nodes)"
   ]
  },
  {
   "cell_type": "code",
   "execution_count": null,
   "metadata": {},
   "outputs": [],
   "source": [
    "index = VectorStoreIndex(\n",
    "    nodes=nodes,\n",
    "    storage_context=storage_context,\n",
    "    embed_model=Settings.embed_model,\n",
    ")"
   ]
  },
  {
   "cell_type": "code",
   "execution_count": null,
   "metadata": {},
   "outputs": [
    {
     "name": "stdout",
     "output_type": "stream",
     "text": [
      "Ayurveda places great importance on the birth of healthy children with sound bodies, minds, and souls. To achieve this, it provides guidelines for women from the time they reach puberty. It suggests that women should marry between the ages of 16 and 25. For conception to occur, several factors are necessary: the right time of the month (ovulation), healthy reproductive organs in the woman, and proper nourishment. During pregnancy, the woman's physical, mental, and emotional well-being undergoes significant changes. Therefore, Ayurveda emphasizes the importance of a healthy diet and lifestyle for the pregnant woman. This includes consuming wholesome foods such as rice, lentils, wheat, ghee, milk, and fruits. Additionally, Ayurveda recommends specific herbal decoctions for each month of pregnancy to support the development of the fetus. By following these guidelines, Ayurveda aims to ensure the health and well-being of both the mother and the child. Garbhin`ee Paricharyaa Ayurveda has thoroughly focussed on various aspects of life in a special way. Ayurveda believes in Suprajaajanana ie. birth of a baby with healthy body, mind and soul. And hence for a birth of a healthy baby Ayurveda suggest some rules to follow right from the menarche. Sus`hruta has suggested the marriageable age of man as twenty-five and of girl as sixteen years. For proper conception Ritu (season or period near ovulation or Ritukaala), Beeja (seed i.e. ovum and sperms), Kshetra (field i.e. female reproductive system esp. uterus), and Ambu (nourishing substances), S`hukra, properly functioning Vaayu and normal physiological and mental status are essential. As the conception takes place, the normal physiological, psychological and physical status gradually changes in the pregnant woman. The foetus gets affected mentally, physiologically by the deeds of the pregnant woman and hence the emphasis has been given on the diet and life style of the pregnant woman from conception itself. Garbhin`ee Paricharyaa: (Antenatal Care): Saamaanya Aahaara- Vihaara (Wholesome Diet and life style): The antenatal care starts from the moment the female become pregnant. The woman should follow congenial diet and mode of life and protect herself by following good conduct. Woman should remain in high spirit, pious, wear clean and simple cloths and perform religious rites, do auspicious deeds and worship. The diet should be taken considering place of living, time of season and digestive capacity. The woman should consume S`haalee and Shasht`ika rice, Mudga(green gram), wheat, flour of parched rice, butter, pure ghee, milk, Rasaalaa, honey, jack-fruit, Aamalakee fruit, grapes, sour and sweet substances etc. Anointment with cooling agents like sandal, wearing of garlands, moonlight bath, massage, soft bed, cool air, gratifying edibles, embracing beloved and other pleasing mode of life along with desired food should be followed. Maasaanumaasika Pathya (Month wise dietary regimen):  Along with the above dietary regimen Ayurveda has suggested specific medicated decoctions (Maasaanumaasika Kvaatha) for each month. The drugs mentioned in these decoctions for each month are in accordance with the foetal development in the respective month. Also specific medicated decoctions for each month are mentioned for abortion (Garbhasraavahara Kvaatha) and if complications occur. Benefits of the month wise dietary regimen: The woman remains healthy and delivers the child possessing good health, strength, voice, compactness and much superior to other family members. The Rasa delivered from the diet taken by the pregnant woman serves three purposes: Nourishment of her own body. Nourishment of the foetus. Nourishment of breast or formation of breast milk.\n"
     ]
    },
    {
     "data": {
      "text/markdown": [
       "**Node ID:** 9b884e0a-af15-48de-a164-7195d22b4560<br>**Similarity:** 4.934239849070215<br>**Text:** Ayurveda places great importance on the birth of healthy children with sound bodies, minds, and s...<br>"
      ],
      "text/plain": [
       "<IPython.core.display.Markdown object>"
      ]
     },
     "metadata": {},
     "output_type": "display_data"
    },
    {
     "name": "stdout",
     "output_type": "stream",
     "text": [
      "Paadaaghaata is a type of Ayurvedic massage technique that involves applying pressure with the feet. It is typically performed during the winter season as part of a daily routine. Before receiving this massage, the patient should first undergo Abhyanga (oil massage) and Mardana (muscle kneading). The person performing the massage should have clean, soft feet without any cracks and should be experienced in the technique. After the massage, the patient should bathe with warm water or a decoction. This massage technique is particularly prevalent in southern India. Prakaara Paribhaashaa: The procedure of massage with the help of feet with pressure. This should be done as a daily regime during Hemanta Ritu. Poorvakarma (Prerequisites): Patient Preparation: Paadaaghaata should be done after Abhyanga and Mardana. Pradhaanakarma: Proper and adequate physical exercise should be done and then Paadaaghaata should be done. The person who is going to do Paadaaghaata should have clean, soft feet with no cracks. He should be competent. Pas`hchaatkarma: Bath with warm water or decoction. Other Description: This procedure is very common in southern India.\n"
     ]
    },
    {
     "data": {
      "text/markdown": [
       "**Node ID:** b04f8f21-1d1d-4ee2-9cf7-8073c48140df<br>**Similarity:** 4.603025419613619<br>**Text:** Paadaaghaata is a type of Ayurvedic massage technique that involves applying pressure with the fe...<br>"
      ],
      "text/plain": [
       "<IPython.core.display.Markdown object>"
      ]
     },
     "metadata": {},
     "output_type": "display_data"
    }
   ],
   "source": [
    "retriever = BM25Retriever.from_defaults(nodes=nodes, similarity_top_k=2)\n",
    "from llama_index.core.response.notebook_utils import display_source_node\n",
    "\n",
    "# will retrieve context from specific companies\n",
    "nodes = retriever.retrieve(\"What is the proper way to massage\")\n",
    "for node in nodes:\n",
    "    print(node.text)\n",
    "    display_source_node(node)"
   ]
  },
  {
   "cell_type": "code",
   "execution_count": null,
   "metadata": {},
   "outputs": [],
   "source": [
    "from llama_index.core.tools import RetrieverTool\n",
    "\n",
    "vector_retriever = index.as_retriever()\n",
    "bm25_retriever = BM25Retriever.from_defaults(nodes=nodes, similarity_top_k=2)\n",
    "\n",
    "retriever_tools = [\n",
    "    RetrieverTool.from_defaults(\n",
    "        retriever=vector_retriever,\n",
    "        description=\"Useful in most cases\",\n",
    "    ),\n",
    "    RetrieverTool.from_defaults(\n",
    "        retriever=bm25_retriever,\n",
    "        description=\"Useful if searching about specific information\",\n",
    "    ),\n",
    "]\n",
    "\n",
    "from llama_index.core.retrievers import RouterRetriever\n",
    "\n",
    "retriever = RouterRetriever.from_defaults(\n",
    "    retriever_tools=retriever_tools,\n",
    "    llm=Settings.llm,\n",
    "    select_multi=False,\n",
    ")"
   ]
  },
  {
   "cell_type": "code",
   "execution_count": null,
   "metadata": {},
   "outputs": [
    {
     "name": "stdout",
     "output_type": "stream",
     "text": [
      "Selecting retriever 1: Searching about specific information.\n"
     ]
    },
    {
     "ename": "ValidationError",
     "evalue": "1 validation error for NodeWithScore\nnode\n  Can't instantiate abstract class BaseNode with abstract methods get_content, get_metadata_str, get_type, hash, set_content (type=type_error)",
     "output_type": "error",
     "traceback": [
      "\u001b[0;31m---------------------------------------------------------------------------\u001b[0m",
      "\u001b[0;31mValidationError\u001b[0m                           Traceback (most recent call last)",
      "Cell \u001b[0;32mIn[12], line 2\u001b[0m\n\u001b[1;32m      1\u001b[0m \u001b[38;5;66;03m# will retrieve all context from the author's life\u001b[39;00m\n\u001b[0;32m----> 2\u001b[0m nodes \u001b[38;5;241m=\u001b[39m \u001b[43mretriever\u001b[49m\u001b[38;5;241;43m.\u001b[39;49m\u001b[43mretrieve\u001b[49m\u001b[43m(\u001b[49m\n\u001b[1;32m      3\u001b[0m \u001b[43m    \u001b[49m\u001b[38;5;124;43m\"\u001b[39;49m\u001b[38;5;124;43mWhat are various types of doshas in ayurveda\u001b[39;49m\u001b[38;5;124;43m\"\u001b[39;49m\n\u001b[1;32m      4\u001b[0m \u001b[43m)\u001b[49m\n\u001b[1;32m      5\u001b[0m \u001b[38;5;28;01mfor\u001b[39;00m node \u001b[38;5;129;01min\u001b[39;00m nodes:\n\u001b[1;32m      6\u001b[0m     display_source_node(node)\n",
      "File \u001b[0;32m~/anaconda3/envs/rag/lib/python3.11/site-packages/llama_index/core/base/base_retriever.py:229\u001b[0m, in \u001b[0;36mBaseRetriever.retrieve\u001b[0;34m(self, str_or_query_bundle)\u001b[0m\n\u001b[1;32m    224\u001b[0m \u001b[38;5;28;01mwith\u001b[39;00m \u001b[38;5;28mself\u001b[39m\u001b[38;5;241m.\u001b[39mcallback_manager\u001b[38;5;241m.\u001b[39mas_trace(\u001b[38;5;124m\"\u001b[39m\u001b[38;5;124mquery\u001b[39m\u001b[38;5;124m\"\u001b[39m):\n\u001b[1;32m    225\u001b[0m     \u001b[38;5;28;01mwith\u001b[39;00m \u001b[38;5;28mself\u001b[39m\u001b[38;5;241m.\u001b[39mcallback_manager\u001b[38;5;241m.\u001b[39mevent(\n\u001b[1;32m    226\u001b[0m         CBEventType\u001b[38;5;241m.\u001b[39mRETRIEVE,\n\u001b[1;32m    227\u001b[0m         payload\u001b[38;5;241m=\u001b[39m{EventPayload\u001b[38;5;241m.\u001b[39mQUERY_STR: query_bundle\u001b[38;5;241m.\u001b[39mquery_str},\n\u001b[1;32m    228\u001b[0m     ) \u001b[38;5;28;01mas\u001b[39;00m retrieve_event:\n\u001b[0;32m--> 229\u001b[0m         nodes \u001b[38;5;241m=\u001b[39m \u001b[38;5;28;43mself\u001b[39;49m\u001b[38;5;241;43m.\u001b[39;49m\u001b[43m_retrieve\u001b[49m\u001b[43m(\u001b[49m\u001b[43mquery_bundle\u001b[49m\u001b[43m)\u001b[49m\n\u001b[1;32m    230\u001b[0m         nodes \u001b[38;5;241m=\u001b[39m \u001b[38;5;28mself\u001b[39m\u001b[38;5;241m.\u001b[39m_handle_recursive_retrieval(query_bundle, nodes)\n\u001b[1;32m    231\u001b[0m         retrieve_event\u001b[38;5;241m.\u001b[39mon_end(\n\u001b[1;32m    232\u001b[0m             payload\u001b[38;5;241m=\u001b[39m{EventPayload\u001b[38;5;241m.\u001b[39mNODES: nodes},\n\u001b[1;32m    233\u001b[0m         )\n",
      "File \u001b[0;32m~/anaconda3/envs/rag/lib/python3.11/site-packages/llama_index/core/retrievers/router_retriever.py:110\u001b[0m, in \u001b[0;36mRouterRetriever._retrieve\u001b[0;34m(self, query_bundle)\u001b[0m\n\u001b[1;32m    107\u001b[0m     \u001b[38;5;28;01mexcept\u001b[39;00m \u001b[38;5;167;01mValueError\u001b[39;00m \u001b[38;5;28;01mas\u001b[39;00m e:\n\u001b[1;32m    108\u001b[0m         \u001b[38;5;28;01mraise\u001b[39;00m \u001b[38;5;167;01mValueError\u001b[39;00m(\u001b[38;5;124m\"\u001b[39m\u001b[38;5;124mFailed to select retriever\u001b[39m\u001b[38;5;124m\"\u001b[39m) \u001b[38;5;28;01mfrom\u001b[39;00m \u001b[38;5;21;01me\u001b[39;00m\n\u001b[0;32m--> 110\u001b[0m     cur_results \u001b[38;5;241m=\u001b[39m \u001b[43mselected_retriever\u001b[49m\u001b[38;5;241;43m.\u001b[39;49m\u001b[43mretrieve\u001b[49m\u001b[43m(\u001b[49m\u001b[43mquery_bundle\u001b[49m\u001b[43m)\u001b[49m\n\u001b[1;32m    111\u001b[0m     retrieved_results \u001b[38;5;241m=\u001b[39m {n\u001b[38;5;241m.\u001b[39mnode\u001b[38;5;241m.\u001b[39mnode_id: n \u001b[38;5;28;01mfor\u001b[39;00m n \u001b[38;5;129;01min\u001b[39;00m cur_results}\n\u001b[1;32m    113\u001b[0m query_event\u001b[38;5;241m.\u001b[39mon_end(payload\u001b[38;5;241m=\u001b[39m{EventPayload\u001b[38;5;241m.\u001b[39mNODES: retrieved_results\u001b[38;5;241m.\u001b[39mvalues()})\n",
      "File \u001b[0;32m~/anaconda3/envs/rag/lib/python3.11/site-packages/llama_index/core/base/base_retriever.py:229\u001b[0m, in \u001b[0;36mBaseRetriever.retrieve\u001b[0;34m(self, str_or_query_bundle)\u001b[0m\n\u001b[1;32m    224\u001b[0m \u001b[38;5;28;01mwith\u001b[39;00m \u001b[38;5;28mself\u001b[39m\u001b[38;5;241m.\u001b[39mcallback_manager\u001b[38;5;241m.\u001b[39mas_trace(\u001b[38;5;124m\"\u001b[39m\u001b[38;5;124mquery\u001b[39m\u001b[38;5;124m\"\u001b[39m):\n\u001b[1;32m    225\u001b[0m     \u001b[38;5;28;01mwith\u001b[39;00m \u001b[38;5;28mself\u001b[39m\u001b[38;5;241m.\u001b[39mcallback_manager\u001b[38;5;241m.\u001b[39mevent(\n\u001b[1;32m    226\u001b[0m         CBEventType\u001b[38;5;241m.\u001b[39mRETRIEVE,\n\u001b[1;32m    227\u001b[0m         payload\u001b[38;5;241m=\u001b[39m{EventPayload\u001b[38;5;241m.\u001b[39mQUERY_STR: query_bundle\u001b[38;5;241m.\u001b[39mquery_str},\n\u001b[1;32m    228\u001b[0m     ) \u001b[38;5;28;01mas\u001b[39;00m retrieve_event:\n\u001b[0;32m--> 229\u001b[0m         nodes \u001b[38;5;241m=\u001b[39m \u001b[38;5;28;43mself\u001b[39;49m\u001b[38;5;241;43m.\u001b[39;49m\u001b[43m_retrieve\u001b[49m\u001b[43m(\u001b[49m\u001b[43mquery_bundle\u001b[49m\u001b[43m)\u001b[49m\n\u001b[1;32m    230\u001b[0m         nodes \u001b[38;5;241m=\u001b[39m \u001b[38;5;28mself\u001b[39m\u001b[38;5;241m.\u001b[39m_handle_recursive_retrieval(query_bundle, nodes)\n\u001b[1;32m    231\u001b[0m         retrieve_event\u001b[38;5;241m.\u001b[39mon_end(\n\u001b[1;32m    232\u001b[0m             payload\u001b[38;5;241m=\u001b[39m{EventPayload\u001b[38;5;241m.\u001b[39mNODES: nodes},\n\u001b[1;32m    233\u001b[0m         )\n",
      "File \u001b[0;32m~/anaconda3/envs/rag/lib/python3.11/site-packages/llama_index/retrievers/bm25/base.py:94\u001b[0m, in \u001b[0;36mBM25Retriever._retrieve\u001b[0;34m(self, query_bundle)\u001b[0m\n\u001b[1;32m     91\u001b[0m \u001b[38;5;28;01mif\u001b[39;00m query_bundle\u001b[38;5;241m.\u001b[39mcustom_embedding_strs \u001b[38;5;129;01mor\u001b[39;00m query_bundle\u001b[38;5;241m.\u001b[39membedding:\n\u001b[1;32m     92\u001b[0m     logger\u001b[38;5;241m.\u001b[39mwarning(\u001b[38;5;124m\"\u001b[39m\u001b[38;5;124mBM25Retriever does not support embeddings, skipping...\u001b[39m\u001b[38;5;124m\"\u001b[39m)\n\u001b[0;32m---> 94\u001b[0m scored_nodes \u001b[38;5;241m=\u001b[39m \u001b[38;5;28;43mself\u001b[39;49m\u001b[38;5;241;43m.\u001b[39;49m\u001b[43m_get_scored_nodes\u001b[49m\u001b[43m(\u001b[49m\u001b[43mquery_bundle\u001b[49m\u001b[38;5;241;43m.\u001b[39;49m\u001b[43mquery_str\u001b[49m\u001b[43m)\u001b[49m\n\u001b[1;32m     96\u001b[0m \u001b[38;5;66;03m# Sort and get top_k nodes, score range => 0..1, closer to 1 means more relevant\u001b[39;00m\n\u001b[1;32m     97\u001b[0m nodes \u001b[38;5;241m=\u001b[39m \u001b[38;5;28msorted\u001b[39m(scored_nodes, key\u001b[38;5;241m=\u001b[39m\u001b[38;5;28;01mlambda\u001b[39;00m x: x\u001b[38;5;241m.\u001b[39mscore \u001b[38;5;129;01mor\u001b[39;00m \u001b[38;5;241m0.0\u001b[39m, reverse\u001b[38;5;241m=\u001b[39m\u001b[38;5;28;01mTrue\u001b[39;00m)\n",
      "File \u001b[0;32m~/anaconda3/envs/rag/lib/python3.11/site-packages/llama_index/retrievers/bm25/base.py:86\u001b[0m, in \u001b[0;36mBM25Retriever._get_scored_nodes\u001b[0;34m(self, query)\u001b[0m\n\u001b[1;32m     84\u001b[0m nodes: List[NodeWithScore] \u001b[38;5;241m=\u001b[39m []\n\u001b[1;32m     85\u001b[0m \u001b[38;5;28;01mfor\u001b[39;00m i, node \u001b[38;5;129;01min\u001b[39;00m \u001b[38;5;28menumerate\u001b[39m(\u001b[38;5;28mself\u001b[39m\u001b[38;5;241m.\u001b[39m_nodes):\n\u001b[0;32m---> 86\u001b[0m     nodes\u001b[38;5;241m.\u001b[39mappend(\u001b[43mNodeWithScore\u001b[49m\u001b[43m(\u001b[49m\u001b[43mnode\u001b[49m\u001b[38;5;241;43m=\u001b[39;49m\u001b[43mnode\u001b[49m\u001b[43m,\u001b[49m\u001b[43m \u001b[49m\u001b[43mscore\u001b[49m\u001b[38;5;241;43m=\u001b[39;49m\u001b[43mdoc_scores\u001b[49m\u001b[43m[\u001b[49m\u001b[43mi\u001b[49m\u001b[43m]\u001b[49m\u001b[43m)\u001b[49m)\n\u001b[1;32m     88\u001b[0m \u001b[38;5;28;01mreturn\u001b[39;00m nodes\n",
      "File \u001b[0;32m~/anaconda3/envs/rag/lib/python3.11/site-packages/pydantic/v1/main.py:341\u001b[0m, in \u001b[0;36mBaseModel.__init__\u001b[0;34m(__pydantic_self__, **data)\u001b[0m\n\u001b[1;32m    339\u001b[0m values, fields_set, validation_error \u001b[38;5;241m=\u001b[39m validate_model(__pydantic_self__\u001b[38;5;241m.\u001b[39m\u001b[38;5;18m__class__\u001b[39m, data)\n\u001b[1;32m    340\u001b[0m \u001b[38;5;28;01mif\u001b[39;00m validation_error:\n\u001b[0;32m--> 341\u001b[0m     \u001b[38;5;28;01mraise\u001b[39;00m validation_error\n\u001b[1;32m    342\u001b[0m \u001b[38;5;28;01mtry\u001b[39;00m:\n\u001b[1;32m    343\u001b[0m     object_setattr(__pydantic_self__, \u001b[38;5;124m'\u001b[39m\u001b[38;5;124m__dict__\u001b[39m\u001b[38;5;124m'\u001b[39m, values)\n",
      "\u001b[0;31mValidationError\u001b[0m: 1 validation error for NodeWithScore\nnode\n  Can't instantiate abstract class BaseNode with abstract methods get_content, get_metadata_str, get_type, hash, set_content (type=type_error)"
     ]
    }
   ],
   "source": [
    "# will retrieve all context from the author's life\n",
    "nodes = retriever.retrieve(\n",
    "    \"What are various types of doshas in ayurveda\"\n",
    ")\n",
    "for node in nodes:\n",
    "    display_source_node(node)"
   ]
  },
  {
   "cell_type": "code",
   "execution_count": 12,
   "metadata": {},
   "outputs": [
    {
     "data": {
      "text/plain": [
       "(llama_index.core.schema.TextNode,\n",
       " llama_index.core.schema.BaseNode,\n",
       " llama_index.core.schema.BaseComponent,\n",
       " pydantic.v1.main.BaseModel,\n",
       " pydantic.v1.utils.Representation,\n",
       " object)"
      ]
     },
     "execution_count": 12,
     "metadata": {},
     "output_type": "execute_result"
    }
   ],
   "source": [
    "#mro of nodes[0]\n",
    "nodes[0].__class__.__mro__"
   ]
  },
  {
   "cell_type": "code",
   "execution_count": null,
   "metadata": {},
   "outputs": [],
   "source": []
  }
 ],
 "metadata": {
  "kernelspec": {
   "display_name": "rag",
   "language": "python",
   "name": "python3"
  },
  "language_info": {
   "codemirror_mode": {
    "name": "ipython",
    "version": 3
   },
   "file_extension": ".py",
   "mimetype": "text/x-python",
   "name": "python",
   "nbconvert_exporter": "python",
   "pygments_lexer": "ipython3",
   "version": "3.11.7"
  }
 },
 "nbformat": 4,
 "nbformat_minor": 2
}
