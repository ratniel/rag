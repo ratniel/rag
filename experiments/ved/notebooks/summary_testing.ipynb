{
 "cells": [
  {
   "cell_type": "code",
   "execution_count": 10,
   "metadata": {},
   "outputs": [],
   "source": [
    "from ved_src.retreival_utils import swap_summary_text\n",
    "from src.indexing_utils import load_docs, create_docstore"
   ]
  },
  {
   "cell_type": "code",
   "execution_count": 11,
   "metadata": {},
   "outputs": [
    {
     "data": {
      "text/plain": [
       "427"
      ]
     },
     "execution_count": 11,
     "metadata": {},
     "output_type": "execute_result"
    }
   ],
   "source": [
    "nodes = load_docs('../../storage/new_nodes', return_docstore=False)\n",
    "len(nodes)"
   ]
  },
  {
   "cell_type": "code",
   "execution_count": 12,
   "metadata": {},
   "outputs": [],
   "source": [
    "for node in nodes:\n",
    "    node.metadata['is_summary_swapped'] = False"
   ]
  },
  {
   "cell_type": "code",
   "execution_count": 24,
   "metadata": {},
   "outputs": [],
   "source": [
    "nodes = swap_summary_text(nodes)"
   ]
  },
  {
   "cell_type": "code",
   "execution_count": 25,
   "metadata": {},
   "outputs": [
    {
     "data": {
      "text/plain": [
       "True"
      ]
     },
     "execution_count": 25,
     "metadata": {},
     "output_type": "execute_result"
    }
   ],
   "source": [
    "nodes[0].metadata['is_summary_swapped']"
   ]
  },
  {
   "cell_type": "code",
   "execution_count": 26,
   "metadata": {},
   "outputs": [
    {
     "data": {
      "text/plain": [
       "'Aamadosha Chikitsaa Reference: C.Vi.2, A.H.Su.13 Introduction: Aama is an undigested food. Due to lack of Agnibala (Weak digestive power), the partially undigested food, which remains in Aantra, vitiated due to Dosha is called as Aama. It is the root cause for the development of majority of intrinsic diseases. Saamaanya Chikitsaa: Apatarpan`a is advisable as primary treatment. Apatarpan`a is not advisable always. Following regime should be administered. Paachana, Deepana, Snehana and Svedana followed by the appropriate type of S`hodhana should be administered. For Deepana Paachana Sneha Dravya having Paachana property predominantly and Deepana property partially. Paachana results in digestion of Aama. Due to Deepana Aaama gets separated from the Dhaatu. Snehana results in Utkleshana. Svedana administered after this leads the movement of Aama towards the Kosht`ha. This Aama should now be eliminated out of the body through the nearest possible path by administering appropriate S`hodhana. S`hodhana For Aamaas`hayatha Aama -Through oral root For Urdhvajatrugata Aama - Through nasal root. For Pakvaashayastha Aama - Through anal root. Aavasthika Chikitsaa: Special Precautions (Chikitsaa Nishedha): S`hodhana Chikitsaa should be avoided in following conditions. S`hodhana Chikitsaa should be avoided in Saamadosha which are scattered all over the body (Leena) or clung to Dhaatu or which are not mobile (Anutklishat`a). Saamadosha which have spontaneously become mobile either upward or downwards should not be treated with S`hamana Chikitsaa. (Saama Dosha which have become spontaneously mobile and being eliminated from oral or anus should not be arrested in the initial stage) Properties of usual diet: Normally diet should be digested properly and there should not be any symptom like Hridaya Uparodha, Kukshee Peed`ana, Paars`hva Vipaat`ana, Udara Gaurava, or Indriya Apreen`ana. If diet is taken in a small amount, which does not fulfill hunger, then it is called Heenamaatraas`hana. Search Anveshaka: Search Kalpa, Dravya, Aahaara, Vihaara, Chikitsaa Karma Vyaadhi = Aamadosha Karma = Paachana, Deepana'"
      ]
     },
     "execution_count": 26,
     "metadata": {},
     "output_type": "execute_result"
    }
   ],
   "source": [
    "nodes[0].metadata['summary']"
   ]
  },
  {
   "cell_type": "code",
   "execution_count": 27,
   "metadata": {},
   "outputs": [
    {
     "data": {
      "text/plain": [
       "<llama_index.core.storage.docstore.simple_docstore.SimpleDocumentStore at 0x7f04ff31b110>"
      ]
     },
     "execution_count": 27,
     "metadata": {},
     "output_type": "execute_result"
    }
   ],
   "source": [
    "create_docstore(nodes, '../../storage', 'swapped_summary_nodes')"
   ]
  }
 ],
 "metadata": {
  "kernelspec": {
   "display_name": "rag",
   "language": "python",
   "name": "python3"
  },
  "language_info": {
   "codemirror_mode": {
    "name": "ipython",
    "version": 3
   },
   "file_extension": ".py",
   "mimetype": "text/x-python",
   "name": "python",
   "nbconvert_exporter": "python",
   "pygments_lexer": "ipython3",
   "version": "3.11.7"
  }
 },
 "nbformat": 4,
 "nbformat_minor": 2
}
