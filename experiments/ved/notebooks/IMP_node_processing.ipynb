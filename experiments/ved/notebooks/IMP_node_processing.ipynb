{
 "cells": [
  {
   "cell_type": "code",
   "execution_count": 1,
   "metadata": {},
   "outputs": [],
   "source": [
    "from ved_src.node_processing_utils import delete_short_nodes, embed_nodes, combine_summary_text\n",
    "from src.indexing_utils import load_docs"
   ]
  },
  {
   "cell_type": "code",
   "execution_count": 2,
   "metadata": {},
   "outputs": [],
   "source": [
    "nodes = load_docs(\"../../../storage/docstore/summary_nodes\", return_docstore=False)"
   ]
  },
  {
   "cell_type": "code",
   "execution_count": 3,
   "metadata": {},
   "outputs": [
    {
     "data": {
      "text/plain": [
       "427"
      ]
     },
     "execution_count": 3,
     "metadata": {},
     "output_type": "execute_result"
    }
   ],
   "source": [
    "len(nodes)"
   ]
  },
  {
   "cell_type": "code",
   "execution_count": 4,
   "metadata": {},
   "outputs": [],
   "source": [
    "nodes = delete_short_nodes(nodes, 200)"
   ]
  },
  {
   "cell_type": "code",
   "execution_count": 5,
   "metadata": {},
   "outputs": [
    {
     "name": "stderr",
     "output_type": "stream",
     "text": [
      "Processing nodes:   0%|          | 0/419 [00:00<?, ?node/s]"
     ]
    },
    {
     "name": "stderr",
     "output_type": "stream",
     "text": [
      "Processing nodes: 100%|██████████| 419/419 [03:15<00:00,  2.15node/s]\n"
     ]
    }
   ],
   "source": [
    "nodes = embed_nodes(nodes)"
   ]
  },
  {
   "cell_type": "code",
   "execution_count": 6,
   "metadata": {},
   "outputs": [],
   "source": [
    "nodes = combine_summary_text(nodes)"
   ]
  },
  {
   "cell_type": "code",
   "execution_count": null,
   "metadata": {},
   "outputs": [],
   "source": [
    "from ved_src.utils import create_docstore\n",
    "create_docstore(nodes, \"./rag/storage/docstore\", \"article_nodes_embedded_combined\")"
   ]
  },
  {
   "cell_type": "code",
   "execution_count": null,
   "metadata": {},
   "outputs": [],
   "source": []
  },
  {
   "cell_type": "code",
   "execution_count": null,
   "metadata": {},
   "outputs": [],
   "source": [
    "import pandas as pd\n",
    "\n",
    "# Assuming 'nodes' is your list of nodes\n",
    "data = [{'id': node.id_, 'text': node.text, 'metadata': node.metadata, 'embedding':node.embedding} for node in nodes]\n",
    "\n",
    "df = pd.DataFrame(data)"
   ]
  },
  {
   "cell_type": "code",
   "execution_count": 8,
   "metadata": {},
   "outputs": [],
   "source": [
    "from llama_index.core import SimpleDirectoryReader, VectorStoreIndex, StorageContext, load_index_from_storage\n",
    "from llama_index.embeddings.gemini import GeminiEmbedding\n",
    "from llama_index.llms.gemini import Gemini\n",
    "from llama_index.core import Settings\n",
    "\n",
    "Settings.embed_model = GeminiEmbedding(model_name='models/embedding-001')\n",
    "Settings.llm = Gemini(model_name='models/gemini-pro', temperature=0.5)"
   ]
  },
  {
   "cell_type": "code",
   "execution_count": 9,
   "metadata": {},
   "outputs": [],
   "source": [
    "index = VectorStoreIndex(nodes, embed_model=None)"
   ]
  },
  {
   "cell_type": "code",
   "execution_count": null,
   "metadata": {},
   "outputs": [],
   "source": [
    "# query_engine = index.as_query_engine(llm = Settings.llm, similarity_top_k=4)"
   ]
  },
  {
   "cell_type": "code",
   "execution_count": null,
   "metadata": {},
   "outputs": [],
   "source": [
    "# response = query_engine.query(\"What are doshas according to Ayurveda?\")"
   ]
  },
  {
   "cell_type": "code",
   "execution_count": null,
   "metadata": {},
   "outputs": [
    {
     "name": "stdout",
     "output_type": "stream",
     "text": [
      "Final Response: According to Ayurveda, doshas are three fundamental\n",
      "elements in the body: Vata, Pitta, and Kapha. They govern bodily\n",
      "functions and are composed of the five elements: space, air, fire,\n",
      "water, and earth.\n",
      "______________________________________________________________________\n",
      "Source Node 1/4\n",
      "Node ID: f0153eec-5bad-435c-be45-fcd89561dc29\n",
      "Similarity: 0.8459062533623224\n",
      "Text: Ayurvedic medicine, a traditional Indian system of medicine,\n",
      "emphasizes the balance of three doshas: Vata, Pitta, and Kapha. These\n",
      "doshas are believed to govern various functions in the body, and\n",
      "imbalances can lead to disease. Ayurveda also places great importance\n",
      "on diet and lifestyle, with specific recommendations for different\n",
      "body types and...\n",
      "______________________________________________________________________\n",
      "Source Node 2/4\n",
      "Node ID: 83eafeb7-15b5-4737-b7ee-8dbcb8ed4aa6\n",
      "Similarity: 0.8154234774027838\n",
      "Text: Ayurveda, an ancient Indian medical system, views the human body\n",
      "as a microcosm of the universe. It believes that the body contains the\n",
      "same elements and forces as the universe, and that these elements and\n",
      "forces interact in a similar way.  The five elements of the universe -\n",
      "earth, water, fire, air, and ether - are also present in the body.\n",
      "The...\n",
      "______________________________________________________________________\n",
      "Source Node 3/4\n",
      "Node ID: e6d84e13-b51d-4e32-9506-6e79b72b0c29\n",
      "Similarity: 0.8016264641053135\n",
      "Text: Ayurveda is a traditional Indian system of medicine that\n",
      "emphasizes the balance of three doshas: Vata, Pitta, and Kapha. These\n",
      "doshas are believed to govern various bodily functions and imbalances\n",
      "in these doshas can lead to various health conditions.  In Ayurveda,\n",
      "the treatment of dosha imbalances involves addressing the specific\n",
      "dosha that is ...\n",
      "______________________________________________________________________\n",
      "Source Node 4/4\n",
      "Node ID: 3a4c1d53-82d4-4880-a53e-f88f2c34b7ad\n",
      "Similarity: 0.7820307646983328\n",
      "Text: Ayurveda, an ancient Indian medical science, focuses on\n",
      "maintaining health and treating diseases. It emphasizes the balance of\n",
      "three fundamental elements in the body: Doshas (Vata, Pitta, and\n",
      "Kapha), Dhatus (tissues), and Malas (waste products).  Doshas govern\n",
      "bodily functions and are composed of the five elements: space, air,\n",
      "fire, water, and e...\n"
     ]
    }
   ],
   "source": [
    "# from llama_index.legacy.response.pprint_utils import pprint_response\n",
    "# pprint_response(response,show_source=True)"
   ]
  },
  {
   "cell_type": "code",
   "execution_count": 12,
   "metadata": {},
   "outputs": [
    {
     "data": {
      "text/plain": [
       "\"Doshas are the three humors or elements that control the body's functions and determine its health according to Ayurveda.\""
      ]
     },
     "execution_count": 12,
     "metadata": {},
     "output_type": "execute_result"
    }
   ],
   "source": [
    "chat_engine = index.as_chat_engine()\n",
    "response = chat_engine.chat(\"What are doshas according to Ayurveda?\")\n",
    "response.response"
   ]
  },
  {
   "cell_type": "code",
   "execution_count": 13,
   "metadata": {},
   "outputs": [],
   "source": [
    "response = chat_engine.chat(\"can you explain in more detail about the doshas?\")"
   ]
  },
  {
   "cell_type": "code",
   "execution_count": 14,
   "metadata": {},
   "outputs": [
    {
     "data": {
      "text/plain": [
       "\"Doshas are the three humors or elements that control the body's functions and determine its health according to Ayurveda. The three doshas are Vata, Pitta, and Kapha. Vata is composed of air and ether, Pitta is composed of fire and water, and Kapha is composed of earth and water. Imbalances in these doshas can lead to disease.\""
      ]
     },
     "execution_count": 14,
     "metadata": {},
     "output_type": "execute_result"
    }
   ],
   "source": [
    "response.response"
   ]
  },
  {
   "cell_type": "code",
   "execution_count": null,
   "metadata": {},
   "outputs": [],
   "source": []
  }
 ],
 "metadata": {
  "kernelspec": {
   "display_name": "rag",
   "language": "python",
   "name": "python3"
  },
  "language_info": {
   "codemirror_mode": {
    "name": "ipython",
    "version": 3
   },
   "file_extension": ".py",
   "mimetype": "text/x-python",
   "name": "python",
   "nbconvert_exporter": "python",
   "pygments_lexer": "ipython3",
   "version": "3.11.7"
  }
 },
 "nbformat": 4,
 "nbformat_minor": 2
}
