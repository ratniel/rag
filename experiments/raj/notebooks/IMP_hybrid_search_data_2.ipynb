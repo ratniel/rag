{
 "cells": [
  {
   "cell_type": "code",
   "execution_count": 1,
   "metadata": {},
   "outputs": [
    {
     "name": "stderr",
     "output_type": "stream",
     "text": [
      "/home/dai/anaconda3/envs/ragenv/lib/python3.11/site-packages/weaviate/__init__.py:128: DeprecationWarning: Dep010: Importing AuthApiKey from weaviate is deprecated. Please import it from its specific module: weaviate.auth\n",
      "  _Warnings.root_module_import(name, map_[name])\n",
      "/home/dai/anaconda3/envs/ragenv/lib/python3.11/site-packages/weaviate/warnings.py:158: DeprecationWarning: Dep016: You are using the Weaviate v3 client, which is deprecated.\n",
      "            Consider upgrading to the new and improved v4 client instead!\n",
      "            See here for usage: https://weaviate.io/developers/weaviate/client-libraries/python\n",
      "            \n",
      "  warnings.warn(\n"
     ]
    }
   ],
   "source": [
    "import weaviate\n",
    "from llama_index.core import Settings, StorageContext, VectorStoreIndex\n",
    "from llama_index.embeddings.gemini import GeminiEmbedding\n",
    "from llama_index.llms.gemini import Gemini\n",
    "from llama_index.vector_stores.weaviate import WeaviateVectorStore\n",
    "\n",
    "from src.indexing_utils import load_docs\n",
    "\n",
    "Settings.embed_model = GeminiEmbedding(model_name='models/embedding-001', task_type=\"retrieval_query\")\n",
    "Settings.llm = Gemini(model_name='models/gemini-pro', temperature=0.5)\n",
    "\n",
    "# Connect to local instance\n",
    "client = weaviate.Client(\"http://localhost:8080\")"
   ]
  },
  {
   "cell_type": "markdown",
   "metadata": {},
   "source": [
    "### Load documents"
   ]
  },
  {
   "cell_type": "code",
   "execution_count": 2,
   "metadata": {},
   "outputs": [],
   "source": [
    "nodes = load_docs(path=\"/home/dai/33/project/rag/storage/docstore/Articles_with_embeddings_on_chunks\",\n",
    "                  return_docstore=False)"
   ]
  },
  {
   "cell_type": "code",
   "execution_count": 3,
   "metadata": {},
   "outputs": [],
   "source": [
    "vector_store = WeaviateVectorStore(weaviate_client=client, index_name=\"LlamaIndex_articles\")\n",
    "storage_context = StorageContext.from_defaults(vector_store=vector_store)\n",
    "index = VectorStoreIndex(nodes=nodes, storage_context=storage_context)"
   ]
  },
  {
   "cell_type": "code",
   "execution_count": 4,
   "metadata": {},
   "outputs": [],
   "source": [
    "# Query Index with Hybrid Search as chat engine\n",
    "chat_engine = index.as_chat_engine(\n",
    "    vector_store_query_mode=\"hybrid\", similarity_top_k=2, alpha=0.5, chat_mode=\"condense_plus_context\"\n",
    ")"
   ]
  },
  {
   "cell_type": "code",
   "execution_count": 5,
   "metadata": {},
   "outputs": [
    {
     "name": "stdout",
     "output_type": "stream",
     "text": [
      "Anukta Dravya Vichaara is an important Ayurvedic subject that investigates the properties of food items not directly or specifically mentioned in Ayurvedic texts. It involves examining the potential role of these foods in human diets."
     ]
    }
   ],
   "source": [
    "streaming_response = chat_engine.stream_chat(\"What is the Anukta Dravya Vichaara?\")\n",
    "for token in streaming_response.response_gen:\n",
    "    print(token, end=\"\")"
   ]
  },
  {
   "cell_type": "code",
   "execution_count": 6,
   "metadata": {},
   "outputs": [
    {
     "name": "stdout",
     "output_type": "stream",
     "text": [
      "Final Response: Anukta Dravya Vichaara is an important Ayurvedic\n",
      "subject that investigates the properties of food items not directly or\n",
      "specifically mentioned in Ayurvedic texts. It involves examining the\n",
      "potential role of these foods in human diets.\n",
      "______________________________________________________________________\n",
      "Source Node 1/2\n",
      "Node ID: 39f5a408-f55b-4ccf-9f0a-12afcbfbcb4d\n",
      "Similarity: 0.983606558\n",
      "Text: Anukta Dravya Vichaara Vd.Shreeprasad Bavdekar  Ph.D. (Ayurveda)\n",
      "Introduction: Ayurveda, as the name suggests, is the Veda of life. It\n",
      "involves the discussion of every aspect related to human life. As\n",
      "mentioned in Charaka Samhitaa, Hitaahitam Sukham Duhkham Aayustasya\n",
      "Hitaahitam..C.Su. 1/41 [That is named the Veda of life, wherein is\n",
      "told the g...\n",
      "______________________________________________________________________\n",
      "Source Node 2/2\n",
      "Node ID: f0f89eca-5fa3-4878-8d1f-69bfff23d335\n",
      "Similarity: 0.984122984\n",
      "Text: If it is done, Sita milk in the hot state would become Viruddha,\n",
      "and as the Paanaka etc include sweet and sour tastes, may become Rasa\n",
      "Viruddha.) Works related to the subject Some modern works related to\n",
      "the Anukta Dravya Vichaara are as follows A) Articles, dissertations\n",
      "etc. Study of Bakery products. Dr. S. R. Sale Study of Groundnut oil.\n",
      "Dr. ...\n"
     ]
    },
    {
     "name": "stderr",
     "output_type": "stream",
     "text": [
      "/home/dai/anaconda3/envs/ragenv/lib/python3.11/site-packages/llama_index/legacy/download/module.py:13: DeprecationWarning: pkg_resources is deprecated as an API. See https://setuptools.pypa.io/en/latest/pkg_resources.html\n",
      "  import pkg_resources\n",
      "/home/dai/anaconda3/envs/ragenv/lib/python3.11/site-packages/pkg_resources/__init__.py:2871: DeprecationWarning: Deprecated call to `pkg_resources.declare_namespace('google')`.\n",
      "Implementing implicit namespace packages (as specified in PEP 420) is preferred to `pkg_resources.declare_namespace`. See https://setuptools.pypa.io/en/latest/references/keywords.html#keyword-namespace-packages\n",
      "  declare_namespace(pkg)\n"
     ]
    }
   ],
   "source": [
    "from llama_index.legacy.response.pprint_utils import pprint_response\n",
    "pprint_response(streaming_response,show_source=True)"
   ]
  }
 ],
 "metadata": {
  "kernelspec": {
   "display_name": "ragenv",
   "language": "python",
   "name": "python3"
  },
  "language_info": {
   "codemirror_mode": {
    "name": "ipython",
    "version": 3
   },
   "file_extension": ".py",
   "mimetype": "text/x-python",
   "name": "python",
   "nbconvert_exporter": "python",
   "pygments_lexer": "ipython3",
   "version": "3.11.7"
  }
 },
 "nbformat": 4,
 "nbformat_minor": 2
}
