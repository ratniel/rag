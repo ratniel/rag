{
 "cells": [
  {
   "cell_type": "code",
   "execution_count": 1,
   "metadata": {},
   "outputs": [],
   "source": [
    "from src.indexing_utils import load_docs\n",
    "from llama_index.core import VectorStoreIndex\n",
    "from llama_index.embeddings.gemini import GeminiEmbedding\n",
    "from llama_index.llms.gemini import Gemini\n",
    "from llama_index.core import Settings\n",
    "\n",
    "Settings.embed_model = GeminiEmbedding(model_name='models/embedding-001')\n",
    "Settings.llm = Gemini(model_name='models/gemini-pro', temperature=0.5)"
   ]
  },
  {
   "cell_type": "code",
   "execution_count": 3,
   "metadata": {},
   "outputs": [],
   "source": [
    "nodes = load_docs(\"/home/dai/33/project/rag/storage/docstore/article_nodes_embedded_combined\")"
   ]
  },
  {
   "cell_type": "code",
   "execution_count": 29,
   "metadata": {},
   "outputs": [],
   "source": [
    "index = VectorStoreIndex(nodes, embed_model=None)\n",
    "\n",
    "# TODO: check the list of chat modes: simple, best, condense_question, context, condense_plus_context\n",
    "chat_engine = index.as_chat_engine(chat_mode=\"condense_plus_context\")"
   ]
  },
  {
   "cell_type": "code",
   "execution_count": 30,
   "metadata": {},
   "outputs": [
    {
     "name": "stdout",
     "output_type": "stream",
     "text": [
      "Abhyanga is an Ayurvedic massage therapy that involves massaging the body with warm, medicated oils. It is typically done in the morning after sunrise and can be done daily for healthy individuals. The type of oil used depends on the season and the individual's constitution. The massage should be done in a specific direction and for a specific amount of time to achieve the desired benefits. These benefits include reducing fatigue, improving circulation, strengthening the skin, and promoting relaxation. Abhyanga can also be used as a pre-procedure for Panchakarma, a more intensive Ayurvedic detoxification therapy.\n",
      "\n",
      "Here are the steps on how to perform Abhyanga:\n",
      "\n",
      "1. Prepare the body by evacuating the bowels and urine.\n",
      "2. Choose the appropriate oil based on the season and the individual's constitution.\n",
      "3. Warm the oil and apply it to the body in a lukewarm state.\n",
      "4. Massage the body in an Anuloma direction, which is in the direction of hair growth.\n",
      "5. Massage the joints in a circular direction.\n",
      "6. Massage the muscles in the direction of their origin and insertion.\n",
      "7. Massage the lymphatic drainage system in the direction of the lymph nodes.\n",
      "8. Massage the vital parts, such as the heart and lungs, with care.\n",
      "9. Massage the whole body for at least 15 to 35 minutes.\n",
      "10. When massaging a specific part of the body, massage for at least 5 minutes.\n",
      "11. Give the patient the following positions sequentially:\n",
      "    * Sitting position with legs stretched completely.\n",
      "    * Sleeping in a supine position.\n",
      "    * Sleeping in left lateral position.\n",
      "    * Sleeping in a prone position.\n",
      "    * Sleeping in right lateral position.\n",
      "    * Sleeping in a supine position.\n",
      "    * Sitting position with legs stretched completely.\n",
      "12. After the massage, apply fomentation if advised.\n",
      "13. Let the patient rest for 15 to 20 minutes.\n",
      "14. Remove the oil by mopping it with a towel dipped in hot water.\n",
      "15. Take a hot water bath with the application of gram flour instead of soap.\n",
      "16. Use an astringent substance to remove any excess oil.\n",
      "\n",
      "If the Abhyanga is to be administered over a wound, the following additional steps should be taken:\n",
      "\n",
      "1. Apply Svedana (fomentation).\n",
      "2. Perform Vimlaapana (cleaning).\n",
      "3. Apply Upanaaha (poultice).\n",
      "4. Perform Paachana (digestion).\n",
      "5. Perform Visraavan`a (evacuation)."
     ]
    }
   ],
   "source": [
    "streaming_response = chat_engine.stream_chat(\"How to massage my body in Ayurveda?\")\n",
    "for token in streaming_response.response_gen:\n",
    "    print(token, end=\"\")"
   ]
  }
 ],
 "metadata": {
  "kernelspec": {
   "display_name": "ragenv",
   "language": "python",
   "name": "python3"
  },
  "language_info": {
   "codemirror_mode": {
    "name": "ipython",
    "version": 3
   },
   "file_extension": ".py",
   "mimetype": "text/x-python",
   "name": "python",
   "nbconvert_exporter": "python",
   "pygments_lexer": "ipython3",
   "version": "3.11.7"
  }
 },
 "nbformat": 4,
 "nbformat_minor": 2
}
