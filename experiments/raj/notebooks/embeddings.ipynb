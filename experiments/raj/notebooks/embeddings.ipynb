{
 "cells": [
  {
   "cell_type": "code",
   "execution_count": 17,
   "metadata": {},
   "outputs": [],
   "source": [
    "from src.indexing_utils import load_docs, create_docstore\n",
    "from llama_index.embeddings.gemini import GeminiEmbedding"
   ]
  },
  {
   "cell_type": "code",
   "execution_count": 15,
   "metadata": {},
   "outputs": [],
   "source": [
    "nodes = load_docs('../../../storage/docstore/summary_nodes', return_docstore=False)"
   ]
  },
  {
   "cell_type": "code",
   "execution_count": 16,
   "metadata": {},
   "outputs": [
    {
     "data": {
      "text/plain": [
       "{'tag': 'p',\n",
       " 'file_path': '/home/dai/rag/data/clean_html/Articles/Chikitsaa/Aamadosha.htm',\n",
       " 'file_name': 'Aamadosha.htm',\n",
       " 'file_type': 'text/html',\n",
       " 'file_size': 2418,\n",
       " 'creation_date': '2024-02-15',\n",
       " 'last_modified_date': '2024-02-14',\n",
       " 'last_accessed_date': '2024-02-15',\n",
       " 'summary': 'Aama is undigested food that, when vitiated by doshas (bodily humors), becomes the root cause of many diseases. Treatment involves improving digestion (paachana), stimulating digestion (deepana), and lubrication (snehana). Sweating (svedana) helps move the aama towards the digestive tract, which is then eliminated through the appropriate route (oral, nasal, or anal) using shodhana (purification). However, shodhana should be avoided when aama is scattered throughout the body, attached to tissues, or immobile. It should also not be used when aama is spontaneously moving upwards or downwards. A balanced diet that is easily digestible and does not cause discomfort is recommended.',\n",
       " 'is_summary_swapped': False}"
      ]
     },
     "execution_count": 16,
     "metadata": {},
     "output_type": "execute_result"
    }
   ],
   "source": [
    "nodes[0].metadata"
   ]
  },
  {
   "cell_type": "code",
   "execution_count": 18,
   "metadata": {},
   "outputs": [
    {
     "data": {
      "text/plain": [
       "<llama_index.core.storage.docstore.simple_docstore.SimpleDocumentStore at 0x7f2bfd124410>"
      ]
     },
     "execution_count": 18,
     "metadata": {},
     "output_type": "execute_result"
    }
   ],
   "source": [
    "# Removing the is_summary_swapped from the metadata and then storing it again\n",
    "for node in nodes:\n",
    "    node.metadata.pop('is_summary_swapped')\n",
    "\n",
    "create_docstore(nodes=nodes, save_dir=\"../../../storage/docstore\", store_name='summary_nodes_modified')"
   ]
  },
  {
   "cell_type": "code",
   "execution_count": 13,
   "metadata": {},
   "outputs": [
    {
     "ename": "KeyboardInterrupt",
     "evalue": "",
     "output_type": "error",
     "traceback": [
      "\u001b[0;31m---------------------------------------------------------------------------\u001b[0m",
      "\u001b[0;31mKeyboardInterrupt\u001b[0m                         Traceback (most recent call last)",
      "\u001b[1;32m/home/dai/33/project/rag/experiments/raj/notebooks/embeddings.ipynb Cell 5\u001b[0m line \u001b[0;36m6\n\u001b[1;32m      <a href='vscode-notebook-cell:/home/dai/33/project/rag/experiments/raj/notebooks/embeddings.ipynb#X13sZmlsZQ%3D%3D?line=3'>4</a>\u001b[0m \u001b[39mfor\u001b[39;00m node \u001b[39min\u001b[39;00m nodes:\n\u001b[1;32m      <a href='vscode-notebook-cell:/home/dai/33/project/rag/experiments/raj/notebooks/embeddings.ipynb#X13sZmlsZQ%3D%3D?line=4'>5</a>\u001b[0m     node\u001b[39m.\u001b[39mmetadata\u001b[39m.\u001b[39mpop(\u001b[39m'\u001b[39m\u001b[39mis_summary_swapped\u001b[39m\u001b[39m'\u001b[39m)\n\u001b[0;32m----> <a href='vscode-notebook-cell:/home/dai/33/project/rag/experiments/raj/notebooks/embeddings.ipynb#X13sZmlsZQ%3D%3D?line=5'>6</a>\u001b[0m     node\u001b[39m.\u001b[39membedding \u001b[39m=\u001b[39m embed_model\u001b[39m.\u001b[39;49mget_text_embedding(node\u001b[39m.\u001b[39;49mmetadata[\u001b[39m'\u001b[39;49m\u001b[39msummary\u001b[39;49m\u001b[39m'\u001b[39;49m])\n",
      "File \u001b[0;32m~/anaconda3/envs/ragenv/lib/python3.11/site-packages/llama_index/core/base/embeddings/base.py:206\u001b[0m, in \u001b[0;36mBaseEmbedding.get_text_embedding\u001b[0;34m(self, text)\u001b[0m\n\u001b[1;32m    195\u001b[0m \u001b[39m\u001b[39m\u001b[39m\"\"\"\u001b[39;00m\n\u001b[1;32m    196\u001b[0m \u001b[39mEmbed the input text.\u001b[39;00m\n\u001b[1;32m    197\u001b[0m \n\u001b[0;32m   (...)\u001b[0m\n\u001b[1;32m    201\u001b[0m \u001b[39mpredefined instructions can be found in embeddings/huggingface_utils.py.\u001b[39;00m\n\u001b[1;32m    202\u001b[0m \u001b[39m\"\"\"\u001b[39;00m\n\u001b[1;32m    203\u001b[0m \u001b[39mwith\u001b[39;00m \u001b[39mself\u001b[39m\u001b[39m.\u001b[39mcallback_manager\u001b[39m.\u001b[39mevent(\n\u001b[1;32m    204\u001b[0m     CBEventType\u001b[39m.\u001b[39mEMBEDDING, payload\u001b[39m=\u001b[39m{EventPayload\u001b[39m.\u001b[39mSERIALIZED: \u001b[39mself\u001b[39m\u001b[39m.\u001b[39mto_dict()}\n\u001b[1;32m    205\u001b[0m ) \u001b[39mas\u001b[39;00m event:\n\u001b[0;32m--> 206\u001b[0m     text_embedding \u001b[39m=\u001b[39m \u001b[39mself\u001b[39;49m\u001b[39m.\u001b[39;49m_get_text_embedding(text)\n\u001b[1;32m    208\u001b[0m     event\u001b[39m.\u001b[39mon_end(\n\u001b[1;32m    209\u001b[0m         payload\u001b[39m=\u001b[39m{\n\u001b[1;32m    210\u001b[0m             EventPayload\u001b[39m.\u001b[39mCHUNKS: [text],\n\u001b[1;32m    211\u001b[0m             EventPayload\u001b[39m.\u001b[39mEMBEDDINGS: [text_embedding],\n\u001b[1;32m    212\u001b[0m         }\n\u001b[1;32m    213\u001b[0m     )\n\u001b[1;32m    215\u001b[0m \u001b[39mreturn\u001b[39;00m text_embedding\n",
      "File \u001b[0;32m~/anaconda3/envs/ragenv/lib/python3.11/site-packages/llama_index/embeddings/gemini/base.py:71\u001b[0m, in \u001b[0;36mGeminiEmbedding._get_text_embedding\u001b[0;34m(self, text)\u001b[0m\n\u001b[1;32m     69\u001b[0m \u001b[39mdef\u001b[39;00m \u001b[39m_get_text_embedding\u001b[39m(\u001b[39mself\u001b[39m, text: \u001b[39mstr\u001b[39m) \u001b[39m-\u001b[39m\u001b[39m>\u001b[39m List[\u001b[39mfloat\u001b[39m]:\n\u001b[1;32m     70\u001b[0m \u001b[39m    \u001b[39m\u001b[39m\"\"\"Get text embedding.\"\"\"\u001b[39;00m\n\u001b[0;32m---> 71\u001b[0m     \u001b[39mreturn\u001b[39;00m \u001b[39mself\u001b[39;49m\u001b[39m.\u001b[39;49m_model\u001b[39m.\u001b[39;49membed_content(\n\u001b[1;32m     72\u001b[0m         model\u001b[39m=\u001b[39;49m\u001b[39mself\u001b[39;49m\u001b[39m.\u001b[39;49mmodel_name,\n\u001b[1;32m     73\u001b[0m         content\u001b[39m=\u001b[39;49mtext,\n\u001b[1;32m     74\u001b[0m         title\u001b[39m=\u001b[39;49m\u001b[39mself\u001b[39;49m\u001b[39m.\u001b[39;49mtitle,\n\u001b[1;32m     75\u001b[0m         task_type\u001b[39m=\u001b[39;49m\u001b[39mself\u001b[39;49m\u001b[39m.\u001b[39;49mtask_type,\n\u001b[1;32m     76\u001b[0m     )[\u001b[39m\"\u001b[39m\u001b[39membedding\u001b[39m\u001b[39m\"\u001b[39m]\n",
      "File \u001b[0;32m~/anaconda3/envs/ragenv/lib/python3.11/site-packages/google/generativeai/embedding.py:164\u001b[0m, in \u001b[0;36membed_content\u001b[0;34m(model, content, task_type, title, client)\u001b[0m\n\u001b[1;32m    160\u001b[0m \u001b[39melse\u001b[39;00m:\n\u001b[1;32m    161\u001b[0m     embedding_request \u001b[39m=\u001b[39m glm\u001b[39m.\u001b[39mEmbedContentRequest(\n\u001b[1;32m    162\u001b[0m         model\u001b[39m=\u001b[39mmodel, content\u001b[39m=\u001b[39mcontent_types\u001b[39m.\u001b[39mto_content(content), task_type\u001b[39m=\u001b[39mtask_type, title\u001b[39m=\u001b[39mtitle\n\u001b[1;32m    163\u001b[0m     )\n\u001b[0;32m--> 164\u001b[0m     embedding_response \u001b[39m=\u001b[39m client\u001b[39m.\u001b[39;49membed_content(embedding_request)\n\u001b[1;32m    165\u001b[0m     embedding_dict \u001b[39m=\u001b[39m \u001b[39mtype\u001b[39m(embedding_response)\u001b[39m.\u001b[39mto_dict(embedding_response)\n\u001b[1;32m    166\u001b[0m     embedding_dict[\u001b[39m\"\u001b[39m\u001b[39membedding\u001b[39m\u001b[39m\"\u001b[39m] \u001b[39m=\u001b[39m embedding_dict[\u001b[39m\"\u001b[39m\u001b[39membedding\u001b[39m\u001b[39m\"\u001b[39m][\u001b[39m\"\u001b[39m\u001b[39mvalues\u001b[39m\u001b[39m\"\u001b[39m]\n",
      "File \u001b[0;32m~/anaconda3/envs/ragenv/lib/python3.11/site-packages/google/ai/generativelanguage_v1beta/services/generative_service/client.py:968\u001b[0m, in \u001b[0;36mGenerativeServiceClient.embed_content\u001b[0;34m(self, request, model, content, retry, timeout, metadata)\u001b[0m\n\u001b[1;32m    963\u001b[0m metadata \u001b[39m=\u001b[39m \u001b[39mtuple\u001b[39m(metadata) \u001b[39m+\u001b[39m (\n\u001b[1;32m    964\u001b[0m     gapic_v1\u001b[39m.\u001b[39mrouting_header\u001b[39m.\u001b[39mto_grpc_metadata(((\u001b[39m\"\u001b[39m\u001b[39mmodel\u001b[39m\u001b[39m\"\u001b[39m, request\u001b[39m.\u001b[39mmodel),)),\n\u001b[1;32m    965\u001b[0m )\n\u001b[1;32m    967\u001b[0m \u001b[39m# Send the request.\u001b[39;00m\n\u001b[0;32m--> 968\u001b[0m response \u001b[39m=\u001b[39m rpc(\n\u001b[1;32m    969\u001b[0m     request,\n\u001b[1;32m    970\u001b[0m     retry\u001b[39m=\u001b[39;49mretry,\n\u001b[1;32m    971\u001b[0m     timeout\u001b[39m=\u001b[39;49mtimeout,\n\u001b[1;32m    972\u001b[0m     metadata\u001b[39m=\u001b[39;49mmetadata,\n\u001b[1;32m    973\u001b[0m )\n\u001b[1;32m    975\u001b[0m \u001b[39m# Done; return the response.\u001b[39;00m\n\u001b[1;32m    976\u001b[0m \u001b[39mreturn\u001b[39;00m response\n",
      "File \u001b[0;32m~/anaconda3/envs/ragenv/lib/python3.11/site-packages/google/api_core/gapic_v1/method.py:131\u001b[0m, in \u001b[0;36m_GapicCallable.__call__\u001b[0;34m(self, timeout, retry, compression, *args, **kwargs)\u001b[0m\n\u001b[1;32m    128\u001b[0m \u001b[39mif\u001b[39;00m \u001b[39mself\u001b[39m\u001b[39m.\u001b[39m_compression \u001b[39mis\u001b[39;00m \u001b[39mnot\u001b[39;00m \u001b[39mNone\u001b[39;00m:\n\u001b[1;32m    129\u001b[0m     kwargs[\u001b[39m\"\u001b[39m\u001b[39mcompression\u001b[39m\u001b[39m\"\u001b[39m] \u001b[39m=\u001b[39m compression\n\u001b[0;32m--> 131\u001b[0m \u001b[39mreturn\u001b[39;00m wrapped_func(\u001b[39m*\u001b[39;49margs, \u001b[39m*\u001b[39;49m\u001b[39m*\u001b[39;49mkwargs)\n",
      "File \u001b[0;32m~/anaconda3/envs/ragenv/lib/python3.11/site-packages/google/api_core/retry/retry_unary.py:293\u001b[0m, in \u001b[0;36mRetry.__call__.<locals>.retry_wrapped_func\u001b[0;34m(*args, **kwargs)\u001b[0m\n\u001b[1;32m    289\u001b[0m target \u001b[39m=\u001b[39m functools\u001b[39m.\u001b[39mpartial(func, \u001b[39m*\u001b[39margs, \u001b[39m*\u001b[39m\u001b[39m*\u001b[39mkwargs)\n\u001b[1;32m    290\u001b[0m sleep_generator \u001b[39m=\u001b[39m exponential_sleep_generator(\n\u001b[1;32m    291\u001b[0m     \u001b[39mself\u001b[39m\u001b[39m.\u001b[39m_initial, \u001b[39mself\u001b[39m\u001b[39m.\u001b[39m_maximum, multiplier\u001b[39m=\u001b[39m\u001b[39mself\u001b[39m\u001b[39m.\u001b[39m_multiplier\n\u001b[1;32m    292\u001b[0m )\n\u001b[0;32m--> 293\u001b[0m \u001b[39mreturn\u001b[39;00m retry_target(\n\u001b[1;32m    294\u001b[0m     target,\n\u001b[1;32m    295\u001b[0m     \u001b[39mself\u001b[39;49m\u001b[39m.\u001b[39;49m_predicate,\n\u001b[1;32m    296\u001b[0m     sleep_generator,\n\u001b[1;32m    297\u001b[0m     timeout\u001b[39m=\u001b[39;49m\u001b[39mself\u001b[39;49m\u001b[39m.\u001b[39;49m_timeout,\n\u001b[1;32m    298\u001b[0m     on_error\u001b[39m=\u001b[39;49mon_error,\n\u001b[1;32m    299\u001b[0m )\n",
      "File \u001b[0;32m~/anaconda3/envs/ragenv/lib/python3.11/site-packages/google/api_core/retry/retry_unary.py:144\u001b[0m, in \u001b[0;36mretry_target\u001b[0;34m(target, predicate, sleep_generator, timeout, on_error, exception_factory, **kwargs)\u001b[0m\n\u001b[1;32m    142\u001b[0m \u001b[39mfor\u001b[39;00m sleep \u001b[39min\u001b[39;00m sleep_generator:\n\u001b[1;32m    143\u001b[0m     \u001b[39mtry\u001b[39;00m:\n\u001b[0;32m--> 144\u001b[0m         result \u001b[39m=\u001b[39m target()\n\u001b[1;32m    145\u001b[0m         \u001b[39mif\u001b[39;00m inspect\u001b[39m.\u001b[39misawaitable(result):\n\u001b[1;32m    146\u001b[0m             warnings\u001b[39m.\u001b[39mwarn(_ASYNC_RETRY_WARNING)\n",
      "File \u001b[0;32m~/anaconda3/envs/ragenv/lib/python3.11/site-packages/google/api_core/timeout.py:120\u001b[0m, in \u001b[0;36mTimeToDeadlineTimeout.__call__.<locals>.func_with_timeout\u001b[0;34m(*args, **kwargs)\u001b[0m\n\u001b[1;32m    117\u001b[0m     \u001b[39m# Avoid setting negative timeout\u001b[39;00m\n\u001b[1;32m    118\u001b[0m     kwargs[\u001b[39m\"\u001b[39m\u001b[39mtimeout\u001b[39m\u001b[39m\"\u001b[39m] \u001b[39m=\u001b[39m \u001b[39mmax\u001b[39m(\u001b[39m0\u001b[39m, \u001b[39mself\u001b[39m\u001b[39m.\u001b[39m_timeout \u001b[39m-\u001b[39m time_since_first_attempt)\n\u001b[0;32m--> 120\u001b[0m \u001b[39mreturn\u001b[39;00m func(\u001b[39m*\u001b[39;49margs, \u001b[39m*\u001b[39;49m\u001b[39m*\u001b[39;49mkwargs)\n",
      "File \u001b[0;32m~/anaconda3/envs/ragenv/lib/python3.11/site-packages/google/api_core/grpc_helpers.py:76\u001b[0m, in \u001b[0;36m_wrap_unary_errors.<locals>.error_remapped_callable\u001b[0;34m(*args, **kwargs)\u001b[0m\n\u001b[1;32m     73\u001b[0m \u001b[39m@functools\u001b[39m\u001b[39m.\u001b[39mwraps(callable_)\n\u001b[1;32m     74\u001b[0m \u001b[39mdef\u001b[39;00m \u001b[39merror_remapped_callable\u001b[39m(\u001b[39m*\u001b[39margs, \u001b[39m*\u001b[39m\u001b[39m*\u001b[39mkwargs):\n\u001b[1;32m     75\u001b[0m     \u001b[39mtry\u001b[39;00m:\n\u001b[0;32m---> 76\u001b[0m         \u001b[39mreturn\u001b[39;00m callable_(\u001b[39m*\u001b[39;49margs, \u001b[39m*\u001b[39;49m\u001b[39m*\u001b[39;49mkwargs)\n\u001b[1;32m     77\u001b[0m     \u001b[39mexcept\u001b[39;00m grpc\u001b[39m.\u001b[39mRpcError \u001b[39mas\u001b[39;00m exc:\n\u001b[1;32m     78\u001b[0m         \u001b[39mraise\u001b[39;00m exceptions\u001b[39m.\u001b[39mfrom_grpc_error(exc) \u001b[39mfrom\u001b[39;00m \u001b[39mexc\u001b[39;00m\n",
      "File \u001b[0;32m~/anaconda3/envs/ragenv/lib/python3.11/site-packages/grpc/_channel.py:1157\u001b[0m, in \u001b[0;36m_UnaryUnaryMultiCallable.__call__\u001b[0;34m(self, request, timeout, metadata, credentials, wait_for_ready, compression)\u001b[0m\n\u001b[1;32m   1145\u001b[0m \u001b[39mdef\u001b[39;00m \u001b[39m__call__\u001b[39m(\n\u001b[1;32m   1146\u001b[0m     \u001b[39mself\u001b[39m,\n\u001b[1;32m   1147\u001b[0m     request: Any,\n\u001b[0;32m   (...)\u001b[0m\n\u001b[1;32m   1152\u001b[0m     compression: Optional[grpc\u001b[39m.\u001b[39mCompression] \u001b[39m=\u001b[39m \u001b[39mNone\u001b[39;00m,\n\u001b[1;32m   1153\u001b[0m ) \u001b[39m-\u001b[39m\u001b[39m>\u001b[39m Any:\n\u001b[1;32m   1154\u001b[0m     (\n\u001b[1;32m   1155\u001b[0m         state,\n\u001b[1;32m   1156\u001b[0m         call,\n\u001b[0;32m-> 1157\u001b[0m     ) \u001b[39m=\u001b[39m \u001b[39mself\u001b[39;49m\u001b[39m.\u001b[39;49m_blocking(\n\u001b[1;32m   1158\u001b[0m         request, timeout, metadata, credentials, wait_for_ready, compression\n\u001b[1;32m   1159\u001b[0m     )\n\u001b[1;32m   1160\u001b[0m     \u001b[39mreturn\u001b[39;00m _end_unary_response_blocking(state, call, \u001b[39mFalse\u001b[39;00m, \u001b[39mNone\u001b[39;00m)\n",
      "File \u001b[0;32m~/anaconda3/envs/ragenv/lib/python3.11/site-packages/grpc/_channel.py:1141\u001b[0m, in \u001b[0;36m_UnaryUnaryMultiCallable._blocking\u001b[0;34m(self, request, timeout, metadata, credentials, wait_for_ready, compression)\u001b[0m\n\u001b[1;32m   1125\u001b[0m state\u001b[39m.\u001b[39mmethod \u001b[39m=\u001b[39m _common\u001b[39m.\u001b[39mdecode(\u001b[39mself\u001b[39m\u001b[39m.\u001b[39m_method)\n\u001b[1;32m   1126\u001b[0m call \u001b[39m=\u001b[39m \u001b[39mself\u001b[39m\u001b[39m.\u001b[39m_channel\u001b[39m.\u001b[39msegregated_call(\n\u001b[1;32m   1127\u001b[0m     cygrpc\u001b[39m.\u001b[39mPropagationConstants\u001b[39m.\u001b[39mGRPC_PROPAGATE_DEFAULTS,\n\u001b[1;32m   1128\u001b[0m     \u001b[39mself\u001b[39m\u001b[39m.\u001b[39m_method,\n\u001b[0;32m   (...)\u001b[0m\n\u001b[1;32m   1139\u001b[0m     \u001b[39mself\u001b[39m\u001b[39m.\u001b[39m_context,\n\u001b[1;32m   1140\u001b[0m )\n\u001b[0;32m-> 1141\u001b[0m event \u001b[39m=\u001b[39m call\u001b[39m.\u001b[39mnext_event()\n\u001b[1;32m   1142\u001b[0m _handle_event(event, state, \u001b[39mself\u001b[39m\u001b[39m.\u001b[39m_response_deserializer)\n\u001b[1;32m   1143\u001b[0m \u001b[39mreturn\u001b[39;00m state, call\n",
      "File \u001b[0;32msrc/python/grpcio/grpc/_cython/_cygrpc/channel.pyx.pxi:366\u001b[0m, in \u001b[0;36mgrpc._cython.cygrpc.SegregatedCall.next_event\u001b[0;34m()\u001b[0m\n",
      "File \u001b[0;32msrc/python/grpcio/grpc/_cython/_cygrpc/channel.pyx.pxi:187\u001b[0m, in \u001b[0;36mgrpc._cython.cygrpc._next_call_event\u001b[0;34m()\u001b[0m\n",
      "File \u001b[0;32msrc/python/grpcio/grpc/_cython/_cygrpc/channel.pyx.pxi:181\u001b[0m, in \u001b[0;36mgrpc._cython.cygrpc._next_call_event\u001b[0;34m()\u001b[0m\n",
      "File \u001b[0;32msrc/python/grpcio/grpc/_cython/_cygrpc/completion_queue.pyx.pxi:78\u001b[0m, in \u001b[0;36mgrpc._cython.cygrpc._latent_event\u001b[0;34m()\u001b[0m\n",
      "File \u001b[0;32msrc/python/grpcio/grpc/_cython/_cygrpc/completion_queue.pyx.pxi:61\u001b[0m, in \u001b[0;36mgrpc._cython.cygrpc._internal_latent_event\u001b[0;34m()\u001b[0m\n",
      "File \u001b[0;32msrc/python/grpcio/grpc/_cython/_cygrpc/completion_queue.pyx.pxi:42\u001b[0m, in \u001b[0;36mgrpc._cython.cygrpc._next\u001b[0;34m()\u001b[0m\n",
      "\u001b[0;31mKeyboardInterrupt\u001b[0m: "
     ]
    }
   ],
   "source": [
    "embed_model = GeminiEmbedding(model_name='models/embedding-001')\n",
    "\n",
    "# Creating the metadata summary in embeddings\n",
    "for node in nodes:\n",
    "    node.embedding = embed_model.get_text_embedding(node.metadata['summary'])"
   ]
  },
  {
   "cell_type": "code",
   "execution_count": 16,
   "metadata": {},
   "outputs": [],
   "source": [
    "# from llama_index.core import Settings\n"
   ]
  },
  {
   "cell_type": "code",
   "execution_count": 18,
   "metadata": {},
   "outputs": [
    {
     "data": {
      "text/plain": [
       "768"
      ]
     },
     "execution_count": 18,
     "metadata": {},
     "output_type": "execute_result"
    }
   ],
   "source": [
    "len(embed_model.get_text_embedding(\"What are you doing?\"))"
   ]
  },
  {
   "cell_type": "markdown",
   "metadata": {},
   "source": [
    "### Embeddings on summary nodes"
   ]
  },
  {
   "cell_type": "code",
   "execution_count": 28,
   "metadata": {},
   "outputs": [],
   "source": [
    "from src.indexing_utils import load_docs\n",
    "import faiss\n",
    "import numpy as np"
   ]
  },
  {
   "cell_type": "code",
   "execution_count": 27,
   "metadata": {},
   "outputs": [],
   "source": [
    "nodes = load_docs(path=\"../../../storage/docstore/summary_node_with_embeddings\", return_docstore=False)"
   ]
  },
  {
   "cell_type": "code",
   "execution_count": 30,
   "metadata": {},
   "outputs": [],
   "source": [
    "# nodes[0].embedding"
   ]
  },
  {
   "cell_type": "code",
   "execution_count": 31,
   "metadata": {},
   "outputs": [],
   "source": [
    "def create_index(nodes):\n",
    "    \"\"\"\n",
    "    Creates the indexes of the index of documents and return it. \n",
    "    \"\"\"\n",
    "    # Creating the vector indexes using the index method of Inner Product(Cosine Similarity)\n",
    "    index = faiss.IndexFlatIP(768)\n",
    "\n",
    "    for node in nodes:\n",
    "        index.add(np.array([node.embedding]))\n",
    "\n",
    "    return index\n",
    "\n",
    "\n",
    "def search_indexes(model:str, index, query:str, top_similar:int):\n",
    "    \"\"\"\n",
    "    Search the indexes and retrieves the top k similar indexes.\n",
    "    \"\"\"\n",
    "    # Get embeddings of query\n",
    "    embed_model = GeminiEmbedding()\n",
    "    query_embedding = embed_model.get_text_embedding(query)\n",
    "    \n",
    "    distances, ann = index.search(np.array([query_embedding]), k=top_similar)\n",
    "    distances = distances.flatten().tolist()\n",
    "    ann = ann.flatten().tolist()\n",
    "\n",
    "    return distances, ann\n",
    "\n",
    "\n",
    "index = create_index(nodes)\n",
    "query = \"How does ayurveda deal with illnesses like HIV AIDS?\"\n",
    "distances, ann = search_indexes(model='models/embedding-001', index=index, query=query, top_similar=2)"
   ]
  },
  {
   "cell_type": "code",
   "execution_count": 32,
   "metadata": {},
   "outputs": [
    {
     "data": {
      "text/plain": [
       "([0.7591007351875305, 0.7536753416061401], [296, 416])"
      ]
     },
     "execution_count": 32,
     "metadata": {},
     "output_type": "execute_result"
    }
   ],
   "source": [
    "distances, ann"
   ]
  },
  {
   "cell_type": "code",
   "execution_count": 42,
   "metadata": {},
   "outputs": [
    {
     "name": "stdout",
     "output_type": "stream",
     "text": [
      "**Summary of Ayurveda and HIV/AIDS**\n",
      "\n",
      "Ayurveda, an ancient Indian medical system, recognizes symptoms of HIV/AIDS, despite not explicitly naming the disease. These include fever, weight loss, diarrhea, wasting, herpes, lymphadenopathy, oral candidiasis, aphthous ulcers, Bell's palsy, and tubercular ascites.\n",
      "\n",
      "Ayurveda attributes HIV/AIDS to immunodeficiency and classifies it as \"Dhaatugata Jvara,\" a condition where the immune system is weakened. Immunity (Vyaadhikshamatva) is categorized into congenital, seasonal, and therapeutic. Therapeutic immunity is further divided into diet-based, exercise-based, and Rasaayana-based.\n",
      "\n",
      "Rasaayana, a rejuvenating therapy, is considered crucial for strengthening immunity. It includes both medicinal (Dravya) and behavioral (Aachaara) components. Counseling, a key aspect of HIV/AIDS management, aligns with Aachaara Rasaayana.\n",
      "\n",
      "For asymptomatic HIV/AIDS patients, Ayurveda recommends a tissue-building approach (Santarpan`a Chikitsaa) to restore the immune system and prevent opportunistic infections. Herbs like Ashwagandha, Amla, and Guduchi are used in this therapy.\n",
      "\n",
      "S`hodhana therapy (purification) is advised only for asymptomatic patients and should be combined with Santarpan`a Chikitsaa. The choice of herbs depends on the affected body system (Srotas).\n",
      "\n",
      "Monitoring the patient's progress is essential, as per guidelines from the Charaka Samhitaa. Criteria include general health, appetite, digestion, sleep, and psychological well-being.\n"
     ]
    }
   ],
   "source": [
    "print(nodes[296].metadata['summary'])"
   ]
  },
  {
   "cell_type": "code",
   "execution_count": 45,
   "metadata": {},
   "outputs": [
    {
     "name": "stdout",
     "output_type": "stream",
     "text": [
      "Ayurvedic medicine, a traditional Indian system of medicine, emphasizes the balance of three doshas: Vata, Pitta, and Kapha. These doshas are believed to govern various functions in the body, and imbalances can lead to disease. Ayurveda also places great importance on diet and lifestyle, with specific recommendations for different body types and conditions.\n"
     ]
    }
   ],
   "source": [
    "print(nodes[416].metadata['summary'])"
   ]
  }
 ],
 "metadata": {
  "kernelspec": {
   "display_name": "ragenv",
   "language": "python",
   "name": "python3"
  },
  "language_info": {
   "codemirror_mode": {
    "name": "ipython",
    "version": 3
   },
   "file_extension": ".py",
   "mimetype": "text/x-python",
   "name": "python",
   "nbconvert_exporter": "python",
   "pygments_lexer": "ipython3",
   "version": "3.11.7"
  }
 },
 "nbformat": 4,
 "nbformat_minor": 2
}
