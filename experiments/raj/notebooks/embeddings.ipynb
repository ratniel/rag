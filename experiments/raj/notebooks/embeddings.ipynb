{
 "cells": [
  {
   "cell_type": "markdown",
   "metadata": {},
   "source": [
    "### Embeddings on summary nodes"
   ]
  },
  {
   "cell_type": "code",
   "execution_count": 1,
   "metadata": {},
   "outputs": [],
   "source": [
    "from src.indexing_utils import load_docs\n",
    "from llama_index.embeddings.gemini import GeminiEmbedding\n",
    "from llama_index.llms.gemini import Gemini\n",
    "from llama_index.core import VectorStoreIndex\n",
    "from llama_index.core import Settings\n",
    "\n",
    "Settings.embed_model = GeminiEmbedding(model_name='models/embedding-001')\n",
    "Settings.llm = Gemini(model_name='models/gemini-pro', temperature=0.5)"
   ]
  },
  {
   "cell_type": "code",
   "execution_count": 7,
   "metadata": {},
   "outputs": [],
   "source": [
    "nodes = load_docs(path=\"../../../storage/docstore/summary_node_with_embeddings\", return_docstore=False)\n",
    "doc_store = load_docs(path=\"../../../storage/docstore/summary_node_with_embeddings\", return_docstore=True)"
   ]
  },
  {
   "cell_type": "code",
   "execution_count": null,
   "metadata": {},
   "outputs": [],
   "source": [
    "# from llama_index.core import StorageContext\n",
    "\n",
    "# # create storage context using default stores\n",
    "# storage_context = StorageContext.from_defaults(docstore=nodes)"
   ]
  },
  {
   "cell_type": "code",
   "execution_count": 3,
   "metadata": {},
   "outputs": [
    {
     "data": {
      "application/vnd.jupyter.widget-view+json": {
       "model_id": "4059d8c3502748979fdeec922cdd5f24",
       "version_major": 2,
       "version_minor": 0
      },
      "text/plain": [
       "Generating embeddings: 0it [00:00, ?it/s]"
      ]
     },
     "metadata": {},
     "output_type": "display_data"
    }
   ],
   "source": [
    "index = VectorStoreIndex(nodes=nodes, embed_model=Settings.embed_model, show_progress=True)\n",
    "\n",
    "# store it for later\n",
    "# index.storage_context.persist(persist_dir='../../../storage/vectorstore/summa')"
   ]
  },
  {
   "cell_type": "code",
   "execution_count": 4,
   "metadata": {},
   "outputs": [],
   "source": [
    "query_engine = index.as_query_engine()"
   ]
  },
  {
   "cell_type": "code",
   "execution_count": 12,
   "metadata": {},
   "outputs": [],
   "source": [
    "response = query_engine.query(\"How to deal with muscle and body pain in Ayurveda?\")"
   ]
  },
  {
   "cell_type": "code",
   "execution_count": 13,
   "metadata": {},
   "outputs": [
    {
     "name": "stdout",
     "output_type": "stream",
     "text": [
      "Final Response: The provided context does not contain any information\n",
      "on how to deal with muscle and body pain in Ayurveda.\n",
      "______________________________________________________________________\n",
      "Source Node 1/2\n",
      "Node ID: f0153eec-5bad-435c-be45-fcd89561dc29\n",
      "Similarity: 0.8268947330344362\n",
      "Text: Reference: M Ni. Paris`hisht`a Nirukti: Sandhaaran`aat\n",
      "S`hareerasya Taa Aapah Soma Samdnyitaah | Tatah Somakshayaat\n",
      "Streen`aam Somaroga Iti Smritah || M Ni. Paris`hisht`a As body is\n",
      "sustained due to body fluids, it is called as Soma. This Soma in\n",
      "females gets depleted through the urinary tract; therefore this\n",
      "disease is called as Somaroga. Hetu:...\n",
      "______________________________________________________________________\n",
      "Source Node 2/2\n",
      "Node ID: ff3570a0-de39-44e0-84cd-54f3cf828366\n",
      "Similarity: 0.8038234877479593\n",
      "Text: Somaroga Chikitsaa Reference: B. R. 87, Y.R. Somaroga Chikitsaa\n",
      "(Uttaraadha) Introduction: Chikitsaa Similar To: Pathya: Apathya:\n",
      "Search Anveshaka: Search Dravya, Kalpa, Aahaara, Vihaara, Chikitsaa\n",
      "Karma For\n"
     ]
    }
   ],
   "source": [
    "from llama_index.legacy.response.pprint_utils import pprint_response\n",
    "pprint_response(response,show_source=True)"
   ]
  },
  {
   "cell_type": "code",
   "execution_count": 11,
   "metadata": {},
   "outputs": [
    {
     "data": {
      "text/plain": [
       "'Ayurvedic medicine, a traditional Indian system of medicine, emphasizes the balance of three doshas: Vata, Pitta, and Kapha. These doshas are believed to govern various functions in the body, and imbalances can lead to disease. Ayurveda also places great importance on diet and lifestyle, with specific recommendations for different body types and conditions.'"
      ]
     },
     "execution_count": 11,
     "metadata": {},
     "output_type": "execute_result"
    }
   ],
   "source": [
    "doc_store.get_node('f0153eec-5bad-435c-be45-fcd89561dc29').metadata['summary']"
   ]
  },
  {
   "cell_type": "code",
   "execution_count": 15,
   "metadata": {},
   "outputs": [
    {
     "data": {
      "text/plain": [
       "'Somaroga Chikitsaa Reference: B. R. 87, Y.R. Somaroga Chikitsaa (Uttaraadha) Introduction: Chikitsaa Similar To: Pathya: Apathya: Search Anveshaka: Search Dravya, Kalpa, Aahaara, Vihaara, Chikitsaa Karma For'"
      ]
     },
     "execution_count": 15,
     "metadata": {},
     "output_type": "execute_result"
    }
   ],
   "source": [
    "doc_store.get_node('ff3570a0-de39-44e0-84cd-54f3cf828366').text"
   ]
  },
  {
   "cell_type": "code",
   "execution_count": 16,
   "metadata": {},
   "outputs": [],
   "source": [
    "doc_store.delete_document('ff3570a0-de39-44e0-84cd-54f3cf828366')"
   ]
  }
 ],
 "metadata": {
  "kernelspec": {
   "display_name": "ragenv",
   "language": "python",
   "name": "python3"
  },
  "language_info": {
   "codemirror_mode": {
    "name": "ipython",
    "version": 3
   },
   "file_extension": ".py",
   "mimetype": "text/x-python",
   "name": "python",
   "nbconvert_exporter": "python",
   "pygments_lexer": "ipython3",
   "version": "3.11.7"
  }
 },
 "nbformat": 4,
 "nbformat_minor": 2
}
