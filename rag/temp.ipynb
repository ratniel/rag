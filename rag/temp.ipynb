{
 "cells": [
  {
   "cell_type": "code",
   "execution_count": 326,
   "metadata": {},
   "outputs": [
    {
     "name": "stderr",
     "output_type": "stream",
     "text": [
      "Loading files:  69%|██████▉   | 412/594 [00:00<00:00, 4114.30file/s]"
     ]
    },
    {
     "name": "stderr",
     "output_type": "stream",
     "text": [
      "Loading files: 100%|██████████| 594/594 [00:00<00:00, 4451.59file/s]\n"
     ]
    },
    {
     "data": {
      "application/vnd.jupyter.widget-view+json": {
       "model_id": "c0816e294f7a4510b29e1ac4b1bb2ce8",
       "version_major": 2,
       "version_minor": 0
      },
      "text/plain": [
       "Parsing nodes:   0%|          | 0/594 [00:00<?, ?it/s]"
      ]
     },
     "metadata": {},
     "output_type": "display_data"
    }
   ],
   "source": [
    "from llama_index.core import VectorStoreIndex, SimpleDirectoryReader\n",
    "from llama_index.core.node_parser import HTMLNodeParser\n",
    "from llama_index.embeddings.gemini import GeminiEmbedding\n",
    "from llama_index.llms.gemini import Gemini\n",
    "from llama_index.embeddings.gemini import GeminiEmbedding\n",
    "from typing import List\n",
    "\n",
    "embedding = GeminiEmbedding()\n",
    "\n",
    "reader = SimpleDirectoryReader(input_dir=\"/home/dai/35/rag/data/clean_html\",\n",
    "                                  recursive=True)\n",
    "\n",
    "documents = reader.load_data(show_progress=True)\n",
    "node_parser = HTMLNodeParser(tags = [\"p\",\"li\", \"b\", \"i\", \"u\", \"section\", \"text\"])\n",
    "nodes = node_parser.get_nodes_from_documents(documents, show_progress=True)\n",
    "# remove nodes with no content\n",
    "nodes = [node for node in nodes if len(node.get_content()) > 0]\n",
    "for node in nodes:\n",
    "    #remove all the \\n and \\t\n",
    "    node.text = node.text.replace(\"\\n\", \" \").replace(\"\\t\", \" \")"
   ]
  },
  {
   "cell_type": "code",
   "execution_count": 327,
   "metadata": {},
   "outputs": [
    {
     "data": {
      "text/plain": [
       "3386"
      ]
     },
     "execution_count": 327,
     "metadata": {},
     "output_type": "execute_result"
    }
   ],
   "source": [
    "len(nodes)"
   ]
  },
  {
   "cell_type": "code",
   "execution_count": 301,
   "metadata": {},
   "outputs": [
    {
     "name": "stdout",
     "output_type": "stream",
     "text": [
      "{'tag': 'p', 'file_path': '/home/dai/35/rag/data/clean_html/Aayurveda_Samhitaa/01_Charaka_Samhitaa/DF_Introduction_Charaka_Samhita.html', 'file_name': 'DF_Introduction_Charaka_Samhita.html', 'file_type': 'text/html', 'file_size': 13642, 'creation_date': '2024-02-14', 'last_modified_date': '2024-02-14', 'last_accessed_date': '2024-02-14'}\n",
      "{'tag': 'p', 'file_path': '/home/dai/35/rag/data/clean_html/Articles/Chikitsaa/Basics_of_Chikitsaa.htm', 'file_name': 'Basics_of_Chikitsaa.htm', 'file_type': 'text/html', 'file_size': 24441, 'creation_date': '2024-02-14', 'last_modified_date': '2024-02-14', 'last_accessed_date': '2024-02-14'}\n",
      "{'tag': 'p', 'file_path': '/home/dai/35/rag/data/clean_html/Articles/Chikitsaa/Kushtha.htm', 'file_name': 'Kushtha.htm', 'file_type': 'text/html', 'file_size': 44579, 'creation_date': '2024-02-14', 'last_modified_date': '2024-02-14', 'last_accessed_date': '2024-02-14'}\n",
      "{'tag': 'p', 'file_path': '/home/dai/35/rag/data/clean_html/Articles/Chikitsaa/Latest_Trends_in_Basti.htm', 'file_name': 'Latest_Trends_in_Basti.htm', 'file_type': 'text/html', 'file_size': 33647, 'creation_date': '2024-02-14', 'last_modified_date': '2024-02-14', 'last_accessed_date': '2024-02-14'}\n",
      "{'tag': 'p', 'file_path': '/home/dai/35/rag/data/clean_html/Articles/Chikitsaa/Latest_Trends_in_Basti.htm', 'file_name': 'Latest_Trends_in_Basti.htm', 'file_type': 'text/html', 'file_size': 33647, 'creation_date': '2024-02-14', 'last_modified_date': '2024-02-14', 'last_accessed_date': '2024-02-14'}\n",
      "{'tag': 'p', 'file_path': '/home/dai/35/rag/data/clean_html/Articles/Chikitsaa/Rasaayana.htm', 'file_name': 'Rasaayana.htm', 'file_type': 'text/html', 'file_size': 16682, 'creation_date': '2024-02-14', 'last_modified_date': '2024-02-14', 'last_accessed_date': '2024-02-14'}\n",
      "{'tag': 'p', 'file_path': '/home/dai/35/rag/data/clean_html/Articles/Dravya-Rasabhaishajya/Utility_of_Naama_and_Roopa.htm', 'file_name': 'Utility_of_Naama_and_Roopa.htm', 'file_type': 'text/html', 'file_size': 17509, 'creation_date': '2024-02-14', 'last_modified_date': '2024-02-14', 'last_accessed_date': '2024-02-14'}\n",
      "{'tag': 'p', 'file_path': '/home/dai/35/rag/data/clean_html/Articles/Nidaana/Rogamaarga.htm', 'file_name': 'Rogamaarga.htm', 'file_type': 'text/html', 'file_size': 17236, 'creation_date': '2024-02-14', 'last_modified_date': '2024-02-14', 'last_accessed_date': '2024-02-14'}\n",
      "{'tag': 'p', 'file_path': '/home/dai/35/rag/data/clean_html/Articles/Nidaana/Types_of_Ayurvedic_Clinical_Examination.htm', 'file_name': 'Types_of_Ayurvedic_Clinical_Examination.htm', 'file_type': 'text/html', 'file_size': 29880, 'creation_date': '2024-02-14', 'last_modified_date': '2024-02-14', 'last_accessed_date': '2024-02-14'}\n",
      "{'tag': 'p', 'file_path': '/home/dai/35/rag/data/clean_html/Articles/Other/Agadatantra.htm', 'file_name': 'Agadatantra.htm', 'file_type': 'text/html', 'file_size': 46813, 'creation_date': '2024-02-14', 'last_modified_date': '2024-02-14', 'last_accessed_date': '2024-02-14'}\n",
      "{'tag': 'p', 'file_path': '/home/dai/35/rag/data/clean_html/Articles/Other/Agadatantra.htm', 'file_name': 'Agadatantra.htm', 'file_type': 'text/html', 'file_size': 46813, 'creation_date': '2024-02-14', 'last_modified_date': '2024-02-14', 'last_accessed_date': '2024-02-14'}\n",
      "{'tag': 'p', 'file_path': '/home/dai/35/rag/data/clean_html/Articles/Panchakarma/Anuvaasana_Basti.htm', 'file_name': 'Anuvaasana_Basti.htm', 'file_type': 'text/html', 'file_size': 12310, 'creation_date': '2024-02-14', 'last_modified_date': '2024-02-14', 'last_accessed_date': '2024-02-14'}\n",
      "{'tag': 'p', 'file_path': '/home/dai/35/rag/data/clean_html/Articles/Panchakarma/Nirooha_Basti.htm', 'file_name': 'Nirooha_Basti.htm', 'file_type': 'text/html', 'file_size': 17046, 'creation_date': '2024-02-14', 'last_modified_date': '2024-02-14', 'last_accessed_date': '2024-02-14'}\n",
      "{'tag': 'p', 'file_path': '/home/dai/35/rag/data/clean_html/Articles/Panchakarma/Raajayaapana_Basti.htm', 'file_name': 'Raajayaapana_Basti.htm', 'file_type': 'text/html', 'file_size': 16257, 'creation_date': '2024-02-14', 'last_modified_date': '2024-02-14', 'last_accessed_date': '2024-02-14'}\n",
      "{'tag': 'p', 'file_path': '/home/dai/35/rag/data/clean_html/Articles/Panchakarma/Utkleshana_Basti.htm', 'file_name': 'Utkleshana_Basti.htm', 'file_type': 'text/html', 'file_size': 18592, 'creation_date': '2024-02-14', 'last_modified_date': '2024-02-14', 'last_accessed_date': '2024-02-14'}\n",
      "{'tag': 'p', 'file_path': '/home/dai/35/rag/data/clean_html/Articles/Research/Development_of_Traditional_Knowledge_Products_of_Contemporary_Value.htm', 'file_name': 'Development_of_Traditional_Knowledge_Products_of_Contemporary_Value.htm', 'file_type': 'text/html', 'file_size': 17890, 'creation_date': '2024-02-14', 'last_modified_date': '2024-02-14', 'last_accessed_date': '2024-02-14'}\n",
      "{'tag': 'p', 'file_path': '/home/dai/35/rag/data/clean_html/Articles/Research/Research_Methodology_and_Statistics_Evident_in_Ayurveda.htm', 'file_name': 'Research_Methodology_and_Statistics_Evident_in_Ayurveda.htm', 'file_type': 'text/html', 'file_size': 108795, 'creation_date': '2024-02-14', 'last_modified_date': '2024-02-14', 'last_accessed_date': '2024-02-14'}\n",
      "{'tag': 'p', 'file_path': '/home/dai/35/rag/data/clean_html/Articles/Research/Research_Methodology_and_Statistics_Evident_in_Ayurveda.htm', 'file_name': 'Research_Methodology_and_Statistics_Evident_in_Ayurveda.htm', 'file_type': 'text/html', 'file_size': 108795, 'creation_date': '2024-02-14', 'last_modified_date': '2024-02-14', 'last_accessed_date': '2024-02-14'}\n",
      "{'tag': 'p', 'file_path': '/home/dai/35/rag/data/clean_html/Articles/Research/Statistics_in_Ayurvedic.htm', 'file_name': 'Statistics_in_Ayurvedic.htm', 'file_type': 'text/html', 'file_size': 23835, 'creation_date': '2024-02-14', 'last_modified_date': '2024-02-14', 'last_accessed_date': '2024-02-14'}\n",
      "{'tag': 'p', 'file_path': '/home/dai/35/rag/data/clean_html/Articles/S`haareera_Rachanaa_Kriyaa/Short_Glossary_of_Shaareera_Rachanaa.htm', 'file_name': 'Short_Glossary_of_Shaareera_Rachanaa.htm', 'file_type': 'text/html', 'file_size': 33274, 'creation_date': '2024-02-14', 'last_modified_date': '2024-02-14', 'last_accessed_date': '2024-02-14'}\n",
      "{'tag': 'p', 'file_path': '/home/dai/35/rag/data/clean_html/Articles/S`halya_S`haalaakya/Mukharoga_Nidaana.htm', 'file_name': 'Mukharoga_Nidaana.htm', 'file_type': 'text/html', 'file_size': 26386, 'creation_date': '2024-02-14', 'last_modified_date': '2024-02-14', 'last_accessed_date': '2024-02-14'}\n",
      "{'tag': 'p', 'file_path': '/home/dai/35/rag/data/clean_html/Articles/S`halya_S`haalaakya/Principles_or_Concepts_in_Modern_Surgery.htm', 'file_name': 'Principles_or_Concepts_in_Modern_Surgery.htm', 'file_type': 'text/html', 'file_size': 16347, 'creation_date': '2024-02-14', 'last_modified_date': '2024-02-14', 'last_accessed_date': '2024-02-14'}\n",
      "{'tag': 'p', 'file_path': '/home/dai/35/rag/data/clean_html/Articles/Siddhaanta/Navadravya_Siddhaanta.htm', 'file_name': 'Navadravya_Siddhaanta.htm', 'file_type': 'text/html', 'file_size': 12048, 'creation_date': '2024-02-14', 'last_modified_date': '2024-02-14', 'last_accessed_date': '2024-02-14'}\n",
      "{'tag': 'p', 'file_path': '/home/dai/35/rag/data/clean_html/Articles/Siddhaanta/Yoga.htm', 'file_name': 'Yoga.htm', 'file_type': 'text/html', 'file_size': 15872, 'creation_date': '2024-02-14', 'last_modified_date': '2024-02-14', 'last_accessed_date': '2024-02-14'}\n",
      "{'tag': 'text', 'file_path': '/home/dai/35/rag/data/clean_html/Therapeutic_Procedures/Proc_Abhyanga.html', 'file_name': 'Proc_Abhyanga.html', 'file_type': 'text/html', 'file_size': 21317, 'creation_date': '2024-02-14', 'last_modified_date': '2024-02-14', 'last_accessed_date': '2024-02-14'}\n",
      "{'tag': 'text', 'file_path': '/home/dai/35/rag/data/clean_html/Therapeutic_Procedures/Proc_Nasya_s.html', 'file_name': 'Proc_Nasya_s.html', 'file_type': 'text/html', 'file_size': 20157, 'creation_date': '2024-02-14', 'last_modified_date': '2024-02-14', 'last_accessed_date': '2024-02-14'}\n",
      "{'tag': 'text', 'file_path': '/home/dai/35/rag/data/clean_html/Therapeutic_Procedures/Proc_Raktamokshana_Siraavedha.html', 'file_name': 'Proc_Raktamokshana_Siraavedha.html', 'file_type': 'text/html', 'file_size': 15203, 'creation_date': '2024-02-14', 'last_modified_date': '2024-02-14', 'last_accessed_date': '2024-02-14'}\n",
      "{'tag': 'text', 'file_path': '/home/dai/35/rag/data/clean_html/Therapeutic_Procedures/Proc_Vamana.html', 'file_name': 'Proc_Vamana.html', 'file_type': 'text/html', 'file_size': 22878, 'creation_date': '2024-02-14', 'last_modified_date': '2024-02-14', 'last_accessed_date': '2024-02-14'}\n",
      "{'tag': 'p', 'file_path': '/home/dai/35/rag/data/clean_html/Therapeutic_Procedures/Procedure_Files/Anuvaasana Basti.htm', 'file_name': 'Anuvaasana Basti.htm', 'file_type': 'text/html', 'file_size': 12337, 'creation_date': '2024-02-14', 'last_modified_date': '2024-02-14', 'last_accessed_date': '2024-02-14'}\n",
      "{'tag': 'p', 'file_path': '/home/dai/35/rag/data/clean_html/Therapeutic_Procedures/Procedure_Files/Nirooha Basti.htm', 'file_name': 'Nirooha Basti.htm', 'file_type': 'text/html', 'file_size': 17105, 'creation_date': '2024-02-14', 'last_modified_date': '2024-02-14', 'last_accessed_date': '2024-02-14'}\n",
      "30\n"
     ]
    }
   ],
   "source": [
    "count = 0\n",
    "for node in nodes:\n",
    "    if len(node.text) > 10000:\n",
    "        count += 1\n",
    "        print(node.metadata)\n",
    "print(count)"
   ]
  },
  {
   "cell_type": "code",
   "execution_count": 302,
   "metadata": {},
   "outputs": [],
   "source": [
    "# from llama_index.core.node_parser import SentenceSplitter\n",
    "\n",
    "# splitter = SentenceSplitter(\n",
    "#     chunk_size=2048,\n",
    "#     chunk_overlap=400,\n",
    "# )\n",
    "# sentence_nodes = splitter.get_nodes_from_documents(nodes, show_progress=True)"
   ]
  },
  {
   "cell_type": "code",
   "execution_count": 303,
   "metadata": {},
   "outputs": [],
   "source": [
    "# count = 0\n",
    "# for node in sentence_nodes:\n",
    "#     if len(node.text) > 10000:\n",
    "#         count += 1\n",
    "#         print(node.metadata)\n",
    "# print(count)"
   ]
  },
  {
   "cell_type": "code",
   "execution_count": 304,
   "metadata": {},
   "outputs": [
    {
     "data": {
      "application/vnd.jupyter.widget-view+json": {
       "model_id": "520727e4e8af4893bd147238f9cbb4d8",
       "version_major": 2,
       "version_minor": 0
      },
      "text/plain": [
       "Parsing nodes:   0%|          | 0/3386 [00:00<?, ?it/s]"
      ]
     },
     "metadata": {},
     "output_type": "display_data"
    }
   ],
   "source": [
    "from llama_index.core.node_parser import SentenceSplitter\n",
    "\n",
    "_splitter = SentenceSplitter(\n",
    "    chunk_size=1024,\n",
    "    chunk_overlap=0,\n",
    ")\n",
    "_sentence_nodes = _splitter.get_nodes_from_documents(nodes, show_progress=True)"
   ]
  },
  {
   "cell_type": "code",
   "execution_count": 305,
   "metadata": {},
   "outputs": [
    {
     "data": {
      "text/plain": [
       "3712"
      ]
     },
     "execution_count": 305,
     "metadata": {},
     "output_type": "execute_result"
    }
   ],
   "source": [
    "len(_sentence_nodes)"
   ]
  },
  {
   "cell_type": "code",
   "execution_count": 306,
   "metadata": {},
   "outputs": [],
   "source": [
    "for i in range(len(_sentence_nodes)-2):\n",
    "    _sentence_nodes[i].text = _sentence_nodes[i+1].text+\" \"+_sentence_nodes[i+2].text\n",
    "_sentence_nodes = _sentence_nodes[:-2]"
   ]
  },
  {
   "cell_type": "code",
   "execution_count": 307,
   "metadata": {},
   "outputs": [
    {
     "name": "stdout",
     "output_type": "stream",
     "text": [
      "0\n"
     ]
    }
   ],
   "source": [
    "count = 0\n",
    "for node in _sentence_nodes:\n",
    "    if len(node.get_content()) > 10000:\n",
    "        count += 1\n",
    "        print(node.metadata)\n",
    "print(count)"
   ]
  },
  {
   "cell_type": "code",
   "execution_count": 321,
   "metadata": {},
   "outputs": [
    {
     "name": "stdout",
     "output_type": "stream",
     "text": [
      "Pathya Aahaara: Diet should be administered having following properties. Gun`a: Guru, Snigdha Sheeta, Manda, Saandra, S`heeta, Sthira, Pichchhla Rasa: Madhura Rasa Karma: Kaphakara, Medura, Pusht`eekara Dravya: Paayasa, Vasaa, Majjaa, Though indigestion is caused by this dietary regime, in this stage, diet should be given continuously to avoid depletion of Dhaatu and to avoid complication and death. Diet like fish, which are having Slakshn`a sthira gun`a should be used. Other diet items Dugdha and Ghrita added with Madhuchchhisht`a should be used for thirst. Pathya Vihaara: Divaasvaapa should be advised as Pathyaa Vihaara. Precautions: The patient should not be kept without food for long. The Virechana should be administered cautiously according to the condition of the patient All measures should be taken to protect the Agni and to maintain in its normal functions. Search Anveshaka: Search Kalpa, Dravya, Ahaara, Chikitsaa Karma, Vihaara Effect on Agni - Atyagni Naas`ha, Agni Naas`ha, Indicated in Vyaadhi = Bhasmaka Gun`a - Guru, Manda, Pichchhila, S`heeta, Saandra, Snigdha Effect on Dosha  Kaphakara Effect on Dhaatu  Medavardhaka Bhrama\n",
      "Bhrama Reference: C.Su 28, S.Sha .4, M.N.17 Introduction: Chakravadhramato Gaatram Bhumau Patati Sarvadaa | Bhramaroga Iti Dnyeyo Rajahpittaanilaatmakah|| M. N. 17.19 This is a disease in which a person feels movement like a wheel and falls down on the ground. This Bhrama is caused due to Raja Dosha, Pitta and Vaayu. It is one of Majjapradoshaja Vyaadhi. Saamaanya Chikitsaa: In this S`hodhana Chikitsaa according to Kaala and in adequate Maatraa should be advised like Vamana  Virechana. Madhura - Tikta Rasa Pradhaana Aahaara should be advised. It is one of the Vaataja Vyaadhi so Vaataghna Chikitsaa should be advised. Treatment according to Dosha (Saamaanya Vaataghna and Pittghna Upakrama) should be advised. Search Anveshaka: Search Kalpa, Dravya, Aahaara, Chikitsaa Karma, Vihaara Vyaadhi Bhrama Vyaadhi Prakaara - Majjapradoshaja Vyaadhi Effect on Dosha  Pittaghna, Vaataghna, Effect on Dhaatu - Majjaprasadana Rasa  Madhura, Tikta\n",
      "Reference: C.Su 28, S.Sha .4, M.N.17 Introduction: Chakravadhramato Gaatram Bhumau Patati Sarvadaa | Bhramaroga Iti Dnyeyo Rajahpittaanilaatmakah|| M. N. 17.19 This is a disease in which a person feels movement like a wheel and falls down on the ground. This Bhrama is caused due to Raja Dosha, Pitta and Vaayu. It is one of Majjapradoshaja Vyaadhi. Saamaanya Chikitsaa: In this S`hodhana Chikitsaa according to Kaala and in adequate Maatraa should be advised like Vamana  Virechana. Madhura - Tikta Rasa Pradhaana Aahaara should be advised. It is one of the Vaataja Vyaadhi so Vaataghna Chikitsaa should be advised. Treatment according to Dosha (Saamaanya Vaataghna and Pittghna Upakrama) should be advised. Search Anveshaka: Search Kalpa, Dravya, Aahaara, Chikitsaa Karma, Vihaara Vyaadhi Bhrama Vyaadhi Prakaara - Majjapradoshaja Vyaadhi Effect on Dosha  Pittaghna, Vaataghna, Effect on Dhaatu - Majjaprasadana Rasa  Madhura, Tikta AVP The Ayurvedic general guidelines indicate that contact with oil is a major component. To protect the sense organs to be efficient as the phase growth takes place, skin, eyes, ears, nose, and tongue need some specific methods of protection. The integrity of the skin provides protection to all the tissues inside. The skin however is exposed to the wrath of heat, cold, damp, or dry variations in the climate. Due to these, the integrity of the skin is at risk. This may lead to a minor breach of the covering layer, which allows the fluids, blood cells, or even thicker materials to be emitted. This applies even to the inside skin of all sense organs. The adverse factors stated above come in contact, and disturb the integrity. There is a very simple example of the season of severe cold. The usual oily sweat does not cover the skin, and when one smears the skin with any suitable oil / fat, the feared disintegration of the skin is avoided. Nature provides an abundant fatty layer below the skin to animals in polar climate, whereas it is not so with the equatorial animals. The skin smeared with oil can tolerate impacts better than the dry skin. Ayurvedic scientists have rightly advocated the application of oil to increase the resistance, and to support tissue building in situations where it is necessary. The delivery of a baby, or untimely abortion, can cause a wound inside. To compensate this tissue loss, nutritive food with proper stimulation of digesting capacity, is definitely useful. The every day application of oil massage supports the framework by forming a protective layer on the entire skin, which is a barrier between the external stimuli and skin. The oily layer engulfs fine particles coming in contact with it, and nullifies or diminishes their attacking potency. It is so for microbes too. The ear is exposed to dry air, fine dust, extra warmth or too hot environment in some seasons. Suitable cotton / woolen covering protects it from the wrath of severe cold too. Nature provides a little waxy secretion to the external part of the ear to protect the skin. With exposures to dust there is risk of a layer formation, which if not attended in time can lead to obstructive pathology. Sesame oil warmed enough in a continuously burning wick lit lamp is a useful protective instillation. A clean index finger dipped up to two small joints can drop suitable instillation volume in a single external ear by holding it over the ear, and waiting for a while till the oil drips down. The warm oil if taken from a warm source, should be checked for the temperature not being too hot. The comfortable warm oil dropped by the above method should be allowed to act for a while. In a dry ear it makes the inside of ear oleated. Later on the bud (prepared by whirling clean soft cotton cloth) is inserted and is useful for removing the softened layer of dirt. Children may have a tendency to have more sticky material, whereas elderly persons have more dryness. Both can be managed by adjusting the span between two instillations. The skin is a sense organ, which is dry when compared with the tissues inside the body. Nature is providing sweat secretion to create a smear of oily matter. The massage of skin by suitable oil is useful to increase the integrity of the skin, which is otherwise prone to cracking. Ayurvedic advice is for long contact of warm and medicated oils/fats to external skin and to internal organs, due to the specific property of separating the excretory waste material stuck to the useful tissues. An iron nail when rusted can be rendered clean by abrasives, where the strength of iron is lost. But if it is repeatedly mopped by oils, the rust gets separated from the nail without losing the iron-strength. The capacity to ward away the wastes without risk of losing the metal is taken advantage of in applications and administrations of oils/fats. The medicated status facilitates comes out (re-excretion) of the fat along-with other waste products not wanted by the body. The oils are especially protective to vegetarian food eaters as their foods contain legumes that need oils. Animal food eaters lack no such component dominant in their food. There are distinct results of Ayurvedic treatment in case of failure by other treatments. The Panchakarma specialty banks significantly on oils. So the massage of skin and contact at all outlets is health promoting by the rationale stated earlier. Regular, long-term application protects one from geriatric changes, and ensures natural sleep without harmful stimuli, and thereby harvests additional benefits. It controls pain and enhances the capacity of the sense organs.\n",
      "AVP The Ayurvedic general guidelines indicate that contact with oil is a major component. To protect the sense organs to be efficient as the phase growth takes place, skin, eyes, ears, nose, and tongue need some specific methods of protection. The integrity of the skin provides protection to all the tissues inside. The skin however is exposed to the wrath of heat, cold, damp, or dry variations in the climate. Due to these, the integrity of the skin is at risk. This may lead to a minor breach of the covering layer, which allows the fluids, blood cells, or even thicker materials to be emitted. This applies even to the inside skin of all sense organs. The adverse factors stated above come in contact, and disturb the integrity. There is a very simple example of the season of severe cold. The usual oily sweat does not cover the skin, and when one smears the skin with any suitable oil / fat, the feared disintegration of the skin is avoided. Nature provides an abundant fatty layer below the skin to animals in polar climate, whereas it is not so with the equatorial animals. The skin smeared with oil can tolerate impacts better than the dry skin. Ayurvedic scientists have rightly advocated the application of oil to increase the resistance, and to support tissue building in situations where it is necessary. The delivery of a baby, or untimely abortion, can cause a wound inside. To compensate this tissue loss, nutritive food with proper stimulation of digesting capacity, is definitely useful. The every day application of oil massage supports the framework by forming a protective layer on the entire skin, which is a barrier between the external stimuli and skin. The oily layer engulfs fine particles coming in contact with it, and nullifies or diminishes their attacking potency. It is so for microbes too. The ear is exposed to dry air, fine dust, extra warmth or too hot environment in some seasons. Suitable cotton / woolen covering protects it from the wrath of severe cold too. Nature provides a little waxy secretion to the external part of the ear to protect the skin. With exposures to dust there is risk of a layer formation, which if not attended in time can lead to obstructive pathology. Sesame oil warmed enough in a continuously burning wick lit lamp is a useful protective instillation. A clean index finger dipped up to two small joints can drop suitable instillation volume in a single external ear by holding it over the ear, and waiting for a while till the oil drips down. The warm oil if taken from a warm source, should be checked for the temperature not being too hot. The comfortable warm oil dropped by the above method should be allowed to act for a while. In a dry ear it makes the inside of ear oleated. Later on the bud (prepared by whirling clean soft cotton cloth) is inserted and is useful for removing the softened layer of dirt. Children may have a tendency to have more sticky material, whereas elderly persons have more dryness. Both can be managed by adjusting the span between two instillations. The skin is a sense organ, which is dry when compared with the tissues inside the body. Nature is providing sweat secretion to create a smear of oily matter. The massage of skin by suitable oil is useful to increase the integrity of the skin, which is otherwise prone to cracking. Ayurvedic advice is for long contact of warm and medicated oils/fats to external skin and to internal organs, due to the specific property of separating the excretory waste material stuck to the useful tissues. An iron nail when rusted can be rendered clean by abrasives, where the strength of iron is lost. But if it is repeatedly mopped by oils, the rust gets separated from the nail without losing the iron-strength. The capacity to ward away the wastes without risk of losing the metal is taken advantage of in applications and administrations of oils/fats. The medicated status facilitates comes out (re-excretion) of the fat along-with other waste products not wanted by the body. The oils are especially protective to vegetarian food eaters as their foods contain legumes that need oils. Animal food eaters lack no such component dominant in their food. There are distinct results of Ayurvedic treatment in case of failure by other treatments. The Panchakarma specialty banks significantly on oils. So the massage of skin and contact at all outlets is health promoting by the rationale stated earlier. Regular, long-term application protects one from geriatric changes, and ensures natural sleep without harmful stimuli, and thereby harvests additional benefits. It controls pain and enhances the capacity of the sense organs. It helps augmentation of tissues, and therefore is beneficial to growing babies and recovering mothers, elderly persons needing support to strengthen tissues. Eyes are provided with lids that protect the eyes from entry of dust, extra bright light, or shower. There is a thin film of lachrymal secretion for free gliding. A small film of very mild secretion promoting substance, applied inside the lower lid can give continuous stimulus. The eyes are rich in shining and the dominance of covering substances should therefore be avoided. This is more appropriate in childhood. The black soot from the flame of a wick, using fuel from clarified (cows ghee) butter and camphor is collected on water cooled silver, copper or bronze plates base. Stainless steel or aluminum is not to be used. This black soot is carefully thoroughly homogenized, for a dry type use. Even the ghee, camphor, castor oil fuelled wick is burnt to black, instead of ash. The black burnt wick is homogenized carefully using 7, 8 drops of castor oil. This is also useful for application as above. Certain herb powders (of Anethum sowa, Embelia ribes, Cinnamomum camphora) are spread over castor oil / ghee smeared on a thin cotton cloth. The cloth is rolled into a wick. This wick is lighted in usual ghee fuelled lamp. The black soot is collected as described earlier. When the oily type is to be used; by clean fingers, this soot is thoroughly homogenized with pure castor oil or ghee. The black admix is carefully preserved in clean shallow container, with a proper clean lid. The dry type is more appropriate for a child up to 3 months. Every day for 4 to 5 times the thin smear of this well protected black admix, termed Kaajala is applied on the inside of the lower eyelid, of the child, by clean index finger tip of the mother or governess. In the eyes of child at the time of oil massage, preparatory for a bath, a drop of clean warm oil should be instilled. This facilitates smoother cleansing if some material is stuck in the eye. Allowing a span of a few minutes immersion of eye in warm medicated fat by proper positioning is another protective procedure termed Netrabasti. This is claimed to possess efficacy to correct some refractive errors common in childhood. Application of oil on outer skin of both feet is a useful protective measure for safeguarding eyes, with the potential risk of exposure to fatigue, that too in a hot environment. It is also very beneficial for weak or old people. The tongue is exposed to a number of stimuli, at times hot, cold, desiccant dry etc. Frequent gargles of lukewarm water are protective and keep the taste sense organ sensitive to fine differences in tastes. There should not be any chance for a thick layer to accumulate on it by astringent, bitter tasting herbal material. In children this care is to be taken by elders till the child understands the significance of the required routine. The nose is a cone like structure aptly compared to a conch. Care is therefore needed to maintain free passage where potentially there are chances of occlusion. To avoid drying in the area deep inside instillation of oil drops that have more fineness than other oils is practiced. Instillation of saline drops (warm) helps initially, but stronger irritant stimuli may require, in cold seasons. To grown children and adult onwards, smear of clarified butter from broader the end of cone to its highest reachable point, is very beneficial. It separates the otherwise prone to stick material smoothly. Instillation of various materials including medicated smokes through nose is useful in a number of ways to improve upon the sensitivity of all sense organs including the tongue too. Certain yogic breathing techniques after proper learning are helpful for the care of smell-organ and variety of sinusitis. Application/massage of oils to head is helpful to take care of all sense organs. Dr. Durga Paranjape Sr. Ayurvedic Physician\n",
      "It helps augmentation of tissues, and therefore is beneficial to growing babies and recovering mothers, elderly persons needing support to strengthen tissues. Eyes are provided with lids that protect the eyes from entry of dust, extra bright light, or shower. There is a thin film of lachrymal secretion for free gliding. A small film of very mild secretion promoting substance, applied inside the lower lid can give continuous stimulus. The eyes are rich in shining and the dominance of covering substances should therefore be avoided. This is more appropriate in childhood. The black soot from the flame of a wick, using fuel from clarified (cows ghee) butter and camphor is collected on water cooled silver, copper or bronze plates base. Stainless steel or aluminum is not to be used. This black soot is carefully thoroughly homogenized, for a dry type use. Even the ghee, camphor, castor oil fuelled wick is burnt to black, instead of ash. The black burnt wick is homogenized carefully using 7, 8 drops of castor oil. This is also useful for application as above. Certain herb powders (of Anethum sowa, Embelia ribes, Cinnamomum camphora) are spread over castor oil / ghee smeared on a thin cotton cloth. The cloth is rolled into a wick. This wick is lighted in usual ghee fuelled lamp. The black soot is collected as described earlier. When the oily type is to be used; by clean fingers, this soot is thoroughly homogenized with pure castor oil or ghee. The black admix is carefully preserved in clean shallow container, with a proper clean lid. The dry type is more appropriate for a child up to 3 months. Every day for 4 to 5 times the thin smear of this well protected black admix, termed Kaajala is applied on the inside of the lower eyelid, of the child, by clean index finger tip of the mother or governess. In the eyes of child at the time of oil massage, preparatory for a bath, a drop of clean warm oil should be instilled. This facilitates smoother cleansing if some material is stuck in the eye. Allowing a span of a few minutes immersion of eye in warm medicated fat by proper positioning is another protective procedure termed Netrabasti. This is claimed to possess efficacy to correct some refractive errors common in childhood. Application of oil on outer skin of both feet is a useful protective measure for safeguarding eyes, with the potential risk of exposure to fatigue, that too in a hot environment. It is also very beneficial for weak or old people. The tongue is exposed to a number of stimuli, at times hot, cold, desiccant dry etc. Frequent gargles of lukewarm water are protective and keep the taste sense organ sensitive to fine differences in tastes. There should not be any chance for a thick layer to accumulate on it by astringent, bitter tasting herbal material. In children this care is to be taken by elders till the child understands the significance of the required routine. The nose is a cone like structure aptly compared to a conch. Care is therefore needed to maintain free passage where potentially there are chances of occlusion. To avoid drying in the area deep inside instillation of oil drops that have more fineness than other oils is practiced. Instillation of saline drops (warm) helps initially, but stronger irritant stimuli may require, in cold seasons. To grown children and adult onwards, smear of clarified butter from broader the end of cone to its highest reachable point, is very beneficial. It separates the otherwise prone to stick material smoothly. Instillation of various materials including medicated smokes through nose is useful in a number of ways to improve upon the sensitivity of all sense organs including the tongue too. Certain yogic breathing techniques after proper learning are helpful for the care of smell-organ and variety of sinusitis. Application/massage of oils to head is helpful to take care of all sense organs. Dr. Durga Paranjape Sr. Ayurvedic Physician Chhardi Chikitsaa References: Ch.Chi.20, Su.U.49, A.H.Chi.6 Pathogenesis of Chhardi Increased Dosha are expelled out in upward direction through mouth it is called as Chhardi (Vomiting or Sickness). It is an acute condition and if neglected can lead to acute dehydration and further complications. Types of Chhardi Chhardi is of five types. Vaataja Pittaja Kaphaja Tridoshaja Dvisht`aarthajaa (Bheebhtsajaa) Dauhridajaa  due to insult of likings of pregnant woman Aamajaa  in diseases like Visoochikaa Saatmyaprakopajaa (Saatmya Tyaagaat)  suddenly giving up the Saatmya. Krimijaa  due to worms Saamanya Chikitsaa All types of Chaardi have the same cause, the irritation of Aamaas`haya. As it Aas`haya of Aama, its irritation is treated by treating Aama. Langhana (Fasting with light food or without food) is the best remedy for treating Aama. Also regime like Saatmya Annapaana, S`huska Phala Sevana, and Application of aromatic powders, follow by bath should be given. In addition, mouth should be washed with cold water. Aavasthika Chikitsaa S`hodhanaarha Rugn`a: If the person suffering from Chhardi is Balavaan (having capacity / strength to tolerate effects of disease as well as treatment), should be treated by Kapha - Pittaghna S`hodhana i.e. Vamana and Virechana. Vaata gets aggravated by Vamana or Virechana hence in Vaataja Chhardi both the procedures should be avoided. S`hamanaarha Rugn`a: Durbala (weak) patient should be treated by S`hamana and Langhana. Drugs and diet should have following properties: Manodnya (liked / favorite) Laghu (easy to digest) Saatmya (wholesome / habitual) Vis`hushka (Dry) Sugandhi (flavored / aromatic) After having food sprinkling of cold water on face is also suggested. These all things are advised for pacification of Dosha and Chhardi increasing the strength. Laajaa is the best S`hamana Dravya for Chhardi. Vaataja Chhardi: Contraindicated treatment: S`hodhana is contraindicated in Vaataja Chhardi, if administered likely complications are chest pain or Hridaya Drava etc. Hence, only S`hamana is the choice to treat. Ghrita is the drug of choice in this condition. It is used with Saindhava (rock salt) or medicated Ghrita are used. Indicated treatment: Sneha Virechana (Virechana by unctuous medicines or medicines along with ghee or oils like Eran`d`a Taila) is also advised by Sus`hruta Samhitaa. Ghrita added with Kat`u and Lavan`a Dravya is indicated for drink so as to pacify Vaata Dosha. Kashaaya indicated in Vaataja Jvara should be used to treat Vaataja Chhardi. Pittaja Chhardi: Pittaja Chhardi should be treated by Virechana as it is best S`hodhana therapy of Pitta. Pratimaarga (in opposite direction) S`hodhana helps in Vaataanulomana and ultimately pacification of Chhardi. Mridu Virechaka Dravya like Draakshaa, Ikshurasa, Tilvaka Ghrita should be used. If Pitta is more aggravated in Kapha Sthaana, it should be alleviated by Vamana because it is the nearest way of letting Dosha out from Kaphaas`haya. For this Madhura (sweet) and Tikta (Bitter) medicines are used. Kaphaja Chhardi: For Kaphaja Chhardi, Vamana is the treatment of choice as it is the best S`hodhana therapy for Kapha Dosha. If the person suffering from Chhardi is weak, he is treated by S`hamana Kalpa, which is supported by Kaphaghna and Hridya Aahaara.\n",
      "Chhardi Chikitsaa References: Ch.Chi.20, Su.U.49, A.H.Chi.6 Pathogenesis of Chhardi Increased Dosha are expelled out in upward direction through mouth it is called as Chhardi (Vomiting or Sickness). It is an acute condition and if neglected can lead to acute dehydration and further complications. Types of Chhardi Chhardi is of five types. Vaataja Pittaja Kaphaja Tridoshaja Dvisht`aarthajaa (Bheebhtsajaa) Dauhridajaa  due to insult of likings of pregnant woman Aamajaa  in diseases like Visoochikaa Saatmyaprakopajaa (Saatmya Tyaagaat)  suddenly giving up the Saatmya. Krimijaa  due to worms Saamanya Chikitsaa All types of Chaardi have the same cause, the irritation of Aamaas`haya. As it Aas`haya of Aama, its irritation is treated by treating Aama. Langhana (Fasting with light food or without food) is the best remedy for treating Aama. Also regime like Saatmya Annapaana, S`huska Phala Sevana, and Application of aromatic powders, follow by bath should be given. In addition, mouth should be washed with cold water. Aavasthika Chikitsaa S`hodhanaarha Rugn`a: If the person suffering from Chhardi is Balavaan (having capacity / strength to tolerate effects of disease as well as treatment), should be treated by Kapha - Pittaghna S`hodhana i.e. Vamana and Virechana. Vaata gets aggravated by Vamana or Virechana hence in Vaataja Chhardi both the procedures should be avoided. S`hamanaarha Rugn`a: Durbala (weak) patient should be treated by S`hamana and Langhana. Drugs and diet should have following properties: Manodnya (liked / favorite) Laghu (easy to digest) Saatmya (wholesome / habitual) Vis`hushka (Dry) Sugandhi (flavored / aromatic) After having food sprinkling of cold water on face is also suggested. These all things are advised for pacification of Dosha and Chhardi increasing the strength. Laajaa is the best S`hamana Dravya for Chhardi. Vaataja Chhardi: Contraindicated treatment: S`hodhana is contraindicated in Vaataja Chhardi, if administered likely complications are chest pain or Hridaya Drava etc. Hence, only S`hamana is the choice to treat. Ghrita is the drug of choice in this condition. It is used with Saindhava (rock salt) or medicated Ghrita are used. Indicated treatment: Sneha Virechana (Virechana by unctuous medicines or medicines along with ghee or oils like Eran`d`a Taila) is also advised by Sus`hruta Samhitaa. Ghrita added with Kat`u and Lavan`a Dravya is indicated for drink so as to pacify Vaata Dosha. Kashaaya indicated in Vaataja Jvara should be used to treat Vaataja Chhardi. Pittaja Chhardi: Pittaja Chhardi should be treated by Virechana as it is best S`hodhana therapy of Pitta. Pratimaarga (in opposite direction) S`hodhana helps in Vaataanulomana and ultimately pacification of Chhardi. Mridu Virechaka Dravya like Draakshaa, Ikshurasa, Tilvaka Ghrita should be used. If Pitta is more aggravated in Kapha Sthaana, it should be alleviated by Vamana because it is the nearest way of letting Dosha out from Kaphaas`haya. For this Madhura (sweet) and Tikta (Bitter) medicines are used. Kaphaja Chhardi: For Kaphaja Chhardi, Vamana is the treatment of choice as it is the best S`hodhana therapy for Kapha Dosha. If the person suffering from Chhardi is weak, he is treated by S`hamana Kalpa, which is supported by Kaphaghna and Hridya Aahaara. Tridoshaja Chhardi: Tridoshaja Chhardi is treated by combinations of the medicines used in Vaataja, Pittaja and Kaphaja Chhardi respectively after carefully assessing the Dosha dominance, season in which the disease has occurred, Rogabala (intensity / state of disease - Saadhya / Asaadhya) and Agnibala etc. As other Saannipaatika diseases Chhardi too exhibits bizarre signs and symptoms hence the physician has to be innovative it its management. All possible permutations and combinations of medicines, procedures etc. have to be employed depending upon the apparent Dosha dominance along with due consideration to the season of onset, physical power of the person and his digestive capacity as well as the strength of the diseases with its prognosis. Dvisht`aarthajaa Chhardi: This type of Chhardi is also called as Manobhighaataja Chhardi. The first step of treatment is to avoid / refrain from the causative factors. This is supported by indulgence in favourite food, fragrance of flowers, soil (wet soil), sour fruits etc. Aas`hvaasana and Harshan`a (counseling) are also equally important to divert the persons attention from the cause. Sus`hruta Samhitaa advocates treatment for specific type: Aamaja Chhardi  Langhana, Vamana Asaatmyaja Chhardi Saatmya Aahaara, Vihaara Bibhatsaja Chhardi  Hridya Aahaara, Vihaara Dauhrid Avamaanaja Chhardi  completing the demand Krimija Chhardi  Treat as per Krimija Hridroga Saatmya: Charaka Samhitaa specifies it as the route of causative factor is the best way of using medicine for the disease e. g. if Chhardi is caused by Asaatmya Gandha it should be treated by Saatmya Gandha. Saatmya is homologous stimulus response; some substances are homologous from birth due to the Prakriti while others become homologous by repeated consumption / habit forming. Sudden deviation from usual, homologous behaviour is a cause for diseases like Chhardi. Hence the principle of management is to restore the homologation that is disturbed and allay the condition. The various ways it could be done are described above. Prasakta Chhardi (chronic / persistent vomiting): Excessive Chhardi causes Dhaatukshaya (dehydration, loss of fluid content first and finally the unctuous content too, resulting in depletion of the volume of Dhaatu), resulting in Vaata Prakopa which creates further complications. Stambhana and Brimhan`a treatment advised in Vamana Karma Atiyoga should be given in this condition.\n",
      "Tridoshaja Chhardi: Tridoshaja Chhardi is treated by combinations of the medicines used in Vaataja, Pittaja and Kaphaja Chhardi respectively after carefully assessing the Dosha dominance, season in which the disease has occurred, Rogabala (intensity / state of disease - Saadhya / Asaadhya) and Agnibala etc. As other Saannipaatika diseases Chhardi too exhibits bizarre signs and symptoms hence the physician has to be innovative it its management. All possible permutations and combinations of medicines, procedures etc. have to be employed depending upon the apparent Dosha dominance along with due consideration to the season of onset, physical power of the person and his digestive capacity as well as the strength of the diseases with its prognosis. Dvisht`aarthajaa Chhardi: This type of Chhardi is also called as Manobhighaataja Chhardi. The first step of treatment is to avoid / refrain from the causative factors. This is supported by indulgence in favourite food, fragrance of flowers, soil (wet soil), sour fruits etc. Aas`hvaasana and Harshan`a (counseling) are also equally important to divert the persons attention from the cause. Sus`hruta Samhitaa advocates treatment for specific type: Aamaja Chhardi  Langhana, Vamana Asaatmyaja Chhardi Saatmya Aahaara, Vihaara Bibhatsaja Chhardi  Hridya Aahaara, Vihaara Dauhrid Avamaanaja Chhardi  completing the demand Krimija Chhardi  Treat as per Krimija Hridroga Saatmya: Charaka Samhitaa specifies it as the route of causative factor is the best way of using medicine for the disease e. g. if Chhardi is caused by Asaatmya Gandha it should be treated by Saatmya Gandha. Saatmya is homologous stimulus response; some substances are homologous from birth due to the Prakriti while others become homologous by repeated consumption / habit forming. Sudden deviation from usual, homologous behaviour is a cause for diseases like Chhardi. Hence the principle of management is to restore the homologation that is disturbed and allay the condition. The various ways it could be done are described above. Prasakta Chhardi (chronic / persistent vomiting): Excessive Chhardi causes Dhaatukshaya (dehydration, loss of fluid content first and finally the unctuous content too, resulting in depletion of the volume of Dhaatu), resulting in Vaata Prakopa which creates further complications. Stambhana and Brimhan`a treatment advised in Vamana Karma Atiyoga should be given in this condition. Sarpigud`a, Maamsarasa, Ghrita (Medicated as Kalyaan`aka, Tryooshan`a, Jeevaneeya) as well as Pathya Leha are also used to treat Prasakta Chhardi Gun`a / Karma - Laghu, S`hushka, Saatmya Dhaanya - Bharjita Yava, Jeern`a Shasht`ika S`haalee, Godhuma, Bharjita Godhuma, Tand`ula S`himbee - Sateena, Maasha, Bharjita Mudga, Chan`aka Maamsa - S`has`ha, Mayoora, Tittira, Laavaa, Jaangala Maamsa, S`hushka Maamsa Phala - Naarikela, Nimbuka, Aamalakee, Badara, Draakshaa, Kapittha, Haritakee, Daad`ima, Maatulunga, Aamara, Mridvikaa Kritaanna - Laajaa Mand`a, Yoosha, Raaga, Khaand`ava, Paanaka, Avaleha, Khad`a Apathya: Gun`a/ Karma - Snigdha, Ushn`a, Vidaahee, Drava S`haaka - Alaaboo, Bimbee, Kaaravellaka, Chitraka, Meda, Sarshapa Search Anveshaka: Search for Dravya, Kalpa, Aahaara, Chikitsaa Karma, Vihaara Vyaadhi Chhardi Adhikaara  Chhardi Karma  Chhardinigrahn`a, Vamana, Virechana for S`hodhana, Stambhana, Brimhan`eeya, Hridya. Effect on Dosha Kaphaghna, Pittaghna, Vaataanulomana Effect on Mana Manahprasaadana\n",
      "Sarpigud`a, Maamsarasa, Ghrita (Medicated as Kalyaan`aka, Tryooshan`a, Jeevaneeya) as well as Pathya Leha are also used to treat Prasakta Chhardi Gun`a / Karma - Laghu, S`hushka, Saatmya Dhaanya - Bharjita Yava, Jeern`a Shasht`ika S`haalee, Godhuma, Bharjita Godhuma, Tand`ula S`himbee - Sateena, Maasha, Bharjita Mudga, Chan`aka Maamsa - S`has`ha, Mayoora, Tittira, Laavaa, Jaangala Maamsa, S`hushka Maamsa Phala - Naarikela, Nimbuka, Aamalakee, Badara, Draakshaa, Kapittha, Haritakee, Daad`ima, Maatulunga, Aamara, Mridvikaa Kritaanna - Laajaa Mand`a, Yoosha, Raaga, Khaand`ava, Paanaka, Avaleha, Khad`a Apathya: Gun`a/ Karma - Snigdha, Ushn`a, Vidaahee, Drava S`haaka - Alaaboo, Bimbee, Kaaravellaka, Chitraka, Meda, Sarshapa Search Anveshaka: Search for Dravya, Kalpa, Aahaara, Chikitsaa Karma, Vihaara Vyaadhi Chhardi Adhikaara  Chhardi Karma  Chhardinigrahn`a, Vamana, Virechana for S`hodhana, Stambhana, Brimhan`eeya, Hridya. Effect on Dosha Kaphaghna, Pittaghna, Vaataanulomana Effect on Mana Manahprasaadana Clinical Management of Apasmaara Vaidya Pramod Kulkarni M.D. (Ayurveda) Apasmaara is a disease in which the patient not only loses consciousness but also suffers from sudden paroxysmal disorderly or uncontrolled movements of the voluntary muscles termed as a convulsion. In addition to the patients pathetic suffering, the sight of the patient writhing or agitating in a fit of convulsion is itself very painful to the healthy persons. Mind and Buddhi are not easily approachable either for investigation or treatment. Hence disease reappears with other difficulties both for the patient and his family. The disease as such requires a rational approach both for the diagnosis and treatment. APASMAARA-APA S`HABDO GAMANAARTHAM Going away SMARAH ---- SMARAN`AM Memory, knowledge of the surrounding, of the past events. Apasmaara is a disease in which memory (Smriti), intellect (Buddhi) and mind (Sattva) get flowed out all together and there are disgusting movements by the patient. This is a momentary phase (Aavasthika) in which the patient gropes in the dark (Tamah Praves`ha). This causes results from loss of DHI i.e. understanding or wisdom, Sattva (Consciousness when the mind gets deranged .. worry (CHINTAA), grief (S`HOKA), fears (BHAYA) etc. It happens because of the vitiated Dosha. When the mind gets deranged by the obstruction of the SANDNYAAVAHA channels (loss of consciousness) the person enters darkness with his mind becoming inactive, performs terrifying actions such as grinding the teeth, frothing at mouth, shaking the hands and feet violently (convulsion) seeing non-existing things, loses balance and falls to the ground, with irregular eye movements, gets up regaining conscious after the expiry of bouts of Dosha. From above definition it can easily understood that the seats of the disease are the Buddhi and Manas including Manovaha channel and the main cause in their deranged functions both in the sensory and motor aspects. Apasmaara is a disease with the deprivation of SMRITI or memory. According to Sus`hruta, Smriti is the faculty of recalling the past sense perceptions / experience. The sense perceptions constitute the knowledge. Therefore one can come to conclusion of Smriti is the experience associated with knowledge. Prodromal Symptoms: The features of the impending disease are tremors and feeling of emptiness of the heart, dizziness, seeing darkness before eyes, worry, abnormal movements of the eyes, sweating, flowing of saliva and nasal secretion, indigestion, loss of appetite, fainting, loss of strength, loss of sleep, body ache, thirst, dreaming of singing etc. Pathogenesis: Dooshya: Mind situated at Mastishka Adhisht`haana: Hridaya & Manovaha channel Srotas (Channel): Manovaha Manas is also considered as Indriya and its objects is Chintya or the subject of thought which is independent of the sense organs. Therefore, can get vitiated due to the Ayoga Heenayoga, Atiyoga or Mithyaayoga contact of mind with Chintaa. Periodicity of the Attack: The vitiated and provoked tremors precipitate an attack of Apasmaara once every twelve days or every fortnight or every month; depending upon the Doshaanubandha, the paroxysm lasting for a brief period. In other words we can say that Vaataja, Pittaja, Kaphaja Apasmaara are accordingly. This periodicity is considered the nature of the disease. Types of Apasmaara:\n",
      "Clinical Management of Apasmaara Vaidya Pramod Kulkarni M.D. (Ayurveda) Apasmaara is a disease in which the patient not only loses consciousness but also suffers from sudden paroxysmal disorderly or uncontrolled movements of the voluntary muscles termed as a convulsion. In addition to the patients pathetic suffering, the sight of the patient writhing or agitating in a fit of convulsion is itself very painful to the healthy persons. Mind and Buddhi are not easily approachable either for investigation or treatment. Hence disease reappears with other difficulties both for the patient and his family. The disease as such requires a rational approach both for the diagnosis and treatment. APASMAARA-APA S`HABDO GAMANAARTHAM Going away SMARAH ---- SMARAN`AM Memory, knowledge of the surrounding, of the past events. Apasmaara is a disease in which memory (Smriti), intellect (Buddhi) and mind (Sattva) get flowed out all together and there are disgusting movements by the patient. This is a momentary phase (Aavasthika) in which the patient gropes in the dark (Tamah Praves`ha). This causes results from loss of DHI i.e. understanding or wisdom, Sattva (Consciousness when the mind gets deranged .. worry (CHINTAA), grief (S`HOKA), fears (BHAYA) etc. It happens because of the vitiated Dosha. When the mind gets deranged by the obstruction of the SANDNYAAVAHA channels (loss of consciousness) the person enters darkness with his mind becoming inactive, performs terrifying actions such as grinding the teeth, frothing at mouth, shaking the hands and feet violently (convulsion) seeing non-existing things, loses balance and falls to the ground, with irregular eye movements, gets up regaining conscious after the expiry of bouts of Dosha. From above definition it can easily understood that the seats of the disease are the Buddhi and Manas including Manovaha channel and the main cause in their deranged functions both in the sensory and motor aspects. Apasmaara is a disease with the deprivation of SMRITI or memory. According to Sus`hruta, Smriti is the faculty of recalling the past sense perceptions / experience. The sense perceptions constitute the knowledge. Therefore one can come to conclusion of Smriti is the experience associated with knowledge. Prodromal Symptoms: The features of the impending disease are tremors and feeling of emptiness of the heart, dizziness, seeing darkness before eyes, worry, abnormal movements of the eyes, sweating, flowing of saliva and nasal secretion, indigestion, loss of appetite, fainting, loss of strength, loss of sleep, body ache, thirst, dreaming of singing etc. Pathogenesis: Dooshya: Mind situated at Mastishka Adhisht`haana: Hridaya & Manovaha channel Srotas (Channel): Manovaha Manas is also considered as Indriya and its objects is Chintya or the subject of thought which is independent of the sense organs. Therefore, can get vitiated due to the Ayoga Heenayoga, Atiyoga or Mithyaayoga contact of mind with Chintaa. Periodicity of the Attack: The vitiated and provoked tremors precipitate an attack of Apasmaara once every twelve days or every fortnight or every month; depending upon the Doshaanubandha, the paroxysm lasting for a brief period. In other words we can say that Vaataja, Pittaja, Kaphaja Apasmaara are accordingly. This periodicity is considered the nature of the disease. Types of Apasmaara: Vaataja Pittaja Kaphaja Saannipaatika (all Dosha together)\n",
      "Vaataja Pittaja Kaphaja Saannipaatika (all Dosha together) Symptoms Vaataja Apasmaara:(During attack)\n",
      "Symptoms Vaataja Apasmaara:(During attack) Patient has tremors in thighs Falls on the ground again and again Quick loss of consciousness and revival Strangulated cry Eyes bulged out Dyspnoea Vomits froth Shivers Strikes hard to things nearby\n",
      "Patient has tremors in thighs Falls on the ground again and again Quick loss of consciousness and revival Strangulated cry Eyes bulged out Dyspnoea Vomits froth Shivers Strikes hard to things nearby 10. Grinds teeth 11. Places arms and legs here and there irregularly 12. Fingers are bent inward. 13. Bluish red colour in the eyes, nails, face, skin Pittaja Apasmaara:(During attack)\n",
      "10. Grinds teeth 11. Places arms and legs here and there irregularly 12. Fingers are bent inward. 13. Bluish red colour in the eyes, nails, face, skin Pittaja Apasmaara:(During attack) Loses consciousness and quickly regains it Emits yellow froth from the mouth Yellowish eyes, face and skin Scratches the ground during convulsion Sees terrifying objects Suffers from thirst\n",
      "Loses consciousness and quickly regains it Emits yellow froth from the mouth Yellowish eyes, face and skin Scratches the ground during convulsion Sees terrifying objects Suffers from thirst Kaphaja Apasmaara: (During attack)\n",
      "Kaphaja Apasmaara: (During attack) Seizures are slow with long intervals Awaking actions are few and mild Regain consciousness slowly More flow of saliva White eyes, nails and face\n",
      "Seizures are slow with long intervals Awaking actions are few and mild Regain consciousness slowly More flow of saliva White eyes, nails and face Saannipaatika Apasmaara: Due to all Dosha, all the features appearing together as it is incurable hence no treatment is advised. Prognosis: It is stated by ancient Grantha that for Saannipaatika Apasmaara is incurable. In addition Charakaachaarya states the one which occurs in debilitated persons and which is of long standing are also incurable. Status Epilapticus is also incurable. Treatment of Apasmaara: In Apasmaara the channels of Dhi, Chitta and Mind which have become obstructed are covered by the Dooshya should be cleaned by Panchakarma. The treatment is defined in two states,\n",
      "Saannipaatika Apasmaara: Due to all Dosha, all the features appearing together as it is incurable hence no treatment is advised. Prognosis: It is stated by ancient Grantha that for Saannipaatika Apasmaara is incurable. In addition Charakaachaarya states the one which occurs in debilitated persons and which is of long standing are also incurable. Status Epilapticus is also incurable. Treatment of Apasmaara: In Apasmaara the channels of Dhi, Chitta and Mind which have become obstructed are covered by the Dooshya should be cleaned by Panchakarma. The treatment is defined in two states, Vegaavasthaa (Attack state) -During attacks Avegaavasthaa (Normal state)-      Between attacks\n",
      "Vegaavasthaa (Attack state) -During attacks Avegaavasthaa (Normal state)-      Between attacks Treatment during attack period: Since the treatment is the restoration of the activity of Buddhi and it is achieved by the Sams`hodhana treatment, the important purificatory measure of the Panchakarma to be administered during the attack period is Nasyakarma. The arrhythmic activity of the brain is mainly due to the abnormal stimulation. The activity can only be overcome by a strong a counter stimulation of the brain. The nearest route to the brain is nasal canal so Nasyakarma is most important in attack state.\n",
      "Treatment during attack period: Since the treatment is the restoration of the activity of Buddhi and it is achieved by the Sams`hodhana treatment, the important purificatory measure of the Panchakarma to be administered during the attack period is Nasyakarma. The arrhythmic activity of the brain is mainly due to the abnormal stimulation. The activity can only be overcome by a strong a counter stimulation of the brain. The nearest route to the brain is nasal canal so Nasyakarma is most important in attack state. Samos`hodhana: According to Dosha S`hodhana treatment needs Teekshn`a      type of medicines. Yuktivyapaas`hraya and Satvaavajaya treatment Snehana, Svedana, Vamana, Virechana, S`hirovirechana & Basti\n",
      "Samos`hodhana: According to Dosha S`hodhana treatment needs Teekshn`a      type of medicines. Yuktivyapaas`hraya and Satvaavajaya treatment Snehana, Svedana, Vamana, Virechana, S`hirovirechana & Basti Special Instruction\n"
     ]
    }
   ],
   "source": [
    "for i in range(100,120):\n",
    "    print(_sentence_nodes[i].text)"
   ]
  },
  {
   "cell_type": "code",
   "execution_count": 308,
   "metadata": {},
   "outputs": [
    {
     "data": {
      "application/vnd.jupyter.widget-view+json": {
       "model_id": "7867cae407ef48f8a74baba06f1c7032",
       "version_major": 2,
       "version_minor": 0
      },
      "text/plain": [
       "Generating embeddings:   0%|          | 0/2048 [00:00<?, ?it/s]"
      ]
     },
     "metadata": {},
     "output_type": "display_data"
    },
    {
     "data": {
      "application/vnd.jupyter.widget-view+json": {
       "model_id": "02dce38e6fb14e79a07cca8f241ba965",
       "version_major": 2,
       "version_minor": 0
      },
      "text/plain": [
       "Generating embeddings:   0%|          | 0/1662 [00:00<?, ?it/s]"
      ]
     },
     "metadata": {},
     "output_type": "display_data"
    }
   ],
   "source": [
    "from llama_index.core import VectorStoreIndex\n",
    "embedding_model = GeminiEmbedding()\n",
    "index = VectorStoreIndex(nodes = _sentence_nodes, embed_model = embedding_model, show_progress=True)"
   ]
  },
  {
   "cell_type": "code",
   "execution_count": 318,
   "metadata": {},
   "outputs": [],
   "source": [
    "index.storage_context.persist(persist_dir=\"indexes\")"
   ]
  },
  {
   "cell_type": "code",
   "execution_count": 311,
   "metadata": {},
   "outputs": [],
   "source": [
    "from llama_index.llms.gemini import Gemini\n",
    "from llama_index.core import Settings\n",
    "Settings.llm = Gemini(model_name='models/gemini-pro',\n",
    "                      temperature=0.7)\n",
    "\n",
    "query_engine = index.as_query_engine(llm=Settings.llm)"
   ]
  },
  {
   "cell_type": "code",
   "execution_count": 322,
   "metadata": {},
   "outputs": [
    {
     "name": "stdout",
     "output_type": "stream",
     "text": [
      "The provided context does not contain any information about the reasons of sweating. Therefore, I am unable to answer this query.\n"
     ]
    }
   ],
   "source": [
    "response = query_engine.query(\"What are the reasons of sweating?\")\n",
    "print(response)"
   ]
  },
  {
   "cell_type": "code",
   "execution_count": 325,
   "metadata": {},
   "outputs": [
    {
     "name": "stdout",
     "output_type": "stream",
     "text": [
      "5c1e8869-929f-4187-bac2-68e6d42ac523\n",
      "----------------------------------------------------------------------------------------------------\n",
      "6201b78b-b911-4d39-96c6-fd7d09560fc4\n",
      "----------------------------------------------------------------------------------------------------\n"
     ]
    }
   ],
   "source": [
    "for node in response.source_nodes:\n",
    "    print(node.id_)\n",
    "    print(\"-\"*100)"
   ]
  },
  {
   "cell_type": "code",
   "execution_count": 309,
   "metadata": {},
   "outputs": [],
   "source": [
    "# import nltk\n",
    "# tokenizer = nltk.tokenize.PunktSentenceTokenizer()\n",
    "\n",
    "# # get the spans and then return the sentences\n",
    "# # using the start index of each span\n",
    "# # instead of using end, use the start of the next span if available\n",
    "# def split(text: str) -> List[str]:\n",
    "#     spans = list(tokenizer.span_tokenize(text))\n",
    "#     sentences = []\n",
    "#     for i, span in enumerate(spans):\n",
    "#         start = span[0]\n",
    "#         if i < len(spans) - 1:\n",
    "#             end = spans[i + 1][0]\n",
    "#         else:\n",
    "#             end = len(text)\n",
    "#         sentences.append(text[start:end])\n",
    "\n",
    "#     return sentences"
   ]
  },
  {
   "cell_type": "markdown",
   "metadata": {},
   "source": [
    "## Futher implementation guide\n",
    "```python\n",
    "from llama_index.core import SimpleDirectoryReader\n",
    "from llama_index.core.ingestion import IngestionPipeline\n",
    "from llama_index.core.node_parser import TokenTextSplitter\n",
    "\n",
    "documents = SimpleDirectoryReader(\"./data\").load_data()\n",
    "\n",
    "pipeline = IngestionPipeline(transformations=[TokenTextSplitter(), ...])\n",
    "\n",
    "nodes = pipeline.run(documents=documents)\n",
    "```\n",
    "\n",
    "```python\n",
    "text_splitter = SentenceSplitter(chunk_size=512, chunk_overlap=10)\n",
    "\n",
    "# global\n",
    "from llama_index.core import Settings\n",
    "\n",
    "Settings.text_splitter = text_splitter\n",
    "\n",
    "# per-index\n",
    "index = VectorStoreIndex.from_documents(\n",
    "    documents, transformations=[text_splitter]\n",
    ")\n",
    "```"
   ]
  },
  {
   "cell_type": "markdown",
   "metadata": {},
   "source": [
    "To use the window of sentences instead of just one sentence to generate embeddings while building your index, you can use the MetadataReplacementPostProcessor during the index building process. This postprocessor replaces the sentence in each node with its surrounding context (the \"window\" of sentences) before passing the node to the Language Learning Model (LLM).\n",
    "\n",
    "Here is an example of how to do this:\n",
    "\n",
    "from llama_index import VectorStoreIndex\n",
    "from llama_index.indices.postprocessor import MetadataReplacementPostProcessor\n",
    "\n",
    "# Create the postprocessor\n",
    "postprocessor = MetadataReplacementPostProcessor(target_metadata_key=\"window\")\n",
    "\n",
    "# Build the index with the postprocessor\n",
    "sentence_index = VectorStoreIndex(nodes, service_context=ctx, node_postprocessors=[postprocessor])\n",
    "In this example, the MetadataReplacementPostProcessor is added to the VectorStoreIndex during its creation. This means that when the index is built, each node's sentence will be replaced with its surrounding context before the embeddings are generated. This allows the LLM to consider the context of the sentence when generating embeddings.\n",
    "\n",
    "Was this response helpful?\n",
    "\n",
    "Yes\n",
    "No\n",
    "Verified Sources:\n",
    "\n",
    "1. Metadata Replacement Demo - Node Po...\n",
    "2. Indexing - Indexing\n",
    "3. Indexing - Indexing\n",
    "4. Embeddings - Models\n",
    "how to use window from SentenceWindowRetrival and pass it to embedding model instead of just one sentence to build the index\n",
    "\n",
    "To use the window of sentences from SentenceWindowNodeParser and pass it to the embedding model instead of just one sentence to build the index, you can use the MetadataReplacementPostProcessor during the index building process. This postprocessor replaces the sentence in each node with its surrounding context (the \"window\" of sentences) before passing the node to the Language Learning Model (LLM).\n",
    "\n",
    "Here is an example of how to do this:\n",
    "\n",
    "First, you need to extract the nodes using the SentenceWindowNodeParser:\n",
    "\n",
    "# Assuming you have already imported the necessary libraries and loaded your documents\n",
    "\n",
    "# Create the SentenceWindowNodeParser\n",
    "node_parser = SentenceWindowNodeParser.from_defaults(\n",
    "    # how many sentences on either side to capture\n",
    "    window_size=3,\n",
    "    # the metadata key that holds the window of surrounding sentences\n",
    "    window_metadata_key=\"window\",\n",
    "    # the metadata key that holds the original sentence\n",
    "    original_text_metadata_key=\"original_sentence\",\n",
    ")\n",
    "\n",
    "# Extract the nodes\n",
    "nodes = node_parser.get_nodes_from_documents(documents)\n",
    "Then, you can build the index with the MetadataReplacementPostProcessor:\n",
    "\n",
    "from llama_index import VectorStoreIndex\n",
    "from llama_index.indices.postprocessor import MetadataReplacementPostProcessor\n",
    "\n",
    "# Create the postprocessor\n",
    "postprocessor = MetadataReplacementPostProcessor(target_metadata_key=\"window\")\n",
    "\n",
    "# Build the index with the postprocessor\n",
    "sentence_index = VectorStoreIndex(nodes, service_context=ctx, node_postprocessors=[postprocessor])\n",
    "In this example, the MetadataReplacementPostProcessor is added to the VectorStoreIndex during its creation. This means that when the index is built, each node's sentence will be replaced with its surrounding context before the embeddings are generated. This allows the LLM to consider the context of the sentence when generating embeddings.\n",
    "\n"
   ]
  },
  {
   "cell_type": "markdown",
   "metadata": {},
   "source": []
  },
  {
   "cell_type": "code",
   "execution_count": 310,
   "metadata": {},
   "outputs": [],
   "source": [
    "#TODO: Apply sentencesplitter on html nodes with 0 overlap then apply windownodeparser \\\n",
    "#with custom sentence splitter which should in theory return multiple sentences instead of individual sentences"
   ]
  }
 ],
 "metadata": {
  "kernelspec": {
   "display_name": "rag",
   "language": "python",
   "name": "python3"
  },
  "language_info": {
   "codemirror_mode": {
    "name": "ipython",
    "version": 3
   },
   "file_extension": ".py",
   "mimetype": "text/x-python",
   "name": "python",
   "nbconvert_exporter": "python",
   "pygments_lexer": "ipython3",
   "version": "3.11.7"
  }
 },
 "nbformat": 4,
 "nbformat_minor": 2
}
