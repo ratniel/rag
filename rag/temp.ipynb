{
 "cells": [
  {
   "cell_type": "code",
   "execution_count": 9,
   "metadata": {},
   "outputs": [
    {
     "name": "stderr",
     "output_type": "stream",
     "text": [
      "Loading files: 100%|██████████| 594/594 [00:00<00:00, 4405.28file/s]\n"
     ]
    },
    {
     "data": {
      "application/vnd.jupyter.widget-view+json": {
       "model_id": "3716de40dcd249ee902766fece835f72",
       "version_major": 2,
       "version_minor": 0
      },
      "text/plain": [
       "Parsing nodes:   0%|          | 0/594 [00:00<?, ?it/s]"
      ]
     },
     "metadata": {},
     "output_type": "display_data"
    }
   ],
   "source": [
    "from llama_index.core import VectorStoreIndex, SimpleDirectoryReader\n",
    "from llama_index.core.node_parser import HTMLNodeParser\n",
    "from llama_index.embeddings.gemini import GeminiEmbedding\n",
    "from llama_index.llms.gemini import Gemini\n",
    "\n",
    "reader = SimpleDirectoryReader(input_dir=\"/home/dai/35/rag/data/clean_html\",\n",
    "                                  recursive=True)\n",
    "\n",
    "documents = reader.load_data(show_progress=True)\n",
    "node_parser = HTMLNodeParser(tags = [\"p\", \"h1\", \"h2\", \"h3\", \"h4\", \"h5\", \"h6\", \"li\", \"b\", \"i\", \"u\", \"section\", \"text\"])\n",
    "nodes = node_parser.get_nodes_from_documents(documents, show_progress=True)\n",
    "nodes = [node for node in nodes if len(node.get_content()) > 0]"
   ]
  },
  {
   "cell_type": "code",
   "execution_count": 16,
   "metadata": {},
   "outputs": [],
   "source": [
    "for node in nodes:\n",
    "    #remove all the \\n and \\t\n",
    "    node.text = node.text.replace(\"\\n\", \" \").replace(\"\\t\", \" \")"
   ]
  },
  {
   "cell_type": "code",
   "execution_count": 19,
   "metadata": {},
   "outputs": [
    {
     "name": "stdout",
     "output_type": "stream",
     "text": [
      "'p'\n",
      "'The project is funded by Ministry of Communications & Information Technology. Following Institutions and Ayurveda Experts have contributed to AyuSoft in their capacities as advisors, authors, owners of photographs and clips, testers etc.'\n",
      "'text'\n",
      "'Institutes Ayurved  Research Centre K.E.M. Hospital, Mumbai. Institutes B.S.D.T.  College of Ayurved, Wagholi Pune. Institutes College of  Ayurved Bharati Vidyapeeth Deemed University (B.V.D.U), Pune. Institutes Centre for  Rheumatic Diseases Pune (CRD), Pune. Institutes Dept. of  Ayurved Sassoon General Hospital Pune. Institutes Ayurved  Dept. Dinanath Mangeshkar Hospital,Pune. Institutes Foundation  for Revitalisation of Local Health Traditions (FRLHT), Bangalore. Institutes Sanjeevan  Hospital, Pune. Institutes Sumatibhai  Shaha Ayurved College, Hadapsar, Pune. Institutes Swami Prakashanand Ayurveda Research Centre  (SPARC), Mumbai. Institutes Seth  Tarachand Ramnath Hospital, Pune. Institutes T.N.Medical  College and Nair Hospital, Mumbai. Institutes Tilak  Ayurveda Mahavidyalaya, Pune. Physicians/Researchers Dr. Baghel M.S. Director, International Centre for Ayurvedic studies, Jamnagar. Physicians/Researchers Dr. Badave Jyoti Ayurved Physician, Pune. Physicians/Researchers Dr. Bakre A. V. Ex Professor R.A.Potdar Ayurved Medical  College, Mumbai. Physicians/Researchers Dr. Barve Anand Hon. Physician, Seth. Tarachand Ramnath Hospital,  Pune. Physicians/Researchers Dr. Barve Neelmani Ayurveda Physician, Pune. Physicians/Researchers Dr. Bavdekar S.D. Head Ayurved Dept, Jnanaprabhodhini, Pune. Physicians/Researchers Dr. Bhalerao Supriya Research Associate, Nair Hospital, Department of Clinical  Pharmacology, Mumbai. Physicians/Researchers Dr. Chatopadhyay  Abheechal Lecturer, Ayurveda College, Kolkata. Physicians/Researchers Dr Chavan Santosh Ayurveda Physician, Pune. Physicians/Researchers Dr. Chitre Rajashree Lecturer - Ayurved College Wagholi, Pune. Physicians/Researchers Dr. Chopra Arvind Director CRD, Pune. Physicians/Researchers Dr. Chunekar K.C. Ex Head Dept. of Dravyaguna Vidnyan,  Banaras Hindu University, Varanasi. Physicians/Researchers Dr. Darshanashankar Director FRLHT Bangalore. Physicians/Researchers Dr. Deopujari Jayant Physician and Researcher, Nagpur. Physicians/Researchers Dr. Deshpande Manasi Department of Dravyagunavidyana, B.V.D.U. College of Ayurved, Pune. Physicians/Researchers Mrs.Deshpande Suvarna Sanskrit Expert, Pune. Physicians/Researchers Dr.  Deokule S. S. Reader Dept of Botany, University of Pune. Physicians/Researchers Dr. Dhumal Pramod Ayurveda Physician, Pune. Physicians/Researchers Dr. Doiphode V. V. Dean & H.O.D,  Ayurved Faculty, University of Pune, Pune. Physicians/Researchers Dr. Dole V. A. H.O.D. Rasashastra, Tilak Ayurved Mahavidyalaya, Pune. Physicians/Researchers Dr. Dudhagaonkar Anjali Family Physician, Pune Physicians/Researchers Dr. Erande Mukund Principal and H.O.D. Department of Sharir Rachana, Sumatibhai Shaha  Ayurved College, Hadapsar, Pune. Physicians/Researchers Dr. Gadgil Dilip Ayurveda Physician, Pune. Physicians/Researchers Dr. Gadgil Swati Ayurveda Physician, Pune. Physicians/Researchers Dr. Galgali Shreerang Ayurveda Physician, Pune. Physicians/Researchers Dr. Gangadharan G. G. Joint Director, FRLHT Bangalore. Physicians/Researchers Dr. Gangurde Jayant Ayurveda Physician, Nashik. Physicians/Researchers Dr. Ghatnekar Vishvas Ayurveda Physician, Pune. Physicians/Researchers Dr. Gaud  Banwarilal Director, National Institute of Ayurveda, Jaipur. Physicians/Researchers Dr. Ghodke Amit Ayurveda Physician, Pune. Physicians/Researchers Dr. Gogte R. B. Ex - Professor and H.O.D. Shalya, Tilak Ayurved Mahavidyalaya and  Hospital, Pune. Physicians/Researchers Dr. Gokakar Gurunath Ayurveda Physician, Kolhapur. Physicians/Researchers Dr. Gokhale Maya Lecturer - Ayurved College, Akurdi (Pune), Ayurved Consultant, Pune. Physicians/Researchers Dr. Gokhale Vivek Lecturer - Bharati Vidyapeth College of Ayurved, Pune. Physicians/Researchers Dr. Hirwani Raj Director URDIP, Pune. Physicians/Researchers Dr. Huparikar Rajendra Hon. Physician, Seth. Tarachand Ramnath Hospital,  Pune. Physicians/Researchers Dr. Jamadagni Shruti Ayurveda Physician, Pune. Physicians/Researchers Dr.Jinde Abhijit Ayurveda Physician, Pune. Physicians/Researchers Dr. Joglekar Vishnu Assistant Professor, Tilak Ayurved  Mahavidyalaya, Pune. Physicians/Researchers Dr.Joshi V.K. Head, Dept of Dravyaguna Vidnyan, Banaras Hindu University Varanasi. Physicians/Researchers Dr. Joshi Y.G. Ayurveda Physician, Pune. Physicians/Researchers Dr. Kale Yogesh Ayurveda Physician, Pune. Physicians/Researchers Dr. Kale Mohan Statistician Pune. Physicians/Researchers Dr. Kanade Vivek Ayurveda Physician, Pune. Physicians/Researchers Dr. Kelkar Madhav Ayurveda Physician, Pune. Physicians/Researchers Dr. Kinjwdekar S.P. Ex. Professor Sion Ayurveda College, Mumbai. Physicians/Researchers Dr.Kothvale Prakash Gynaecologist, Pune. Physicians/Researchers Dr. Kondhare Dhanashree Ayurveda Physician, Pune. Physicians/Researchers Dr. Kulkarni Pramod Visiting Lecturer – Tilak Ayurved  Mahavidhyalaya, Pune. Physicians/Researchers Dr. Kulkarni Vijay Ayurveda Physician, Nasik. Physicians/Researchers Dr. Kulkarni Vinay Dermatologist ,Pune Physicians/Researchers Dr. Kulkarni Yogini Ayurveda Physician, Pune. Physicians/Researchers Dr. Lavekar G.S. Director C.C.R.A.S., New Delhi. Physicians/Researchers Dr. Mahajan S.D. Taxonomist , Pune. Physicians/Researchers Dr. Mehata Vaibhav Ayurveda Physician, Pune. Physicians/Researchers Dr. Meshram Akash Ayurveda Physician, Pune. Physicians/Researchers Dr. Mhetre Rishikesh Ayurveda Physician, Pune. Physicians/Researchers Dr. Mrs. Nagral K. Ayurveda Physician, Mumbai. Physicians/Researchers Dr.Muralidhararn Principal Shri Jayendra Saraswati Ayurveda College. Physicians/Researchers Dr. Nagral S. I. Ex. Professor Sion Ayurveda College, Mumbai. Physicians/Researchers Dr. Naidu M.D. Scholar ,Pune Physicians/Researchers Dr. Nanal Ashutosh Ayurveda Physician, Pune. Physicians/Researchers Dr. Nanal Ramesh Editor, Madhujeevan, Mumbai. Physicians/Researchers Dr. Nanal Vilas Sr. Scientist AyuSoft. Physicians/Researchers Dr. Nesari Manoj Sr. Scientist AyuSoft. Physicians/Researchers Dr. Nesari Tanuja Assistant Professor, Tilak Ayurved Mahavidyalaya, Pune. Physicians/Researchers Dr. Nevpurkar Santosh Ayurveda Physician, Aurangabad. Physicians/Researchers DR Nimbalkar Ranjeet Ayurveda Physician, Pune. Physicians/Researchers Dr. Nishtheshvar K. Asst. Professor - Vijayawada. Physicians/Researchers Dr. Paranjape Durga Ex.Professor – Tilak Ayurved Mahavidyalaya. Physicians/Researchers Smt. Page Ushahprabha Nature Photography Expert, Pune. Physicians/Researchers Mr. Page Navendu Field Botanist, Deharadun. Physicians/Researchers Dr. Patankar Ashutosh Ayurveda Physician, Pune. Physicians/Researchers Dr. Patil Jayashree Ayurveda Physician, Pune. Physicians/Researchers Dr. Pendse Narendra Ayurveda Physician, Pune. Physicians/Researchers Dr. Prabhune Yogesh Ayurveda Physician, Pune. Physicians/Researchers Dr. Prasad V.V. Director Rashtiya Ayurveda Vidyapeeth, New Delhi. Physicians/Researchers Dr. Puranik D P Principal, Tilak Ayurved Mahavidyalaya, Pune. Physicians/Researchers Dr. Ranganekar Rishikesh Ayurveda Physician, Pune. Physicians/Researchers Dr. Rahalkar Jyoti Ayurveda Physician, Pune Physicians/Researchers Dr. Raut Ashwin Asst Director, SPARC, Mumbai. Physicians/Researchers Dr. Sathaye B. V. Sr. Scientist AyuSoft. Physicians/Researchers Dr. Sathye S. M. Retd. Dean, R.A.Podar Ayurved Medical College, Mumbai. Physicians/Researchers Dr. Savarikar S.S. Vice Chancellor Gujarat Ayurveda University, Jamnagar. Physicians/Researchers Dr.Sharma Maheshchandra Head, Dept. of Dravyaguna Vigyan, National Institute of Ayurveda,  Jaipur. Physicians/Researchers Dr. Singh H. B.  Physicians/Researchers Dr. Singh R. H. Vice Chancellor, Rajasthan Ayurveda University, Jodhpur. Physicians/Researchers Dr. Suru Prashant Ayurveda Physician, Pune. Physicians/Researchers Dr. Suryavanshi. Santosh Ayurveda Physician, Pune. Physicians/Researchers Dr. Tiwari Premvatee Ex H.O.D. Stree Roga Prasuti Tantra, BHU, Varanasi. Physicians/Researchers Dr. Tripathi S.N.  Physicians/Researchers Dr. Tripathi Y.B. Department of Medicinal Chemistry and Kaya Chikitsa, Institue of  Medical Sciences, Banaras Hindu University, Varanasi – 221005, India. Physicians/Researchers Dr. Unnikrishnan Vice Principal & Professor and Head, Dept. of Agadatantra,  Vaidyaratnam P.S.Varier Ayurveda College, Kottakkal. Physicians/Researchers Dr. Upadhyaya B.N.  Physicians/Researchers Dr.Upasani V.V. Director, University  Department Of Interpathy Research and Technology, M.U.H.S. Nashik. Physicians/Researchers Dr. Vaidya Ashok Director, SPARC, Mumbai. Physicians/Researchers Dr. Venugopal Scientist, FRLHT, Bangalore. Physicians/Researchers Dr. Welankar Shubhada Ayurveda Physician, Pune. Physicians/Researchers Dr. Wele Asmita Department of Rasashastra and Bhaishajya Kalpana, B.V.D.U College of  Ayurved, Pune. Physicians/Researchers Dr. Yadaiyah Polepally I/C Prof.& HOD Post  Graduate Department of Kayachikitsa, R.T. Ayurvedic College  Akola, MAHARASTRA-444005. Physicians/Researchers Dr. Yadaiyah Polepally I/C Prof.& HOD Post  Graduate Department of Kayachikitsa, R.T. Ayurvedic College  Akola, MAHARASTRA-444005.'\n",
      "'h4'\n",
      "'AayurVidnyaana Kosha'\n",
      "'p'\n",
      "'AayurVidnyaana Kosha is encyclopedia of Ayurveda. The AayurVidnyaana Kosha window is divided into two frames. The left frame has three tabs, Contents, Search and New Window. Right frame is for viewing the document. About AayurVidnyaana Kosha AyuSoft encyclopedia elaborates scientific basis, theory and strength of Ayurveda in a dynamic form. Key topic of different subjects highlighted with their clinical applications. This includes information regarding Ayurvedic concepts, current status of Ayurveda and related research articles. The Encyclopedia of AyuSoft includes articles from eminent people related with the field of Ayurveda. The Articles are focused and classified according to the respective subjects to cover all the branches of Ayurveda. AyuSoft Encyclopedia provides elaboration of various topics required for decision support. These are made available in form of guidelines for patient assessment, Panchakarma And allied Karma, pathogenesis and theory of disease. The AyuSoft Ayurvedic data is captured from the texts which are Charaka Samhitaa, Sus`hruta Samhitaa, Asht`aanga Hridaya and Maadhava Nidaana. These texts are the prime and authentic texts for the uniform and genuine information. The history of the texts is captured and explained under the title of Introduction to Samhitaa The Encyclopedia explains the basic principles of Ayurvedic science, which supports the knowledge for the root of diagnosis, structure and functional concepts behind the theory of ancient fundamental principles. AyuSoft Encyclopedia has authentic collection of photographs, clips of Panchakarma and allied therapies (Chikitsaa Karma) / examination and treatments, audio files of oblations and guidelines wherever and whenever required. Encyclopedia of AyuSoft is also aware of the ever-growing research in the field of Ayurveda, thus, to keep the user updated with today’s world AyuSoft provides some of the important links of registered sites and associations of Ayurveda.'\n",
      "'h1'\n",
      "'Contents'\n",
      "'p'\n",
      "'Selecting this option will help in navigating through AayurVidnyaana Kosha contents. Click on the book to view its content and on clicking the page; detailed contents of the particular topic will be displayed. If selected topic is a video clip, it will be opened using windows media player, click on Play button to watch the clip. Click New Window option to view the selected topic in maximized screen. If it is a multimedia gallery, all the pictures under the selected topic will be loaded in right frame. Click on the link below the picture, to view the magnified picture and its details if any. Ayurveda Samhitaa: - This part contains digitalized copy of Charaka Samhitaa, Sus`hruta Samhitaa & Asht`aanga Hridaya. Articles: - This part contains articles highlighting various aspects of Ayurveda. Multimedia gallery: - It comprises of photographs of Herbs, Instruments, and Diseases etc. Chikitsaa Karma clips: - It comprises video clips of Chikitsaa Karma like Vamana, Raktamokshan`a etc. with narration.'\n",
      "'h1'\n",
      "'Search'\n",
      "'p'\n",
      "'Facility to search in Ayurveda Samhitaa, Multimedia gallery, AyuSoft database, Chikitsaa Karma & Articles is provided. Selecting this option makes possible for you to limit search to the specific category of the current topicin two languages either English or Sanskrit. To change the scope of search for English language, select one of thefilters from the following list. Encyclopedia Procedures Multimedia'\n",
      "'li'\n",
      "'Type the word in the Search      textbox or you can use a keyboard for typing in the Search textbox      (depending upon the selected language), which will appear on click of Sanskrit      button placed on left side of main frame if the focus is on the same      textbox and Caps Lock of your keyboard is on. To begin search click on GO      button or press Enter. To enable full text search,      check the checkbox beside the Search Textbox. Related links where the word      entered is present will be displayed in left frame, click on the required      link to view the related article in right frame with the highlighted word      entered for searching.'\n",
      "'p'\n",
      "'e.g. If you select word Chhardi (in English) in Articles then it will show where that word appeared in Articles. If you select word Vamana (in English) in Chikitsaa Karma then it will show video clip of Vamana Chikitsaa Karma. If you select word Vamana (in English) in AyuSoft database then it will show all treatment related information of Vamana from AyuSoft database. If you select word Chhardi (in Sanskrit) in Ayurveda Samhitaa then it will show where that word appeared in Ayurveda Samhitaa. If you select word S`hataavaree (in English) in Multimedia Gallery then it will show image of S`hataavaree. Ayurveda Samhitaa Charaka Samhitaa, Sus`hruta Samhitaa and Asht`aanga Hridaya are available in digitalized form. Digitalized Texts have the facility for instant reference and search for particular word or character from Charaka Samhitaa, Sus`hruta Samhitaa and Asht`aanga Hridaya. Structure of Ayurveda Samhitaa : - Name of Samhitaa : Sthaana of Samhitaa : Name of Adhyaaya Charaka Samhitaa\\xad\\xadà Chikitsaa Sthaana à 03. Jvara Chikitsaa à Sootra. The digitalized texts include only Sootra . Each Samhitaa is entitled with index and the name of the chapter in Content section. Each Sthaana (section) has been separated for easy search. Each chapter is a sub-section of Sthaana where Sthaana is a subsection of the Samhitaa. Therefore to Search for the reference of C.Chi.3/37. The user should first click on Charaka Samhitaa then on Chikitsaa Sthaana then on Jvara Chikitsaa (3 rd chapter) and then look for the Sootra 37 in the Samhitaa getting displayed at the right side.'\n"
     ]
    }
   ],
   "source": [
    "for i in range(10):\n",
    "    print(repr(nodes[i].metadata['tag']))\n",
    "    print(repr(nodes[i].text))"
   ]
  },
  {
   "cell_type": "code",
   "execution_count": 36,
   "metadata": {},
   "outputs": [
    {
     "data": {
      "application/vnd.jupyter.widget-view+json": {
       "model_id": "2a38bacd4ad94989a50ac2da7fcc7d9f",
       "version_major": 2,
       "version_minor": 0
      },
      "text/plain": [
       "Parsing nodes:   0%|          | 0/45914 [00:00<?, ?it/s]"
      ]
     },
     "metadata": {},
     "output_type": "display_data"
    }
   ],
   "source": [
    "from llama_index.core.node_parser import SentenceSplitter\n",
    "\n",
    "splitter = SentenceSplitter(chunk_size=2048, chunk_overlap=40)\n",
    "nodes = splitter.get_nodes_from_documents(nodes, show_progress=True)\n",
    "nodes = [node for node in nodes if len(node.get_content()) > 0]"
   ]
  },
  {
   "cell_type": "code",
   "execution_count": null,
   "metadata": {},
   "outputs": [],
   "source": [
    "#TODO: implement ingestion pipeline and combine two node parser together"
   ]
  },
  {
   "cell_type": "code",
   "execution_count": 37,
   "metadata": {},
   "outputs": [
    {
     "data": {
      "text/plain": [
       "'capacities as advisors, authors, owners of photographs and clips,\\ntesters etc.'"
      ]
     },
     "execution_count": 37,
     "metadata": {},
     "output_type": "execute_result"
    }
   ],
   "source": [
    "nodes[2].get_content()"
   ]
  },
  {
   "cell_type": "code",
   "execution_count": null,
   "metadata": {},
   "outputs": [],
   "source": [
    "from llama_index.embeddings.gemini import GeminiEmbedding\n",
    "embedding = GeminiEmbedding()\n",
    "for i, node in enumerate(nodes):\n",
    "    print(str(i)+\"\\r\", end=\"\", flush=True)\n",
    "    try:\n",
    "        embedding.get_text_embedding(node.get_content())\n",
    "    except Exception as e:\n",
    "        print(len(node.get_content()))\n",
    "        print(node.metadata)"
   ]
  },
  {
   "cell_type": "markdown",
   "metadata": {},
   "source": [
    "## Futher implementation guide\n",
    "```python\n",
    "from llama_index.core import SimpleDirectoryReader\n",
    "from llama_index.core.ingestion import IngestionPipeline\n",
    "from llama_index.core.node_parser import TokenTextSplitter\n",
    "\n",
    "documents = SimpleDirectoryReader(\"./data\").load_data()\n",
    "\n",
    "pipeline = IngestionPipeline(transformations=[TokenTextSplitter(), ...])\n",
    "\n",
    "nodes = pipeline.run(documents=documents)\n",
    "```\n",
    "\n",
    "```python\n",
    "text_splitter = SentenceSplitter(chunk_size=512, chunk_overlap=10)\n",
    "\n",
    "# global\n",
    "from llama_index.core import Settings\n",
    "\n",
    "Settings.text_splitter = text_splitter\n",
    "\n",
    "# per-index\n",
    "index = VectorStoreIndex.from_documents(\n",
    "    documents, transformations=[text_splitter]\n",
    ")\n",
    "```"
   ]
  },
  {
   "cell_type": "code",
   "execution_count": null,
   "metadata": {},
   "outputs": [],
   "source": [
    "from llama_index.core import VectorStoreIndex\n",
    "\n",
    "vector_index = VectorStoreIndex.from_documents(documents, )"
   ]
  }
 ],
 "metadata": {
  "kernelspec": {
   "display_name": "rag",
   "language": "python",
   "name": "python3"
  },
  "language_info": {
   "codemirror_mode": {
    "name": "ipython",
    "version": 3
   },
   "file_extension": ".py",
   "mimetype": "text/x-python",
   "name": "python",
   "nbconvert_exporter": "python",
   "pygments_lexer": "ipython3",
   "version": "3.11.7"
  }
 },
 "nbformat": 4,
 "nbformat_minor": 2
}
