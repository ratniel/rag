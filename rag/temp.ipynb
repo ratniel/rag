{
 "cells": [
  {
   "cell_type": "code",
   "execution_count": 21,
   "metadata": {},
   "outputs": [
    {
     "name": "stderr",
     "output_type": "stream",
     "text": [
      "Loading files:   0%|          | 0/594 [00:00<?, ?file/s]"
     ]
    },
    {
     "name": "stderr",
     "output_type": "stream",
     "text": [
      "Loading files: 100%|██████████| 594/594 [00:00<00:00, 4154.66file/s]\n"
     ]
    },
    {
     "data": {
      "application/vnd.jupyter.widget-view+json": {
       "model_id": "3596cddbddf24c64a68e3ed79a56a5b9",
       "version_major": 2,
       "version_minor": 0
      },
      "text/plain": [
       "Parsing nodes:   0%|          | 0/594 [00:00<?, ?it/s]"
      ]
     },
     "metadata": {},
     "output_type": "display_data"
    }
   ],
   "source": [
    "from llama_index.core import VectorStoreIndex, SimpleDirectoryReader\n",
    "from llama_index.core.node_parser import HTMLNodeParser\n",
    "from llama_index.embeddings.gemini import GeminiEmbedding\n",
    "from llama_index.llms.gemini import Gemini\n",
    "\n",
    "reader = SimpleDirectoryReader(input_dir=\"/home/dai/35/rag/data/clean_html\",\n",
    "                                  recursive=True)\n",
    "\n",
    "documents = reader.load_data(show_progress=True)\n",
    "node_parser = HTMLNodeParser(tags = [\"p\", \"h1\", \"h2\", \"h3\", \"h4\", \"h5\", \"h6\", \"li\", \"b\", \"i\", \"u\", \"section\", \"text\", \"title\"])\n",
    "nodes = node_parser.get_nodes_from_documents(documents, show_progress=True)\n",
    "nodes = [node for node in nodes if len(node.get_content()) > 0]\n",
    "for node in nodes:\n",
    "    #remove all the \\n and \\t\n",
    "    node.text = node.text.replace(\"\\n\", \" \").replace(\"\\t\", \" \")"
   ]
  },
  {
   "cell_type": "code",
   "execution_count": 30,
   "metadata": {},
   "outputs": [
    {
     "name": "stdout",
     "output_type": "stream",
     "text": [
      "Acknowledgement\n",
      "The project is funded by Ministry of Communications & Information Technology. Following Institutions and Ayurveda Experts have contributed to AyuSoft in their capacities as advisors, authors, owners of photographs and clips, testers etc.\n",
      "Institutes   Ayurved   Research Centre K.E.M. Hospital, Mumbai. B.S.D.T.   College of Ayurved, Wagholi Pune. College of   Ayurved Bharati Vidyapeeth Deemed University (B.V.D.U), Pune. Centre for   Rheumatic Diseases Pune (CRD), Pune. Dept. of   Ayurved Sassoon General Hospital Pune. Ayurved   Dept. Dinanath Mangeshkar Hospital,Pune. Foundation   for Revitalisation of Local Health Traditions (FRLHT), Bangalore. Sanjeevan   Hospital, Pune. Sumatibhai   Shaha Ayurved College, Hadapsar, Pune. Swami Prakashanand Ayurveda Research Centre   (SPARC), Mumbai. Seth   Tarachand Ramnath Hospital, Pune. T.N.Medical   College and Nair Hospital, Mumbai. Tilak   Ayurveda Mahavidyalaya, Pune.\n",
      "Institutes Ayurved   Research Centre K.E.M. Hospital, Mumbai. B.S.D.T.   College of Ayurved, Wagholi Pune. College of   Ayurved Bharati Vidyapeeth Deemed University (B.V.D.U), Pune. Centre for   Rheumatic Diseases Pune (CRD), Pune. Dept. of   Ayurved Sassoon General Hospital Pune. Ayurved   Dept. Dinanath Mangeshkar Hospital,Pune. Foundation   for Revitalisation of Local Health Traditions (FRLHT), Bangalore. Sanjeevan   Hospital, Pune. Sumatibhai   Shaha Ayurved College, Hadapsar, Pune. Swami Prakashanand Ayurveda Research Centre   (SPARC), Mumbai. Seth   Tarachand Ramnath Hospital, Pune. T.N.Medical   College and Nair Hospital, Mumbai. Tilak   Ayurveda Mahavidyalaya, Pune.\n",
      "Physicians/Researchers   Dr. Baghel M.S.   Director, International Centre for Ayurvedic studies, Jamnagar. Dr. Badave Jyoti    Ayurved Physician, Pune. Dr. Bakre A. V.    Ex Professor R.A.Potdar Ayurved Medical   College, Mumbai. Dr. Barve Anand    Hon. Physician, Seth. Tarachand Ramnath Hospital,   Pune. Dr. Barve Neelmani   Ayurveda Physician, Pune. Dr. Bavdekar S.D.    Head Ayurved Dept, Jnanaprabhodhini, Pune. Dr. Bhalerao Supriya    Research Associate, Nair Hospital, Department of Clinical   Pharmacology, Mumbai. Dr. Chatopadhyay   Abheechal    Lecturer, Ayurveda College, Kolkata. Dr Chavan Santosh   Ayurveda Physician, Pune. Dr. Chitre Rajashree    Lecturer - Ayurved College Wagholi, Pune. Dr. Chopra Arvind    Director CRD, Pune. Dr. Chunekar K.C.   Ex Head Dept. of Dravyaguna Vidnyan,   Banaras Hindu University, Varanasi. Dr. Darshanashankar   Director FRLHT Bangalore. Dr. Deopujari Jayant   Physician and Researcher, Nagpur. Dr. Deshpande Manasi   Department of Dravyagunavidyana, B.V.D.U. College of Ayurved, Pune. Mrs.Deshpande Suvarna   Sanskrit Expert, Pune. Dr.   Deokule S. S.   Reader Dept of Botany, University of Pune. Dr. Dhumal Pramod   Ayurveda Physician, Pune. Dr. Doiphode V. V.   Dean & H.O.D,   Ayurved Faculty, University of Pune, Pune. Dr. Dole V. A.    H.O.D. Rasashastra, Tilak Ayurved Mahavidyalaya, Pune. Dr. Dudhagaonkar Anjali    Family Physician, Pune Dr. Erande Mukund    Principal and H.O.D. Department of Sharir Rachana, Sumatibhai Shaha   Ayurved College, Hadapsar, Pune. Dr. Gadgil Dilip   Ayurveda Physician, Pune. Dr. Gadgil Swati    Ayurveda Physician, Pune. Dr. Galgali Shreerang   Ayurveda Physician, Pune. Dr. Gangadharan G. G.    Joint Director, FRLHT Bangalore. Dr. Gangurde Jayant    Ayurveda Physician, Nashik. Dr. Ghatnekar Vishvas   Ayurveda Physician, Pune. Dr. Gaud   Banwarilal    Director, National Institute of Ayurveda, Jaipur. Dr. Ghodke Amit   Ayurveda Physician, Pune. Dr. Gogte R. B.    Ex - Professor and H.O.D. Shalya, Tilak Ayurved Mahavidyalaya and   Hospital, Pune. Dr. Gokakar Gurunath   Ayurveda Physician, Kolhapur. Dr. Gokhale Maya    Lecturer - Ayurved College, Akurdi (Pune), Ayurved Consultant, Pune. Dr. Gokhale Vivek    Lecturer - Bharati Vidyapeth College of Ayurved, Pune. Dr. Hirwani Raj    Director URDIP, Pune. Dr. Huparikar Rajendra    Hon. Physician, Seth. Tarachand Ramnath Hospital,   Pune. Dr. Jamadagni Shruti   Ayurveda Physician, Pune. Dr.Jinde Abhijit    Ayurveda Physician, Pune. Dr. Joglekar Vishnu    Assistant Professor, Tilak Ayurved   Mahavidyalaya, Pune. Dr.Joshi V.K.   Head, Dept of Dravyaguna Vidnyan, Banaras Hindu University Varanasi. Dr. Joshi Y.G.   Ayurveda Physician, Pune. Dr. Kale Yogesh   Ayurveda Physician, Pune. Dr. Kale Mohan   Statistician Pune. Dr. Kanade Vivek   Ayurveda Physician, Pune. Dr. Kelkar Madhav   Ayurveda Physician, Pune. Dr. Kinjwdekar S.P.   Ex. Professor Sion Ayurveda College, Mumbai. Dr.Kothvale Prakash   Gynaecologist, Pune. Dr. Kondhare Dhanashree    Ayurveda Physician, Pune. Dr. Kulkarni Pramod   Visiting Lecturer – Tilak Ayurved   Mahavidhyalaya, Pune. Dr. Kulkarni Vijay    Ayurveda Physician, Nasik. Dr. Kulkarni Vinay   Dermatologist ,Pune Dr. Kulkarni Yogini   Ayurveda Physician, Pune. Dr. Lavekar G.S.   Director C.C.R.A.S., New Delhi. Dr. Mahajan S.D.   Taxonomist , Pune. Dr. Mehata Vaibhav   Ayurveda Physician, Pune. Dr. Meshram Akash   Ayurveda Physician, Pune. Dr. Mhetre Rishikesh   Ayurveda Physician, Pune. Dr. Mrs. Nagral K.    Ayurveda Physician, Mumbai. Dr.Muralidhararn    Principal Shri Jayendra Saraswati Ayurveda College. Dr. Nagral S. I.   Ex. Professor Sion Ayurveda College, Mumbai. Dr. Naidu    M.D. Scholar ,Pune Dr. Nanal Ashutosh   Ayurveda Physician, Pune. Dr. Nanal Ramesh   Editor, Madhujeevan, Mumbai. Dr. Nanal Vilas    Sr. Scientist AyuSoft. Dr. Nesari Manoj    Sr. Scientist AyuSoft. Dr. Nesari Tanuja    Assistant Professor, Tilak Ayurved Mahavidyalaya, Pune. Dr. Nevpurkar Santosh    Ayurveda Physician, Aurangabad. DR Nimbalkar Ranjeet    Ayurveda Physician, Pune. Dr. Nishtheshvar K.   Asst. Professor - Vijayawada. Dr. Paranjape Durga    Ex.Professor – Tilak Ayurved Mahavidyalaya. Smt. Page Ushahprabha   Nature Photography Expert, Pune. Mr. Page Navendu   Field Botanist, Deharadun. Dr. Patankar Ashutosh    Ayurveda Physician, Pune. Dr. Patil Jayashree    Ayurveda Physician, Pune. Dr. Pendse Narendra    Ayurveda Physician, Pune. Dr. Prabhune Yogesh    Ayurveda Physician, Pune. Dr. Prasad V.V.   Director Rashtiya Ayurveda Vidyapeeth, New Delhi. Dr. Puranik D P    Principal, Tilak Ayurved Mahavidyalaya, Pune. Dr. Ranganekar Rishikesh   Ayurveda Physician, Pune. Dr. Rahalkar Jyoti    Ayurveda Physician, Pune Dr. Raut Ashwin    Asst Director, SPARC, Mumbai. Dr. Sathaye B. V.    Sr. Scientist AyuSoft. Dr. Sathye S. M.    Retd. Dean, R.A.Podar Ayurved Medical College, Mumbai. Dr. Savarikar S.S.   Vice Chancellor Gujarat Ayurveda University, Jamnagar. Dr.Sharma Maheshchandra    Head, Dept. of Dravyaguna Vigyan, National Institute of Ayurveda,   Jaipur. Dr. Singh H. B. Dr. Singh R. H.    Vice Chancellor, Rajasthan Ayurveda University, Jodhpur. Dr. Suru Prashant   Ayurveda Physician, Pune. Dr. Suryavanshi. Santosh   Ayurveda Physician, Pune. Dr. Tiwari Premvatee    Ex H.O.D. Stree Roga Prasuti Tantra, BHU, Varanasi. Dr. Tripathi S.N. Dr. Tripathi Y.B.   Department of Medicinal Chemistry and Kaya Chikitsa, Institue of   Medical Sciences, Banaras Hindu University, Varanasi – 221005, India. Dr. Unnikrishnan   Vice Principal & Professor and Head, Dept. of Agadatantra,   Vaidyaratnam P.S.Varier Ayurveda College, Kottakkal. Dr. Upadhyaya B.N. Dr.Upasani V.V.   Director, University   Department Of Interpathy Research and Technology, M.U.H.S. Nashik. Dr. Vaidya Ashok   Director, SPARC, Mumbai. Dr. Venugopal    Scientist, FRLHT, Bangalore. Dr. Welankar Shubhada   Ayurveda Physician, Pune. Dr. Wele Asmita    Department of Rasashastra and Bhaishajya Kalpana, B.V.D.U College of   Ayurved, Pune. Dr. Yadaiyah Polepally   I/C Prof.& HOD Post   Graduate Department of Kayachikitsa,  R.T. Ayurvedic College   Akola, MAHARASTRA-444005. Dr. Yadaiyah Polepally   I/C Prof.& HOD Post   Graduate Department of Kayachikitsa,  R.T. Ayurvedic College   Akola, MAHARASTRA-444005.\n",
      "Physicians/Researchers Dr. Baghel M.S. Director, International Centre for Ayurvedic studies, Jamnagar. Dr. Badave Jyoti Ayurved Physician, Pune. Dr. Bakre A. V. Ex Professor R.A.Potdar Ayurved Medical   College, Mumbai. Dr. Barve Anand Hon. Physician, Seth. Tarachand Ramnath Hospital,   Pune. Dr. Barve Neelmani Ayurveda Physician, Pune. Dr. Bavdekar S.D. Head Ayurved Dept, Jnanaprabhodhini, Pune. Dr. Bhalerao Supriya Research Associate, Nair Hospital, Department of Clinical   Pharmacology, Mumbai. Dr. Chatopadhyay   Abheechal Lecturer, Ayurveda College, Kolkata. Dr Chavan Santosh Ayurveda Physician, Pune. Dr. Chitre Rajashree Lecturer - Ayurved College Wagholi, Pune. Dr. Chopra Arvind Director CRD, Pune. Dr. Chunekar K.C. Ex Head Dept. of Dravyaguna Vidnyan,   Banaras Hindu University, Varanasi. Dr. Darshanashankar Director FRLHT Bangalore. Dr. Deopujari Jayant Physician and Researcher, Nagpur. Dr. Deshpande Manasi Department of Dravyagunavidyana, B.V.D.U. College of Ayurved, Pune. Mrs.Deshpande Suvarna Sanskrit Expert, Pune. Dr.   Deokule S. S. Reader Dept of Botany, University of Pune. Dr. Dhumal Pramod Ayurveda Physician, Pune. Dr. Doiphode V. V. Dean & H.O.D,   Ayurved Faculty, University of Pune, Pune. Dr. Dole V. A. H.O.D. Rasashastra, Tilak Ayurved Mahavidyalaya, Pune. Dr. Dudhagaonkar Anjali Family Physician, Pune Dr. Erande Mukund Principal and H.O.D. Department of Sharir Rachana, Sumatibhai Shaha   Ayurved College, Hadapsar, Pune. Dr. Gadgil Dilip Ayurveda Physician, Pune. Dr. Gadgil Swati Ayurveda Physician, Pune. Dr. Galgali Shreerang Ayurveda Physician, Pune. Dr. Gangadharan G. G. Joint Director, FRLHT Bangalore. Dr. Gangurde Jayant Ayurveda Physician, Nashik. Dr. Ghatnekar Vishvas Ayurveda Physician, Pune. Dr. Gaud   Banwarilal Director, National Institute of Ayurveda, Jaipur. Dr. Ghodke Amit Ayurveda Physician, Pune. Dr. Gogte R. B. Ex - Professor and H.O.D. Shalya, Tilak Ayurved Mahavidyalaya and   Hospital, Pune. Dr. Gokakar Gurunath Ayurveda Physician, Kolhapur. Dr. Gokhale Maya Lecturer - Ayurved College, Akurdi (Pune), Ayurved Consultant, Pune. Dr. Gokhale Vivek Lecturer - Bharati Vidyapeth College of Ayurved, Pune. Dr. Hirwani Raj Director URDIP, Pune. Dr. Huparikar Rajendra Hon. Physician, Seth. Tarachand Ramnath Hospital,   Pune. Dr. Jamadagni Shruti Ayurveda Physician, Pune. Dr.Jinde Abhijit Ayurveda Physician, Pune. Dr. Joglekar Vishnu Assistant Professor, Tilak Ayurved   Mahavidyalaya, Pune. Dr.Joshi V.K. Head, Dept of Dravyaguna Vidnyan, Banaras Hindu University Varanasi. Dr. Joshi Y.G. Ayurveda Physician, Pune. Dr. Kale Yogesh Ayurveda Physician, Pune. Dr. Kale Mohan Statistician Pune. Dr. Kanade Vivek Ayurveda Physician, Pune. Dr. Kelkar Madhav Ayurveda Physician, Pune. Dr. Kinjwdekar S.P. Ex. Professor Sion Ayurveda College, Mumbai. Dr.Kothvale Prakash Gynaecologist, Pune. Dr. Kondhare Dhanashree Ayurveda Physician, Pune. Dr. Kulkarni Pramod Visiting Lecturer – Tilak Ayurved   Mahavidhyalaya, Pune. Dr. Kulkarni Vijay Ayurveda Physician, Nasik. Dr. Kulkarni Vinay Dermatologist ,Pune Dr. Kulkarni Yogini Ayurveda Physician, Pune. Dr. Lavekar G.S. Director C.C.R.A.S., New Delhi. Dr. Mahajan S.D. Taxonomist , Pune. Dr. Mehata Vaibhav Ayurveda Physician, Pune. Dr. Meshram Akash Ayurveda Physician, Pune. Dr. Mhetre Rishikesh Ayurveda Physician, Pune. Dr. Mrs. Nagral K. Ayurveda Physician, Mumbai. Dr.Muralidhararn Principal Shri Jayendra Saraswati Ayurveda College. Dr. Nagral S. I. Ex. Professor Sion Ayurveda College, Mumbai. Dr. Naidu M.D. Scholar ,Pune Dr. Nanal Ashutosh Ayurveda Physician, Pune. Dr. Nanal Ramesh Editor, Madhujeevan, Mumbai. Dr. Nanal Vilas Sr. Scientist AyuSoft. Dr. Nesari Manoj Sr. Scientist AyuSoft. Dr. Nesari Tanuja Assistant Professor, Tilak Ayurved Mahavidyalaya, Pune. Dr. Nevpurkar Santosh Ayurveda Physician, Aurangabad. DR Nimbalkar Ranjeet Ayurveda Physician, Pune. Dr. Nishtheshvar K. Asst. Professor - Vijayawada. Dr. Paranjape Durga Ex.Professor – Tilak Ayurved Mahavidyalaya. Smt. Page Ushahprabha Nature Photography Expert, Pune. Mr. Page Navendu Field Botanist, Deharadun. Dr. Patankar Ashutosh Ayurveda Physician, Pune. Dr. Patil Jayashree Ayurveda Physician, Pune. Dr. Pendse Narendra Ayurveda Physician, Pune. Dr. Prabhune Yogesh Ayurveda Physician, Pune. Dr. Prasad V.V. Director Rashtiya Ayurveda Vidyapeeth, New Delhi. Dr. Puranik D P Principal, Tilak Ayurved Mahavidyalaya, Pune. Dr. Ranganekar Rishikesh Ayurveda Physician, Pune. Dr. Rahalkar Jyoti Ayurveda Physician, Pune Dr. Raut Ashwin Asst Director, SPARC, Mumbai. Dr. Sathaye B. V. Sr. Scientist AyuSoft. Dr. Sathye S. M. Retd. Dean, R.A.Podar Ayurved Medical College, Mumbai. Dr. Savarikar S.S. Vice Chancellor Gujarat Ayurveda University, Jamnagar. Dr.Sharma Maheshchandra Head, Dept. of Dravyaguna Vigyan, National Institute of Ayurveda,   Jaipur. Dr. Singh H. B. Dr. Singh R. H. Vice Chancellor, Rajasthan Ayurveda University, Jodhpur. Dr. Suru Prashant Ayurveda Physician, Pune. Dr. Suryavanshi. Santosh Ayurveda Physician, Pune. Dr. Tiwari Premvatee Ex H.O.D. Stree Roga Prasuti Tantra, BHU, Varanasi. Dr. Tripathi S.N. Dr. Tripathi Y.B. Department of Medicinal Chemistry and Kaya Chikitsa, Institue of   Medical Sciences, Banaras Hindu University, Varanasi – 221005, India. Dr. Unnikrishnan Vice Principal & Professor and Head, Dept. of Agadatantra,   Vaidyaratnam P.S.Varier Ayurveda College, Kottakkal. Dr. Upadhyaya B.N. Dr.Upasani V.V. Director, University   Department Of Interpathy Research and Technology, M.U.H.S. Nashik. Dr. Vaidya Ashok Director, SPARC, Mumbai. Dr. Venugopal Scientist, FRLHT, Bangalore. Dr. Welankar Shubhada Ayurveda Physician, Pune. Dr. Wele Asmita Department of Rasashastra and Bhaishajya Kalpana, B.V.D.U College of   Ayurved, Pune. Dr. Yadaiyah Polepally I/C Prof.& HOD Post   Graduate Department of Kayachikitsa, R.T. Ayurvedic College   Akola, MAHARASTRA-444005. Dr. Yadaiyah Polepally I/C Prof.& HOD Post   Graduate Department of Kayachikitsa, R.T. Ayurvedic College   Akola, MAHARASTRA-444005.\n",
      "AayurVidnyaana\n",
      "AayurVidnyaana Kosha\n",
      "AayurVidnyaana Kosha is encyclopedia of Ayurveda. The AayurVidnyaana Kosha window is divided into two frames. The left frame has three tabs, Contents, Search and New Window. Right frame is for viewing the document. About AayurVidnyaana Kosha AyuSoft encyclopedia elaborates scientific basis, theory and strength of Ayurveda in a dynamic form. Key topic of different subjects highlighted with their clinical applications. This includes information regarding Ayurvedic concepts, current status of Ayurveda and related research articles. The Encyclopedia of AyuSoft includes articles from eminent people related with the field of Ayurveda. The Articles are focused and classified according to the respective subjects to cover all the branches of Ayurveda. AyuSoft Encyclopedia provides elaboration of various topics required for decision support. These are made available in form of guidelines for patient assessment, Panchakarma And allied Karma, pathogenesis and theory of disease. The AyuSoft Ayurvedic data is captured from the texts which are Charaka Samhitaa, Sus`hruta Samhitaa, Asht`aanga Hridaya and Maadhava Nidaana. These texts are the prime and authentic texts for the uniform and genuine information. The history of the texts is captured and explained under the title of Introduction to Samhitaa The Encyclopedia explains the basic principles of Ayurvedic science, which supports the knowledge for the root of diagnosis, structure and functional concepts behind the theory of ancient fundamental principles. AyuSoft Encyclopedia has authentic collection of photographs, clips of Panchakarma and allied therapies (Chikitsaa Karma) / examination and treatments, audio files of oblations and guidelines wherever and whenever required. Encyclopedia of AyuSoft is also aware of the ever-growing research in the field of Ayurveda, thus, to keep the user updated with today’s world AyuSoft provides some of the important links of registered sites and associations of Ayurveda.\n",
      "Contents\n",
      "Selecting this option will help in navigating through AayurVidnyaana Kosha contents. Click on the book to view its content and on clicking the page; detailed contents of the particular topic will be displayed. If selected topic is a video clip, it will be opened using windows media player, click on Play button to watch the clip. Click New Window option to view the selected topic in maximized screen. If it is a multimedia gallery, all the pictures under the selected topic will be loaded in right frame. Click on the link below the picture, to view the magnified picture and its details if any. Ayurveda Samhitaa: - This part contains digitalized copy of Charaka Samhitaa, Sus`hruta Samhitaa & Asht`aanga Hridaya. Articles: - This part contains articles highlighting various aspects of Ayurveda. Multimedia gallery: - It comprises of photographs of Herbs, Instruments, and Diseases etc. Chikitsaa Karma clips: - It comprises video clips of Chikitsaa Karma like Vamana, Raktamokshan`a etc. with narration.\n",
      "Search\n",
      "Facility to search in Ayurveda Samhitaa, Multimedia gallery, AyuSoft database, Chikitsaa Karma & Articles is provided. Selecting this option makes possible for you to limit search to the specific category of the current topicin two languages either English or Sanskrit. To change the scope of search for English language, select one of thefilters from the following list. Encyclopedia Procedures Multimedia\n",
      "Type the word in the Search      textbox or you can use a keyboard for typing in the Search textbox      (depending upon the selected language), which will appear on click of Sanskrit      button placed on left side of main frame if the focus is on the same      textbox and Caps Lock of your keyboard is on. To begin search click on GO      button or press Enter. To enable full text search,      check the checkbox beside the Search Textbox. Related links where the word      entered is present will be displayed in left frame, click on the required      link to view the related article in right frame with the highlighted word      entered for searching.\n",
      "e.g. If you select word Chhardi (in English) in Articles then it will show where that word appeared in Articles. If you select word Vamana (in English) in Chikitsaa Karma then it will show video clip of Vamana Chikitsaa Karma. If you select word Vamana (in English) in AyuSoft database then it will show all treatment related information of Vamana from AyuSoft database. If you select word Chhardi (in Sanskrit) in Ayurveda Samhitaa then it will show where that word appeared in Ayurveda Samhitaa. If you select word S`hataavaree (in English) in Multimedia Gallery then it will show image of S`hataavaree. Ayurveda Samhitaa Charaka Samhitaa, Sus`hruta Samhitaa and Asht`aanga Hridaya are available in digitalized form. Digitalized Texts have the facility for instant reference and search for particular word or character from Charaka Samhitaa, Sus`hruta Samhitaa and Asht`aanga Hridaya. Structure of Ayurveda Samhitaa : - Name of Samhitaa : Sthaana of Samhitaa : Name of Adhyaaya Charaka Samhitaa­­à Chikitsaa Sthaana à 03. Jvara Chikitsaa à Sootra. The digitalized texts include only Sootra . Each Samhitaa is entitled with index and the name of the chapter in Content section. Each Sthaana (section) has been separated for easy search. Each chapter is a sub-section of Sthaana where Sthaana is a subsection of the Samhitaa. Therefore to Search for the reference of C.Chi.3/37. The user should first click on Charaka Samhitaa then on Chikitsaa Sthaana then on Jvara Chikitsaa (3 rd chapter) and then look for the Sootra 37 in the Samhitaa getting displayed at the right side.\n",
      "S.N    Samhitaa   Edition   Publication   Title and Edited by 1   Charaka   Fifth   Edition - 2001   Chaukhambaa   Sanskrit Samsthaana, Varanasi    Charaka   Samhitaa - Vaidya. Jadhavji Trikamji Acharya 2   Sus`hruta    Seventh   Edition - 2002   Chaukhambaa   Orientaliya, Varanasi   Sus`hruta Samhitaa – Vaidya. Jadhavji Trikamji   Acharya and Narayan Ram Acharya. 3   Asht`aanga Hridaya    Ninth   Edition- 2002    Chaukhambaa   Orientaliya, Varanasi   Asht`aanga Hridaya – Bhishagacharya Harishashtri   Paradkar Vaidya.\n",
      "S.N Samhitaa Edition Publication Title and Edited by\n",
      "1 Charaka Fifth   Edition - 2001 Chaukhambaa   Sanskrit Samsthaana, Varanasi\n",
      "Charaka   Samhitaa - Vaidya. Jadhavji Trikamji Acharya 2 Sus`hruta Seventh   Edition - 2002 Chaukhambaa   Orientaliya, Varanasi\n",
      "Sus`hruta Samhitaa – Vaidya. Jadhavji Trikamji   Acharya and Narayan Ram Acharya.\n",
      "3 Asht`aanga Hridaya Ninth   Edition- 2002 Chaukhambaa   Orientaliya, Varanasi Asht`aanga Hridaya – Bhishagacharya Harishashtri   Paradkar Vaidya. Using this application user can do fast compilation. E.g. If user search for word Then it will display: Name of Samhitaa : Sthaana of Samhitaa : Name of Adhyaaya : Highlighted word Articles In AyuSoft database, interactive data is captured. But if user wants elaborative description then this section is very useful. In this section there are articles by stalwarts of Ayurveda highlighting various conceptual, theoretical & practical aspects of Ayurveda. These articles are divided under various categories:-\n",
      "Basic      Principles Nidaana Dravya Gun`a, Rasas`haashtra and Bhaishajya Kalpanaa Stree Roga and      Prasooti Tantra and Baalaroga Kaayachikitsaa and Panchakarma Rasaayana and      Vaajikaran`a S`halya and S`haalaakya Research and other\n",
      "User can search particular word in articles. Multimedia gallery- The gallery includes images related to Anatomy, Physiology, images of herbs, clinical pictures of diseases & images of therapeutic procedures etc. Images of plants, animals and other medicines included in Ayurveda E.g. – S`hataavaree (Asparagus racemosus) and S`hilaajatu (Black bitumen). Images of clinical signs and symptoms mentioned for the disease. Images showing actual procedures and instruments useful for operating the procedure. User can search particular image in Multimedia gallery. Chikitsaa Karma – In this part you can view video clips of some clinical procedures with narration. These procedures provide idea about basic Karma. You can get detail information about that procedure through textual file of that Chikitsaa Karma described under the article section under Kaayachikitsaa category. You can search particular clip in Chikitsaa Karma. Note: For some words while searching it might show some extra topics in which the searced text will not be found. This will happen for Sanskrit word search where the word to be searched will become a different word, if converted to lowercase. This happens since the search mechanism converts all the words in lowercase before search process. It might also happen that some words searched in English might show that word is not found or might show some extra topic since words such as “beginning” will be search as “beginn” i.e it will removed stems (ing, ed, s, etc.) from the words before searching.\n",
      "Transliteration Rules used in AyuSoft\n",
      "Spellings: a  aa i ee u oo e ai o au am ah ka kha ga gha cha chha ja jha t`a t`ha d`a d`ha n`a ta tha da dha na pa pha ba bha ma ya ra la va s`ha sha sa ha l`a ksha dnya Abbreviations: Ashtanghridaya :- A.H. Charaka Samhita :- C. Sushruta Samhita :- S. Sootra Sthaana :- Su. Kalpa Sthaana :- K. Shaareera Sthaana :- Sha. Nidaana Sthaana :- Ni. Chikitaa Sthaana :- Chi. Siddhi Sthaana :- Si. Uttara Tantra :- U. Vimana Sthana:- V Indriya Sthana:- In\n",
      "Introduction of Charaka Samhitaa\n",
      "Charaka Samhitaa AyuSoft Team Introduction: Charaka Samhitaa is considered to be the most ancient and authoritative work on Ayurveda available today. This work is sometimes considered a redaction of an older and more voluminous work, Agnives`ha Samhitaa (46,000 verses), which is no longer extant. In fact, Charaka had redacted the Agnives`ha Samhitaa (an edited version of Aatreya Samhitaa). The available form of Charaka Samhitaa was again worked upon by Drid`habala (living in about 400 AD) long after sage Charaka. The present manuscript of Charaka Samhitaa has a long history behind it. It was originally composed by Agnives`ha, one of the six students of sage Aatreya and embodied the latter's teachings. During the 7th, 8th and 9th centuries when Arabic scholarship was at its height, Charaka was a revered authority in the Saracen and Latin worlds of medicine. Between the eleventh and sixteenth centuries, Charaka was referred to as a great medical authority. Charaka may have lived during the second century BC to second century AD. During the ninth century, Charaka Samhitaa was again edited and reconstructed by a Kashmiri Pan`dita named Drid`habala, son of Kapilabala, a resident of Panchanadapura, now known as Panjor situated seven miles north of Srinagar. The present form, which Charaka Samhitaa has, was given to it by Dridhabala. He not only added the missing chapters but also edited the whole Samhitaa.\n",
      "About author\n",
      "The life and times of Charaka are not known with certainty. Some Indian scholars have stated that Charaka of Charaka Samhitaa existed before Paan`ini, the grammarian, who is said to have lived before the sixth century B. C. Another school argues that Patanjali wrote a commentary on the medical work of Charaka, which is corroborated by his commentator, Chakrapaan`idatta. They say that if Patanjali lived around 175 B.C., Charaka must have lived some time before him. Another source about the identity of Charaka and his times is provided by the French orientalist Sylvan Levi. He discovered in the Chinese translation of the Buddhist Tripit`aka, a person named Charaka who was a court physician to the Indo-Scythian king Kanishka, who in all probability reigned in the second century A.D. From the above discussion, it would seem that Charaka may have lived between the second century B.C. to the second century A.D. Till such time as further and more conclusive evidence is available, to narrow down this period would not be justifiable. The present manuscript of Charaka Samhitaa has a long history behind it. As stated earlier, it was originally composed by Agnives`ha one of the six students of Aatreya, and it embodied the teachings of the latter. Agnives`ha's treatise appears to have been available till the eleventh century, as Chakrapaan`idatta, its commentator, quotes from it. With the passage of time, as new knowledge accumulated, it was felt necessary that Agnives`ha tantra should be revised. This was done by Charaka and the revised edition of Agnives`ha tantra came to be called Charaka Samhitaa. About Text The language of Charaka is Sanskrit and its style is in keeping with the Vedic oral tradition of conserving knowledge with meter and melody. Poetry was known to serve as a memory aid. For example, Charaka contains over 8,400 metrical verses, which are often committed to memory, in toto, by modern medical students of Ayurveda. Charaka Samhitaa is a huge treatise on ancient Indian medicine. It contains eight divisions (Asht`aanga Sthaana_s) viz., Sootra Sthaana, Nidaana Sthaana, Vimaana Sthaana, S`haaria Sthaana, Indriya Sthaana, Chikitsaa Sthaana, Kalpa Sthaana and Siddhi Sthaana. Each division is further divided into numerous chapters; it describes not only the existing knowledge about medicine aspects but also the logic and philosophy behind the medical systems. It concentrates on the branch of Ayurveda called Kaayachikitsaa (internal medicine). Charaka followed the Aatreya School of Physicians, which predominantly deals with treatments through internal and external application of medicine. Though the Samhitaa contains all the theoretical knowledge of Ayurveda its focus is on healing the body, mind and soul of a patient in the minimum invasive manner that's Kaayachikitsaa . Hence, he placed great emphasis on the diagnostic part of the treatment. Charaka's materia medica consists chiefly of vegetable products though animal and earthy products are also included in it. All these drugs are classified into 50 groups on the basis of their action on the body. It is the first scientific medical text. While it does list 1500 plants with description, the medicinal plants are categorized as of fifty groups, based on the medicinal value to be derived from them. Charaka also laid great emphasis on the timing and manner of the collection of medicinal plants at the same time, there is a clear warning that the improper collection and use of the plants can have unfortunate results. Certain plants can prove poisonous, and this aspect too has been classified. Charaka as a physician was interested in the diagnostic and prescriptive aspects of healing. To this end, his classification of everything from the solar calendar to topography to the system of birth is an amazing feature of his treatise. E.g. seasons are very well described with relation to many dos and donts and also in relation to the disease and treatment. He identified eight stages of a disease from its inception to the culmination... Ayurveda is remarkable for its special conceptions and theories. It must be emphasized that the curing of diseased conditions and the maintenance of health are not the only aims of Ayurveda but it is also concerned with harmonizing secular conduct and spiritual pursuit through a realization of the true relationship between the complex of body, mind and soul and the external universe. In Ayurveda successful medical treatment crucially depends on four factors i.e. Charaka's quadruple. Fully realizing the importance and contribution of the physician, the attendant (nurse), the patient and the drug if endowed with proper qualities, leads to timely alleviation of disorders. Physician: Excellence in theoretical knowledge, experience, dexterity and cleanliness  these are the qualities of a physician. Attendant (nurse):  Knowledge of attendance, dexterity, loyalty and cleanliness -  these are the four qualities of an attendant. Patient:  Memory, obedience. Fearlessness and providing all information about time disorder - these are the qualities of a patient Drug:  Abundance, effectiveness, various pharmaceutical forms and normal composition - these are the four qualities of drugs. Employment of all these excellent four - physician, attendant, patient and drug in case of disorders with the object of (re-establishing) their equilibrium, is said to be therapeutics. It also explains the logic and philosophy on which this system of medicine is based. The commandments propounded by Charaka for the study and advancement of medicine are as follows: 1. Rational attitude: treatment with knowledge and practical skills, not with blind belief. Yukti (rational) approach was recommended instead of Daiva (supernatural) therapy. The wise man, desiring health and long life, should not take any medicine prescribed by irrational physicians. 2. Psychosomatic approach: Deha Maanasa (psycho-somatic) concepts of disease treatment of the Purusha (person as a whole) were stressed instead of organic systems. 3. Advancement of basic concepts of life: physiological and pathological phenomena; Dhaatusaamya - equilibrium of Dhaatu_s or homeostasis. 4. Individual constitutions Prakriti (individual psyche/nature) was considered important. 5. Scientific method of diagnosis: first study the patient, then study the suitable drug, and watch for interactions, results and side effects. 6. Expansion of discipline: (i) Nidaana - etiology, (ii) Sampraapti - pathogenesis, (iii) Poorvaroopa  prodromal signs and symptoms, (iv) Roopa - signs and symptoms, and (v) Upas`haya - therapeutics. 7. Emphasis on promotive and preventive aspects: Charaka Samhitaa starts its first chapter on the longevity of life in which the practice of Rasaayana (promotive health care), Aachaara (conduct) and lifestyle are given importance. 8. Organization of symposium: presentation of works/papers on therapy. Lord Aatreya has been mentioned as presiding over such meetings. 9. Importance of nature: drugs and dietetic measures used to aid the nature to fight/prevent disease: Svabhaavoparama - recession of disease by nature 10. Scientific study of drugs: analytical study of medicinal plants in the Vedic period. The Rigveda and Atharvaveda mention Aushadhi Sookta drugs which are divided into 50 groups, according to their pharmacological action, based on: Rasa, Gun`a, Veerya, Vipaaka and Prabhaava (effects). Sthaana_s: Sootra Sthaana: This section comprises of 30 chapters. Deals with origin of Ayurveda. The composition of the human body. The various attributes of the drug and food ingredients with their effects on the body are also described. Fundamental principles for both healthy and the diseased. This Sthaana is again sub-divided into seven Chatushka_s or quadrates each comprising of four chapters with identical focus. They are: - Bheshaja Chatushka: From first to fourth chapter. This deals with drugs. Svastha Chatushka: From fifth to eighth chapter. This deals with regimens related to the preservation of health. Nirdes`ha Chatushka: From ninth to twelfth chapter. This deals with various instructions regarding various subjects. Kalpanaa Chatushka: From thirteenth to sixteenth chapter. This deals with the requisite factors essential before starting the treatment. Roga Chatushka: From seventeenth to twentieth chapter. This deals with description of diseases. Yojanaa Chatushka: From twenty-first to twenty-fourth chapter. This deals with administration of various therapies. Anupaana Chatushka: From twenty-fifth to thirtieth chapter. This deals with diet and drinks. Scope of Sootrasthaana: All the main principles are compiled and fit in this section. Definition and objective of Ayurveda. Etiology of diseases to enumeration of the Rasa_s along with their corresponding objects. Qualities of the physician, five fold sources of decoctives and their pharmaceutical preparations, Food, daily and monthly regimes; and the set of laws associated with it, all about natural urges, all the four factors of therapeutics, considerations before treatment. Qualities, function, their sites of manifestation and treatment of the Dosha_s, Various therapies. In short the essence of the whole treatise is wrapped in this section. Nidaana Sthaana: This section comprises of 8 chapters. Deals in detail with the etiology, pathology, pathogenesis, diagnosis and prognosis of the disease. Only certain diseases are described here, these diseases were considered as predominant. Vimaana Sthaana: This section comprises of 8 chapters. Deals with the basic principles involving the drugs, medicines and the curative values. Also with the bodily factors such as constitution. Strategy for participating in the debates on the science of life is also described. S`haareera Sthaana: This section comprises of 8 chapters. This includes the description of the theory of birth and death. Development of the embryo and the organs, parts of the human body are made available. Indriya Sthaana: This section comprises of 12 chapters. Deals with the prognostic signs and symptoms. Chikitsaa Sthaana: This section comprises of 30 chapters. Description of diseases and their treatment. Kalpa Sthaana: This section comprises of 12 chapters. Describes the various formulations adopted in Panchakarma. Siddhi Sthaana: This section comprises of 12 chapters. Deals with the various measures to be adopted during the implementation of Panchakarma. Commentators\n",
      "Commentary on Charaka Samhitaa      by Chakrapaan`idatta, called Charaka Taatparya-T`ikaa      or Ayurveda Dipikaa, done in the eleventh century (A.D.      1066), is very famous.  Charaka Samhitaa was translated from Sanskrit into Arabic in      the beginning of the eighth century and its name Sharaka Indianus occurs      in the Latin translation of Avicenna, Razes, and Serapion, a translation      of the Karka from Sanskrit into Persian      and from Persian into Arabic is mentioned in the First (finished in A.D.      987). It is likewise mentioned by Alberuni. Charaka Samhitaa      was first translated into English by A.C. Kaviratnain 1897.\n"
     ]
    }
   ],
   "source": [
    "for i in range(30):\n",
    "    print(nodes[i].text)"
   ]
  },
  {
   "cell_type": "code",
   "execution_count": 36,
   "metadata": {},
   "outputs": [
    {
     "data": {
      "application/vnd.jupyter.widget-view+json": {
       "model_id": "2a38bacd4ad94989a50ac2da7fcc7d9f",
       "version_major": 2,
       "version_minor": 0
      },
      "text/plain": [
       "Parsing nodes:   0%|          | 0/45914 [00:00<?, ?it/s]"
      ]
     },
     "metadata": {},
     "output_type": "display_data"
    }
   ],
   "source": [
    "from llama_index.core.node_parser import SentenceSplitter\n",
    "\n",
    "splitter = SentenceSplitter(chunk_size=2048, chunk_overlap=40)\n",
    "nodes = splitter.get_nodes_from_documents(nodes, show_progress=True)\n",
    "nodes = [node for node in nodes if len(node.get_content()) > 0]"
   ]
  },
  {
   "cell_type": "code",
   "execution_count": null,
   "metadata": {},
   "outputs": [],
   "source": [
    "#TODO: implement ingestion pipeline and combine two node parser together"
   ]
  },
  {
   "cell_type": "code",
   "execution_count": 37,
   "metadata": {},
   "outputs": [
    {
     "data": {
      "text/plain": [
       "'capacities as advisors, authors, owners of photographs and clips,\\ntesters etc.'"
      ]
     },
     "execution_count": 37,
     "metadata": {},
     "output_type": "execute_result"
    }
   ],
   "source": [
    "nodes[2].get_content()"
   ]
  },
  {
   "cell_type": "code",
   "execution_count": null,
   "metadata": {},
   "outputs": [],
   "source": [
    "from llama_index.embeddings.gemini import GeminiEmbedding\n",
    "embedding = GeminiEmbedding()\n",
    "for i, node in enumerate(nodes):\n",
    "    print(str(i)+\"\\r\", end=\"\", flush=True)\n",
    "    try:\n",
    "        embedding.get_text_embedding(node.get_content())\n",
    "    except Exception as e:\n",
    "        print(len(node.get_content()))\n",
    "        print(node.metadata)"
   ]
  },
  {
   "cell_type": "markdown",
   "metadata": {},
   "source": [
    "## Futher implementation guide\n",
    "```python\n",
    "from llama_index.core import SimpleDirectoryReader\n",
    "from llama_index.core.ingestion import IngestionPipeline\n",
    "from llama_index.core.node_parser import TokenTextSplitter\n",
    "\n",
    "documents = SimpleDirectoryReader(\"./data\").load_data()\n",
    "\n",
    "pipeline = IngestionPipeline(transformations=[TokenTextSplitter(), ...])\n",
    "\n",
    "nodes = pipeline.run(documents=documents)\n",
    "```\n",
    "\n",
    "```python\n",
    "text_splitter = SentenceSplitter(chunk_size=512, chunk_overlap=10)\n",
    "\n",
    "# global\n",
    "from llama_index.core import Settings\n",
    "\n",
    "Settings.text_splitter = text_splitter\n",
    "\n",
    "# per-index\n",
    "index = VectorStoreIndex.from_documents(\n",
    "    documents, transformations=[text_splitter]\n",
    ")\n",
    "```"
   ]
  },
  {
   "cell_type": "code",
   "execution_count": null,
   "metadata": {},
   "outputs": [],
   "source": [
    "from llama_index.core import VectorStoreIndex\n",
    "\n",
    "vector_index = VectorStoreIndex.from_documents(documents, )"
   ]
  }
 ],
 "metadata": {
  "kernelspec": {
   "display_name": "rag",
   "language": "python",
   "name": "python3"
  },
  "language_info": {
   "codemirror_mode": {
    "name": "ipython",
    "version": 3
   },
   "file_extension": ".py",
   "mimetype": "text/x-python",
   "name": "python",
   "nbconvert_exporter": "python",
   "pygments_lexer": "ipython3",
   "version": "3.11.7"
  }
 },
 "nbformat": 4,
 "nbformat_minor": 2
}
