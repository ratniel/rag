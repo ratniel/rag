{
  "nbformat": 4,
  "nbformat_minor": 0,
  "metadata": {
    "colab": {
      "provenance": [],
      "mount_file_id": "1r_KwtIIYCSHn09UZSwMSfOOKLMwQ_iC8",
      "authorship_tag": "ABX9TyPaECVD0f0LpadHmN0EDomh",
      "include_colab_link": true
    },
    "kernelspec": {
      "name": "python3",
      "display_name": "Python 3"
    },
    "language_info": {
      "name": "python"
    }
  },
  "cells": [
    {
      "cell_type": "markdown",
      "metadata": {
        "id": "view-in-github",
        "colab_type": "text"
      },
      "source": [
        "<a href=\"https://colab.research.google.com/github/Vedmani/rag/blob/main/text-processing/html2txt.ipynb\" target=\"_parent\"><img src=\"https://colab.research.google.com/assets/colab-badge.svg\" alt=\"Open In Colab\"/></a>"
      ]
    },
    {
      "cell_type": "markdown",
      "source": [
        "# Library installation and data setup etc."
      ],
      "metadata": {
        "id": "-Vv2C2QVwJJm"
      }
    },
    {
      "cell_type": "code",
      "execution_count": null,
      "metadata": {
        "id": "H6UizzT9t_2W"
      },
      "outputs": [],
      "source": [
        "!mkdir data\n",
        "!cp /content/drive/MyDrive/rag/Articles.zip ./data\n",
        "!unzip -q ./data/Articles.zip -d ./data\n",
        "!rm -rf /content/data/Articles.zip"
      ]
    },
    {
      "cell_type": "code",
      "source": [
        "!pip install beautifulsoup4 html2text chardet -qUU\n",
        "!pip install markdownify -qUU"
      ],
      "metadata": {
        "id": "fstgRhmCv2VI"
      },
      "execution_count": 19,
      "outputs": []
    },
    {
      "cell_type": "markdown",
      "source": [
        "# Code"
      ],
      "metadata": {
        "id": "2jZpBW_GwkSR"
      }
    },
    {
      "cell_type": "code",
      "source": [
        "import os\n",
        "import chardet\n",
        "from bs4 import BeautifulSoup\n",
        "import html2text"
      ],
      "metadata": {
        "id": "dGPCn6AvwHZK"
      },
      "execution_count": 29,
      "outputs": []
    },
    {
      "cell_type": "code",
      "source": [
        "file_path = \"/content/data/Articles/Research/Approach_to_Patient_According_to_Sattva.htm\""
      ],
      "metadata": {
        "id": "rlcsoVE2wozY"
      },
      "execution_count": 37,
      "outputs": []
    },
    {
      "cell_type": "code",
      "source": [
        "def detect_encoding(filename):\n",
        "   with open(filename, 'rb') as f:\n",
        "       result = chardet.detect(f.read())\n",
        "   return result['encoding']\n",
        "\n",
        "def parse_html_file(filename):\n",
        "    encoding = detect_encoding(filename)\n",
        "\n",
        "    with open(filename, 'r', encoding=encoding) as f:\n",
        "        contents = f.read()\n",
        "\n",
        "    soup = BeautifulSoup(contents, 'html.parser')\n",
        "    soup.title.decompose()\n",
        "\n",
        "    return soup"
      ],
      "metadata": {
        "id": "HkiAvBD1vL5x"
      },
      "execution_count": 45,
      "outputs": []
    },
    {
      "cell_type": "code",
      "source": [
        "text = parse_html_file(file_path)"
      ],
      "metadata": {
        "id": "DhvyMAc_wEvL"
      },
      "execution_count": 39,
      "outputs": []
    },
    {
      "cell_type": "code",
      "source": [
        "import html2text\n",
        "\n",
        "def html_to_text(path):\n",
        "    html = str(parse_html_file(path))\n",
        "    h = html2text.HTML2Text()\n",
        "    h.ignore_links = True\n",
        "    return h.handle(html)\n",
        "text = html_to_text(file_path)"
      ],
      "metadata": {
        "id": "cri3KsMI1DBR"
      },
      "execution_count": 47,
      "outputs": []
    },
    {
      "cell_type": "code",
      "source": [
        "from IPython.display import Markdown\n",
        "# print(text)\n",
        "display(Markdown(text))"
      ],
      "metadata": {
        "colab": {
          "base_uri": "https://localhost:8080/",
          "height": 1000
        },
        "id": "5AcXDG0v1bxc",
        "outputId": "6e35e03b-3581-41a7-dfa0-99523af9d15b"
      },
      "execution_count": 49,
      "outputs": [
        {
          "output_type": "display_data",
          "data": {
            "text/plain": [
              "<IPython.core.display.Markdown object>"
            ],
            "text/markdown": "**__**\n\n**_Maanasa Prakriti_** **Application in practice**\n\n****\n\n****\n\n**Dr. V. Joglekar**\n\n****\n\n_Maanasa Prakriti_ determination helps in defining the approach to the patient\nwhile examination. Following are some of the guidelines the physician should\nfollow according to the _Maanasa Prakriti_ of the patient while examining.\n\nApproach to patient according to _Sattva_\n\n**_Saatvika Parkriti_**\n\n**__**\n\n  * _Brahma Sattva_ :\n\n    * Truthful approach\n    * No concealment / euphemisms\n    * No repetitions \n    * Frankness on the part of doctor\n\n  * _Arsha_ _Sattva_ :\n\n    * Suggest rituals, systematic activity\n    * Avoid repetitions \n    * Give ample information\n    * Frankness appreciated\n    * Emotions should not be provoked\n    * Rational explanations effective\n    * Devoted to documentation\n\n  * _Aindra Sattva_ :\n\n    * Do not contradict\n    * Likes to do majestic / grand activities but they should not involve Hardship\n    * Likes to take long term view\n    * Extremely brave and proud\n    * Radical preventive treatments can be suggested \n    * Challenging pride may be very effective\n\n  * _Yaamya Sattva_ :\n\n    * Does not hesitate to do whatever is necessary\n    * Never breaks values systems\n    * Therefore stress the need for intervention and most suitable timing\n    * Provoking emotions usually not effective\n    * Rational arguments effective\n    * Goes by the book\n\n  * _Varun`a Sattva_ :\n\n    * Hates uncleanliness\n    * Brave and having fortitude \n    * Suggest swimming for exercise\n    * Does not like exertion \n\n    * Anger and euphoria / magnanimous mood\n    * Can be tapped\n    * Likes group activity of ceremonious nature \n\n  * _Kaubera Sattva_ :\n\n    * Wants specific environment \\- suggest special room\n    * Proud challenge to pride is effective\n    * Enjoys life and avoids sacrifice. Therefore difficult to persuade for radical treatments. \n    * Enjoys company solitary types of activities need careful handling, counseling essential \n    * Seeks comfort special room recommended \n    * Does not conceal emotions so emotional status exam easy.\n\n  * _Gandharva Sattva_ :\n\n    * Histrionic personality, Glamour & beauty treatment, Plastic surgery, flower therapy preferred.\n    * Cannot tolerate celibacy. In equivalent treatments suggest does not grudge or envy others.\n\nAll above are _Sattvika_ & desire good / healthy lifestyle. Social awareness\nmarked. Have tendency for helping others. Emotional usually are in control.\nHigh intellect therefore a respectful & truthful approach is needed. Do not\nneed repeated instructions.\n\n**_Raajasa_** **_Prakriti_** :-\n\n  * _Asura Sattva_ : \n\n    * Brave, fiery, grudging, envious, wealthy, scheming get out of control, has no pity, Narcissist personality. \n    * Do not allow exploding, use praise and flattery\n    * Look out for hidden agenda in such patients. \n    * Extracting true facts or emotions requires delicate, insistent & deep probing with out provoking.\n\n  * _Raakshasa Sattva_ :-\n\nRemains angry for long time, violent, seeks weak points in opponent and\nstrikes those, vicious, large diet, prefers non-vegetarian diet,\n\nProfound sleep and efforts, competitive and envious\n\nControls anger, needs deep love from family members and competitiveness are\nthe motivating factors.\n\nDoctors should not show any weakness, does not forgive easily. Therefore long\npast history may be needed to explore cause of illness.\n\n  * _Pais`haacha Sattva_ :\n\nLarge diet but not selective, excessive sex drive, unhygienic habits, hates\ncleanliness, insecurity feeling very strong, bullies others, eccentric and\nimproper habits and thought processes.\n\nApproach: Fear is motivating factor, proper habits and behavior can be\nachieved through fear of punishment, withholding sexual activity might be\ngreatest threat, which can be very effective.\n\n  * _Sarpa Sattva_ : \n\nBrave when angry and afraid when calm, continuous activity harsh, agitated\nbehavior, always under tension while harsh, agitated behavior, always under\ntension while eating and other activities.\n\nBelieves in magic remedies.\n\nDoes not like to be centre of attention.\n\nApproach: Use of tranquilizers in moderation reassurance might lead to more\ntension and fear, ritualistic and pseudo magical approach can be effective\ngiving mantra may act wonders.\n\n  * _Praita Sattva_ : \n\nAlways hungry, masochistic, envious, greedy, irrational, procrastinating, self\npity and desire for pain\n\nApproach: Rewards, especially food are motivating\n\n- Painful activities preferred\n\n- Do not use threats of pain\n\n- Withdrawal of food usually effective\n\n  * _S`hakuna Sattva_ : \n\nExtreme sex drive, large diet, continuous activity, lacks concentration,\nunforgiving, does not hoard anything has very few possessions.\n\nApproach: Attracting attention easy but sustaining concentration difficult.\nRequires frequent reminders, keep extra copies of documentation as patient is\nlikely to misplace and loose his own copies. Rewards of diet or sex may act as\nmotivating factors.\n\nThese are _Rajas_ and Anger is the predominant emotion but physician approach\nwill differ. Use of proper rewards and punishment (carrot and stick) gives\nexcellent results. Tranquilizers are generally needed (use with caution in\n_Sarpa Sattva_ ).\n\n**_Taamasa Prakriti:_**\n\n****\n\n  * _Paas`hava Sattva_ : \n\nStrongly negative attitude, secretive behavior likes to eat secretly, strong\nsex drive likes sleep.\n\nApproach: might be secret drinker, deep probing and observation needed for\nfinding out behavior pattern and diet rewards more effective, particularly of\nsexual nature, but punishments are also effective. Sleep deprivation can be an\neffective punishment.\n\n  * _Matsya Sattva_ : \n\nPanicky, low intelligence, greedy for food, continuous sex drive, always\nangry, does not like to stay at one place, highly mobile, prefers water\n\nApproach: Tranquillizers useful repeated reassurance and explanations needed\npunishments like withdrawal of food or sex.\n\n"
          },
          "metadata": {}
        }
      ]
    },
    {
      "cell_type": "code",
      "source": [],
      "metadata": {
        "id": "wnOFdC9i1fuL"
      },
      "execution_count": null,
      "outputs": []
    }
  ]
}